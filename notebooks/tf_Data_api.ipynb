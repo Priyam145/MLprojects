{
  "nbformat": 4,
  "nbformat_minor": 0,
  "metadata": {
    "colab": {
      "name": "tf_Data_api.ipynb",
      "provenance": [],
      "collapsed_sections": [],
      "authorship_tag": "ABX9TyMnklGyE/XPO5kstZAVcOoG",
      "include_colab_link": true
    },
    "kernelspec": {
      "display_name": "Python 3",
      "name": "python3"
    }
  },
  "cells": [
    {
      "cell_type": "markdown",
      "metadata": {
        "id": "view-in-github",
        "colab_type": "text"
      },
      "source": [
        "<a href=\"https://colab.research.google.com/github/prikmm/MLprojects/blob/main/notebooks/tf_Data_api.ipynb\" target=\"_parent\"><img src=\"https://colab.research.google.com/assets/colab-badge.svg\" alt=\"Open In Colab\"/></a>"
      ]
    },
    {
      "cell_type": "code",
      "metadata": {
        "id": "CsHlsmuFAey-"
      },
      "source": [
        "import tensorflow as tf\n",
        "from tensorflow import keras, data\n",
        "import numpy as np\n",
        "import os\n",
        "import matplotlib.pyplot as plt"
      ],
      "execution_count": 1,
      "outputs": []
    },
    {
      "cell_type": "code",
      "metadata": {
        "colab": {
          "base_uri": "https://localhost:8080/"
        },
        "id": "ztYZUKxNAK6c",
        "outputId": "74073022-47c2-4815-be68-ad2a712da850"
      },
      "source": [
        "X = tf.range(10)\n",
        "dataset = data.Dataset.from_tensor_slices(X)\n",
        "dataset"
      ],
      "execution_count": 2,
      "outputs": [
        {
          "output_type": "execute_result",
          "data": {
            "text/plain": [
              "<TensorSliceDataset shapes: (), types: tf.int32>"
            ]
          },
          "metadata": {
            "tags": []
          },
          "execution_count": 2
        }
      ]
    },
    {
      "cell_type": "code",
      "metadata": {
        "colab": {
          "base_uri": "https://localhost:8080/"
        },
        "id": "3_X8eHanAaAS",
        "outputId": "d88fc312-aadc-4d40-d859-b1eef2e15fa1"
      },
      "source": [
        "for item in dataset:\n",
        "    print(item)"
      ],
      "execution_count": 3,
      "outputs": [
        {
          "output_type": "stream",
          "text": [
            "tf.Tensor(0, shape=(), dtype=int32)\n",
            "tf.Tensor(1, shape=(), dtype=int32)\n",
            "tf.Tensor(2, shape=(), dtype=int32)\n",
            "tf.Tensor(3, shape=(), dtype=int32)\n",
            "tf.Tensor(4, shape=(), dtype=int32)\n",
            "tf.Tensor(5, shape=(), dtype=int32)\n",
            "tf.Tensor(6, shape=(), dtype=int32)\n",
            "tf.Tensor(7, shape=(), dtype=int32)\n",
            "tf.Tensor(8, shape=(), dtype=int32)\n",
            "tf.Tensor(9, shape=(), dtype=int32)\n"
          ],
          "name": "stdout"
        }
      ]
    },
    {
      "cell_type": "code",
      "metadata": {
        "colab": {
          "base_uri": "https://localhost:8080/"
        },
        "id": "Ogr_ImtxA98O",
        "outputId": "f06545a3-b42b-4787-a934-5e5586dc1c74"
      },
      "source": [
        "dataset = dataset.repeat(3).batch(7)\n",
        "for item in dataset:\n",
        "    print(item)"
      ],
      "execution_count": 4,
      "outputs": [
        {
          "output_type": "stream",
          "text": [
            "tf.Tensor([0 1 2 3 4 5 6], shape=(7,), dtype=int32)\n",
            "tf.Tensor([7 8 9 0 1 2 3], shape=(7,), dtype=int32)\n",
            "tf.Tensor([4 5 6 7 8 9 0], shape=(7,), dtype=int32)\n",
            "tf.Tensor([1 2 3 4 5 6 7], shape=(7,), dtype=int32)\n",
            "tf.Tensor([8 9], shape=(2,), dtype=int32)\n"
          ],
          "name": "stdout"
        }
      ]
    },
    {
      "cell_type": "code",
      "metadata": {
        "colab": {
          "base_uri": "https://localhost:8080/"
        },
        "id": "smcBMpPgBalC",
        "outputId": "484d5255-497e-4a4c-fd02-7699a3506bec"
      },
      "source": [
        "dataset = dataset.map(lambda x: x * 2)\n",
        "for item in dataset:\n",
        "    print(item)"
      ],
      "execution_count": 5,
      "outputs": [
        {
          "output_type": "stream",
          "text": [
            "tf.Tensor([ 0  2  4  6  8 10 12], shape=(7,), dtype=int32)\n",
            "tf.Tensor([14 16 18  0  2  4  6], shape=(7,), dtype=int32)\n",
            "tf.Tensor([ 8 10 12 14 16 18  0], shape=(7,), dtype=int32)\n",
            "tf.Tensor([ 2  4  6  8 10 12 14], shape=(7,), dtype=int32)\n",
            "tf.Tensor([16 18], shape=(2,), dtype=int32)\n"
          ],
          "name": "stdout"
        }
      ]
    },
    {
      "cell_type": "code",
      "metadata": {
        "colab": {
          "base_uri": "https://localhost:8080/"
        },
        "id": "DbuNwL_ECKEf",
        "outputId": "2b9a0ab8-efb3-449d-9223-c08dace1c99d"
      },
      "source": [
        "dataset = dataset.apply(data.experimental.unbatch())\n",
        "for item in dataset:\n",
        "    print(item)"
      ],
      "execution_count": 6,
      "outputs": [
        {
          "output_type": "stream",
          "text": [
            "WARNING:tensorflow:From <ipython-input-6-9823716ef3d9>:1: unbatch (from tensorflow.python.data.experimental.ops.batching) is deprecated and will be removed in a future version.\n",
            "Instructions for updating:\n",
            "Use `tf.data.Dataset.unbatch()`.\n",
            "tf.Tensor(0, shape=(), dtype=int32)\n",
            "tf.Tensor(2, shape=(), dtype=int32)\n",
            "tf.Tensor(4, shape=(), dtype=int32)\n",
            "tf.Tensor(6, shape=(), dtype=int32)\n",
            "tf.Tensor(8, shape=(), dtype=int32)\n",
            "tf.Tensor(10, shape=(), dtype=int32)\n",
            "tf.Tensor(12, shape=(), dtype=int32)\n",
            "tf.Tensor(14, shape=(), dtype=int32)\n",
            "tf.Tensor(16, shape=(), dtype=int32)\n",
            "tf.Tensor(18, shape=(), dtype=int32)\n",
            "tf.Tensor(0, shape=(), dtype=int32)\n",
            "tf.Tensor(2, shape=(), dtype=int32)\n",
            "tf.Tensor(4, shape=(), dtype=int32)\n",
            "tf.Tensor(6, shape=(), dtype=int32)\n",
            "tf.Tensor(8, shape=(), dtype=int32)\n",
            "tf.Tensor(10, shape=(), dtype=int32)\n",
            "tf.Tensor(12, shape=(), dtype=int32)\n",
            "tf.Tensor(14, shape=(), dtype=int32)\n",
            "tf.Tensor(16, shape=(), dtype=int32)\n",
            "tf.Tensor(18, shape=(), dtype=int32)\n",
            "tf.Tensor(0, shape=(), dtype=int32)\n",
            "tf.Tensor(2, shape=(), dtype=int32)\n",
            "tf.Tensor(4, shape=(), dtype=int32)\n",
            "tf.Tensor(6, shape=(), dtype=int32)\n",
            "tf.Tensor(8, shape=(), dtype=int32)\n",
            "tf.Tensor(10, shape=(), dtype=int32)\n",
            "tf.Tensor(12, shape=(), dtype=int32)\n",
            "tf.Tensor(14, shape=(), dtype=int32)\n",
            "tf.Tensor(16, shape=(), dtype=int32)\n",
            "tf.Tensor(18, shape=(), dtype=int32)\n"
          ],
          "name": "stdout"
        }
      ]
    },
    {
      "cell_type": "code",
      "metadata": {
        "colab": {
          "base_uri": "https://localhost:8080/"
        },
        "id": "tKQtOPIhC0xY",
        "outputId": "5d315ac5-b576-478f-f094-7abbf4095257"
      },
      "source": [
        "dataset = dataset.filter(lambda x: x < 10)\n",
        "for item in dataset:\n",
        "    print(item)"
      ],
      "execution_count": 7,
      "outputs": [
        {
          "output_type": "stream",
          "text": [
            "tf.Tensor(0, shape=(), dtype=int32)\n",
            "tf.Tensor(2, shape=(), dtype=int32)\n",
            "tf.Tensor(4, shape=(), dtype=int32)\n",
            "tf.Tensor(6, shape=(), dtype=int32)\n",
            "tf.Tensor(8, shape=(), dtype=int32)\n",
            "tf.Tensor(0, shape=(), dtype=int32)\n",
            "tf.Tensor(2, shape=(), dtype=int32)\n",
            "tf.Tensor(4, shape=(), dtype=int32)\n",
            "tf.Tensor(6, shape=(), dtype=int32)\n",
            "tf.Tensor(8, shape=(), dtype=int32)\n",
            "tf.Tensor(0, shape=(), dtype=int32)\n",
            "tf.Tensor(2, shape=(), dtype=int32)\n",
            "tf.Tensor(4, shape=(), dtype=int32)\n",
            "tf.Tensor(6, shape=(), dtype=int32)\n",
            "tf.Tensor(8, shape=(), dtype=int32)\n"
          ],
          "name": "stdout"
        }
      ]
    },
    {
      "cell_type": "code",
      "metadata": {
        "colab": {
          "base_uri": "https://localhost:8080/"
        },
        "id": "WoiLEzX-DRFV",
        "outputId": "c23f089d-0578-4949-cb19-867c54e866ea"
      },
      "source": [
        "for item in dataset.take(3):\n",
        "    print(item)"
      ],
      "execution_count": 8,
      "outputs": [
        {
          "output_type": "stream",
          "text": [
            "tf.Tensor(0, shape=(), dtype=int32)\n",
            "tf.Tensor(2, shape=(), dtype=int32)\n",
            "tf.Tensor(4, shape=(), dtype=int32)\n"
          ],
          "name": "stdout"
        }
      ]
    },
    {
      "cell_type": "markdown",
      "metadata": {
        "id": "KjDRQ_U-Glg2"
      },
      "source": [
        "## Shuffling Data:"
      ]
    },
    {
      "cell_type": "code",
      "metadata": {
        "colab": {
          "base_uri": "https://localhost:8080/"
        },
        "id": "XUnXWDxZD-Mi",
        "outputId": "5ff8eadc-71b9-455c-c199-96495b2d76e4"
      },
      "source": [
        "dataset = tf.data.Dataset.range(10).repeat(3)\n",
        "dataset = dataset.shuffle(buffer_size=5, seed=42).batch(7)\n",
        "for item in dataset:\n",
        "    print(item)"
      ],
      "execution_count": 9,
      "outputs": [
        {
          "output_type": "stream",
          "text": [
            "tf.Tensor([0 2 3 6 7 9 4], shape=(7,), dtype=int64)\n",
            "tf.Tensor([5 0 1 1 8 6 5], shape=(7,), dtype=int64)\n",
            "tf.Tensor([4 8 7 1 2 3 0], shape=(7,), dtype=int64)\n",
            "tf.Tensor([5 4 2 7 8 9 9], shape=(7,), dtype=int64)\n",
            "tf.Tensor([3 6], shape=(2,), dtype=int64)\n"
          ],
          "name": "stdout"
        }
      ]
    },
    {
      "cell_type": "code",
      "metadata": {
        "colab": {
          "base_uri": "https://localhost:8080/"
        },
        "id": "0VkKmhKUEl2L",
        "outputId": "db95fc73-57de-4c58-9589-fa8e0499c706"
      },
      "source": [
        "from sklearn.datasets import fetch_california_housing\n",
        "from sklearn.model_selection import train_test_split\n",
        "from sklearn.preprocessing import StandardScaler\n",
        "\n",
        "housing = fetch_california_housing()\n",
        "X_train_full, X_test, y_train_full, y_test = train_test_split(\n",
        "    housing.data, housing.target.reshape(-1, 1), random_state=42)\n",
        "X_train, X_valid, y_train, y_valid = train_test_split(\n",
        "    X_train_full, y_train_full, random_state=42)\n",
        "\n",
        "scaler = StandardScaler()\n",
        "scaler.fit(X_train)\n",
        "X_mean = scaler.mean_\n",
        "X_std = scaler.scale_"
      ],
      "execution_count": 10,
      "outputs": [
        {
          "output_type": "stream",
          "text": [
            "Downloading Cal. housing from https://ndownloader.figshare.com/files/5976036 to /root/scikit_learn_data\n"
          ],
          "name": "stderr"
        }
      ]
    },
    {
      "cell_type": "code",
      "metadata": {
        "id": "of1jtH7NGqX_"
      },
      "source": [
        "def save_to_multiple_csv_files(data, name_prefix, header=None, n_parts=10):\n",
        "    housing_dir = os.path.join(\"datasets\", \"housing\")\n",
        "    os.makedirs(housing_dir, exist_ok=True)\n",
        "    path_format = os.path.join(housing_dir, \"my_{}_{:02d}.csv\")\n",
        "\n",
        "    filepaths = []\n",
        "    m = len(data)\n",
        "    for file_idx, row_indices in enumerate(np.array_split(np.arange(m), n_parts)):\n",
        "        part_csv = path_format.format(name_prefix, file_idx)\n",
        "        filepaths.append(part_csv)\n",
        "        with open(part_csv, \"wt\", encoding=\"utf-8\") as f:\n",
        "            if header is not None:\n",
        "                f.write(header)\n",
        "                f.write(\"\\n\")\n",
        "            for row_idx in row_indices:\n",
        "                f.write(\",\".join([repr(col) for col in data[row_idx]]))\n",
        "                f.write(\"\\n\")\n",
        "    return filepaths"
      ],
      "execution_count": 11,
      "outputs": []
    },
    {
      "cell_type": "code",
      "metadata": {
        "id": "YKU-JH1XG3z8"
      },
      "source": [
        "train_data = np.c_[X_train, y_train]\n",
        "valid_data = np.c_[X_valid, y_valid]\n",
        "test_data = np.c_[X_test, y_test]\n",
        "header_cols = housing.feature_names + [\"MedianHouseValue\"]\n",
        "header = \",\".join(header_cols)\n",
        "\n",
        "train_filepaths = save_to_multiple_csv_files(train_data, \"train\", header, n_parts=20)\n",
        "valid_filepaths = save_to_multiple_csv_files(valid_data, \"valid\", header, n_parts=10)\n",
        "test_filepaths = save_to_multiple_csv_files(test_data, \"test\", header, n_parts=10)"
      ],
      "execution_count": 12,
      "outputs": []
    },
    {
      "cell_type": "code",
      "metadata": {
        "colab": {
          "base_uri": "https://localhost:8080/",
          "height": 206
        },
        "id": "rn6_UXqYHCO-",
        "outputId": "4a680f0b-4089-4a16-8e3a-bf3845da8299"
      },
      "source": [
        "import pandas as pd\n",
        "\n",
        "pd.read_csv(train_filepaths[0]).head()"
      ],
      "execution_count": 13,
      "outputs": [
        {
          "output_type": "execute_result",
          "data": {
            "text/html": [
              "<div>\n",
              "<style scoped>\n",
              "    .dataframe tbody tr th:only-of-type {\n",
              "        vertical-align: middle;\n",
              "    }\n",
              "\n",
              "    .dataframe tbody tr th {\n",
              "        vertical-align: top;\n",
              "    }\n",
              "\n",
              "    .dataframe thead th {\n",
              "        text-align: right;\n",
              "    }\n",
              "</style>\n",
              "<table border=\"1\" class=\"dataframe\">\n",
              "  <thead>\n",
              "    <tr style=\"text-align: right;\">\n",
              "      <th></th>\n",
              "      <th>MedInc</th>\n",
              "      <th>HouseAge</th>\n",
              "      <th>AveRooms</th>\n",
              "      <th>AveBedrms</th>\n",
              "      <th>Population</th>\n",
              "      <th>AveOccup</th>\n",
              "      <th>Latitude</th>\n",
              "      <th>Longitude</th>\n",
              "      <th>MedianHouseValue</th>\n",
              "    </tr>\n",
              "  </thead>\n",
              "  <tbody>\n",
              "    <tr>\n",
              "      <th>0</th>\n",
              "      <td>3.5214</td>\n",
              "      <td>15.0</td>\n",
              "      <td>3.049945</td>\n",
              "      <td>1.106548</td>\n",
              "      <td>1447.0</td>\n",
              "      <td>1.605993</td>\n",
              "      <td>37.63</td>\n",
              "      <td>-122.43</td>\n",
              "      <td>1.442</td>\n",
              "    </tr>\n",
              "    <tr>\n",
              "      <th>1</th>\n",
              "      <td>5.3275</td>\n",
              "      <td>5.0</td>\n",
              "      <td>6.490060</td>\n",
              "      <td>0.991054</td>\n",
              "      <td>3464.0</td>\n",
              "      <td>3.443340</td>\n",
              "      <td>33.69</td>\n",
              "      <td>-117.39</td>\n",
              "      <td>1.687</td>\n",
              "    </tr>\n",
              "    <tr>\n",
              "      <th>2</th>\n",
              "      <td>3.1000</td>\n",
              "      <td>29.0</td>\n",
              "      <td>7.542373</td>\n",
              "      <td>1.591525</td>\n",
              "      <td>1328.0</td>\n",
              "      <td>2.250847</td>\n",
              "      <td>38.44</td>\n",
              "      <td>-122.98</td>\n",
              "      <td>1.621</td>\n",
              "    </tr>\n",
              "    <tr>\n",
              "      <th>3</th>\n",
              "      <td>7.1736</td>\n",
              "      <td>12.0</td>\n",
              "      <td>6.289003</td>\n",
              "      <td>0.997442</td>\n",
              "      <td>1054.0</td>\n",
              "      <td>2.695652</td>\n",
              "      <td>33.55</td>\n",
              "      <td>-117.70</td>\n",
              "      <td>2.621</td>\n",
              "    </tr>\n",
              "    <tr>\n",
              "      <th>4</th>\n",
              "      <td>2.0549</td>\n",
              "      <td>13.0</td>\n",
              "      <td>5.312457</td>\n",
              "      <td>1.085092</td>\n",
              "      <td>3297.0</td>\n",
              "      <td>2.244384</td>\n",
              "      <td>33.93</td>\n",
              "      <td>-116.93</td>\n",
              "      <td>0.956</td>\n",
              "    </tr>\n",
              "  </tbody>\n",
              "</table>\n",
              "</div>"
            ],
            "text/plain": [
              "   MedInc  HouseAge  AveRooms  ...  Latitude  Longitude  MedianHouseValue\n",
              "0  3.5214      15.0  3.049945  ...     37.63    -122.43             1.442\n",
              "1  5.3275       5.0  6.490060  ...     33.69    -117.39             1.687\n",
              "2  3.1000      29.0  7.542373  ...     38.44    -122.98             1.621\n",
              "3  7.1736      12.0  6.289003  ...     33.55    -117.70             2.621\n",
              "4  2.0549      13.0  5.312457  ...     33.93    -116.93             0.956\n",
              "\n",
              "[5 rows x 9 columns]"
            ]
          },
          "metadata": {
            "tags": []
          },
          "execution_count": 13
        }
      ]
    },
    {
      "cell_type": "code",
      "metadata": {
        "colab": {
          "base_uri": "https://localhost:8080/"
        },
        "id": "DO_wtAAIHMZb",
        "outputId": "0bc30446-6bfb-4bfc-d84d-372fe309341b"
      },
      "source": [
        "with open(train_filepaths[0]) as f:\n",
        "    for i in range(5):\n",
        "        print(f.readline(), end=\"\")"
      ],
      "execution_count": 14,
      "outputs": [
        {
          "output_type": "stream",
          "text": [
            "MedInc,HouseAge,AveRooms,AveBedrms,Population,AveOccup,Latitude,Longitude,MedianHouseValue\n",
            "3.5214,15.0,3.0499445061043287,1.106548279689234,1447.0,1.6059933407325193,37.63,-122.43,1.442\n",
            "5.3275,5.0,6.490059642147117,0.9910536779324056,3464.0,3.4433399602385686,33.69,-117.39,1.687\n",
            "3.1,29.0,7.5423728813559325,1.5915254237288134,1328.0,2.2508474576271187,38.44,-122.98,1.621\n",
            "7.1736,12.0,6.289002557544757,0.9974424552429667,1054.0,2.6956521739130435,33.55,-117.7,2.621\n"
          ],
          "name": "stdout"
        }
      ]
    },
    {
      "cell_type": "code",
      "metadata": {
        "colab": {
          "base_uri": "https://localhost:8080/"
        },
        "id": "hugpZ7OWHQwX",
        "outputId": "448997f5-e63e-4793-9163-f25fbbb1a699"
      },
      "source": [
        "train_filepaths"
      ],
      "execution_count": 15,
      "outputs": [
        {
          "output_type": "execute_result",
          "data": {
            "text/plain": [
              "['datasets/housing/my_train_00.csv',\n",
              " 'datasets/housing/my_train_01.csv',\n",
              " 'datasets/housing/my_train_02.csv',\n",
              " 'datasets/housing/my_train_03.csv',\n",
              " 'datasets/housing/my_train_04.csv',\n",
              " 'datasets/housing/my_train_05.csv',\n",
              " 'datasets/housing/my_train_06.csv',\n",
              " 'datasets/housing/my_train_07.csv',\n",
              " 'datasets/housing/my_train_08.csv',\n",
              " 'datasets/housing/my_train_09.csv',\n",
              " 'datasets/housing/my_train_10.csv',\n",
              " 'datasets/housing/my_train_11.csv',\n",
              " 'datasets/housing/my_train_12.csv',\n",
              " 'datasets/housing/my_train_13.csv',\n",
              " 'datasets/housing/my_train_14.csv',\n",
              " 'datasets/housing/my_train_15.csv',\n",
              " 'datasets/housing/my_train_16.csv',\n",
              " 'datasets/housing/my_train_17.csv',\n",
              " 'datasets/housing/my_train_18.csv',\n",
              " 'datasets/housing/my_train_19.csv']"
            ]
          },
          "metadata": {
            "tags": []
          },
          "execution_count": 15
        }
      ]
    },
    {
      "cell_type": "code",
      "metadata": {
        "id": "iNI5C2hjHU0B"
      },
      "source": [
        "filepath_dataset = tf.data.Dataset.list_files(train_filepaths, seed=42)"
      ],
      "execution_count": 16,
      "outputs": []
    },
    {
      "cell_type": "code",
      "metadata": {
        "colab": {
          "base_uri": "https://localhost:8080/"
        },
        "id": "C50Yh2AnHiqJ",
        "outputId": "26df4df3-342a-4bb2-e90f-ae93bbc610e5"
      },
      "source": [
        "for filepath in filepath_dataset:\n",
        "    print(filepath)\n",
        "\n",
        "n_readers = 5\n",
        "dataset = filepath_dataset.interleave(\n",
        "    lambda filepath: tf.data.TextLineDataset(filepath).skip(1),\n",
        "    cycle_length=n_readers\n",
        ")"
      ],
      "execution_count": 17,
      "outputs": [
        {
          "output_type": "stream",
          "text": [
            "tf.Tensor(b'datasets/housing/my_train_05.csv', shape=(), dtype=string)\n",
            "tf.Tensor(b'datasets/housing/my_train_16.csv', shape=(), dtype=string)\n",
            "tf.Tensor(b'datasets/housing/my_train_01.csv', shape=(), dtype=string)\n",
            "tf.Tensor(b'datasets/housing/my_train_17.csv', shape=(), dtype=string)\n",
            "tf.Tensor(b'datasets/housing/my_train_00.csv', shape=(), dtype=string)\n",
            "tf.Tensor(b'datasets/housing/my_train_14.csv', shape=(), dtype=string)\n",
            "tf.Tensor(b'datasets/housing/my_train_10.csv', shape=(), dtype=string)\n",
            "tf.Tensor(b'datasets/housing/my_train_02.csv', shape=(), dtype=string)\n",
            "tf.Tensor(b'datasets/housing/my_train_12.csv', shape=(), dtype=string)\n",
            "tf.Tensor(b'datasets/housing/my_train_19.csv', shape=(), dtype=string)\n",
            "tf.Tensor(b'datasets/housing/my_train_07.csv', shape=(), dtype=string)\n",
            "tf.Tensor(b'datasets/housing/my_train_09.csv', shape=(), dtype=string)\n",
            "tf.Tensor(b'datasets/housing/my_train_13.csv', shape=(), dtype=string)\n",
            "tf.Tensor(b'datasets/housing/my_train_15.csv', shape=(), dtype=string)\n",
            "tf.Tensor(b'datasets/housing/my_train_11.csv', shape=(), dtype=string)\n",
            "tf.Tensor(b'datasets/housing/my_train_18.csv', shape=(), dtype=string)\n",
            "tf.Tensor(b'datasets/housing/my_train_04.csv', shape=(), dtype=string)\n",
            "tf.Tensor(b'datasets/housing/my_train_06.csv', shape=(), dtype=string)\n",
            "tf.Tensor(b'datasets/housing/my_train_03.csv', shape=(), dtype=string)\n",
            "tf.Tensor(b'datasets/housing/my_train_08.csv', shape=(), dtype=string)\n"
          ],
          "name": "stdout"
        }
      ]
    },
    {
      "cell_type": "code",
      "metadata": {
        "colab": {
          "base_uri": "https://localhost:8080/"
        },
        "id": "DH_tBvcYIaG6",
        "outputId": "4138ab00-eaa5-4a4f-b1d8-a03711ed2942"
      },
      "source": [
        "for line in dataset.take(5):\n",
        "    print(line)"
      ],
      "execution_count": 18,
      "outputs": [
        {
          "output_type": "stream",
          "text": [
            "tf.Tensor(b'4.5909,16.0,5.475877192982456,1.0964912280701755,1357.0,2.9758771929824563,33.63,-117.71,2.418', shape=(), dtype=string)\n",
            "tf.Tensor(b'2.4792,24.0,3.4547038327526134,1.1341463414634145,2251.0,3.921602787456446,34.18,-118.38,2.0', shape=(), dtype=string)\n",
            "tf.Tensor(b'4.2708,45.0,5.121387283236994,0.953757225433526,492.0,2.8439306358381504,37.48,-122.19,2.67', shape=(), dtype=string)\n",
            "tf.Tensor(b'2.1856,41.0,3.7189873417721517,1.0658227848101265,803.0,2.0329113924050635,32.76,-117.12,1.205', shape=(), dtype=string)\n",
            "tf.Tensor(b'4.1812,52.0,5.701388888888889,0.9965277777777778,692.0,2.4027777777777777,33.73,-118.31,3.215', shape=(), dtype=string)\n"
          ],
          "name": "stdout"
        }
      ]
    },
    {
      "cell_type": "code",
      "metadata": {
        "id": "CS6M79sYK2Z0"
      },
      "source": [
        "n_inputs = 8\n",
        "\n",
        "@tf.function\n",
        "def preprocess(line):\n",
        "    defs = [0.] * n_inputs + [tf.constant([], dtype=tf.float32)]\n",
        "    fields = tf.io.decode_csv(line, record_defaults=defs)\n",
        "    x = tf.stack(fields[:-1])\n",
        "    y = tf.stack(fields[-1:])\n",
        "    return (x - X_mean) / X_std, y"
      ],
      "execution_count": 19,
      "outputs": []
    },
    {
      "cell_type": "code",
      "metadata": {
        "colab": {
          "base_uri": "https://localhost:8080/"
        },
        "id": "Qg_6_tW_LiNF",
        "outputId": "8e90d3c8-45ee-4e4e-9ec1-35b009c344a4"
      },
      "source": [
        "preprocess(b'4.2083,44.0,5.3232,0.9171,846.0,2.3370,37.47,-122.2,2.782')"
      ],
      "execution_count": 20,
      "outputs": [
        {
          "output_type": "execute_result",
          "data": {
            "text/plain": [
              "(<tf.Tensor: shape=(8,), dtype=float32, numpy=\n",
              " array([ 0.16579157,  1.216324  , -0.05204565, -0.39215982, -0.5277444 ,\n",
              "        -0.2633488 ,  0.8543046 , -1.3072058 ], dtype=float32)>,\n",
              " <tf.Tensor: shape=(1,), dtype=float32, numpy=array([2.782], dtype=float32)>)"
            ]
          },
          "metadata": {
            "tags": []
          },
          "execution_count": 20
        }
      ]
    },
    {
      "cell_type": "code",
      "metadata": {
        "id": "AGc3cDKYNPoH"
      },
      "source": [
        "def csv_reader_dataset(filepaths, repeat=1, n_readers=5, n_read_threads=None,\n",
        "                       shuffle_buffer_size=10000, n_parse_threads=5, batch_size=32):\n",
        "    dataset = tf.data.Dataset.list_files(filepaths)\n",
        "    dataset = dataset.interleave(\n",
        "        lambda filepath: tf.data.TextLineDataset(filepath).skip(1),\n",
        "        cycle_length=n_readers, num_parallel_calls=n_parse_threads\n",
        "    )\n",
        "    dataset = dataset.map(preprocess, num_parallel_calls=n_parse_threads)\n",
        "    dataset = dataset.shuffle(shuffle_buffer_size).repeat(repeat)\n",
        "    return dataset.batch(batch_size).prefetch(1)"
      ],
      "execution_count": 21,
      "outputs": []
    },
    {
      "cell_type": "code",
      "metadata": {
        "id": "bUvESgbHPn69"
      },
      "source": [
        "train_set = csv_reader_dataset(train_filepaths)\n",
        "valid_set = csv_reader_dataset(valid_filepaths)\n",
        "test_set = csv_reader_dataset(test_filepaths)"
      ],
      "execution_count": 22,
      "outputs": []
    },
    {
      "cell_type": "code",
      "metadata": {
        "id": "f5Apv66mQn7V"
      },
      "source": [
        "model = keras.models.Sequential([\n",
        "    keras.layers.Dense(30, activation=\"elu\", kernel_initializer=\"he_normal\"),\n",
        "    keras.layers.Dense(1)\n",
        "])"
      ],
      "execution_count": 23,
      "outputs": []
    },
    {
      "cell_type": "code",
      "metadata": {
        "id": "YB5D5PQARy5L"
      },
      "source": [
        "model.compile(loss=\"mse\",\n",
        "              optimizer=keras.optimizers.Nadam(lr=1e-3),\n",
        "              metrics=[\"mse\"])"
      ],
      "execution_count": 24,
      "outputs": []
    },
    {
      "cell_type": "code",
      "metadata": {
        "colab": {
          "base_uri": "https://localhost:8080/"
        },
        "id": "0rm-YMakSL2X",
        "outputId": "bc4f6fdf-1666-4f57-feb6-b479e65ee655"
      },
      "source": [
        "model.fit(train_set, epochs=10, validation_data=valid_set)"
      ],
      "execution_count": 25,
      "outputs": [
        {
          "output_type": "stream",
          "text": [
            "Epoch 1/10\n",
            "363/363 [==============================] - 2s 3ms/step - loss: 6.1856 - mse: 6.1856 - val_loss: 11.1908 - val_mse: 11.1908\n",
            "Epoch 2/10\n",
            "363/363 [==============================] - 1s 2ms/step - loss: 0.6923 - mse: 0.6923 - val_loss: 2.6691 - val_mse: 2.6691\n",
            "Epoch 3/10\n",
            "363/363 [==============================] - 1s 2ms/step - loss: 0.5240 - mse: 0.5240 - val_loss: 1.0652 - val_mse: 1.0652\n",
            "Epoch 4/10\n",
            "363/363 [==============================] - 1s 2ms/step - loss: 0.4512 - mse: 0.4512 - val_loss: 0.5830 - val_mse: 0.5830\n",
            "Epoch 5/10\n",
            "363/363 [==============================] - 1s 2ms/step - loss: 0.4275 - mse: 0.4275 - val_loss: 0.5127 - val_mse: 0.5127\n",
            "Epoch 6/10\n",
            "363/363 [==============================] - 1s 2ms/step - loss: 0.4333 - mse: 0.4333 - val_loss: 0.5936 - val_mse: 0.5936\n",
            "Epoch 7/10\n",
            "363/363 [==============================] - 1s 2ms/step - loss: 0.4192 - mse: 0.4192 - val_loss: 0.4103 - val_mse: 0.4103\n",
            "Epoch 8/10\n",
            "363/363 [==============================] - 1s 2ms/step - loss: 0.4183 - mse: 0.4183 - val_loss: 0.9147 - val_mse: 0.9147\n",
            "Epoch 9/10\n",
            "363/363 [==============================] - 1s 2ms/step - loss: 0.4174 - mse: 0.4174 - val_loss: 0.4964 - val_mse: 0.4964\n",
            "Epoch 10/10\n",
            "363/363 [==============================] - 1s 2ms/step - loss: 0.4149 - mse: 0.4149 - val_loss: 0.7282 - val_mse: 0.7282\n"
          ],
          "name": "stdout"
        },
        {
          "output_type": "execute_result",
          "data": {
            "text/plain": [
              "<tensorflow.python.keras.callbacks.History at 0x7f658d20dd30>"
            ]
          },
          "metadata": {
            "tags": []
          },
          "execution_count": 25
        }
      ]
    },
    {
      "cell_type": "code",
      "metadata": {
        "colab": {
          "base_uri": "https://localhost:8080/"
        },
        "id": "XJSPsqmMSSb4",
        "outputId": "ca6d9145-b50d-4eb1-853a-a5b807cb23eb"
      },
      "source": [
        "model.evaluate(test_set)\n",
        "new_set = test_set.take(3).map(lambda X, y: X)\n",
        "model.predict(new_set).shape"
      ],
      "execution_count": 26,
      "outputs": [
        {
          "output_type": "stream",
          "text": [
            "162/162 [==============================] - 0s 902us/step - loss: 0.4035 - mse: 0.4035\n"
          ],
          "name": "stdout"
        },
        {
          "output_type": "execute_result",
          "data": {
            "text/plain": [
              "(96, 1)"
            ]
          },
          "metadata": {
            "tags": []
          },
          "execution_count": 26
        }
      ]
    },
    {
      "cell_type": "code",
      "metadata": {
        "id": "OMRI8Lo4dxJB"
      },
      "source": [
        "n_epochs = 5\n",
        "optimizer = keras.optimizers.Nadam(lr=1e-4)\n",
        "loss_fn = keras.losses.MeanAbsoluteError()\n",
        "\n",
        "@tf.function\n",
        "def train(model, optimizer, loss_fn, n_epochs):\n",
        "    train_set = csv_reader_dataset(train_filepaths, repeat=n_epochs)\n",
        "    for X_batch, y_batch in train_set:\n",
        "        with tf.GradientTape() as tape:\n",
        "            y_pred = model(X_batch)\n",
        "            main_loss = tf.reduce_mean(loss_fn(y_batch, y_pred))\n",
        "            loss = tf.add_n([main_loss], model.losses)\n",
        "        gradients = tape.gradient(loss, model.trainable_variables)\n",
        "        optimizer.apply_gradients(zip(gradients, model.trainable_variables))"
      ],
      "execution_count": 27,
      "outputs": []
    },
    {
      "cell_type": "code",
      "metadata": {
        "id": "O-Zvo1l8ff87"
      },
      "source": [
        "train(model, optimizer, loss_fn, n_epochs)"
      ],
      "execution_count": 28,
      "outputs": []
    },
    {
      "cell_type": "code",
      "metadata": {
        "colab": {
          "base_uri": "https://localhost:8080/"
        },
        "id": "wsKMTgQrfkOU",
        "outputId": "65a638ad-183a-4d7a-dd9b-b1c99f296fe7"
      },
      "source": [
        "model.evaluate(test_set)"
      ],
      "execution_count": 29,
      "outputs": [
        {
          "output_type": "stream",
          "text": [
            "162/162 [==============================] - 0s 904us/step - loss: 0.4080 - mse: 0.4080\n"
          ],
          "name": "stdout"
        },
        {
          "output_type": "execute_result",
          "data": {
            "text/plain": [
              "[0.4079751670360565, 0.4079751670360565]"
            ]
          },
          "metadata": {
            "tags": []
          },
          "execution_count": 29
        }
      ]
    },
    {
      "cell_type": "markdown",
      "metadata": {
        "id": "K_9O5kAQfrmW"
      },
      "source": [
        "## TFRecords:"
      ]
    },
    {
      "cell_type": "code",
      "metadata": {
        "id": "xdqBD5CFfyC_"
      },
      "source": [
        "with tf.io.TFRecordWriter(\"my_data.tfrecord\") as f:\n",
        "    f.write(b\"This is the first record\")\n",
        "    f.write(b\"And this is the second record\")"
      ],
      "execution_count": 30,
      "outputs": []
    },
    {
      "cell_type": "code",
      "metadata": {
        "colab": {
          "base_uri": "https://localhost:8080/"
        },
        "id": "ofvM06kFvz17",
        "outputId": "20fee6a1-97fb-4ce3-e4c2-4fa338832640"
      },
      "source": [
        "filepaths = [\"my_data.tfrecord\"]\n",
        "dataset = tf.data.TFRecordDataset(filepaths)\n",
        "for item in dataset:\n",
        "    print(item)"
      ],
      "execution_count": 31,
      "outputs": [
        {
          "output_type": "stream",
          "text": [
            "tf.Tensor(b'This is the first record', shape=(), dtype=string)\n",
            "tf.Tensor(b'And this is the second record', shape=(), dtype=string)\n"
          ],
          "name": "stdout"
        }
      ]
    },
    {
      "cell_type": "code",
      "metadata": {
        "id": "tuZ5OK0_v_NA"
      },
      "source": [
        "options = tf.io.TFRecordOptions(compression_type=\"GZIP\")\n",
        "with tf.io.TFRecordWriter(\"my_compressed_TFRecordFile\", options) as f:\n",
        "    f.write(b\"My first tfrecord compressed file\")\n",
        "    f.write(b\"My second line in compressed file\")"
      ],
      "execution_count": 32,
      "outputs": []
    },
    {
      "cell_type": "code",
      "metadata": {
        "colab": {
          "base_uri": "https://localhost:8080/"
        },
        "id": "7oecUUjYO9XG",
        "outputId": "7580aff7-2bd2-4968-a7b9-c6e6260f3cfe"
      },
      "source": [
        "dataset = tf.data.TFRecordDataset(\"my_compressed_TFRecordFile\",\n",
        "                                  compression_type=\"GZIP\")\n",
        "\n",
        "for item in dataset:\n",
        "    print(item)"
      ],
      "execution_count": 33,
      "outputs": [
        {
          "output_type": "stream",
          "text": [
            "tf.Tensor(b'My first tfrecord compressed file', shape=(), dtype=string)\n",
            "tf.Tensor(b'My second line in compressed file', shape=(), dtype=string)\n"
          ],
          "name": "stdout"
        }
      ]
    },
    {
      "cell_type": "markdown",
      "metadata": {
        "id": "YRddUZUOPOeJ"
      },
      "source": [
        "### Protocol Buffers:"
      ]
    },
    {
      "cell_type": "code",
      "metadata": {
        "colab": {
          "base_uri": "https://localhost:8080/"
        },
        "id": "zQFfFuLMP4Us",
        "outputId": "408873ec-6489-4ff4-f944-aeb91d40adea"
      },
      "source": [
        "%%writefile person.proto\n",
        "syntax = \"proto3\";\n",
        "message Person {\n",
        "  string name = 1;\n",
        "  int32 id = 2;\n",
        "  repeated string email = 3;\n",
        "}"
      ],
      "execution_count": 34,
      "outputs": [
        {
          "output_type": "stream",
          "text": [
            "Writing person.proto\n"
          ],
          "name": "stdout"
        }
      ]
    },
    {
      "cell_type": "code",
      "metadata": {
        "id": "bD7wl2hhQKlv"
      },
      "source": [
        "!protoc person.proto --python_out=. --descriptor_set_out=person.desc --include_imports"
      ],
      "execution_count": 35,
      "outputs": []
    },
    {
      "cell_type": "code",
      "metadata": {
        "colab": {
          "base_uri": "https://localhost:8080/"
        },
        "id": "AEnsgJecRX-f",
        "outputId": "7e4522c9-bee8-4f3e-cc4c-05e88ce50b7a"
      },
      "source": [
        "!ls person*"
      ],
      "execution_count": 36,
      "outputs": [
        {
          "output_type": "stream",
          "text": [
            "person.desc  person_pb2.py  person.proto\n"
          ],
          "name": "stdout"
        }
      ]
    },
    {
      "cell_type": "code",
      "metadata": {
        "id": "2EDt-NwuSWlB"
      },
      "source": [
        "from person_pb2 import Person"
      ],
      "execution_count": 37,
      "outputs": []
    },
    {
      "cell_type": "code",
      "metadata": {
        "colab": {
          "base_uri": "https://localhost:8080/"
        },
        "id": "jvPP2sfmSdG5",
        "outputId": "4474ba7b-1344-4cec-a5cf-94e528f300ea"
      },
      "source": [
        "person = Person(name=\"Al\", id=123, email=[\"a@b.com\"])\n",
        "print(person)"
      ],
      "execution_count": 38,
      "outputs": [
        {
          "output_type": "stream",
          "text": [
            "name: \"Al\"\n",
            "id: 123\n",
            "email: \"a@b.com\"\n",
            "\n"
          ],
          "name": "stdout"
        }
      ]
    },
    {
      "cell_type": "code",
      "metadata": {
        "colab": {
          "base_uri": "https://localhost:8080/",
          "height": 36
        },
        "id": "-O4-DrQ2SyR2",
        "outputId": "2935928c-8b70-4d3e-e511-d0b4e7f877aa"
      },
      "source": [
        "person.name"
      ],
      "execution_count": 39,
      "outputs": [
        {
          "output_type": "execute_result",
          "data": {
            "application/vnd.google.colaboratory.intrinsic+json": {
              "type": "string"
            },
            "text/plain": [
              "'Al'"
            ]
          },
          "metadata": {
            "tags": []
          },
          "execution_count": 39
        }
      ]
    },
    {
      "cell_type": "code",
      "metadata": {
        "id": "xI837UpnS0hN"
      },
      "source": [
        "person.name = \"Alice\""
      ],
      "execution_count": 40,
      "outputs": []
    },
    {
      "cell_type": "code",
      "metadata": {
        "colab": {
          "base_uri": "https://localhost:8080/",
          "height": 36
        },
        "id": "MyemwvbMS3K3",
        "outputId": "4f96c6c9-f6e8-4a67-bed3-5c77c79a93d6"
      },
      "source": [
        "person.email[0]"
      ],
      "execution_count": 41,
      "outputs": [
        {
          "output_type": "execute_result",
          "data": {
            "application/vnd.google.colaboratory.intrinsic+json": {
              "type": "string"
            },
            "text/plain": [
              "'a@b.com'"
            ]
          },
          "metadata": {
            "tags": []
          },
          "execution_count": 41
        }
      ]
    },
    {
      "cell_type": "code",
      "metadata": {
        "colab": {
          "base_uri": "https://localhost:8080/"
        },
        "id": "sYrHs7csS513",
        "outputId": "6f959eab-55a0-40f6-d0e4-197447acffca"
      },
      "source": [
        "person.email.append(\"c@d.com\")\n",
        "person.email"
      ],
      "execution_count": 42,
      "outputs": [
        {
          "output_type": "execute_result",
          "data": {
            "text/plain": [
              "['a@b.com', 'c@d.com']"
            ]
          },
          "metadata": {
            "tags": []
          },
          "execution_count": 42
        }
      ]
    },
    {
      "cell_type": "code",
      "metadata": {
        "colab": {
          "base_uri": "https://localhost:8080/"
        },
        "id": "_lKCDr3wdcma",
        "outputId": "3fa6163c-dc61-47de-906e-09fc3de99cd9"
      },
      "source": [
        "print(person)"
      ],
      "execution_count": 43,
      "outputs": [
        {
          "output_type": "stream",
          "text": [
            "name: \"Alice\"\n",
            "id: 123\n",
            "email: \"a@b.com\"\n",
            "email: \"c@d.com\"\n",
            "\n"
          ],
          "name": "stdout"
        }
      ]
    },
    {
      "cell_type": "code",
      "metadata": {
        "colab": {
          "base_uri": "https://localhost:8080/"
        },
        "id": "yKHNiKbCTBs1",
        "outputId": "a53b0843-6683-4beb-ba62-6c5433e8a088"
      },
      "source": [
        "s = person.SerializeToString()\n",
        "s"
      ],
      "execution_count": 44,
      "outputs": [
        {
          "output_type": "execute_result",
          "data": {
            "text/plain": [
              "b'\\n\\x05Alice\\x10{\\x1a\\x07a@b.com\\x1a\\x07c@d.com'"
            ]
          },
          "metadata": {
            "tags": []
          },
          "execution_count": 44
        }
      ]
    },
    {
      "cell_type": "code",
      "metadata": {
        "colab": {
          "base_uri": "https://localhost:8080/"
        },
        "id": "p9ZFlLRNTHJi",
        "outputId": "087c564a-f068-466a-80c2-a9572ef7677b"
      },
      "source": [
        "person2 = Person()\n",
        "person2.ParseFromString(s)"
      ],
      "execution_count": 45,
      "outputs": [
        {
          "output_type": "execute_result",
          "data": {
            "text/plain": [
              "27"
            ]
          },
          "metadata": {
            "tags": []
          },
          "execution_count": 45
        }
      ]
    },
    {
      "cell_type": "code",
      "metadata": {
        "colab": {
          "base_uri": "https://localhost:8080/"
        },
        "id": "aFkNs70rTNA5",
        "outputId": "eeded6a1-2880-46e3-fe15-17ed7c49ea3d"
      },
      "source": [
        "person == person2"
      ],
      "execution_count": 46,
      "outputs": [
        {
          "output_type": "execute_result",
          "data": {
            "text/plain": [
              "True"
            ]
          },
          "metadata": {
            "tags": []
          },
          "execution_count": 46
        }
      ]
    },
    {
      "cell_type": "markdown",
      "metadata": {
        "id": "ayXS2wWNTU1z"
      },
      "source": [
        "### TensorFlow Protocol Buffers:"
      ]
    },
    {
      "cell_type": "markdown",
      "metadata": {
        "id": "Q2P_sXnalrQw"
      },
      "source": [
        "#### Example ProtoBuf:"
      ]
    },
    {
      "cell_type": "code",
      "metadata": {
        "colab": {
          "base_uri": "https://localhost:8080/",
          "height": 88
        },
        "id": "ArmINk6CTwEr",
        "outputId": "97e8c4b6-311b-4bcd-e306-42aa2ae7911f"
      },
      "source": [
        "\"\"\"\n",
        "syntax = \"proto3\";\n",
        "message BytesList { repeated bytes value = 1; }\n",
        "message FloatList { repeated float value = 1 [packed_value = true]; }\n",
        "message Int64List { repeated int64 value = 1 [packed_value = true]; }\n",
        "message Feature {\n",
        "    oneof kind {\n",
        "        BytesList bytes_list = 1;\n",
        "        FloatList float_list = 2;\n",
        "        Int64List int_list = 3\n",
        "    }\n",
        "};\n",
        "\n",
        "message Features { map<string, Feature> feature = 1; };\n",
        "message Example { Features features = 1; };\n",
        "\"\"\""
      ],
      "execution_count": 47,
      "outputs": [
        {
          "output_type": "execute_result",
          "data": {
            "application/vnd.google.colaboratory.intrinsic+json": {
              "type": "string"
            },
            "text/plain": [
              "'\\nsyntax = \"proto3\";\\nmessage BytesList { repeated bytes value = 1; }\\nmessage FloatList { repeated float value = 1 [packed_value = true]; }\\nmessage Int64List { repeated int64 value = 1 [packed_value = true]; }\\nmessage Feature {\\n    oneof kind {\\n        BytesList bytes_list = 1;\\n        FloatList float_list = 2;\\n        Int64List int_list = 3\\n    }\\n};\\n\\nmessage Features { map<string, Feature> feature = 1; };\\nmessage Example { Features features = 1; };\\n'"
            ]
          },
          "metadata": {
            "tags": []
          },
          "execution_count": 47
        }
      ]
    },
    {
      "cell_type": "code",
      "metadata": {
        "id": "cPtAT8aBVHoN"
      },
      "source": [
        "from tensorflow.train import BytesList, FloatList, Int64List\n",
        "from tensorflow.train import Feature, Features, Example\n",
        "\n",
        "person_example = Example(\n",
        "    features=Features(\n",
        "        feature={\n",
        "            \"name\": Feature(bytes_list=BytesList(value=[b\"Alice\"])),\n",
        "            \"id\": Feature(int64_list=Int64List(value=[123])),\n",
        "            \"emails\": Feature(bytes_list=BytesList(value=[b\"a@b.com\",\n",
        "                                                      b\"c@d.com\"]))\n",
        "        }\n",
        "    )\n",
        ")"
      ],
      "execution_count": 48,
      "outputs": []
    },
    {
      "cell_type": "code",
      "metadata": {
        "colab": {
          "base_uri": "https://localhost:8080/"
        },
        "id": "sY81ffp2cJVj",
        "outputId": "61c4bf7a-873f-45c8-f2ef-6c699df2b728"
      },
      "source": [
        "print(person_example)"
      ],
      "execution_count": 49,
      "outputs": [
        {
          "output_type": "stream",
          "text": [
            "features {\n",
            "  feature {\n",
            "    key: \"emails\"\n",
            "    value {\n",
            "      bytes_list {\n",
            "        value: \"a@b.com\"\n",
            "        value: \"c@d.com\"\n",
            "      }\n",
            "    }\n",
            "  }\n",
            "  feature {\n",
            "    key: \"id\"\n",
            "    value {\n",
            "      int64_list {\n",
            "        value: 123\n",
            "      }\n",
            "    }\n",
            "  }\n",
            "  feature {\n",
            "    key: \"name\"\n",
            "    value {\n",
            "      bytes_list {\n",
            "        value: \"Alice\"\n",
            "      }\n",
            "    }\n",
            "  }\n",
            "}\n",
            "\n"
          ],
          "name": "stdout"
        }
      ]
    },
    {
      "cell_type": "code",
      "metadata": {
        "id": "V28W1bcsdQVk"
      },
      "source": [
        "with tf.io.TFRecordWriter(\"my_contacts.tfrecord\") as f:\n",
        "    f.write(person_example.SerializeToString())"
      ],
      "execution_count": 50,
      "outputs": []
    },
    {
      "cell_type": "code",
      "metadata": {
        "colab": {
          "base_uri": "https://localhost:8080/"
        },
        "id": "ZqMuXp0NgEMv",
        "outputId": "287b69d3-95d9-4af6-cadc-15f90c4bef2f"
      },
      "source": [
        "dataset = tf.data.TFRecordDataset(\"my_contacts.tfrecord\")\n",
        "for item in dataset:\n",
        "    print(item)"
      ],
      "execution_count": 51,
      "outputs": [
        {
          "output_type": "stream",
          "text": [
            "tf.Tensor(b'\\n@\\n\\x0b\\n\\x02id\\x12\\x05\\x1a\\x03\\n\\x01{\\n\\x1e\\n\\x06emails\\x12\\x14\\n\\x12\\n\\x07a@b.com\\n\\x07c@d.com\\n\\x11\\n\\x04name\\x12\\t\\n\\x07\\n\\x05Alice', shape=(), dtype=string)\n"
          ],
          "name": "stdout"
        }
      ]
    },
    {
      "cell_type": "code",
      "metadata": {
        "id": "XjqX3GOcgMGD"
      },
      "source": [
        "feature_description = {\n",
        "    \"name\": tf.io.FixedLenFeature([], tf.string, default_value=\"\"),\n",
        "    \"id\": tf.io.FixedLenFeature([], tf.int64, default_value=0),\n",
        "    \"emails\": tf.io.VarLenFeature(tf.string),\n",
        "}"
      ],
      "execution_count": 52,
      "outputs": []
    },
    {
      "cell_type": "code",
      "metadata": {
        "id": "orKsiHzEiJbR"
      },
      "source": [
        "for serialized_example in tf.data.TFRecordDataset(\"my_contacts.tfrecord\"):\n",
        "    parsed_example = tf.io.parse_single_example(serialized_example,\n",
        "                                                feature_description)"
      ],
      "execution_count": 53,
      "outputs": []
    },
    {
      "cell_type": "code",
      "metadata": {
        "colab": {
          "base_uri": "https://localhost:8080/"
        },
        "id": "gDMvZaJCiagr",
        "outputId": "d62bbdb5-9fe8-42f7-820b-ed33d612479e"
      },
      "source": [
        "parsed_example"
      ],
      "execution_count": 54,
      "outputs": [
        {
          "output_type": "execute_result",
          "data": {
            "text/plain": [
              "{'emails': <tensorflow.python.framework.sparse_tensor.SparseTensor at 0x7f65966742e8>,\n",
              " 'id': <tf.Tensor: shape=(), dtype=int64, numpy=123>,\n",
              " 'name': <tf.Tensor: shape=(), dtype=string, numpy=b'Alice'>}"
            ]
          },
          "metadata": {
            "tags": []
          },
          "execution_count": 54
        }
      ]
    },
    {
      "cell_type": "code",
      "metadata": {
        "colab": {
          "base_uri": "https://localhost:8080/"
        },
        "id": "iJIBQmiDiflz",
        "outputId": "3cef2ec7-a3d0-4a6f-8396-8a0bb7acb53c"
      },
      "source": [
        "tf.sparse.to_dense(parsed_example[\"emails\"], default_value=b\"\")"
      ],
      "execution_count": 55,
      "outputs": [
        {
          "output_type": "execute_result",
          "data": {
            "text/plain": [
              "<tf.Tensor: shape=(2,), dtype=string, numpy=array([b'a@b.com', b'c@d.com'], dtype=object)>"
            ]
          },
          "metadata": {
            "tags": []
          },
          "execution_count": 55
        }
      ]
    },
    {
      "cell_type": "code",
      "metadata": {
        "colab": {
          "base_uri": "https://localhost:8080/"
        },
        "id": "V4ihTthwj1kz",
        "outputId": "5f1760e2-cbfa-4372-9624-5c33605d503c"
      },
      "source": [
        "parsed_example[\"emails\"].values"
      ],
      "execution_count": 56,
      "outputs": [
        {
          "output_type": "execute_result",
          "data": {
            "text/plain": [
              "<tf.Tensor: shape=(2,), dtype=string, numpy=array([b'a@b.com', b'c@d.com'], dtype=object)>"
            ]
          },
          "metadata": {
            "tags": []
          },
          "execution_count": 56
        }
      ]
    },
    {
      "cell_type": "code",
      "metadata": {
        "id": "Y1_-fr8Uj8Rx"
      },
      "source": [
        "dataset = tf.data.TFRecordDataset([\"my_contacts.tfrecord\"]).batch(10)\n",
        "for serialized_examples in dataset:\n",
        "    parsed_examples = tf.io.parse_example(serialized_examples,\n",
        "                                          feature_description)"
      ],
      "execution_count": 57,
      "outputs": []
    },
    {
      "cell_type": "code",
      "metadata": {
        "colab": {
          "base_uri": "https://localhost:8080/"
        },
        "id": "gwceajyBlOp9",
        "outputId": "7a5bfed2-c1d6-409c-adce-9f8f9fced98d"
      },
      "source": [
        "parsed_examples"
      ],
      "execution_count": 58,
      "outputs": [
        {
          "output_type": "execute_result",
          "data": {
            "text/plain": [
              "{'emails': <tensorflow.python.framework.sparse_tensor.SparseTensor at 0x7f658d16d400>,\n",
              " 'id': <tf.Tensor: shape=(1,), dtype=int64, numpy=array([123])>,\n",
              " 'name': <tf.Tensor: shape=(1,), dtype=string, numpy=array([b'Alice'], dtype=object)>}"
            ]
          },
          "metadata": {
            "tags": []
          },
          "execution_count": 58
        }
      ]
    },
    {
      "cell_type": "markdown",
      "metadata": {
        "id": "WdHvxlH3lULV"
      },
      "source": [
        "#### SequenceExample Protobuf:"
      ]
    },
    {
      "cell_type": "code",
      "metadata": {
        "colab": {
          "base_uri": "https://localhost:8080/",
          "height": 53
        },
        "id": "npY2-Y8PlzsS",
        "outputId": "14ba3cf8-cf8a-4ea0-c48b-d7988e533168"
      },
      "source": [
        "\"\"\"\n",
        "message FeatureList { repeated Feature feature = 1; }\n",
        "message FeatureLists { map<string, FeatureList> feature_list = 1; }\n",
        "message SequenceExample { \n",
        "    Features context = 1;\n",
        "    FeatureLists feature_lists = 2;\n",
        "};\n",
        "\"\"\""
      ],
      "execution_count": 59,
      "outputs": [
        {
          "output_type": "execute_result",
          "data": {
            "application/vnd.google.colaboratory.intrinsic+json": {
              "type": "string"
            },
            "text/plain": [
              "'\\nmessage FeatureList { repeated Feature feature = 1; }\\nmessage FeatureLists { map<string, FeatureList> feature_list = 1; }\\nmessage SequenceExample { \\n    Features context = 1;\\n    FeatureLists feature_lists = 2;\\n};\\n'"
            ]
          },
          "metadata": {
            "tags": []
          },
          "execution_count": 59
        }
      ]
    },
    {
      "cell_type": "code",
      "metadata": {
        "id": "yXTHQ-KxmQC3"
      },
      "source": [
        "from tensorflow.train import FeatureList, FeatureLists, SequenceExample"
      ],
      "execution_count": 60,
      "outputs": []
    },
    {
      "cell_type": "code",
      "metadata": {
        "id": "83bY3CxbnzPA"
      },
      "source": [
        "context = Features(feature={\n",
        "    \"author_id\": Feature(int64_list=Int64List(value=[123])),\n",
        "    \"title\": Feature(bytes_list=BytesList(value=[b\"A\", b\"desert\", b\"place\", b\".\"])),\n",
        "    \"pub_date\": Feature(int64_list=Int64List(value=[1623, 12, 25]))\n",
        "})"
      ],
      "execution_count": 61,
      "outputs": []
    },
    {
      "cell_type": "code",
      "metadata": {
        "colab": {
          "base_uri": "https://localhost:8080/"
        },
        "id": "n6674oLVoV_A",
        "outputId": "ba001b84-f74c-4e9d-93d5-871c048c01ee"
      },
      "source": [
        "print(context)"
      ],
      "execution_count": 62,
      "outputs": [
        {
          "output_type": "stream",
          "text": [
            "feature {\n",
            "  key: \"author_id\"\n",
            "  value {\n",
            "    int64_list {\n",
            "      value: 123\n",
            "    }\n",
            "  }\n",
            "}\n",
            "feature {\n",
            "  key: \"pub_date\"\n",
            "  value {\n",
            "    int64_list {\n",
            "      value: 1623\n",
            "      value: 12\n",
            "      value: 25\n",
            "    }\n",
            "  }\n",
            "}\n",
            "feature {\n",
            "  key: \"title\"\n",
            "  value {\n",
            "    bytes_list {\n",
            "      value: \"A\"\n",
            "      value: \"desert\"\n",
            "      value: \"place\"\n",
            "      value: \".\"\n",
            "    }\n",
            "  }\n",
            "}\n",
            "\n"
          ],
          "name": "stdout"
        }
      ]
    },
    {
      "cell_type": "code",
      "metadata": {
        "id": "4nRE5CS-oXIZ"
      },
      "source": [
        "content = [[\"When\", \"shall\", \"we\", \"three\", \"meet\", \"again\", \"?\"],\n",
        "           [\"In\", \"thunder\", \",\", \"lightning\", \",\", \"or\", \"in\", \"rain\", \"?\"]]\n",
        "comments = [[\"When\", \"the\", \"hurlyburly\", \"'s\", \"done\", \".\"],\n",
        "            [\"When\", \"the\", \"battle\", \"'s\", \"lost\", \"and\", \"won\", \".\"]]"
      ],
      "execution_count": 63,
      "outputs": []
    },
    {
      "cell_type": "code",
      "metadata": {
        "colab": {
          "base_uri": "https://localhost:8080/"
        },
        "id": "YQKzlvknpCcY",
        "outputId": "4a6487c3-ecd2-4205-8462-40374f4f2b8a"
      },
      "source": [
        "def words_to_feature(words):\n",
        "    return Feature(bytes_list=BytesList(value=[word.encode(\"utf-8\")\n",
        "                                                 for word in words]))\n",
        "    \n",
        "content_features = [words_to_feature(sentence) for sentence in content]\n",
        "comments_features = [words_to_feature(comment) for comment in comments]\n",
        "\n",
        "print(content_features)\n",
        "\n",
        "sequence_example = SequenceExample(\n",
        "    context=context,\n",
        "    feature_lists=FeatureLists(feature_list={\n",
        "        \"content\": FeatureList(feature=content_features),\n",
        "        \"comments\": FeatureList(feature=comments_features)\n",
        "    })\n",
        ")"
      ],
      "execution_count": 64,
      "outputs": [
        {
          "output_type": "stream",
          "text": [
            "[bytes_list {\n",
            "  value: \"When\"\n",
            "  value: \"shall\"\n",
            "  value: \"we\"\n",
            "  value: \"three\"\n",
            "  value: \"meet\"\n",
            "  value: \"again\"\n",
            "  value: \"?\"\n",
            "}\n",
            ", bytes_list {\n",
            "  value: \"In\"\n",
            "  value: \"thunder\"\n",
            "  value: \",\"\n",
            "  value: \"lightning\"\n",
            "  value: \",\"\n",
            "  value: \"or\"\n",
            "  value: \"in\"\n",
            "  value: \"rain\"\n",
            "  value: \"?\"\n",
            "}\n",
            "]\n"
          ],
          "name": "stdout"
        }
      ]
    },
    {
      "cell_type": "code",
      "metadata": {
        "colab": {
          "base_uri": "https://localhost:8080/"
        },
        "id": "FFFOfYppp3vH",
        "outputId": "91eaea66-7467-49f4-dd02-c3ad718cc488"
      },
      "source": [
        "sequence_example"
      ],
      "execution_count": 65,
      "outputs": [
        {
          "output_type": "execute_result",
          "data": {
            "text/plain": [
              "context {\n",
              "  feature {\n",
              "    key: \"author_id\"\n",
              "    value {\n",
              "      int64_list {\n",
              "        value: 123\n",
              "      }\n",
              "    }\n",
              "  }\n",
              "  feature {\n",
              "    key: \"pub_date\"\n",
              "    value {\n",
              "      int64_list {\n",
              "        value: 1623\n",
              "        value: 12\n",
              "        value: 25\n",
              "      }\n",
              "    }\n",
              "  }\n",
              "  feature {\n",
              "    key: \"title\"\n",
              "    value {\n",
              "      bytes_list {\n",
              "        value: \"A\"\n",
              "        value: \"desert\"\n",
              "        value: \"place\"\n",
              "        value: \".\"\n",
              "      }\n",
              "    }\n",
              "  }\n",
              "}\n",
              "feature_lists {\n",
              "  feature_list {\n",
              "    key: \"comments\"\n",
              "    value {\n",
              "      feature {\n",
              "        bytes_list {\n",
              "          value: \"When\"\n",
              "          value: \"the\"\n",
              "          value: \"hurlyburly\"\n",
              "          value: \"\\'s\"\n",
              "          value: \"done\"\n",
              "          value: \".\"\n",
              "        }\n",
              "      }\n",
              "      feature {\n",
              "        bytes_list {\n",
              "          value: \"When\"\n",
              "          value: \"the\"\n",
              "          value: \"battle\"\n",
              "          value: \"\\'s\"\n",
              "          value: \"lost\"\n",
              "          value: \"and\"\n",
              "          value: \"won\"\n",
              "          value: \".\"\n",
              "        }\n",
              "      }\n",
              "    }\n",
              "  }\n",
              "  feature_list {\n",
              "    key: \"content\"\n",
              "    value {\n",
              "      feature {\n",
              "        bytes_list {\n",
              "          value: \"When\"\n",
              "          value: \"shall\"\n",
              "          value: \"we\"\n",
              "          value: \"three\"\n",
              "          value: \"meet\"\n",
              "          value: \"again\"\n",
              "          value: \"?\"\n",
              "        }\n",
              "      }\n",
              "      feature {\n",
              "        bytes_list {\n",
              "          value: \"In\"\n",
              "          value: \"thunder\"\n",
              "          value: \",\"\n",
              "          value: \"lightning\"\n",
              "          value: \",\"\n",
              "          value: \"or\"\n",
              "          value: \"in\"\n",
              "          value: \"rain\"\n",
              "          value: \"?\"\n",
              "        }\n",
              "      }\n",
              "    }\n",
              "  }\n",
              "}"
            ]
          },
          "metadata": {
            "tags": []
          },
          "execution_count": 65
        }
      ]
    },
    {
      "cell_type": "code",
      "metadata": {
        "colab": {
          "base_uri": "https://localhost:8080/"
        },
        "id": "YvNqz4lgp4hY",
        "outputId": "0e14c43e-eec3-4ae9-d046-9c40c7049309"
      },
      "source": [
        "serialized_sequence_example = sequence_example.SerializeToString()\n",
        "serialized_sequence_example"
      ],
      "execution_count": 66,
      "outputs": [
        {
          "output_type": "execute_result",
          "data": {
            "text/plain": [
              "b\"\\nL\\n\\x14\\n\\x08pub_date\\x12\\x08\\x1a\\x06\\n\\x04\\xd7\\x0c\\x0c\\x19\\n \\n\\x05title\\x12\\x17\\n\\x15\\n\\x01A\\n\\x06desert\\n\\x05place\\n\\x01.\\n\\x12\\n\\tauthor_id\\x12\\x05\\x1a\\x03\\n\\x01{\\x12\\xd0\\x01\\nj\\n\\x07content\\x12_\\n*\\n(\\n\\x04When\\n\\x05shall\\n\\x02we\\n\\x05three\\n\\x04meet\\n\\x05again\\n\\x01?\\n1\\n/\\n\\x02In\\n\\x07thunder\\n\\x01,\\n\\tlightning\\n\\x01,\\n\\x02or\\n\\x02in\\n\\x04rain\\n\\x01?\\nb\\n\\x08comments\\x12V\\n&\\n$\\n\\x04When\\n\\x03the\\n\\nhurlyburly\\n\\x02's\\n\\x04done\\n\\x01.\\n,\\n*\\n\\x04When\\n\\x03the\\n\\x06battle\\n\\x02's\\n\\x04lost\\n\\x03and\\n\\x03won\\n\\x01.\""
            ]
          },
          "metadata": {
            "tags": []
          },
          "execution_count": 66
        }
      ]
    },
    {
      "cell_type": "code",
      "metadata": {
        "colab": {
          "base_uri": "https://localhost:8080/"
        },
        "id": "SnIHL5OBrHZg",
        "outputId": "350ffa47-666d-49f7-c9ea-74d7ed0b4873"
      },
      "source": [
        "context_feature_descriptions = {\n",
        "    \"author_id\": tf.io.FixedLenFeature([], tf.int64, default_value=0),\n",
        "    \"title\": tf.io.VarLenFeature(tf.string),\n",
        "    \"pub_date\": tf.io.FixedLenFeature([3], tf.int64, default_value=[0, 0, 0]),\n",
        "}\n",
        "\n",
        "sequence_feature_descriptions = {\n",
        "    \"content\": tf.io.VarLenFeature(tf.string),\n",
        "    \"comments\": tf.io.VarLenFeature(tf.string),\n",
        "}\n",
        "\n",
        "parsed_context, parsed_feature_lists = tf.io.parse_single_sequence_example(\n",
        "    serialized_sequence_example, context_feature_descriptions,\n",
        "    sequence_feature_descriptions)\n",
        "\n",
        "parsed_context"
      ],
      "execution_count": 67,
      "outputs": [
        {
          "output_type": "execute_result",
          "data": {
            "text/plain": [
              "{'author_id': <tf.Tensor: shape=(), dtype=int64, numpy=123>,\n",
              " 'pub_date': <tf.Tensor: shape=(3,), dtype=int64, numpy=array([1623,   12,   25])>,\n",
              " 'title': <tensorflow.python.framework.sparse_tensor.SparseTensor at 0x7f659667beb8>}"
            ]
          },
          "metadata": {
            "tags": []
          },
          "execution_count": 67
        }
      ]
    },
    {
      "cell_type": "code",
      "metadata": {
        "colab": {
          "base_uri": "https://localhost:8080/"
        },
        "id": "7W35UOGTscVK",
        "outputId": "15b54bfd-dd18-4935-defc-7456997bedca"
      },
      "source": [
        "parsed_feature_lists"
      ],
      "execution_count": 68,
      "outputs": [
        {
          "output_type": "execute_result",
          "data": {
            "text/plain": [
              "{'comments': <tensorflow.python.framework.sparse_tensor.SparseTensor at 0x7f659667bef0>,\n",
              " 'content': <tensorflow.python.framework.sparse_tensor.SparseTensor at 0x7f659667bf28>}"
            ]
          },
          "metadata": {
            "tags": []
          },
          "execution_count": 68
        }
      ]
    },
    {
      "cell_type": "code",
      "metadata": {
        "colab": {
          "base_uri": "https://localhost:8080/"
        },
        "id": "eHEapXZssfxT",
        "outputId": "7683c4f9-c671-4ba6-ca2c-969da464af19"
      },
      "source": [
        "parsed_context[\"title\"].values"
      ],
      "execution_count": 69,
      "outputs": [
        {
          "output_type": "execute_result",
          "data": {
            "text/plain": [
              "<tf.Tensor: shape=(4,), dtype=string, numpy=array([b'A', b'desert', b'place', b'.'], dtype=object)>"
            ]
          },
          "metadata": {
            "tags": []
          },
          "execution_count": 69
        }
      ]
    },
    {
      "cell_type": "code",
      "metadata": {
        "colab": {
          "base_uri": "https://localhost:8080/"
        },
        "id": "_jmvrfyGsuIa",
        "outputId": "b81b6d90-6db7-43b8-b861-3e8dfa3c3716"
      },
      "source": [
        "parsed_feature_lists[\"comments\"].values"
      ],
      "execution_count": 70,
      "outputs": [
        {
          "output_type": "execute_result",
          "data": {
            "text/plain": [
              "<tf.Tensor: shape=(14,), dtype=string, numpy=\n",
              "array([b'When', b'the', b'hurlyburly', b\"'s\", b'done', b'.', b'When',\n",
              "       b'the', b'battle', b\"'s\", b'lost', b'and', b'won', b'.'],\n",
              "      dtype=object)>"
            ]
          },
          "metadata": {
            "tags": []
          },
          "execution_count": 70
        }
      ]
    },
    {
      "cell_type": "code",
      "metadata": {
        "colab": {
          "base_uri": "https://localhost:8080/"
        },
        "id": "J9EjygJbsyFo",
        "outputId": "37dd8e62-b450-471e-e79f-99ec5557ed51"
      },
      "source": [
        "parsed_feature_lists[\"content\"].values"
      ],
      "execution_count": 71,
      "outputs": [
        {
          "output_type": "execute_result",
          "data": {
            "text/plain": [
              "<tf.Tensor: shape=(16,), dtype=string, numpy=\n",
              "array([b'When', b'shall', b'we', b'three', b'meet', b'again', b'?', b'In',\n",
              "       b'thunder', b',', b'lightning', b',', b'or', b'in', b'rain', b'?'],\n",
              "      dtype=object)>"
            ]
          },
          "metadata": {
            "tags": []
          },
          "execution_count": 71
        }
      ]
    },
    {
      "cell_type": "code",
      "metadata": {
        "colab": {
          "base_uri": "https://localhost:8080/"
        },
        "id": "Vnjd9fzfs9Qq",
        "outputId": "167a8ec5-d669-4b51-fda7-9efa0ae60daf"
      },
      "source": [
        "print(tf.RaggedTensor.from_sparse(parsed_feature_lists[\"content\"]))"
      ],
      "execution_count": 72,
      "outputs": [
        {
          "output_type": "stream",
          "text": [
            "<tf.RaggedTensor [[b'When', b'shall', b'we', b'three', b'meet', b'again', b'?'], [b'In', b'thunder', b',', b'lightning', b',', b'or', b'in', b'rain', b'?']]>\n"
          ],
          "name": "stdout"
        }
      ]
    },
    {
      "cell_type": "code",
      "metadata": {
        "colab": {
          "base_uri": "https://localhost:8080/"
        },
        "id": "sqv3wwxktTMR",
        "outputId": "f0f6c0ff-5c29-46ad-9764-9f61d3c119c5"
      },
      "source": [
        "print(tf.RaggedTensor.from_sparse(parsed_feature_lists[\"comments\"]))"
      ],
      "execution_count": 73,
      "outputs": [
        {
          "output_type": "stream",
          "text": [
            "<tf.RaggedTensor [[b'When', b'the', b'hurlyburly', b\"'s\", b'done', b'.'], [b'When', b'the', b'battle', b\"'s\", b'lost', b'and', b'won', b'.']]>\n"
          ],
          "name": "stdout"
        }
      ]
    },
    {
      "cell_type": "markdown",
      "metadata": {
        "id": "J57PVWKrtkZw"
      },
      "source": [
        "## Feature API:"
      ]
    },
    {
      "cell_type": "code",
      "metadata": {
        "id": "3yNKYTNcveYh"
      },
      "source": [
        "means = np.mean(X_train, axis=0, keepdims=True)\n",
        "stds = np.std(X_train, axis=0, keepdims=True)\n",
        "eps = keras.backend.epsilon()\n",
        "model = keras.models.Sequential([\n",
        "    keras.layers.Lambda(lambda inputs: (inputs - means) / (stds + eps)),\n",
        "    keras.layers.Dense(30, activation=\"elu\", kernel_initializer=\"he_normal\"),\n",
        "    keras.layers.Dense(1),\n",
        "])\n",
        "\n",
        "model.compile(loss=\"mae\",\n",
        "              optimizer=keras.optimizers.Nadam(lr=2e-4),\n",
        "              metrics=[\"mae\"])"
      ],
      "execution_count": 74,
      "outputs": []
    },
    {
      "cell_type": "code",
      "metadata": {
        "colab": {
          "base_uri": "https://localhost:8080/"
        },
        "id": "7YCuqLVJwa2b",
        "outputId": "1bdfe70d-2f75-497b-fc83-66a601dec9ba"
      },
      "source": [
        "model.fit(X_train, y_train, epochs=5,\n",
        "          validation_data=(X_valid, y_valid))"
      ],
      "execution_count": 75,
      "outputs": [
        {
          "output_type": "stream",
          "text": [
            "Epoch 1/5\n",
            "363/363 [==============================] - 1s 2ms/step - loss: 2.0478 - mae: 2.0478 - val_loss: 1.3919 - val_mae: 1.3919\n",
            "Epoch 2/5\n",
            "363/363 [==============================] - 1s 2ms/step - loss: 1.2133 - mae: 1.2133 - val_loss: 0.7449 - val_mae: 0.7449\n",
            "Epoch 3/5\n",
            "363/363 [==============================] - 1s 2ms/step - loss: 0.6711 - mae: 0.6711 - val_loss: 0.5917 - val_mae: 0.5917\n",
            "Epoch 4/5\n",
            "363/363 [==============================] - 1s 2ms/step - loss: 0.5740 - mae: 0.5740 - val_loss: 0.5544 - val_mae: 0.5544\n",
            "Epoch 5/5\n",
            "363/363 [==============================] - 1s 2ms/step - loss: 0.5539 - mae: 0.5539 - val_loss: 0.5259 - val_mae: 0.5259\n"
          ],
          "name": "stdout"
        },
        {
          "output_type": "execute_result",
          "data": {
            "text/plain": [
              "<tensorflow.python.keras.callbacks.History at 0x7f6595fe4710>"
            ]
          },
          "metadata": {
            "tags": []
          },
          "execution_count": 75
        }
      ]
    },
    {
      "cell_type": "code",
      "metadata": {
        "colab": {
          "base_uri": "https://localhost:8080/"
        },
        "id": "eLTuprLYwnjh",
        "outputId": "d05ed321-1229-4e92-accc-52508e1df3de"
      },
      "source": [
        "model.evaluate(X_test, y_test)"
      ],
      "execution_count": 76,
      "outputs": [
        {
          "output_type": "stream",
          "text": [
            "162/162 [==============================] - 0s 925us/step - loss: 0.5327 - mae: 0.5327\n"
          ],
          "name": "stdout"
        },
        {
          "output_type": "execute_result",
          "data": {
            "text/plain": [
              "[0.5326809883117676, 0.5326809883117676]"
            ]
          },
          "metadata": {
            "tags": []
          },
          "execution_count": 76
        }
      ]
    },
    {
      "cell_type": "code",
      "metadata": {
        "id": "aZ5Dqx81xR2Q"
      },
      "source": [
        "class Standardization(keras.layers.Layer):\n",
        "    \n",
        "    def adapt(self, data_sample):\n",
        "        self.means_ = np.mean(data_sample, axis=0, keepdims=True)\n",
        "        self.stds_ = np.std(data_sample, axis=0, keepdims=True)\n",
        "\n",
        "    def call(self,inputs):\n",
        "        return (inputs - self.means_) / (self.stds_ + keras.backend.epsilon())"
      ],
      "execution_count": 77,
      "outputs": []
    },
    {
      "cell_type": "code",
      "metadata": {
        "id": "En_bE89Sxw0a"
      },
      "source": [
        "std_layer = Standardization()\n",
        "std_layer.adapt(X_train[:100])"
      ],
      "execution_count": 78,
      "outputs": []
    },
    {
      "cell_type": "code",
      "metadata": {
        "id": "aLjrYN8Hx6Qo"
      },
      "source": [
        "model = keras.models.Sequential()\n",
        "model.add(std_layer)\n",
        "model.add(keras.layers.Dense(30, activation=\"elu\", kernel_initializer=\"he_normal\"))\n",
        "model.add(keras.layers.Dense(1))\n",
        "\n",
        "model.compile(loss=\"mae\",\n",
        "              optimizer=keras.optimizers.Nadam(lr=2e-4),\n",
        "              metrics=[\"mae\"])"
      ],
      "execution_count": 79,
      "outputs": []
    },
    {
      "cell_type": "code",
      "metadata": {
        "colab": {
          "base_uri": "https://localhost:8080/"
        },
        "id": "wrUd-Z9cya40",
        "outputId": "82735cda-6099-406e-aeeb-828d27d4bec7"
      },
      "source": [
        "model.fit(X_train, y_train, epochs=5,\n",
        "          validation_data=(X_valid, y_valid))"
      ],
      "execution_count": 80,
      "outputs": [
        {
          "output_type": "stream",
          "text": [
            "Epoch 1/5\n",
            "363/363 [==============================] - 1s 2ms/step - loss: 1.9729 - mae: 1.9729 - val_loss: 1.2286 - val_mae: 1.2286\n",
            "Epoch 2/5\n",
            "363/363 [==============================] - 1s 2ms/step - loss: 1.0883 - mae: 1.0883 - val_loss: 0.8298 - val_mae: 0.8298\n",
            "Epoch 3/5\n",
            "363/363 [==============================] - 1s 2ms/step - loss: 0.7198 - mae: 0.7198 - val_loss: 0.7285 - val_mae: 0.7285\n",
            "Epoch 4/5\n",
            "363/363 [==============================] - 1s 2ms/step - loss: 0.6322 - mae: 0.6322 - val_loss: 0.6481 - val_mae: 0.6481\n",
            "Epoch 5/5\n",
            "363/363 [==============================] - 1s 2ms/step - loss: 0.5927 - mae: 0.5927 - val_loss: 0.5981 - val_mae: 0.5981\n"
          ],
          "name": "stdout"
        },
        {
          "output_type": "execute_result",
          "data": {
            "text/plain": [
              "<tensorflow.python.keras.callbacks.History at 0x7f658c05e5f8>"
            ]
          },
          "metadata": {
            "tags": []
          },
          "execution_count": 80
        }
      ]
    },
    {
      "cell_type": "code",
      "metadata": {
        "colab": {
          "base_uri": "https://localhost:8080/"
        },
        "id": "kW1ycKE7yqwJ",
        "outputId": "3009193d-2447-489d-e1b7-210f257e2abd"
      },
      "source": [
        "model.evaluate(X_test, y_test)"
      ],
      "execution_count": 81,
      "outputs": [
        {
          "output_type": "stream",
          "text": [
            "162/162 [==============================] - 0s 1ms/step - loss: 0.5568 - mae: 0.5568\n"
          ],
          "name": "stdout"
        },
        {
          "output_type": "execute_result",
          "data": {
            "text/plain": [
              "[0.5568479299545288, 0.5568479299545288]"
            ]
          },
          "metadata": {
            "tags": []
          },
          "execution_count": 81
        }
      ]
    },
    {
      "cell_type": "markdown",
      "metadata": {
        "id": "XPDN_KmuyysC"
      },
      "source": [
        "#### One-Hot Encoding:"
      ]
    },
    {
      "cell_type": "code",
      "metadata": {
        "id": "f8vMjHe7zEil"
      },
      "source": [
        "vocab = [\"<1H OCEAN\", \"INLAND\", \"NEAR OCEAN\", \"NEAR BAY\", \"ISLAND\"]\n",
        "indices = tf.range(len(vocab), dtype=tf.int64)"
      ],
      "execution_count": 82,
      "outputs": []
    },
    {
      "cell_type": "code",
      "metadata": {
        "id": "BI4GECWozL5N"
      },
      "source": [
        "table_init = tf.lookup.KeyValueTensorInitializer(vocab, indices)\n",
        "num_oov_buckets = 2\n",
        "table = tf.lookup.StaticVocabularyTable(table_init, num_oov_buckets)"
      ],
      "execution_count": 83,
      "outputs": []
    },
    {
      "cell_type": "code",
      "metadata": {
        "colab": {
          "base_uri": "https://localhost:8080/"
        },
        "id": "L0veqJIPze4r",
        "outputId": "57048662-40bf-4f10-c2ec-fa630c5f3a1d"
      },
      "source": [
        "categories = tf.constant([\"NEAR BAY\", \"DESERT\", \"INLAND\", \"INLAND\"])\n",
        "cat_indices = table.lookup(categories)\n",
        "cat_indices "
      ],
      "execution_count": 84,
      "outputs": [
        {
          "output_type": "execute_result",
          "data": {
            "text/plain": [
              "<tf.Tensor: shape=(4,), dtype=int64, numpy=array([3, 5, 1, 1])>"
            ]
          },
          "metadata": {
            "tags": []
          },
          "execution_count": 84
        }
      ]
    },
    {
      "cell_type": "code",
      "metadata": {
        "colab": {
          "base_uri": "https://localhost:8080/"
        },
        "id": "kHAVFI2f1QxN",
        "outputId": "718ea330-ceac-4b17-d339-5fe611488f3d"
      },
      "source": [
        "cat_one_hot = tf.one_hot(cat_indices, depth=len(vocab) + num_oov_buckets)\n",
        "cat_one_hot"
      ],
      "execution_count": 85,
      "outputs": [
        {
          "output_type": "execute_result",
          "data": {
            "text/plain": [
              "<tf.Tensor: shape=(4, 7), dtype=float32, numpy=\n",
              "array([[0., 0., 0., 1., 0., 0., 0.],\n",
              "       [0., 0., 0., 0., 0., 1., 0.],\n",
              "       [0., 1., 0., 0., 0., 0., 0.],\n",
              "       [0., 1., 0., 0., 0., 0., 0.]], dtype=float32)>"
            ]
          },
          "metadata": {
            "tags": []
          },
          "execution_count": 85
        }
      ]
    },
    {
      "cell_type": "markdown",
      "metadata": {
        "id": "LHuRlcCD1ckM"
      },
      "source": [
        "#### Word Embeddings:"
      ]
    },
    {
      "cell_type": "code",
      "metadata": {
        "id": "CrYc26ZV6U-8"
      },
      "source": [
        "embedding_dim = 2\n",
        "embed_init = tf.random.uniform([len(vocab) + num_oov_buckets, embedding_dim])\n",
        "embedding_matrix = tf.Variable(embed_init) "
      ],
      "execution_count": 86,
      "outputs": []
    },
    {
      "cell_type": "code",
      "metadata": {
        "colab": {
          "base_uri": "https://localhost:8080/"
        },
        "id": "3QjadbYn6lLD",
        "outputId": "e03a6a48-5d94-4b2b-ae13-c408dab808a9"
      },
      "source": [
        "embedding_matrix"
      ],
      "execution_count": 87,
      "outputs": [
        {
          "output_type": "execute_result",
          "data": {
            "text/plain": [
              "<tf.Variable 'Variable:0' shape=(7, 2) dtype=float32, numpy=\n",
              "array([[0.9177166 , 0.7194712 ],\n",
              "       [0.23009956, 0.8961091 ],\n",
              "       [0.00147104, 0.39697886],\n",
              "       [0.31499517, 0.2653731 ],\n",
              "       [0.2342751 , 0.19280541],\n",
              "       [0.09867823, 0.16362989],\n",
              "       [0.9598882 , 0.78135204]], dtype=float32)>"
            ]
          },
          "metadata": {
            "tags": []
          },
          "execution_count": 87
        }
      ]
    },
    {
      "cell_type": "code",
      "metadata": {
        "colab": {
          "base_uri": "https://localhost:8080/"
        },
        "id": "3FzgXLuF63g8",
        "outputId": "9b142299-7783-41be-ec83-e6597d0ecfcb"
      },
      "source": [
        "categories = tf.constant([\"NEAR BAY\", \"DESERT\", \"INLAND\", \"INLAND\"])\n",
        "cat_indices = table.lookup(categories)\n",
        "cat_indices"
      ],
      "execution_count": 88,
      "outputs": [
        {
          "output_type": "execute_result",
          "data": {
            "text/plain": [
              "<tf.Tensor: shape=(4,), dtype=int64, numpy=array([3, 5, 1, 1])>"
            ]
          },
          "metadata": {
            "tags": []
          },
          "execution_count": 88
        }
      ]
    },
    {
      "cell_type": "code",
      "metadata": {
        "colab": {
          "base_uri": "https://localhost:8080/"
        },
        "id": "LN-u5BWA7GQr",
        "outputId": "76cefed6-be5f-40f0-9cc7-48ba9e80f116"
      },
      "source": [
        "tf.nn.embedding_lookup(embedding_matrix, cat_indices)"
      ],
      "execution_count": 89,
      "outputs": [
        {
          "output_type": "execute_result",
          "data": {
            "text/plain": [
              "<tf.Tensor: shape=(4, 2), dtype=float32, numpy=\n",
              "array([[0.31499517, 0.2653731 ],\n",
              "       [0.09867823, 0.16362989],\n",
              "       [0.23009956, 0.8961091 ],\n",
              "       [0.23009956, 0.8961091 ]], dtype=float32)>"
            ]
          },
          "metadata": {
            "tags": []
          },
          "execution_count": 89
        }
      ]
    },
    {
      "cell_type": "code",
      "metadata": {
        "id": "HfS4E9v67L7X"
      },
      "source": [
        "embedding = keras.layers.Embedding(input_dim=len(vocab) + num_oov_buckets, output_dim=embedding_dim)"
      ],
      "execution_count": 90,
      "outputs": []
    },
    {
      "cell_type": "code",
      "metadata": {
        "colab": {
          "base_uri": "https://localhost:8080/"
        },
        "id": "-MQ_1CLA7kld",
        "outputId": "ed9b0b8f-0e8b-4dac-96f3-64e4af2588fb"
      },
      "source": [
        "embedding(cat_indices)"
      ],
      "execution_count": 91,
      "outputs": [
        {
          "output_type": "execute_result",
          "data": {
            "text/plain": [
              "<tf.Tensor: shape=(4, 2), dtype=float32, numpy=\n",
              "array([[ 0.04038638, -0.0187636 ],\n",
              "       [ 0.00492255,  0.00162461],\n",
              "       [ 0.02378485,  0.03416307],\n",
              "       [ 0.02378485,  0.03416307]], dtype=float32)>"
            ]
          },
          "metadata": {
            "tags": []
          },
          "execution_count": 91
        }
      ]
    },
    {
      "cell_type": "code",
      "metadata": {
        "id": "1zgCM1hR7nYx"
      },
      "source": [
        "regular_inputs = keras.layers.Input(shape=[8])\n",
        "categories = keras.layers.Input(shape=[], dtype=tf.string)\n",
        "cat_indices = keras.layers.Lambda(lambda cats: table.lookup(cats))(categories)\n",
        "cat_embed = keras.layers.Embedding(input_dim=6, output_dim=2)(cat_indices)\n",
        "encoded_inputs = keras.layers.concatenate([regular_inputs, cat_embed])\n",
        "outputs = keras.layers.Dense(1)(encoded_inputs)\n",
        "model = keras.models.Model(inputs=[regular_inputs, categories],\n",
        "                           outputs=[outputs])"
      ],
      "execution_count": 92,
      "outputs": []
    },
    {
      "cell_type": "markdown",
      "metadata": {
        "id": "Xkt83v4x-9OC"
      },
      "source": [
        "#### PreProcessing Pipelines:\n"
      ]
    },
    {
      "cell_type": "markdown",
      "metadata": {
        "id": "pz2jwx6G_BuA"
      },
      "source": [
        "normalization = keras.layers.Normalization()<br>\n",
        "discretization = keras.layers.Discretization([..])<br>\n",
        "pipeline = keras.layers.PreprocessingStage([normalization, discretization])<br>\n",
        "pipeline.adapt(data_sample)"
      ]
    },
    {
      "cell_type": "markdown",
      "metadata": {
        "id": "--w3vvRb_iIf"
      },
      "source": [
        "## Excercise:"
      ]
    },
    {
      "cell_type": "markdown",
      "metadata": {
        "id": "WcL7mymiUTqE"
      },
      "source": [
        "#### 9."
      ]
    },
    {
      "cell_type": "code",
      "metadata": {
        "id": "xL0Gfb8JUW1u"
      },
      "source": [
        "import tensorflow as tf\n",
        "from tensorflow import keras\n",
        "import os"
      ],
      "execution_count": 93,
      "outputs": []
    },
    {
      "cell_type": "code",
      "metadata": {
        "colab": {
          "base_uri": "https://localhost:8080/"
        },
        "id": "V_FkAAx0UdM2",
        "outputId": "42301038-6da4-49c8-b71a-883f802e8b15"
      },
      "source": [
        "fashion_mnist = keras.datasets.fashion_mnist.load_data()"
      ],
      "execution_count": 94,
      "outputs": [
        {
          "output_type": "stream",
          "text": [
            "Downloading data from https://storage.googleapis.com/tensorflow/tf-keras-datasets/train-labels-idx1-ubyte.gz\n",
            "32768/29515 [=================================] - 0s 0us/step\n",
            "Downloading data from https://storage.googleapis.com/tensorflow/tf-keras-datasets/train-images-idx3-ubyte.gz\n",
            "26427392/26421880 [==============================] - 0s 0us/step\n",
            "Downloading data from https://storage.googleapis.com/tensorflow/tf-keras-datasets/t10k-labels-idx1-ubyte.gz\n",
            "8192/5148 [===============================================] - 0s 0us/step\n",
            "Downloading data from https://storage.googleapis.com/tensorflow/tf-keras-datasets/t10k-images-idx3-ubyte.gz\n",
            "4423680/4422102 [==============================] - 0s 0us/step\n"
          ],
          "name": "stdout"
        }
      ]
    },
    {
      "cell_type": "code",
      "metadata": {
        "id": "hq6fUorDUlmO"
      },
      "source": [
        "train = fashion_mnist[0]\n",
        "test = fashion_mnist[1]\n",
        "X_train_full, y_train_full = train\n",
        "X_test, y_test = test"
      ],
      "execution_count": 95,
      "outputs": []
    },
    {
      "cell_type": "code",
      "metadata": {
        "id": "avbJucmaU8O8"
      },
      "source": [
        "from sklearn.model_selection import train_test_split"
      ],
      "execution_count": 96,
      "outputs": []
    },
    {
      "cell_type": "code",
      "metadata": {
        "id": "nVlJOkmPVA2b"
      },
      "source": [
        "X_train, X_valid, y_train, y_valid = train_test_split(X_train_full, y_train_full,\n",
        "                                                      test_size=0.2)\n",
        "\n",
        "train_set = tf.data.Dataset.from_tensor_slices((X_train, y_train)).shuffle(len(X_train))\n",
        "valid_set = tf.data.Dataset.from_tensor_slices((X_valid, y_valid))\n",
        "test_set = tf.data.Dataset.from_tensor_slices((X_test, y_test))"
      ],
      "execution_count": 97,
      "outputs": []
    },
    {
      "cell_type": "code",
      "metadata": {
        "id": "HVjXTTUdjExb"
      },
      "source": [
        "from tensorflow.train import Example, Features, Feature, BytesList, Int64List, FloatList"
      ],
      "execution_count": 98,
      "outputs": []
    },
    {
      "cell_type": "code",
      "metadata": {
        "id": "RZrLcJ1MVPaV"
      },
      "source": [
        "def directory_creator():\n",
        "    ROOT_DIR = \"/content/\"\n",
        "    DATA_DIR = \"data/\"\n",
        "    DATA_PATH = ROOT_DIR + DATA_DIR\n",
        "    DIRS = (\"train\", \"valid\", \"test\")\n",
        "    PATHS = []\n",
        "    for dir in DIRS:\n",
        "        PATHS.append(DATA_PATH + dir)\n",
        "\n",
        "    for path in PATHS:\n",
        "        os.makedirs(path, exist_ok=True)\n",
        "\n",
        "    return PATHS\n",
        "\n",
        "def image_proto_example(image, label):\n",
        "    serialized_image_tensor = tf.io.serialize_tensor(image)\n",
        "    width = image.shape[0]\n",
        "    height = image.shape[1]\n",
        "    example_image = Example(\n",
        "        features = Features(\n",
        "            feature={\n",
        "                \"label\": Feature(int64_list=Int64List(value=[label])),\n",
        "                \"image\": Feature(bytes_list=BytesList(value=[serialized_image_tensor.numpy()])),\n",
        "                \"width\": Feature(int64_list=Int64List(value=[width])),\n",
        "                \"height\": Feature(int64_list=Int64List(value=[height])),\n",
        "            }\n",
        "        )\n",
        "    )\n",
        "    return example_image\n",
        "\n",
        "def data_splitter(datasets, batch_size):\n",
        "    PATHS = directory_creator()\n",
        "    \n",
        "    for dataset, path in zip(datasets, PATHS):\n",
        "        temp_data = dataset.batch(batch_size)\n",
        "        counter = 1\n",
        "        for item in temp_data:\n",
        "            batch_path = path + f'/batch_{counter}.tfrecord'\n",
        "            counter += 1\n",
        "            with tf.io.TFRecordWriter(batch_path) as writer:\n",
        "                for index, (image, label) in dataset.enumerate():\n",
        "                    proto_image = image_proto_example(image, label)\n",
        "                    writer.write(proto_image.SerializeToString())    "
      ],
      "execution_count": 99,
      "outputs": []
    },
    {
      "cell_type": "code",
      "metadata": {
        "id": "e4OwF8Miehvw"
      },
      "source": [
        "data_splitter((train_set, valid_set, test_set), batch_size=5000)"
      ],
      "execution_count": 100,
      "outputs": []
    },
    {
      "cell_type": "code",
      "metadata": {
        "id": "fx_4VsjpvyX-"
      },
      "source": [
        "@tf.function\n",
        "def tfrecord_preprocess(serialized_example_image):\n",
        "    tfrecord_feature_description = {\n",
        "        \"label\": tf.io.FixedLenFeature([], tf.int64, default_value=-1),\n",
        "        \"image\": tf.io.FixedLenFeature([], tf.string, default_value=\"\"),\n",
        "        \"width\": tf.io.FixedLenFeature([], tf.int64, default_value=-1),\n",
        "        \"height\": tf.io.FixedLenFeature([], tf.int64, default_value=-1),\n",
        "    }\n",
        "\n",
        "    example_image = tf.io.parse_single_example(serialized_example_image,\n",
        "                                               tfrecord_feature_description)\n",
        "    image = tf.io.parse_tensor(example_image[\"image\"], out_type=tf.uint8)\n",
        "    image = tf.reshape(image, shape=[28, 28])\n",
        "\n",
        "    return image, example_image[\"label\"]\n",
        "\n",
        "def tfrecord_reader_dataset(filepaths, repeat=1, n_readers=5, n_read_threads=None,\n",
        "                       shuffle_buffer_size=10000, n_parse_threads=5, batch_size=32):\n",
        "    dataset = tf.data.Dataset.list_files(filepaths)\n",
        "    dataset = dataset.interleave(\n",
        "        lambda filepath: tf.data.TFRecordDataset(filepath),\n",
        "        cycle_length=n_readers,\n",
        "        num_parallel_calls=n_parse_threads\n",
        "    )\n",
        "    dataset = dataset.map(tfrecord_preprocess, num_parallel_calls=n_parse_threads)\n",
        "    dataset = dataset.shuffle(shuffle_buffer_size).repeat(repeat)\n",
        "    return dataset.batch(batch_size).prefetch(1)"
      ],
      "execution_count": 101,
      "outputs": []
    },
    {
      "cell_type": "code",
      "metadata": {
        "id": "XF97ubWo1Ohy"
      },
      "source": [
        "dumm_set = tfrecord_reader_dataset(\"/content/data/train/batch_*\",\n",
        "                                    shuffle_buffer_size=20000,\n",
        "                                    batch_size=5000)"
      ],
      "execution_count": 102,
      "outputs": []
    },
    {
      "cell_type": "code",
      "metadata": {
        "colab": {
          "base_uri": "https://localhost:8080/",
          "height": 105
        },
        "id": "2uTpAix110Ye",
        "outputId": "473b9854-11a0-4ade-9daf-3726ca8b2516"
      },
      "source": [
        "for X, y in dumm_set.take(1):\n",
        "    for i in range(5):\n",
        "        plt.subplot(1, 5, i + 1)\n",
        "        plt.imshow(X[i].numpy(), cmap=\"binary\")\n",
        "        plt.axis(\"off\")\n",
        "        plt.title(str(y[i].numpy()))"
      ],
      "execution_count": 103,
      "outputs": [
        {
          "output_type": "display_data",
          "data": {
            "image/png": "[encoded data removed]",
            "text/plain": [
              "<Figure size 432x288 with 5 Axes>"
            ]
          },
          "metadata": {
            "tags": [],
            "needs_background": "light"
          }
        }
      ]
    },
    {
      "cell_type": "code",
      "metadata": {
        "id": "GrvrUUMgEMHi"
      },
      "source": [
        "train_set = tfrecord_reader_dataset(\"/content/data/train/batch_*\",\n",
        "                                    shuffle_buffer_size=20000,\n",
        "                                    batch_size=32)\n",
        "valid_set = tfrecord_reader_dataset(\"/content/data/valid/batch_*\",\n",
        "                                    shuffle_buffer_size=20000,\n",
        "                                    batch_size=32)\n",
        "test_set = tfrecord_reader_dataset(\"/content/data/test/batch_*\",\n",
        "                                   shuffle_buffer_size=15000,\n",
        "                                   batch_size=32)"
      ],
      "execution_count": 104,
      "outputs": []
    },
    {
      "cell_type": "code",
      "metadata": {
        "id": "jKlfK1PDLESA"
      },
      "source": [
        "def get_run_logdir(model_name):\n",
        "    import time\n",
        "    root = \"/content/\"\n",
        "    log_dir = \"log\"\n",
        "    os.makedirs(root + log_dir, exist_ok=True)\n",
        "    root_logdir = root + log_dir\n",
        "    run_id = time.strftime(\"run_%Y_%m_%d--%H_%M_%S\")\n",
        "    return os.path.join(root_logdir, model_name, run_id)\n",
        "\n",
        "early_stopping_cb = keras.callbacks.EarlyStopping(patience=10)\n",
        "checkpoint_cb = keras.callbacks.ModelCheckpoint(\"data_api_model.h5\", save_best_only=True)\n",
        "tensorboard_cb = keras.callbacks.TensorBoard(get_run_logdir(\"data_api_model\"))\n",
        "callbacks = [early_stopping_cb, checkpoint_cb, tensorboard_cb]"
      ],
      "execution_count": 105,
      "outputs": []
    },
    {
      "cell_type": "code",
      "metadata": {
        "id": "Qb73555ZLqbe"
      },
      "source": [
        "class StandardizationLayer(keras.layers.Layer):\n",
        "\n",
        "    def  adapt(self, data_sample):\n",
        "        self.means_ = np.mean(data_sample, axis=0, keepdims=True)\n",
        "        self.stds_ = np.std(data_sample, axis=0, keepdims=True)\n",
        "\n",
        "    def call(self, inputs):\n",
        "        return (inputs - self.means_) / (self.stds_ + keras.backend.epsilon())"
      ],
      "execution_count": 106,
      "outputs": []
    },
    {
      "cell_type": "code",
      "metadata": {
        "colab": {
          "base_uri": "https://localhost:8080/"
        },
        "id": "Kp5hfx9Xr2PU",
        "outputId": "da724b58-a7fe-422c-fbf6-e0ecbf5a331d"
      },
      "source": [
        "standardization = StandardizationLayer(input_shape=[28, 28])\n",
        "\n",
        "sample_image_batches = train_set.take(100).map(lambda image, label: image)\n",
        "sample_images = np.concatenate(list(sample_image_batches.as_numpy_iterator()),\n",
        "                                axis=0).astype(np.float32)\n",
        "print(sample_images.shape)\n",
        "standardization.adapt(sample_images)"
      ],
      "execution_count": 107,
      "outputs": [
        {
          "output_type": "stream",
          "text": [
            "(3200, 28, 28)\n"
          ],
          "name": "stdout"
        }
      ]
    },
    {
      "cell_type": "code",
      "metadata": {
        "id": "mGOjoQPYtDzT"
      },
      "source": [
        "model = keras.models.Sequential([\n",
        "    standardization,\n",
        "    keras.layers.Flatten(),\n",
        "    keras.layers.Dense(300, activation=\"selu\", kernel_initializer=\"lecun_normal\"),\n",
        "    keras.layers.Dense(100, activation=\"selu\", kernel_initializer=\"lecun_normal\"),\n",
        "    keras.layers.Dense(10, activation=\"softmax\"),\n",
        "])\n",
        "\n",
        "model.compile(loss=\"sparse_categorical_crossentropy\",\n",
        "              optimizer=keras.optimizers.Nadam(lr=2e-4),\n",
        "              metrics=[\"accuracy\"])"
      ],
      "execution_count": 108,
      "outputs": []
    },
    {
      "cell_type": "code",
      "metadata": {
        "colab": {
          "base_uri": "https://localhost:8080/"
        },
        "id": "p6Ail2CUujdI",
        "outputId": "f6c2d9e0-f503-4fc8-c43f-4dba860c4ae5"
      },
      "source": [
        "model.fit(train_set, epochs=100,\n",
        "          validation_data=valid_set, callbacks=callbacks)"
      ],
      "execution_count": 109,
      "outputs": [
        {
          "output_type": "stream",
          "text": [
            "Epoch 1/100\n",
            "15000/15000 [==============================] - 133s 9ms/step - loss: 3321.8354 - accuracy: 0.8720 - val_loss: 1681.3505 - val_accuracy: 0.8836\n",
            "Epoch 2/100\n",
            "15000/15000 [==============================] - 138s 9ms/step - loss: 813.5439 - accuracy: 0.9434 - val_loss: 1472.0563 - val_accuracy: 0.8832\n",
            "Epoch 3/100\n",
            "15000/15000 [==============================] - 123s 8ms/step - loss: 338.9097 - accuracy: 0.9682 - val_loss: 522.1448 - val_accuracy: 0.8882\n",
            "Epoch 4/100\n",
            "15000/15000 [==============================] - 125s 8ms/step - loss: 163.0289 - accuracy: 0.9823 - val_loss: 185.8163 - val_accuracy: 0.8894\n",
            "Epoch 5/100\n",
            "15000/15000 [==============================] - 125s 8ms/step - loss: 101.6697 - accuracy: 0.9894 - val_loss: 264.2598 - val_accuracy: 0.8858\n",
            "Epoch 6/100\n",
            "15000/15000 [==============================] - 123s 8ms/step - loss: 53.5581 - accuracy: 0.9925 - val_loss: 107.0550 - val_accuracy: 0.8892\n",
            "Epoch 7/100\n",
            "15000/15000 [==============================] - 130s 9ms/step - loss: 20.3943 - accuracy: 0.9938 - val_loss: 55.6633 - val_accuracy: 0.8865\n",
            "Epoch 8/100\n",
            "15000/15000 [==============================] - 139s 9ms/step - loss: 6.7197 - accuracy: 0.9947 - val_loss: 1.5090 - val_accuracy: 0.8867\n",
            "Epoch 9/100\n",
            "15000/15000 [==============================] - 148s 10ms/step - loss: 0.5804 - accuracy: 0.9954 - val_loss: 2.3389 - val_accuracy: 0.8863\n",
            "Epoch 10/100\n",
            "15000/15000 [==============================] - 141s 9ms/step - loss: 0.3475 - accuracy: 0.9958 - val_loss: 0.9366 - val_accuracy: 0.8855\n",
            "Epoch 11/100\n",
            "15000/15000 [==============================] - 127s 8ms/step - loss: 0.0814 - accuracy: 0.9961 - val_loss: 0.9502 - val_accuracy: 0.8884\n",
            "Epoch 12/100\n",
            "15000/15000 [==============================] - 133s 9ms/step - loss: 0.0870 - accuracy: 0.9962 - val_loss: 1.1132 - val_accuracy: 0.8917\n",
            "Epoch 13/100\n",
            "15000/15000 [==============================] - 135s 9ms/step - loss: 0.0238 - accuracy: 0.9963 - val_loss: 2.3493 - val_accuracy: 0.8874\n",
            "Epoch 14/100\n",
            "15000/15000 [==============================] - 133s 9ms/step - loss: 0.0141 - accuracy: 0.9965 - val_loss: 1.1654 - val_accuracy: 0.8843\n",
            "Epoch 15/100\n",
            "15000/15000 [==============================] - 127s 8ms/step - loss: 0.3632 - accuracy: 0.9968 - val_loss: 1.1512 - val_accuracy: 0.8867\n",
            "Epoch 16/100\n",
            "15000/15000 [==============================] - 129s 9ms/step - loss: 0.0556 - accuracy: 0.9968 - val_loss: 1.2463 - val_accuracy: 0.8852\n",
            "Epoch 17/100\n",
            "15000/15000 [==============================] - 125s 8ms/step - loss: 0.0182 - accuracy: 0.9971 - val_loss: 1.1946 - val_accuracy: 0.8880\n",
            "Epoch 18/100\n",
            "15000/15000 [==============================] - 120s 8ms/step - loss: 0.0108 - accuracy: 0.9972 - val_loss: 1.2336 - val_accuracy: 0.8894\n",
            "Epoch 19/100\n",
            "15000/15000 [==============================] - 120s 8ms/step - loss: 0.0149 - accuracy: 0.9973 - val_loss: 5.9764 - val_accuracy: 0.8848\n",
            "Epoch 20/100\n",
            "15000/15000 [==============================] - 131s 9ms/step - loss: 0.0345 - accuracy: 0.9973 - val_loss: 1.2693 - val_accuracy: 0.8882\n"
          ],
          "name": "stdout"
        },
        {
          "output_type": "execute_result",
          "data": {
            "text/plain": [
              "<tensorflow.python.keras.callbacks.History at 0x7f658cb55160>"
            ]
          },
          "metadata": {
            "tags": []
          },
          "execution_count": 109
        }
      ]
    },
    {
      "cell_type": "markdown",
      "metadata": {
        "id": "ncDubcMCu-ks"
      },
      "source": [
        "#### 10."
      ]
    },
    {
      "cell_type": "code",
      "metadata": {
        "id": "whts2I0Ev6ZZ"
      },
      "source": [
        "import urllib\n",
        "import requests\n",
        "import os\n",
        "import tarfile\n",
        "import zipfile\n",
        "import tensorflow as tf\n",
        "from tensorflow import keras\n",
        "import numpy as np"
      ],
      "execution_count": 3,
      "outputs": []
    },
    {
      "cell_type": "code",
      "metadata": {
        "id": "B1VkWfH1xpTx"
      },
      "source": [
        "MOVIES_PATH = os.path.join(\"datasets\", \"imbd_reviews\")\n",
        "MOVIES_URL = \"https://ai.stanford.edu/~amaas/data/sentiment/aclImdb_v1.tar.gz\"\n",
        "\n",
        "def fetch_imdb_data(movies_url=MOVIES_URL, movies_path=MOVIES_PATH):\n",
        "    if not os.path.isdir(movies_path):\n",
        "        os.makedirs(movies_path)\n",
        "    targz_path = os.path.join(movies_path, \"imdb_reviews.tar.gz\")\n",
        "    response = requests.get(MOVIES_URL, stream=True)\n",
        "    if response.status_code == 200:\n",
        "        with open(targz_path, 'wb') as f:\n",
        "            f.write(response.raw.read())\n",
        "    \n",
        "    return targz_path"
      ],
      "execution_count": 4,
      "outputs": []
    },
    {
      "cell_type": "code",
      "metadata": {
        "id": "lD4pJExo48nl"
      },
      "source": [
        "targz_path = fetch_imdb_data()"
      ],
      "execution_count": 5,
      "outputs": []
    },
    {
      "cell_type": "code",
      "metadata": {
        "id": "KL_GnB-75Ei1"
      },
      "source": [
        "EXTRACT_PATH = \"/content/datasets/imbd_reviews\"\n",
        "\n",
        "my_tar = tarfile.open(targz_path)\n",
        "my_tar.extractall(EXTRACT_PATH)\n",
        "my_tar.close()"
      ],
      "execution_count": 6,
      "outputs": []
    },
    {
      "cell_type": "code",
      "metadata": {
        "id": "oWk7R1I455my"
      },
      "source": [
        "train_filepaths = [\"/content/datasets/imbd_reviews/aclImdb/train/neg/*\", \"/content/datasets/imbd_reviews/aclImdb/train/pos/*\"]\n",
        "test_filepaths = [\"/content/datasets/imbd_reviews/aclImdb/test/neg/*\", \"/content/datasets/imbd_reviews/aclImdb/test/pos/*\"]"
      ],
      "execution_count": 7,
      "outputs": []
    },
    {
      "cell_type": "code",
      "metadata": {
        "id": "AnZNXlUs7YFc"
      },
      "source": [
        "train_filepaths_dataset = tf.data.Dataset.list_files(train_filepaths)\n",
        "test_filepaths_dataset = tf.data.Dataset.list_files(test_filepaths)"
      ],
      "execution_count": 8,
      "outputs": []
    },
    {
      "cell_type": "code",
      "metadata": {
        "colab": {
          "base_uri": "https://localhost:8080/"
        },
        "id": "hBa6oH8v7n54",
        "outputId": "25433a75-0792-4f78-b1cb-ab7ea88a5758"
      },
      "source": [
        "print(len(train_filepaths_dataset))\n",
        "print(len(test_filepaths_dataset))"
      ],
      "execution_count": 9,
      "outputs": [
        {
          "output_type": "stream",
          "text": [
            "25000\n",
            "25000\n"
          ],
          "name": "stdout"
        }
      ]
    },
    {
      "cell_type": "code",
      "metadata": {
        "id": "Atr9vPwz8S36"
      },
      "source": [
        "valid_filepaths_dataset, test_filepaths_dataset = test_filepaths_dataset.batch(15000)"
      ],
      "execution_count": 10,
      "outputs": []
    },
    {
      "cell_type": "code",
      "metadata": {
        "colab": {
          "base_uri": "https://localhost:8080/"
        },
        "id": "R9PFBx399Em-",
        "outputId": "7dae72ce-246c-4762-d152-12aea015f32c"
      },
      "source": [
        "print(len(valid_filepaths_dataset))\n",
        "print(len(test_filepaths_dataset))"
      ],
      "execution_count": 11,
      "outputs": [
        {
          "output_type": "stream",
          "text": [
            "15000\n",
            "10000\n"
          ],
          "name": "stdout"
        }
      ]
    },
    {
      "cell_type": "code",
      "metadata": {
        "colab": {
          "base_uri": "https://localhost:8080/"
        },
        "id": "mjWBpOM_93CC",
        "outputId": "2ee06b95-54fa-4f50-a862-e536355ba750"
      },
      "source": [
        "for item in train_filepaths_dataset.take(5):\n",
        "    print(item.numpy())"
      ],
      "execution_count": 12,
      "outputs": [
        {
          "output_type": "stream",
          "text": [
            "b'/content/datasets/imbd_reviews/aclImdb/train/neg/11954_1.txt'\n",
            "b'/content/datasets/imbd_reviews/aclImdb/train/pos/1640_10.txt'\n",
            "b'/content/datasets/imbd_reviews/aclImdb/train/neg/8198_4.txt'\n",
            "b'/content/datasets/imbd_reviews/aclImdb/train/neg/4844_2.txt'\n",
            "b'/content/datasets/imbd_reviews/aclImdb/train/neg/5872_2.txt'\n"
          ],
          "name": "stdout"
        }
      ]
    },
    {
      "cell_type": "code",
      "metadata": {
        "id": "CI4b63lm9KY4"
      },
      "source": [
        "def review_reader_dataset(filepaths, repeat=1, n_readers=5, n_read_threads=None,\n",
        "                       shuffle_buffer_size=None, n_parse_threads=5, batch_size=32):\n",
        "    filepath_dataset = tf.data.Dataset.list_files(filepaths)\n",
        "    review_dataset = filepath_dataset.interleave(\n",
        "        lambda filepath: tf.data.TextLineDataset(filepath),\n",
        "        cycle_length=n_readers,\n",
        "        num_parallel_calls=n_parse_threads\n",
        "    )\n",
        "    \n",
        "    ratings = tf.constant([], dtype=tf.int32)\n",
        "    for filepath in filepath_dataset:\n",
        "        file = os.path.basename(filepath.numpy())\n",
        "        print(file)\n",
        "        film_rating = np.int32(file.decode(\"utf-8\")[-5])\n",
        "        print(film_rating)\n",
        "        ratings = tf.stack([ratings, tf.constant(film_rating, dtype=tf.int32)])\n",
        "        \n",
        "    print(ratings)\n",
        "    print(asdadrating_dataset)       \n",
        "\n",
        "    if shuffle_buffer_size:\n",
        "        review_dataset = review_dataset.shuffle(shuffle_buffer_size).repeat(repeat)\n",
        "\n",
        "    return dataset.batch(batch_size).prefetch(10)"
      ],
      "execution_count": 13,
      "outputs": []
    },
    {
      "cell_type": "code",
      "metadata": {
        "id": "tPdt018pA-Tg"
      },
      "source": [
        "train_set = review_reader_dataset(train_filepaths)\n",
        "valid_set = review_reader_dataset(valid_filepaths)\n",
        "test_set = review_reader_dataset(test_filepaths)"
      ],
      "execution_count": null,
      "outputs": []
    },
    {
      "cell_type": "markdown",
      "metadata": {
        "id": "uZxIDx2WBZrn"
      },
      "source": [
        "I was not able to extract rating from the file paths, even after trying various methods. The reason being if I try to extract rating using .map() or .interleave(), then instead of \"EagerTensor\", \"Tensor\" object is passed to the function being called. And, there is no way of extracting value present in \"Tensor\" object. And, If I try to write a \"for-loop\" in \"review_reader_dataset\" function, then, the due to .()interleave, the records having been shuffled and using \"tf.data.Dataset.zip()\", we not match the reviews with the right film."
      ]
    },
    {
      "cell_type": "code",
      "metadata": {
        "id": "irgg7apvUseb"
      },
      "source": [
        ""
      ],
      "execution_count": null,
      "outputs": []
    }
  ]
}