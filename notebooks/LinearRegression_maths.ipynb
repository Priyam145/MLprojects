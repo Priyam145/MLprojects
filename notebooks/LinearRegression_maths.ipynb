{
  "nbformat": 4,
  "nbformat_minor": 0,
  "metadata": {
    "colab": {
      "name": "LinearRegression_maths.ipynb",
      "provenance": [],
      "authorship_tag": "ABX9TyOLV0HSJZ5p9UEYcOLxOHCX",
      "include_colab_link": true
    },
    "kernelspec": {
      "name": "python3",
      "display_name": "Python 3"
    }
  },
  "cells": [
    {
      "cell_type": "markdown",
      "metadata": {
        "id": "view-in-github",
        "colab_type": "text"
      },
      "source": [
        "<a href=\"https://colab.research.google.com/github/Priyam145/MLprojects/blob/main/notebooks/LinearRegression_maths.ipynb\" target=\"_parent\"><img src=\"https://colab.research.google.com/assets/colab-badge.svg\" alt=\"Open In Colab\"/></a>"
      ]
    },
    {
      "cell_type": "code",
      "metadata": {
        "id": "HK3f2X7jgWg-"
      },
      "source": [
        "import numpy as np"
      ],
      "execution_count": 1,
      "outputs": []
    },
    {
      "cell_type": "code",
      "metadata": {
        "id": "rSfZ2nCfirs9"
      },
      "source": [
        "X = 2 * np.random.rand(100, 1)\n",
        "y = 4 + 3 * X + np.random.randn(100, 1)"
      ],
      "execution_count": 2,
      "outputs": []
    },
    {
      "cell_type": "code",
      "metadata": {
        "id": "yerQjhKni5dS"
      },
      "source": [
        "import matplotlib.pyplot as plt\n",
        "import seaborn as sns"
      ],
      "execution_count": 3,
      "outputs": []
    },
    {
      "cell_type": "code",
      "metadata": {
        "id": "dt6ovGy3i_qb",
        "colab": {
          "base_uri": "https://localhost:8080/",
          "height": 459
        },
        "outputId": "b1ac739f-8673-44fc-cbe3-b0ea35f916dd"
      },
      "source": [
        "fig, axs = plt.subplots(figsize=(10, 7))\n",
        "fig.set_facecolor(\"white\")\n",
        "plt.scatter(X, y);\n",
        "axs.set_xlabel('X')\n",
        "axs.set_ylabel('y')\n",
        "axs.set_xlim(xmin=0)\n",
        "axs.set_ylim(ymin=0)"
      ],
      "execution_count": 4,
      "outputs": [
        {
          "output_type": "execute_result",
          "data": {
            "text/plain": [
              "(0.0, 11.041429890197241)"
            ]
          },
          "metadata": {
            "tags": []
          },
          "execution_count": 4
        },
        {
          "output_type": "display_data",
          "data": {
            "image/png": "[encoded data removed]",
            "text/plain": [
              "<Figure size 720x504 with 1 Axes>"
            ]
          },
          "metadata": {
            "tags": []
          }
        }
      ]
    },
    {
      "cell_type": "code",
      "metadata": {
        "id": "JXBcHjzVjCWI"
      },
      "source": [
        "X_b = np.c_[np.ones((100, 1)), X]\n",
        "theta_best = np.linalg.inv(X_b.T.dot(X_b)).dot(X_b.T).dot(y)"
      ],
      "execution_count": 5,
      "outputs": []
    },
    {
      "cell_type": "code",
      "metadata": {
        "id": "bWvMiOi5kSL0",
        "colab": {
          "base_uri": "https://localhost:8080/"
        },
        "outputId": "14d99562-1740-413c-c1ca-23f6adfc109f"
      },
      "source": [
        "X_b[:5]"
      ],
      "execution_count": 6,
      "outputs": [
        {
          "output_type": "execute_result",
          "data": {
            "text/plain": [
              "array([[1.        , 0.78452359],\n",
              "       [1.        , 1.7727693 ],\n",
              "       [1.        , 1.0624706 ],\n",
              "       [1.        , 1.16346346],\n",
              "       [1.        , 1.61447466]])"
            ]
          },
          "metadata": {
            "tags": []
          },
          "execution_count": 6
        }
      ]
    },
    {
      "cell_type": "code",
      "metadata": {
        "id": "BEhdUFVGkTX1",
        "colab": {
          "base_uri": "https://localhost:8080/"
        },
        "outputId": "ad193771-9732-4b61-8e12-f9dfe7164ddb"
      },
      "source": [
        "theta_best"
      ],
      "execution_count": 7,
      "outputs": [
        {
          "output_type": "execute_result",
          "data": {
            "text/plain": [
              "array([[3.79049204],\n",
              "       [2.97593177]])"
            ]
          },
          "metadata": {
            "tags": []
          },
          "execution_count": 7
        }
      ]
    },
    {
      "cell_type": "code",
      "metadata": {
        "id": "F76pyCSBkbCa",
        "colab": {
          "base_uri": "https://localhost:8080/",
          "height": 442
        },
        "outputId": "c7e3cc58-7d76-4722-83c0-ddb65486c381"
      },
      "source": [
        "fig, axs = plt.subplots(figsize=(10, 7))\n",
        "fig.set_facecolor(\"white\")\n",
        "plt.scatter(X, y);\n",
        "plt.plot(X, X_b.dot(theta_best), color='red', label='Prediction line')\n",
        "axs.set_xlabel('X')\n",
        "axs.set_ylabel('y')\n",
        "axs.set_xlim(xmin=0)\n",
        "axs.set_ylim(ymin=0)\n",
        "plt.legend();"
      ],
      "execution_count": 8,
      "outputs": [
        {
          "output_type": "display_data",
          "data": {
            "image/png": "[encoded data removed]",
            "text/plain": [
              "<Figure size 720x504 with 1 Axes>"
            ]
          },
          "metadata": {
            "tags": []
          }
        }
      ]
    },
    {
      "cell_type": "code",
      "metadata": {
        "id": "yL5QEysxkzGu",
        "colab": {
          "base_uri": "https://localhost:8080/"
        },
        "outputId": "1debc082-b5f2-449a-aaa8-a5083e7a7623"
      },
      "source": [
        "X_new = np.array([[0], [2]])\n",
        "X_new_b = np.c_[np.ones((2, 1)), X_new] # add x0 = 1 to each instance\n",
        "y_predict = X_new_b.dot(theta_best)\n",
        "y_predict"
      ],
      "execution_count": 9,
      "outputs": [
        {
          "output_type": "execute_result",
          "data": {
            "text/plain": [
              "array([[3.79049204],\n",
              "       [9.74235558]])"
            ]
          },
          "metadata": {
            "tags": []
          },
          "execution_count": 9
        }
      ]
    },
    {
      "cell_type": "code",
      "metadata": {
        "id": "7ychT1bqlTGU"
      },
      "source": [
        "from sklearn.linear_model import LinearRegression"
      ],
      "execution_count": 10,
      "outputs": []
    },
    {
      "cell_type": "code",
      "metadata": {
        "id": "mK6McTrjl4pT",
        "colab": {
          "base_uri": "https://localhost:8080/"
        },
        "outputId": "5e1c8686-0f3e-4532-9ee4-1e9c3a5e23a5"
      },
      "source": [
        "lin_reg = LinearRegression()\n",
        "lin_reg.fit(X, y)\n",
        "lin_reg.intercept_, lin_reg.coef_"
      ],
      "execution_count": 11,
      "outputs": [
        {
          "output_type": "execute_result",
          "data": {
            "text/plain": [
              "(array([3.79049204]), array([[2.97593177]]))"
            ]
          },
          "metadata": {
            "tags": []
          },
          "execution_count": 11
        }
      ]
    },
    {
      "cell_type": "code",
      "metadata": {
        "id": "8Ldvle0xmED2",
        "colab": {
          "base_uri": "https://localhost:8080/"
        },
        "outputId": "441e3d9f-74b7-4eec-dd3e-83fc89198af6"
      },
      "source": [
        "lin_reg.predict(X_new)"
      ],
      "execution_count": 12,
      "outputs": [
        {
          "output_type": "execute_result",
          "data": {
            "text/plain": [
              "array([[3.79049204],\n",
              "       [9.74235558]])"
            ]
          },
          "metadata": {
            "tags": []
          },
          "execution_count": 12
        }
      ]
    },
    {
      "cell_type": "code",
      "metadata": {
        "id": "xEksUjrpmKkU",
        "colab": {
          "base_uri": "https://localhost:8080/"
        },
        "outputId": "05df248b-038b-4bd4-d4a5-8f9aa10f0a92"
      },
      "source": [
        "theta_best_svd, residuals, rank, s = np.linalg.lstsq(X_b, y, rcond=1e-6)\n",
        "theta_best_svd"
      ],
      "execution_count": 13,
      "outputs": [
        {
          "output_type": "execute_result",
          "data": {
            "text/plain": [
              "array([[3.79049204],\n",
              "       [2.97593177]])"
            ]
          },
          "metadata": {
            "tags": []
          },
          "execution_count": 13
        }
      ]
    },
    {
      "cell_type": "code",
      "metadata": {
        "id": "S3F1w_dgmeIW",
        "colab": {
          "base_uri": "https://localhost:8080/"
        },
        "outputId": "8c69ed25-7548-428c-f4d0-84821a74aa73"
      },
      "source": [
        "np.linalg.pinv(X_b).dot(y)"
      ],
      "execution_count": 14,
      "outputs": [
        {
          "output_type": "execute_result",
          "data": {
            "text/plain": [
              "array([[3.79049204],\n",
              "       [2.97593177]])"
            ]
          },
          "metadata": {
            "tags": []
          },
          "execution_count": 14
        }
      ]
    },
    {
      "cell_type": "code",
      "metadata": {
        "id": "VkVZo7SKnwlU"
      },
      "source": [
        "eta = 0.1\n",
        "n_iterations = 1000\n",
        "m = 100"
      ],
      "execution_count": 15,
      "outputs": []
    },
    {
      "cell_type": "code",
      "metadata": {
        "id": "dgdMv8ny8Duc",
        "colab": {
          "base_uri": "https://localhost:8080/",
          "height": 626
        },
        "outputId": "828a6f8f-7b92-42fb-910f-96bb67c8f957"
      },
      "source": [
        "fig, axs = plt.subplots(figsize=(15, 10))\n",
        "fig.set_facecolor(\"white\")\n",
        "plt.scatter(X, y);\n",
        "axs.set_xlabel(r'$X_1$')\n",
        "axs.set_ylabel('y')\n",
        "axs.set_xlim(xmin=0)\n",
        "axs.set_ylim(ymin=0)\n",
        "\n",
        "theta = np.random.randn(2, 1)\n",
        "for iteration in range(n_iterations):\n",
        "    gradients = 2/m*X_b.T.dot(X_b.dot(theta) - y)\n",
        "    theta = theta - eta * gradients\n",
        "    if iteration < 10:\n",
        "        plt.plot(X, X_b.dot(theta), label=f'iteration {iteration+1}')\n",
        "\n",
        "axs.set_title('{eta}'.format(eta=r'$\\eta = 0.1$'))\n",
        "plt.legend();"
      ],
      "execution_count": 16,
      "outputs": [
        {
          "output_type": "display_data",
          "data": {
            "image/png": "[encoded data removed]",
            "text/plain": [
              "<Figure size 1080x720 with 1 Axes>"
            ]
          },
          "metadata": {
            "tags": []
          }
        }
      ]
    },
    {
      "cell_type": "code",
      "metadata": {
        "id": "zy2s-ivc8V8I",
        "colab": {
          "base_uri": "https://localhost:8080/"
        },
        "outputId": "54e0182b-1920-4c0d-9289-4dc15b4ae3db"
      },
      "source": [
        "theta"
      ],
      "execution_count": 17,
      "outputs": [
        {
          "output_type": "execute_result",
          "data": {
            "text/plain": [
              "array([[3.79049204],\n",
              "       [2.97593177]])"
            ]
          },
          "metadata": {
            "tags": []
          },
          "execution_count": 17
        }
      ]
    },
    {
      "cell_type": "markdown",
      "metadata": {
        "id": "lsxSn4IlLZYj"
      },
      "source": [
        "# Stochastic Gradient Descent"
      ]
    },
    {
      "cell_type": "code",
      "metadata": {
        "id": "t0aILe6g8YGj"
      },
      "source": [
        "n_epochs = 50\n",
        "t0, t1 = 5, 50 # learning schedule hyperparamters\n",
        "\n",
        "def learning_schedule(t):\n",
        "    return t0 / (t + t1)\n",
        "\n",
        "theta = np.random.randn(2, 1) # random initialization\n",
        "\n",
        "for epoch in range(n_epochs):\n",
        "    for i in range(m):\n",
        "        random_index = np.random.randint(m)\n",
        "        xi = X_b[random_index:random_index + 1]\n",
        "        yi = y[random_index:random_index + 1]\n",
        "        gradients = 2 * xi.T.dot(xi.dot(theta) - yi)\n",
        "        eta = learning_schedule(epoch * m + i)\n",
        "        theta = theta - eta * gradients"
      ],
      "execution_count": 18,
      "outputs": []
    },
    {
      "cell_type": "code",
      "metadata": {
        "id": "9Tu9z6bcD0CY",
        "colab": {
          "base_uri": "https://localhost:8080/"
        },
        "outputId": "c3e2f8c1-942e-4bbe-cb01-d1f3fd21588f"
      },
      "source": [
        "theta"
      ],
      "execution_count": 19,
      "outputs": [
        {
          "output_type": "execute_result",
          "data": {
            "text/plain": [
              "array([[3.80957094],\n",
              "       [2.98085326]])"
            ]
          },
          "metadata": {
            "tags": []
          },
          "execution_count": 19
        }
      ]
    },
    {
      "cell_type": "code",
      "metadata": {
        "id": "LekqYb11EIA4",
        "colab": {
          "base_uri": "https://localhost:8080/"
        },
        "outputId": "5d308c31-3ac0-4b09-d7c5-ab31569dd38e"
      },
      "source": [
        "from sklearn.linear_model import SGDRegressor\n",
        "sgd_reg = SGDRegressor(max_iter=1000, tol=1e-3, penalty=None, eta0=0.1)\n",
        "sgd_reg.fit(X, y.ravel())"
      ],
      "execution_count": 20,
      "outputs": [
        {
          "output_type": "execute_result",
          "data": {
            "text/plain": [
              "SGDRegressor(alpha=0.0001, average=False, early_stopping=False, epsilon=0.1,\n",
              "             eta0=0.1, fit_intercept=True, l1_ratio=0.15,\n",
              "             learning_rate='invscaling', loss='squared_loss', max_iter=1000,\n",
              "             n_iter_no_change=5, penalty=None, power_t=0.25, random_state=None,\n",
              "             shuffle=True, tol=0.001, validation_fraction=0.1, verbose=0,\n",
              "             warm_start=False)"
            ]
          },
          "metadata": {
            "tags": []
          },
          "execution_count": 20
        }
      ]
    },
    {
      "cell_type": "code",
      "metadata": {
        "id": "IRGjKUpvLDy5",
        "colab": {
          "base_uri": "https://localhost:8080/"
        },
        "outputId": "6c6660e2-e446-4b22-c191-d607e5274d6d"
      },
      "source": [
        "sgd_reg.intercept_, sgd_reg.coef_"
      ],
      "execution_count": 21,
      "outputs": [
        {
          "output_type": "execute_result",
          "data": {
            "text/plain": [
              "(array([3.76136817]), array([2.98170286]))"
            ]
          },
          "metadata": {
            "tags": []
          },
          "execution_count": 21
        }
      ]
    },
    {
      "cell_type": "markdown",
      "metadata": {
        "id": "Y38PcJFGLgCm"
      },
      "source": [
        "# Mini-Batch Gradient Descent"
      ]
    },
    {
      "cell_type": "markdown",
      "metadata": {
        "id": "gKruSUw4SRD1"
      },
      "source": [
        "# Polynomial Regression"
      ]
    },
    {
      "cell_type": "code",
      "metadata": {
        "id": "N1NqKoaRSUM0"
      },
      "source": [
        "m = 100\n",
        "X = 6 * np.random.rand(m, 1) - 3\n",
        "y = 0.5 * X**2 + X + 2 + np.random.randn(m, 1)"
      ],
      "execution_count": 22,
      "outputs": []
    },
    {
      "cell_type": "code",
      "metadata": {
        "id": "qyXonYNgSlaD",
        "colab": {
          "base_uri": "https://localhost:8080/",
          "height": 0
        },
        "outputId": "cfc8741b-7658-45e0-c225-db952478b261"
      },
      "source": [
        "fig, axs = plt.subplots(figsize=(15, 10))\n",
        "fig.set_facecolor(\"white\")\n",
        "plt.scatter(X, y);\n",
        "axs.set_xlabel(r'$X_1$')\n",
        "axs.set_ylabel('y')\n",
        "axs.set_xlim(xmin=-3)\n",
        "axs.set_ylim(ymin=0);"
      ],
      "execution_count": 23,
      "outputs": [
        {
          "output_type": "display_data",
          "data": {
            "image/png": "[encoded data removed]",
            "text/plain": [
              "<Figure size 1080x720 with 1 Axes>"
            ]
          },
          "metadata": {
            "tags": []
          }
        }
      ]
    },
    {
      "cell_type": "code",
      "metadata": {
        "id": "-zut7gu5TjkJ"
      },
      "source": [
        "from sklearn.preprocessing import PolynomialFeatures"
      ],
      "execution_count": 24,
      "outputs": []
    },
    {
      "cell_type": "code",
      "metadata": {
        "id": "F6f8Ms0dT3B7",
        "colab": {
          "base_uri": "https://localhost:8080/"
        },
        "outputId": "4b61dedb-d1fd-444f-977c-9a37eb54ea35"
      },
      "source": [
        "poly_features = PolynomialFeatures(degree=2, include_bias=False)\n",
        "X_poly = poly_features.fit_transform(X)\n",
        "X[0]"
      ],
      "execution_count": 25,
      "outputs": [
        {
          "output_type": "execute_result",
          "data": {
            "text/plain": [
              "array([-0.84291937])"
            ]
          },
          "metadata": {
            "tags": []
          },
          "execution_count": 25
        }
      ]
    },
    {
      "cell_type": "code",
      "metadata": {
        "id": "gBz8ghEhUCEL",
        "colab": {
          "base_uri": "https://localhost:8080/"
        },
        "outputId": "217cdc71-2089-435b-9748-eddfd5e700c6"
      },
      "source": [
        "X_poly[0]"
      ],
      "execution_count": 26,
      "outputs": [
        {
          "output_type": "execute_result",
          "data": {
            "text/plain": [
              "array([-0.84291937,  0.71051306])"
            ]
          },
          "metadata": {
            "tags": []
          },
          "execution_count": 26
        }
      ]
    },
    {
      "cell_type": "code",
      "metadata": {
        "id": "legEbUbfUID_",
        "colab": {
          "base_uri": "https://localhost:8080/"
        },
        "outputId": "d79d8a0c-854b-424d-de4e-fb012467571a"
      },
      "source": [
        "lin_reg = LinearRegression()\n",
        "lin_reg.fit(X_poly, y)\n",
        "lin_reg.intercept_, lin_reg.coef_"
      ],
      "execution_count": 27,
      "outputs": [
        {
          "output_type": "execute_result",
          "data": {
            "text/plain": [
              "(array([1.81920127]), array([[0.84183614, 0.50410708]]))"
            ]
          },
          "metadata": {
            "tags": []
          },
          "execution_count": 27
        }
      ]
    },
    {
      "cell_type": "code",
      "metadata": {
        "id": "EPhqsc6MUbwW",
        "colab": {
          "base_uri": "https://localhost:8080/",
          "height": 0
        },
        "outputId": "cd77875e-7894-4830-f87c-08bbc9dbc111"
      },
      "source": [
        "fig, axs = plt.subplots(figsize=(15, 10))\n",
        "fig.set_facecolor(\"white\")\n",
        "plt.scatter(X, y)\n",
        "\n",
        "X_new=np.linspace(-3, 3, 100).reshape(100, 1)\n",
        "X_new_poly = poly_features.transform(X_new)\n",
        "y_new = lin_reg.predict(X_new_poly)\n",
        "plt.plot(X_new, y_new, \"r-\", linewidth=2, label=\"Predictions\")\n",
        "axs.set_xlabel(r'$X_1$')\n",
        "axs.set_ylabel('y')\n",
        "axs.set_xlim(xmin=-3)\n",
        "axs.set_ylim(ymin=0);"
      ],
      "execution_count": 28,
      "outputs": [
        {
          "output_type": "display_data",
          "data": {
            "image/png": "[encoded data removed]",
            "text/plain": [
              "<Figure size 1080x720 with 1 Axes>"
            ]
          },
          "metadata": {
            "tags": []
          }
        }
      ]
    },
    {
      "cell_type": "code",
      "metadata": {
        "id": "x20CwCifhhs_",
        "colab": {
          "base_uri": "https://localhost:8080/",
          "height": 0
        },
        "outputId": "75993ebe-c805-4507-d3bf-dbfbfe788af2"
      },
      "source": [
        "from sklearn.preprocessing import StandardScaler\n",
        "from sklearn.pipeline import Pipeline\n",
        "\n",
        "fig, axs = plt.subplots(figsize=(10, 7))\n",
        "fig.set_facecolor('white')\n",
        "\n",
        "for style, width, degree in ((\"g-\", 1, 300), (\"b--\", 2, 2), (\"r-+\", 2, 1)):\n",
        "    polybig_features = PolynomialFeatures(degree=degree, include_bias=False)\n",
        "    std_scaler = StandardScaler()\n",
        "    lin_reg = LinearRegression()\n",
        "    polynomial_regression = Pipeline([\n",
        "            (\"poly_features\", polybig_features),\n",
        "            (\"std_scaler\", std_scaler),\n",
        "            (\"lin_reg\", lin_reg),\n",
        "        ])\n",
        "    polynomial_regression.fit(X, y)\n",
        "    y_newbig = polynomial_regression.predict(X_new)\n",
        "    plt.plot(X_new, y_newbig, style, label=str(degree), linewidth=width)\n",
        "\n",
        "plt.plot(X, y, \"b.\", linewidth=3)\n",
        "plt.legend(loc=\"upper left\")\n",
        "plt.xlabel(\"$x_1$\", fontsize=18)\n",
        "plt.ylabel(\"$y$\", rotation=0, fontsize=18)\n",
        "plt.axis([-3, 3, 0, 10])\n",
        "plt.show()"
      ],
      "execution_count": 29,
      "outputs": [
        {
          "output_type": "display_data",
          "data": {
            "image/png": "[encoded data removed]",
            "text/plain": [
              "<Figure size 720x504 with 1 Axes>"
            ]
          },
          "metadata": {
            "tags": []
          }
        }
      ]
    },
    {
      "cell_type": "code",
      "metadata": {
        "id": "gEM-sIlMhibG",
        "colab": {
          "base_uri": "https://localhost:8080/",
          "height": 0
        },
        "outputId": "3d5bd1d8-ad90-4304-b9a7-0037cf5a8f38"
      },
      "source": [
        "from sklearn.metrics import mean_squared_error\n",
        "from sklearn.model_selection import train_test_split\n",
        "\n",
        "def plot_learning_curves(model, X, y):\n",
        "    fig, axs = plt.subplots(figsize=(10, 7))\n",
        "    fig.set_facecolor('white')\n",
        "\n",
        "    X_train, X_val, y_train, y_val = train_test_split(X, y, test_size=0.2)\n",
        "    train_errors, val_errors = [], []\n",
        "    for m in range(1, len(X_train)):\n",
        "        model.fit(X_train[:m], y_train[:m])\n",
        "        y_train_predict = model.predict(X_train[:m])\n",
        "        y_val_predict = model.predict(X_val)\n",
        "        train_errors.append(mean_squared_error(y_train[:m], y_train_predict))\n",
        "        val_errors.append(mean_squared_error(y_val, y_val_predict))\n",
        "    plt.plot(np.sqrt(train_errors), 'r-+', linewidth=2, label='train')\n",
        "    plt.plot(np.sqrt(val_errors), 'b-', linewidth=3, label='val')\n",
        "    axs.set_xlabel('Training set size')\n",
        "    axs.set_ylabel('RMSE')\n",
        "    axs.set_xlim(xmin=0)\n",
        "    axs.set_ylim(ymin=0, ymax=3.0)\n",
        "    plt.legend()\n",
        "\n",
        "lin_reg = LinearRegression()\n",
        "plot_learning_curves(lin_reg, X, y)"
      ],
      "execution_count": 30,
      "outputs": [
        {
          "output_type": "display_data",
          "data": {
            "image/png": "[encoded data removed]",
            "text/plain": [
              "<Figure size 720x504 with 1 Axes>"
            ]
          },
          "metadata": {
            "tags": []
          }
        }
      ]
    },
    {
      "cell_type": "code",
      "metadata": {
        "id": "bXkIGW5GyoKW"
      },
      "source": [
        "from sklearn.pipeline import Pipeline"
      ],
      "execution_count": 31,
      "outputs": []
    },
    {
      "cell_type": "code",
      "metadata": {
        "id": "mb1Emxjh9Gws"
      },
      "source": [
        "polynomial_regression = Pipeline([\n",
        "            (\"poly_features\", PolynomialFeatures(degree=10, include_bias=False)),\n",
        "            (\"lin_reg\", LinearRegression())\n",
        "])"
      ],
      "execution_count": 32,
      "outputs": []
    },
    {
      "cell_type": "code",
      "metadata": {
        "id": "cU_n22WA9b0d",
        "colab": {
          "base_uri": "https://localhost:8080/",
          "height": 0
        },
        "outputId": "28d6c9ac-d626-4b01-c391-92cbd623b0c3"
      },
      "source": [
        "plot_learning_curves(polynomial_regression, X, y)"
      ],
      "execution_count": 33,
      "outputs": [
        {
          "output_type": "display_data",
          "data": {
            "image/png": "[encoded data removed]",
            "text/plain": [
              "<Figure size 720x504 with 1 Axes>"
            ]
          },
          "metadata": {
            "tags": []
          }
        }
      ]
    },
    {
      "cell_type": "markdown",
      "metadata": {
        "id": "ExfMYk309ezn"
      },
      "source": [
        "# Ridge Regression"
      ]
    },
    {
      "cell_type": "code",
      "metadata": {
        "id": "A8CB4UFV-0-L"
      },
      "source": [
        "from sklearn.linear_model import Ridge"
      ],
      "execution_count": 34,
      "outputs": []
    },
    {
      "cell_type": "code",
      "metadata": {
        "colab": {
          "base_uri": "https://localhost:8080/"
        },
        "id": "bS8rR4z1CA4E",
        "outputId": "fd17af88-791d-47f2-8b12-a2a2590dcb49"
      },
      "source": [
        "ridge_reg = Ridge(alpha=1, solver='cholesky')\n",
        "ridge_reg.fit(X, y)\n",
        "ridge_reg.predict([[1.5]])"
      ],
      "execution_count": 35,
      "outputs": [
        {
          "output_type": "execute_result",
          "data": {
            "text/plain": [
              "array([[4.5759151]])"
            ]
          },
          "metadata": {
            "tags": []
          },
          "execution_count": 35
        }
      ]
    },
    {
      "cell_type": "code",
      "metadata": {
        "colab": {
          "base_uri": "https://localhost:8080/"
        },
        "id": "7_ROLMvrCMkP",
        "outputId": "141dc96f-d671-426c-93eb-203fa1767031"
      },
      "source": [
        "sgd_reg = SGDRegressor(penalty='l2')\n",
        "sgd_reg.fit(X, y.ravel())\n",
        "sgd_reg.predict([[1.5]])"
      ],
      "execution_count": 36,
      "outputs": [
        {
          "output_type": "execute_result",
          "data": {
            "text/plain": [
              "array([4.55634331])"
            ]
          },
          "metadata": {
            "tags": []
          },
          "execution_count": 36
        }
      ]
    },
    {
      "cell_type": "markdown",
      "metadata": {
        "id": "lWYJqJDmCmd2"
      },
      "source": [
        "\n",
        "# Lasso Regression"
      ]
    },
    {
      "cell_type": "code",
      "metadata": {
        "id": "02GNhZ3eCrH5"
      },
      "source": [
        "from sklearn.linear_model import Lasso"
      ],
      "execution_count": 37,
      "outputs": []
    },
    {
      "cell_type": "code",
      "metadata": {
        "colab": {
          "base_uri": "https://localhost:8080/"
        },
        "id": "CuL8MOsLCva4",
        "outputId": "8d15525d-fb67-4d70-8c5f-81ee46d7aad5"
      },
      "source": [
        "lasso_reg = Lasso(alpha=0.1)\n",
        "lasso_reg.fit(X, y)\n",
        "lasso_reg.predict([[1.5]])"
      ],
      "execution_count": 38,
      "outputs": [
        {
          "output_type": "execute_result",
          "data": {
            "text/plain": [
              "array([4.5318529])"
            ]
          },
          "metadata": {
            "tags": []
          },
          "execution_count": 38
        }
      ]
    },
    {
      "cell_type": "code",
      "metadata": {
        "colab": {
          "base_uri": "https://localhost:8080/"
        },
        "id": "xG1gib99C7c2",
        "outputId": "20c1ccd8-7efd-4551-8a3d-ebe0edfbdff3"
      },
      "source": [
        "lasso_reg = SGDRegressor(penalty='l1')\n",
        "lasso_reg.fit(X, y.ravel())\n",
        "lasso_reg.predict([[1.5]])"
      ],
      "execution_count": 39,
      "outputs": [
        {
          "output_type": "execute_result",
          "data": {
            "text/plain": [
              "array([4.55421325])"
            ]
          },
          "metadata": {
            "tags": []
          },
          "execution_count": 39
        }
      ]
    },
    {
      "cell_type": "code",
      "metadata": {
        "colab": {
          "base_uri": "https://localhost:8080/"
        },
        "id": "me6CW1caLDSS",
        "outputId": "56502d8f-51a8-4760-9338-3fd331a70088"
      },
      "source": [
        "t1a, t1b, t2a, t2b = -1, 3, -1.5, 1.5\n",
        "\n",
        "t1s = np.linspace(t1a, t1b, 500)\n",
        "t2s = np.linspace(t2a, t2b, 500)\n",
        "t1, t2 = np.meshgrid(t1s, t2s)\n",
        "print(t1.shape)\n",
        "T = np.c_[t1.ravel(), t2.ravel()]\n",
        "Xr = np.array([[1, 1], [1, -1], [1, 0.5]])\n",
        "yr = 2 * Xr[:, :1] + 0.5 * Xr[:, 1:]\n",
        "\n",
        "J = (1/len(Xr) * np.sum((T.dot(Xr.T) - yr.T)**2, axis=1)).reshape(t1.shape)\n",
        "\n",
        "N1 = np.linalg.norm(T, ord=1, axis=1).reshape(t1.shape)\n",
        "N2 = np.linalg.norm(T, ord=2, axis=1).reshape(t1.shape)\n",
        "\n",
        "t_min_idx = np.unravel_index(np.argmin(J), J.shape)\n",
        "t1_min, t2_min = t1[t_min_idx], t2[t_min_idx]\n",
        "\n",
        "t_init = np.array([[0.25], [-1]])"
      ],
      "execution_count": 40,
      "outputs": [
        {
          "output_type": "stream",
          "text": [
            "(500, 500)\n"
          ],
          "name": "stdout"
        }
      ]
    },
    {
      "cell_type": "code",
      "metadata": {
        "id": "ONu0WxKKLg2w",
        "colab": {
          "base_uri": "https://localhost:8080/",
          "height": 0
        },
        "outputId": "1cfc8d1c-191b-4e57-8cb7-222145363083"
      },
      "source": [
        "def bgd_path(theta, X, y, l1, l2, core = 1, eta = 0.05, n_iterations = 200):\n",
        "    path = [theta]\n",
        "    for iteration in range(n_iterations):\n",
        "        gradients = core * 2/len(X) * X.T.dot(X.dot(theta) - y) + l1 * np.sign(theta) + l2 * theta\n",
        "        theta = theta - eta * gradients\n",
        "        path.append(theta)\n",
        "    return np.array(path)\n",
        "\n",
        "fig, axes = plt.subplots(2, 2, sharex=True, sharey=True, figsize=(10.1, 8))\n",
        "fig.set_facecolor('white')\n",
        "for i, N, l1, l2, title in ((0, N1, 2., 0, \"Lasso\"), (1, N2, 0,  2., \"Ridge\")):\n",
        "    JR = J + l1 * N1 + l2 * 0.5 * N2**2\n",
        "    \n",
        "    tr_min_idx = np.unravel_index(np.argmin(JR), JR.shape)\n",
        "    t1r_min, t2r_min = t1[tr_min_idx], t2[tr_min_idx]\n",
        "\n",
        "    levelsJ=(np.exp(np.linspace(0, 1, 20)) - 1) * (np.max(J) - np.min(J)) + np.min(J)\n",
        "    levelsJR=(np.exp(np.linspace(0, 1, 20)) - 1) * (np.max(JR) - np.min(JR)) + np.min(JR)\n",
        "    levelsN=np.linspace(0, np.max(N), 10)\n",
        "    \n",
        "    path_J = bgd_path(t_init, Xr, yr, l1=0, l2=0)\n",
        "    path_JR = bgd_path(t_init, Xr, yr, l1, l2)\n",
        "    path_N = bgd_path(np.array([[2.0], [0.5]]), Xr, yr, np.sign(l1)/3, np.sign(l2), core=0)\n",
        "\n",
        "    ax = axes[i, 0]\n",
        "    ax.grid(True)\n",
        "    ax.axhline(y=0, color='k')\n",
        "    ax.axvline(x=0, color='k')\n",
        "    ax.contourf(t1, t2, N / 2., levels=levelsN)\n",
        "    ax.plot(path_N[:, 0], path_N[:, 1], \"y--\")\n",
        "    ax.plot(0, 0, \"ys\")\n",
        "    ax.plot(t1_min, t2_min, \"ys\")\n",
        "    ax.set_title(r\"$\\ell_{}$ penalty\".format(i + 1), fontsize=16)\n",
        "    ax.axis([t1a, t1b, t2a, t2b])\n",
        "    if i == 1:\n",
        "        ax.set_xlabel(r\"$\\theta_1$\", fontsize=16)\n",
        "    ax.set_ylabel(r\"$\\theta_2$\", fontsize=16, rotation=0)\n",
        "\n",
        "    ax = axes[i, 1]\n",
        "    ax.grid(True)\n",
        "    ax.axhline(y=0, color='k')\n",
        "    ax.axvline(x=0, color='k')\n",
        "    ax.contourf(t1, t2, JR, levels=levelsJR, alpha=0.9)\n",
        "    ax.plot(path_JR[:, 0], path_JR[:, 1], \"w-o\")\n",
        "    ax.plot(path_N[:, 0], path_N[:, 1], \"y--\")\n",
        "    ax.plot(0, 0, \"ys\")\n",
        "    ax.plot(t1_min, t2_min, \"ys\")\n",
        "    ax.plot(t1r_min, t2r_min, \"rs\")\n",
        "    ax.set_title(title, fontsize=16)\n",
        "    ax.axis([t1a, t1b, t2a, t2b])\n",
        "    if i == 1:\n",
        "        ax.set_xlabel(r\"$\\theta_1$\", fontsize=16)\n",
        "\n",
        "plt.show()"
      ],
      "execution_count": 41,
      "outputs": [
        {
          "output_type": "display_data",
          "data": {
            "image/png": "[encoded data removed]",
            "text/plain": [
              "<Figure size 727.2x576 with 4 Axes>"
            ]
          },
          "metadata": {
            "tags": []
          }
        }
      ]
    },
    {
      "cell_type": "markdown",
      "metadata": {
        "id": "3IFmNrbQDFzB"
      },
      "source": [
        "# Elastic Net"
      ]
    },
    {
      "cell_type": "code",
      "metadata": {
        "id": "FcVeF7qkDJKa"
      },
      "source": [
        "from sklearn.linear_model import ElasticNet"
      ],
      "execution_count": 42,
      "outputs": []
    },
    {
      "cell_type": "code",
      "metadata": {
        "colab": {
          "base_uri": "https://localhost:8080/"
        },
        "id": "kQX6gfpMDNnX",
        "outputId": "73238dc6-58ab-4fee-e4c9-67e31aee6577"
      },
      "source": [
        "elastic_net = ElasticNet(alpha=0.1, l1_ratio=0.5)\n",
        "elastic_net.fit(X, y)\n",
        "elastic_net.predict([[1.5]])"
      ],
      "execution_count": 43,
      "outputs": [
        {
          "output_type": "execute_result",
          "data": {
            "text/plain": [
              "array([4.53760714])"
            ]
          },
          "metadata": {
            "tags": []
          },
          "execution_count": 43
        }
      ]
    },
    {
      "cell_type": "markdown",
      "metadata": {
        "id": "6iSm8QakDSiH"
      },
      "source": [
        "# Early Stopping"
      ]
    },
    {
      "cell_type": "code",
      "metadata": {
        "id": "SbICAa4AERIj"
      },
      "source": [
        "np.random.seed(42)\n",
        "m = 100\n",
        "X = 6 * np.random.rand(m, 1) - 3\n",
        "y = 2 + X + 0.5 * X**2 + np.random.randn(m, 1)\n",
        "\n",
        "X_train, X_val, y_train, y_val = train_test_split(X[:50], y[:50].ravel(), test_size=0.5, random_state=10)"
      ],
      "execution_count": 44,
      "outputs": []
    },
    {
      "cell_type": "markdown",
      "metadata": {
        "id": "0g1Rg0JVGZwZ"
      },
      "source": [
        "## Early Stopping - Example Code:"
      ]
    },
    {
      "cell_type": "code",
      "metadata": {
        "id": "_80u34Q7EKlU"
      },
      "source": [
        "from copy import deepcopy\n",
        "\n",
        "poly_scaler = Pipeline([\n",
        "        (\"poly_features\", PolynomialFeatures(degree=90, include_bias=False)),\n",
        "        (\"std_scaler\", StandardScaler())\n",
        "    ])\n",
        "\n",
        "X_train_poly_scaled = poly_scaler.fit_transform(X_train)\n",
        "X_val_poly_scaled = poly_scaler.transform(X_val)\n",
        "\n",
        "sgd_reg = SGDRegressor(max_iter=1, tol=-np.infty, warm_start=True,\n",
        "                       penalty=None, learning_rate=\"constant\", eta0=0.0005, random_state=42)\n",
        "\n",
        "minimum_val_error = float(\"inf\")\n",
        "best_epoch = None\n",
        "best_model = None\n",
        "for epoch in range(1000):\n",
        "    sgd_reg.fit(X_train_poly_scaled, y_train)  # continues where it left off\n",
        "    y_val_predict = sgd_reg.predict(X_val_poly_scaled)\n",
        "    val_error = mean_squared_error(y_val, y_val_predict)\n",
        "    if val_error < minimum_val_error:\n",
        "        minimum_val_error = val_error\n",
        "        best_epoch = epoch\n",
        "        best_model = deepcopy(sgd_reg)"
      ],
      "execution_count": 45,
      "outputs": []
    },
    {
      "cell_type": "markdown",
      "metadata": {
        "id": "kAZptp-FGiOC"
      },
      "source": [
        "## Early Stopping - Graph:"
      ]
    },
    {
      "cell_type": "code",
      "metadata": {
        "colab": {
          "base_uri": "https://localhost:8080/",
          "height": 0
        },
        "id": "G9SkATRJELCV",
        "outputId": "9ff8abea-d0a3-499c-8253-1a7c4d15ba5a"
      },
      "source": [
        "sgd_reg = SGDRegressor(max_iter=1, tol=-np.infty, warm_start=True,\n",
        "                       penalty=None, learning_rate=\"constant\", eta0=0.0005, random_state=42)\n",
        "\n",
        "n_epochs = 500\n",
        "train_errors, val_errors = [], []\n",
        "for epoch in range(n_epochs):\n",
        "    sgd_reg.fit(X_train_poly_scaled, y_train)\n",
        "    y_train_predict = sgd_reg.predict(X_train_poly_scaled)\n",
        "    y_val_predict = sgd_reg.predict(X_val_poly_scaled)\n",
        "    train_errors.append(mean_squared_error(y_train, y_train_predict))\n",
        "    val_errors.append(mean_squared_error(y_val, y_val_predict))\n",
        "\n",
        "best_epoch = np.argmin(val_errors)\n",
        "best_val_rmse = np.sqrt(val_errors[best_epoch])\n",
        "\n",
        "fig, axs = plt.subplots(figsize=(10, 7))\n",
        "fig.set_facecolor('white')\n",
        "\n",
        "plt.annotate('Best model',\n",
        "             xy=(best_epoch, best_val_rmse),\n",
        "             xytext=(best_epoch, best_val_rmse + 1),\n",
        "             ha=\"center\",\n",
        "             arrowprops=dict(facecolor='black', shrink=0.05),\n",
        "             fontsize=16,\n",
        "            )\n",
        "\n",
        "best_val_rmse -= 0.03  # just to make the graph look better\n",
        "plt.plot([0, n_epochs], [best_val_rmse, best_val_rmse], \"k:\", linewidth=2)\n",
        "plt.plot(np.sqrt(val_errors), \"b-\", linewidth=3, label=\"Validation set\")\n",
        "plt.plot(np.sqrt(train_errors), \"r--\", linewidth=2, label=\"Training set\")\n",
        "plt.legend(loc=\"upper right\", fontsize=14)\n",
        "plt.xlabel(\"Epoch\", fontsize=14)\n",
        "plt.ylabel(\"RMSE\", fontsize=14)\n",
        "plt.show()"
      ],
      "execution_count": 46,
      "outputs": [
        {
          "output_type": "display_data",
          "data": {
            "image/png": "[encoded data removed]",
            "text/plain": [
              "<Figure size 720x504 with 1 Axes>"
            ]
          },
          "metadata": {
            "tags": []
          }
        }
      ]
    },
    {
      "cell_type": "markdown",
      "metadata": {
        "id": "9g63h0U5GrAJ"
      },
      "source": [
        "# Logistic Regression"
      ]
    },
    {
      "cell_type": "code",
      "metadata": {
        "colab": {
          "base_uri": "https://localhost:8080/",
          "height": 0
        },
        "id": "serQxIWxF-5q",
        "outputId": "65bcc9a5-4783-43ce-b704-55e80f41cf88"
      },
      "source": [
        "t = np.linspace(-10, 10, 100)\n",
        "sig = 1 / (1 + np.exp(-t))\n",
        "\n",
        "fig, axs = plt.subplots(figsize=(15, 7))\n",
        "fig.set_facecolor('white')\n",
        "plt.plot([-10, 10], [0, 0], \"k-\")\n",
        "plt.plot([-10, 10], [0.5, 0.5], \"k:\")\n",
        "plt.plot([-10, 10], [1, 1], \"k:\")\n",
        "plt.plot([0, 0], [-1.1, 1.1], \"k-\")\n",
        "plt.plot(t, sig, \"b-\", linewidth=2, label=r\"$\\sigma(t) = \\frac{1}{1 + e^{-t}}$\")\n",
        "plt.xlabel(\"t\")\n",
        "plt.legend(loc=\"upper left\", fontsize=20)\n",
        "plt.axis([-10, 10, -0.1, 1.1])\n",
        "plt.show()"
      ],
      "execution_count": 47,
      "outputs": [
        {
          "output_type": "display_data",
          "data": {
            "image/png": "[encoded data removed]",
            "text/plain": [
              "<Figure size 1080x504 with 1 Axes>"
            ]
          },
          "metadata": {
            "tags": []
          }
        }
      ]
    },
    {
      "cell_type": "code",
      "metadata": {
        "id": "t-rwNk1jL7B0"
      },
      "source": [
        "from sklearn import datasets"
      ],
      "execution_count": 48,
      "outputs": []
    },
    {
      "cell_type": "code",
      "metadata": {
        "colab": {
          "base_uri": "https://localhost:8080/"
        },
        "id": "p8UcxrdGNtsX",
        "outputId": "62fc21bc-845c-4963-91ec-c4e03f07d24b"
      },
      "source": [
        "iris = datasets.load_iris()\n",
        "list(iris.keys())"
      ],
      "execution_count": 49,
      "outputs": [
        {
          "output_type": "execute_result",
          "data": {
            "text/plain": [
              "['data', 'target', 'target_names', 'DESCR', 'feature_names', 'filename']"
            ]
          },
          "metadata": {
            "tags": []
          },
          "execution_count": 49
        }
      ]
    },
    {
      "cell_type": "code",
      "metadata": {
        "id": "2U0xh__BNy9s"
      },
      "source": [
        "X = iris[\"data\"][:, 3:] # petal width\n",
        "y = (iris[\"target\"] == 2).astype(np.int)  # 1 if Iris virginica, else 0"
      ],
      "execution_count": 50,
      "outputs": []
    },
    {
      "cell_type": "code",
      "metadata": {
        "id": "RxoaGUeLN9n4"
      },
      "source": [
        "from sklearn.linear_model import LogisticRegression"
      ],
      "execution_count": 51,
      "outputs": []
    },
    {
      "cell_type": "code",
      "metadata": {
        "colab": {
          "base_uri": "https://localhost:8080/"
        },
        "id": "mQfTpun2OHCv",
        "outputId": "33ba33e4-7070-436a-8dd4-f14a9f3ef203"
      },
      "source": [
        "log_reg = LogisticRegression()\n",
        "log_reg.fit(X, y)"
      ],
      "execution_count": 52,
      "outputs": [
        {
          "output_type": "execute_result",
          "data": {
            "text/plain": [
              "LogisticRegression(C=1.0, class_weight=None, dual=False, fit_intercept=True,\n",
              "                   intercept_scaling=1, l1_ratio=None, max_iter=100,\n",
              "                   multi_class='auto', n_jobs=None, penalty='l2',\n",
              "                   random_state=None, solver='lbfgs', tol=0.0001, verbose=0,\n",
              "                   warm_start=False)"
            ]
          },
          "metadata": {
            "tags": []
          },
          "execution_count": 52
        }
      ]
    },
    {
      "cell_type": "code",
      "metadata": {
        "colab": {
          "base_uri": "https://localhost:8080/",
          "height": 0
        },
        "id": "es46paU8OMIS",
        "outputId": "4bd34a98-77c3-4b3d-ac61-2e591e4e159b"
      },
      "source": [
        "X_new = np.linspace(0, 3, 1000).reshape(-1, 1)\n",
        "y_proba = log_reg.predict_proba(X_new)\n",
        "fig, axs = plt.subplots(figsize=(10, 5))\n",
        "fig.set_facecolor('white')\n",
        "plt.plot(X_new, y_proba[:, 1], \"g-\", label=\"Iris virginica\")\n",
        "plt.plot(X_new, y_proba[:, 0], \"b--\", label=\"Not Iris virginica\")\n",
        "axs.set_xlim(xmin=0)\n",
        "axs.set_ylim(ymin=0);"
      ],
      "execution_count": 53,
      "outputs": [
        {
          "output_type": "display_data",
          "data": {
            "image/png": "[encoded data removed]",
            "text/plain": [
              "<Figure size 720x360 with 1 Axes>"
            ]
          },
          "metadata": {
            "tags": []
          }
        }
      ]
    },
    {
      "cell_type": "code",
      "metadata": {
        "colab": {
          "base_uri": "https://localhost:8080/",
          "height": 0
        },
        "id": "8iiOvBWKOzK3",
        "outputId": "2df74be5-ffa9-47df-bf85-8de61da59604"
      },
      "source": [
        "fig, axs = plt.subplots(figsize=(15, 7))\n",
        "fig.set_facecolor('white')\n",
        "\n",
        "X_new = np.linspace(0, 3, 1000).reshape(-1, 1)\n",
        "y_proba = log_reg.predict_proba(X_new)\n",
        "decision_boundary = X_new[y_proba[:, 1] >= 0.5][0]\n",
        "\n",
        "plt.plot(X[y==0], y[y==0], \"bs\")\n",
        "plt.plot(X[y==1], y[y==1], \"g^\")\n",
        "plt.plot([decision_boundary, decision_boundary], [-1, 2], \"k:\", linewidth=2)\n",
        "plt.plot(X_new, y_proba[:, 1], \"g-\", linewidth=2, label=\"Iris virginica\")\n",
        "plt.plot(X_new, y_proba[:, 0], \"b--\", linewidth=2, label=\"Not Iris virginica\")\n",
        "plt.text(decision_boundary+0.02, 0.15, \"Decision  boundary\", fontsize=14, color=\"k\", ha=\"center\")\n",
        "plt.arrow(decision_boundary, 0.08, -0.3, 0, head_width=0.05, head_length=0.1, fc='b', ec='b')\n",
        "plt.arrow(decision_boundary, 0.92, 0.3, 0, head_width=0.05, head_length=0.1, fc='g', ec='g')\n",
        "plt.xlabel(\"Petal width (cm)\", fontsize=14)\n",
        "plt.ylabel(\"Probability\", fontsize=14)\n",
        "plt.legend(loc=\"center left\", fontsize=14)\n",
        "plt.axis([0, 3, -0.02, 1.02])\n",
        "plt.show()"
      ],
      "execution_count": 54,
      "outputs": [
        {
          "output_type": "stream",
          "text": [
            "/usr/local/lib/python3.6/dist-packages/matplotlib/patches.py:1327: VisibleDeprecationWarning: Creating an ndarray from ragged nested sequences (which is a list-or-tuple of lists-or-tuples-or ndarrays with different lengths or shapes) is deprecated. If you meant to do this, you must specify 'dtype=object' when creating the ndarray\n",
            "  verts = np.dot(coords, M) + (x + dx, y + dy)\n"
          ],
          "name": "stderr"
        },
        {
          "output_type": "display_data",
          "data": {
            "image/png": "[encoded data removed]",
            "text/plain": [
              "<Figure size 1080x504 with 1 Axes>"
            ]
          },
          "metadata": {
            "tags": []
          }
        }
      ]
    },
    {
      "cell_type": "code",
      "metadata": {
        "colab": {
          "base_uri": "https://localhost:8080/"
        },
        "id": "FzxC9emyOzmi",
        "outputId": "612d459e-52c5-4414-c942-176c6c25995d"
      },
      "source": [
        "log_reg.predict([[1.7], [1.5]])"
      ],
      "execution_count": 55,
      "outputs": [
        {
          "output_type": "execute_result",
          "data": {
            "text/plain": [
              "array([1, 0])"
            ]
          },
          "metadata": {
            "tags": []
          },
          "execution_count": 55
        }
      ]
    },
    {
      "cell_type": "markdown",
      "metadata": {
        "id": "cbp2Se7xQdkW"
      },
      "source": [
        "# Softmax Regression"
      ]
    },
    {
      "cell_type": "code",
      "metadata": {
        "colab": {
          "base_uri": "https://localhost:8080/"
        },
        "id": "ocmh1YTCZgLN",
        "outputId": "49ab27e3-b60a-4840-d468-0ed9260574de"
      },
      "source": [
        "X = iris[\"data\"][:, (2, 3)]\n",
        "y = iris[\"target\"]\n",
        "\n",
        "softmax_reg = LogisticRegression(multi_class=\"multinomial\", solver=\"lbfgs\", C=10)\n",
        "softmax_reg.fit(X, y)"
      ],
      "execution_count": 56,
      "outputs": [
        {
          "output_type": "execute_result",
          "data": {
            "text/plain": [
              "LogisticRegression(C=10, class_weight=None, dual=False, fit_intercept=True,\n",
              "                   intercept_scaling=1, l1_ratio=None, max_iter=100,\n",
              "                   multi_class='multinomial', n_jobs=None, penalty='l2',\n",
              "                   random_state=None, solver='lbfgs', tol=0.0001, verbose=0,\n",
              "                   warm_start=False)"
            ]
          },
          "metadata": {
            "tags": []
          },
          "execution_count": 56
        }
      ]
    },
    {
      "cell_type": "code",
      "metadata": {
        "colab": {
          "base_uri": "https://localhost:8080/"
        },
        "id": "Hfx7fOhHqwoE",
        "outputId": "30eb40c2-389b-4c51-d9b8-4b5a25dcbb13"
      },
      "source": [
        "softmax_reg.predict([[5, 2]])"
      ],
      "execution_count": 57,
      "outputs": [
        {
          "output_type": "execute_result",
          "data": {
            "text/plain": [
              "array([2])"
            ]
          },
          "metadata": {
            "tags": []
          },
          "execution_count": 57
        }
      ]
    },
    {
      "cell_type": "code",
      "metadata": {
        "colab": {
          "base_uri": "https://localhost:8080/"
        },
        "id": "Qoal7pskq1vL",
        "outputId": "e66d04a2-18d8-4996-b59a-5f9ebb35a94b"
      },
      "source": [
        "softmax_reg.predict_proba([[5, 2]])"
      ],
      "execution_count": 58,
      "outputs": [
        {
          "output_type": "execute_result",
          "data": {
            "text/plain": [
              "array([[6.38014896e-07, 5.74929995e-02, 9.42506362e-01]])"
            ]
          },
          "metadata": {
            "tags": []
          },
          "execution_count": 58
        }
      ]
    },
    {
      "cell_type": "markdown",
      "metadata": {
        "id": "QQ-nFJJvq_S9"
      },
      "source": [
        "## Softmax Regression (Without scikit-learn):"
      ]
    },
    {
      "cell_type": "code",
      "metadata": {
        "id": "n643gy5Et38E"
      },
      "source": [
        "import pandas as pd"
      ],
      "execution_count": 59,
      "outputs": []
    },
    {
      "cell_type": "code",
      "metadata": {
        "id": "6pgb2vwas3TK"
      },
      "source": [
        "iris_data = iris[\"data\"]\n",
        "iris_target = iris[\"target\"]"
      ],
      "execution_count": 60,
      "outputs": []
    },
    {
      "cell_type": "code",
      "metadata": {
        "colab": {
          "base_uri": "https://localhost:8080/"
        },
        "id": "Bri0hX0htLCP",
        "outputId": "9931698a-7224-441a-9d97-d2e701f1d530"
      },
      "source": [
        "iris_data[:5] "
      ],
      "execution_count": 61,
      "outputs": [
        {
          "output_type": "execute_result",
          "data": {
            "text/plain": [
              "array([[5.1, 3.5, 1.4, 0.2],\n",
              "       [4.9, 3. , 1.4, 0.2],\n",
              "       [4.7, 3.2, 1.3, 0.2],\n",
              "       [4.6, 3.1, 1.5, 0.2],\n",
              "       [5. , 3.6, 1.4, 0.2]])"
            ]
          },
          "metadata": {
            "tags": []
          },
          "execution_count": 61
        }
      ]
    },
    {
      "cell_type": "code",
      "metadata": {
        "colab": {
          "base_uri": "https://localhost:8080/"
        },
        "id": "QJJ99Dshtczp",
        "outputId": "d82e06f0-b207-49d8-88d7-0af7d792fee6"
      },
      "source": [
        "iris_target[:5]"
      ],
      "execution_count": 62,
      "outputs": [
        {
          "output_type": "execute_result",
          "data": {
            "text/plain": [
              "array([0, 0, 0, 0, 0])"
            ]
          },
          "metadata": {
            "tags": []
          },
          "execution_count": 62
        }
      ]
    },
    {
      "cell_type": "code",
      "metadata": {
        "colab": {
          "base_uri": "https://localhost:8080/"
        },
        "id": "3fJbFBn5uKtS",
        "outputId": "d608b4e2-49a9-468c-a0f4-258076d307d2"
      },
      "source": [
        "np.unique(iris_target)"
      ],
      "execution_count": 63,
      "outputs": [
        {
          "output_type": "execute_result",
          "data": {
            "text/plain": [
              "array([0, 1, 2])"
            ]
          },
          "metadata": {
            "tags": []
          },
          "execution_count": 63
        }
      ]
    },
    {
      "cell_type": "code",
      "metadata": {
        "colab": {
          "base_uri": "https://localhost:8080/"
        },
        "id": "N_XvHRRUuP84",
        "outputId": "e57701d1-8a93-491e-cd47-babd0221242a"
      },
      "source": [
        "iris[\"target_names\"]"
      ],
      "execution_count": 64,
      "outputs": [
        {
          "output_type": "execute_result",
          "data": {
            "text/plain": [
              "array(['setosa', 'versicolor', 'virginica'], dtype='<U10')"
            ]
          },
          "metadata": {
            "tags": []
          },
          "execution_count": 64
        }
      ]
    },
    {
      "cell_type": "markdown",
      "metadata": {
        "id": "Xznp2UQJ7FqH"
      },
      "source": [
        "### Adding bias to the data:"
      ]
    },
    {
      "cell_type": "markdown",
      "metadata": {
        "id": "-UERLUqB7K_L"
      },
      "source": [
        "Every data will have a certain amount of bias i.e $x^{i}_0$ = 1, where $x^{i}_0$ = $0^{th}$ feature of $i^{th}$ instance of x"
      ]
    },
    {
      "cell_type": "code",
      "metadata": {
        "colab": {
          "base_uri": "https://localhost:8080/"
        },
        "id": "Z2PkWG9950kw",
        "outputId": "e66f7d63-7887-459e-cfb6-0983ee8a2187"
      },
      "source": [
        "iris_data_with_bias = np.c_[np.ones((iris_data.shape[0], 1)), iris_data]\n",
        "iris_data_with_bias[:5]"
      ],
      "execution_count": 65,
      "outputs": [
        {
          "output_type": "execute_result",
          "data": {
            "text/plain": [
              "array([[1. , 5.1, 3.5, 1.4, 0.2],\n",
              "       [1. , 4.9, 3. , 1.4, 0.2],\n",
              "       [1. , 4.7, 3.2, 1.3, 0.2],\n",
              "       [1. , 4.6, 3.1, 1.5, 0.2],\n",
              "       [1. , 5. , 3.6, 1.4, 0.2]])"
            ]
          },
          "metadata": {
            "tags": []
          },
          "execution_count": 65
        }
      ]
    },
    {
      "cell_type": "markdown",
      "metadata": {
        "id": "ZVOaVGk262ZA"
      },
      "source": [
        "### Splitting the dataset into train and test without using Scikit-learn (train_test_split)"
      ]
    },
    {
      "cell_type": "markdown",
      "metadata": {
        "id": "EVdSYZ_578-L"
      },
      "source": [
        "We will follow the general practice of splitting the dataset into 80% train and 20% test."
      ]
    },
    {
      "cell_type": "code",
      "metadata": {
        "id": "q2gghq6S79wC"
      },
      "source": [
        "def train_test_split(X, y, test_ratio=0.2):\n",
        "    total_size = len(X)\n",
        "    random_indices = np.random.permutation(total_size)\n",
        "\n",
        "    train_size = int(total_size*(1 - test_ratio))\n",
        "\n",
        "    train = X[random_indices[:train_size]]\n",
        "    train_result = y[random_indices[:train_size]]\n",
        "    test = X[random_indices[train_size:]]\n",
        "    test_result = y[random_indices[train_size:]]\n",
        "\n",
        "    return train, train_result, test, test_result"
      ],
      "execution_count": 66,
      "outputs": []
    },
    {
      "cell_type": "code",
      "metadata": {
        "id": "F6olOjWPIH1u"
      },
      "source": [
        "iris_train, iris_train_result, iris_test, iris_test_result = train_test_split(iris_data_with_bias, \n",
        "                                                                              iris_target, \n",
        "                                                                              test_ratio=0.2)"
      ],
      "execution_count": 67,
      "outputs": []
    },
    {
      "cell_type": "code",
      "metadata": {
        "colab": {
          "base_uri": "https://localhost:8080/"
        },
        "id": "371hxWCy7-EA",
        "outputId": "9394d902-6ae5-49d7-f5e8-546c6ea03267"
      },
      "source": [
        "print('training:', iris_train.shape,'training_result:', iris_train_result.shape )\n",
        "print('train set:\\n',iris_train[:5])\n",
        "print('train result set:\\n', iris_train_result[:5])"
      ],
      "execution_count": 68,
      "outputs": [
        {
          "output_type": "stream",
          "text": [
            "training: (120, 5) training_result: (120,)\n",
            "train set:\n",
            " [[1.  5.7 3.  4.2 1.2]\n",
            " [1.  5.2 3.5 1.5 0.2]\n",
            " [1.  5.  3.3 1.4 0.2]\n",
            " [1.  6.8 2.8 4.8 1.4]\n",
            " [1.  5.7 2.8 4.5 1.3]]\n",
            "train result set:\n",
            " [1 0 0 1 1]\n"
          ],
          "name": "stdout"
        }
      ]
    },
    {
      "cell_type": "code",
      "metadata": {
        "colab": {
          "base_uri": "https://localhost:8080/"
        },
        "id": "LXtibFug7-QN",
        "outputId": "900d671e-c383-4edf-cedc-2d06763c1333"
      },
      "source": [
        "print('test:', iris_test.shape,'test_result:', iris_test_result.shape )\n",
        "print('test set:\\n',iris_test[:5])\n",
        "print('test result set:\\n', iris_test_result[:5])"
      ],
      "execution_count": 69,
      "outputs": [
        {
          "output_type": "stream",
          "text": [
            "test: (30, 5) test_result: (30,)\n",
            "test set:\n",
            " [[1.  5.8 2.7 3.9 1.2]\n",
            " [1.  6.3 2.3 4.4 1.3]\n",
            " [1.  5.7 2.6 3.5 1. ]\n",
            " [1.  5.9 3.  4.2 1.5]\n",
            " [1.  7.7 3.  6.1 2.3]]\n",
            "test result set:\n",
            " [1 1 1 1 2]\n"
          ],
          "name": "stdout"
        }
      ]
    },
    {
      "cell_type": "markdown",
      "metadata": {
        "id": "iiIY64rhBnQ1"
      },
      "source": [
        "### One-hot Encoding the train target set:"
      ]
    },
    {
      "cell_type": "code",
      "metadata": {
        "id": "KxwUthMKIK4s"
      },
      "source": [
        "def one_hot_encoder(target):\n",
        "    encoded_target = np.zeros(shape=(target.size, np.unique(target).size))\n",
        "    encoded_target[np.arange(target.size), target] = 1\n",
        "    return encoded_target"
      ],
      "execution_count": 70,
      "outputs": []
    },
    {
      "cell_type": "code",
      "metadata": {
        "colab": {
          "base_uri": "https://localhost:8080/"
        },
        "id": "5EY6TukoI9jG",
        "outputId": "e5a7efea-7a8c-4010-ca84-0381cab12fdc"
      },
      "source": [
        "encoded_target = one_hot_encoder(iris_train_result)\n",
        "np.unique(encoded_target, axis=0)"
      ],
      "execution_count": 71,
      "outputs": [
        {
          "output_type": "execute_result",
          "data": {
            "text/plain": [
              "array([[0., 0., 1.],\n",
              "       [0., 1., 0.],\n",
              "       [1., 0., 0.]])"
            ]
          },
          "metadata": {
            "tags": []
          },
          "execution_count": 71
        }
      ]
    },
    {
      "cell_type": "markdown",
      "metadata": {
        "id": "neXvztT5B0SQ"
      },
      "source": [
        "### Fucntions for the Softmax scores and probabilities of training set:"
      ]
    },
    {
      "cell_type": "code",
      "metadata": {
        "id": "hX0u3I3auWeT"
      },
      "source": [
        "def softmax_scores_func(data, theta):\n",
        "    return data.dot(theta)"
      ],
      "execution_count": 72,
      "outputs": []
    },
    {
      "cell_type": "code",
      "metadata": {
        "id": "XqR0PZZTXzBz"
      },
      "source": [
        "def softmax_probability_func(softmax_scores):\n",
        "    return np.exp(softmax_scores)/np.sum(np.exp(softmax_scores), axis=1, keepdims=True)"
      ],
      "execution_count": 73,
      "outputs": []
    },
    {
      "cell_type": "markdown",
      "metadata": {
        "id": "0U8I68U0KEB_"
      },
      "source": [
        "### Finding Optimum $\\vec{\\theta}^{\\,}_k$, where k $\\epsilon$ (0, K), for K = no.of classes:"
      ]
    },
    {
      "cell_type": "code",
      "metadata": {
        "id": "ocGyNOJYHvLb"
      },
      "source": [
        "def optimum_theta(X, y, n_iterations, alpha, validation_ratio, n_validations, epsilon=1e-7):\n",
        "    best_accuracy = 0\n",
        "    best_theta = np.zeros(shape=(X.shape[1], np.unique(y).size))\n",
        "    best_validation = -1\n",
        "\n",
        "    \n",
        "    for validation in range(n_validations):\n",
        "        X_train, y_train, X_valid, y_valid = train_test_split(X, y, test_ratio=validation_ratio)\n",
        "        n_classes = np.unique(y_train).size\n",
        "        softmax_theta = np.random.randn(X_train.shape[1], n_classes)\n",
        "        m = y_train.size\n",
        "        y_one_hot = one_hot_encoder(y_train)\n",
        "        y_valid_one_hot = one_hot_encoder(y_valid)\n",
        "        print('Validation : ', validation)\n",
        "\n",
        "        for iteration in range(n_iterations):\n",
        "            softmax_scores = softmax_scores_func(X_train, softmax_theta)\n",
        "            softmax_proba = softmax_probability_func(softmax_scores)\n",
        "            entropy_loss = -np.mean(np.sum(y_one_hot * np.log(softmax_proba + epsilon), axis=1))\n",
        "            loss = -np.mean(np.sum(y_one_hot * np.log(softmax_proba + epsilon), axis=1))\n",
        "            if iteration % 500 == 0: \n",
        "                print(iteration,' ', f'{loss:.5f}')\n",
        "            \n",
        "            gradient = (1/m)*(X_train.T.dot(softmax_proba - y_one_hot))\n",
        "            softmax_theta = softmax_theta - alpha * gradient \n",
        "\n",
        "        y_predict = np.argmax(X_valid.dot(softmax_theta), axis=1)\n",
        "        accuracy = np.sum(y_predict == y_valid)/len(y_valid)\n",
        "        print(f'ACCURACY: {accuracy:.5f}')\n",
        "\n",
        "        if(accuracy > best_accuracy):\n",
        "            best_accuracy = accuracy\n",
        "            best_theta = softmax_theta\n",
        "            best_validation = validation\n",
        "\n",
        "    return best_theta, best_accuracy, best_validation"
      ],
      "execution_count": 108,
      "outputs": []
    },
    {
      "cell_type": "code",
      "metadata": {
        "colab": {
          "base_uri": "https://localhost:8080/"
        },
        "id": "Ds7BA8wRR7Pk",
        "outputId": "691a47ff-e231-494f-f559-492c0c657211"
      },
      "source": [
        "softmax_theta, validation_accuracy, validation = optimum_theta(iris_train, iris_train_result, n_iterations=5001, alpha=0.1, validation_ratio=0.4, n_validations=5)"
      ],
      "execution_count": 109,
      "outputs": [
        {
          "output_type": "stream",
          "text": [
            "Validation :  0\n",
            "0   2.45602\n",
            "500   0.17360\n",
            "1000   0.13233\n",
            "1500   0.11515\n",
            "2000   0.10526\n",
            "2500   0.09868\n",
            "3000   0.09391\n",
            "3500   0.09027\n",
            "4000   0.08739\n",
            "4500   0.08504\n",
            "5000   0.08309\n",
            "ACCURACY: 0.97917\n",
            "Validation :  1\n",
            "0   5.46560\n",
            "500   0.19705\n",
            "1000   0.15194\n",
            "1500   0.13135\n",
            "2000   0.11909\n",
            "2500   0.11080\n",
            "3000   0.10475\n",
            "3500   0.10010\n",
            "4000   0.09638\n",
            "4500   0.09333\n",
            "5000   0.09076\n",
            "ACCURACY: 0.97917\n",
            "Validation :  2\n",
            "0   5.54372\n",
            "500   0.17811\n",
            "1000   0.12985\n",
            "1500   0.10825\n",
            "2000   0.09547\n",
            "2500   0.08682\n",
            "3000   0.08049\n",
            "3500   0.07559\n",
            "4000   0.07166\n",
            "4500   0.06842\n",
            "5000   0.06568\n",
            "ACCURACY: 0.97917\n",
            "Validation :  3\n",
            "0   4.30646\n",
            "500   0.16638\n",
            "1000   0.11901\n",
            "1500   0.09772\n",
            "2000   0.08494\n",
            "2500   0.07617\n",
            "3000   0.06966\n",
            "3500   0.06457\n",
            "4000   0.06044\n",
            "4500   0.05699\n",
            "5000   0.05406\n",
            "ACCURACY: 0.95833\n",
            "Validation :  4\n",
            "0   4.50225\n",
            "500   0.21907\n",
            "1000   0.16715\n",
            "1500   0.14572\n",
            "2000   0.13378\n",
            "2500   0.12604\n",
            "3000   0.12054\n",
            "3500   0.11639\n",
            "4000   0.11312\n",
            "4500   0.11045\n",
            "5000   0.10821\n",
            "ACCURACY: 1.00000\n"
          ],
          "name": "stdout"
        }
      ]
    },
    {
      "cell_type": "code",
      "metadata": {
        "colab": {
          "base_uri": "https://localhost:8080/"
        },
        "id": "fIx2y-R7Vw1F",
        "outputId": "d78c335d-d0da-4640-c924-c483a940bf6c"
      },
      "source": [
        "print(softmax_theta)\n",
        "print(validation_accuracy)\n",
        "print(validation)"
      ],
      "execution_count": 110,
      "outputs": [
        {
          "output_type": "stream",
          "text": [
            "[[ 0.21542862  1.1790831  -2.48606549]\n",
            " [ 0.38557532  0.36514263 -2.56661772]\n",
            " [ 4.15093531  0.67872148 -3.82545623]\n",
            " [-3.89083518 -0.43589428  4.52797759]\n",
            " [-2.0315269  -1.34615843  4.92278293]]\n",
            "1.0\n",
            "4\n"
          ],
          "name": "stdout"
        }
      ]
    },
    {
      "cell_type": "code",
      "metadata": {
        "id": "Wqo9XvSxd8e1"
      },
      "source": [
        "def predict(X, theta):\n",
        "    predictions = X.dot(theta)\n",
        "    return np.argmax(predictions, axis=1)"
      ],
      "execution_count": 111,
      "outputs": []
    },
    {
      "cell_type": "code",
      "metadata": {
        "id": "As-zXBviezZ8",
        "colab": {
          "base_uri": "https://localhost:8080/"
        },
        "outputId": "4a4dc9ec-608c-48fa-e4bf-edf134eb9921"
      },
      "source": [
        "final_predictions = predict(iris_test, softmax_theta)\n",
        "final_predictions[:5]"
      ],
      "execution_count": 112,
      "outputs": [
        {
          "output_type": "execute_result",
          "data": {
            "text/plain": [
              "array([1, 1, 1, 1, 2])"
            ]
          },
          "metadata": {
            "tags": []
          },
          "execution_count": 112
        }
      ]
    },
    {
      "cell_type": "code",
      "metadata": {
        "colab": {
          "base_uri": "https://localhost:8080/"
        },
        "id": "d7DuBy6TWWca",
        "outputId": "5c2d9b7b-32b1-4116-eeec-500b9649694b"
      },
      "source": [
        "final_accuracy = np.sum(final_predictions == iris_test_result)/len(iris_test_result)\n",
        "final_accuracy"
      ],
      "execution_count": 113,
      "outputs": [
        {
          "output_type": "execute_result",
          "data": {
            "text/plain": [
              "0.9666666666666667"
            ]
          },
          "metadata": {
            "tags": []
          },
          "execution_count": 113
        }
      ]
    },
    {
      "cell_type": "markdown",
      "metadata": {
        "id": "Ul1wJ95yZZvr"
      },
      "source": [
        "### Adding Regularization to the $Optimum$ $Theta$ $Func.$"
      ]
    },
    {
      "cell_type": "markdown",
      "metadata": {
        "id": "oiz2De62acU4"
      },
      "source": [
        "We will add $l_2$ loss to the model, hopefully it might help us achieve better result!"
      ]
    },
    {
      "cell_type": "code",
      "metadata": {
        "id": "wzuA2caXc-Rs"
      },
      "source": [
        "def optimum_theta(X, y, n_iterations, alpha, validation_ratio, n_validations, loss=True, reg_para=0.1, epsilon=1e-7):\n",
        "    best_accuracy = 0\n",
        "    best_theta = np.zeros(shape=(X.shape[1], np.unique(y).size))\n",
        "    best_validation = -1\n",
        "    \n",
        "    # Handles all the loss parameters\n",
        "    loss_flag = int(loss)\n",
        "    \n",
        "    for validation in range(n_validations):\n",
        "        X_train, y_train, X_valid, y_valid = train_test_split(X, y, test_ratio=validation_ratio)\n",
        "        n_classes = np.unique(y_train).size\n",
        "        softmax_theta = np.random.randn(X_train.shape[1], n_classes)\n",
        "        m = y_train.size\n",
        "        y_one_hot = one_hot_encoder(y_train)\n",
        "        y_valid_one_hot = one_hot_encoder(y_valid)\n",
        "        print('Validation : ', validation)\n",
        "\n",
        "        for iteration in range(n_iterations):\n",
        "            softmax_scores = softmax_scores_func(X_train, softmax_theta)\n",
        "            softmax_proba = softmax_probability_func(softmax_scores)\n",
        "\n",
        "            # Since, the total loss is a summation of two terms, we can separate them\n",
        "            entropy_loss = -np.mean(np.sum(y_one_hot * np.log(softmax_proba + epsilon), axis=1))\n",
        "            l2_loss = (loss_flag)*((1/2) * np.sum(np.square(softmax_theta[1:])))\n",
        "            total_loss = entropy_loss + reg_para * l2_loss\n",
        "            if iteration % 500 == 0: \n",
        "                print(iteration,' ', f'{total_loss:.5f}')\n",
        "\n",
        "            # Since, the total gradient is a summation of two terms, we can separate them\n",
        "            entropy_gradient = (1/m)*(X_train.T.dot(softmax_proba - y_one_hot))\n",
        "            l2_gradient = (loss_flag) * (np.r_[np.zeros([1, n_classes]), reg_para * softmax_theta[1:]]) \n",
        "            softmax_theta = softmax_theta - alpha * (entropy_gradient + l2_gradient)\n",
        "\n",
        "        y_predict = np.argmax(X_valid.dot(softmax_theta), axis=1)\n",
        "        accuracy = np.sum(y_predict == y_valid)/len(y_valid)\n",
        "        print(f'ACCURACY: {accuracy:.5f}')\n",
        "\n",
        "        if(accuracy > best_accuracy):\n",
        "            best_accuracy = accuracy\n",
        "            best_theta = softmax_theta\n",
        "            best_validation = validation\n",
        "\n",
        "    return best_theta, best_accuracy, best_validation"
      ],
      "execution_count": 114,
      "outputs": []
    },
    {
      "cell_type": "code",
      "metadata": {
        "id": "MLDwjltgeuZ0",
        "outputId": "c5dd9984-3501-4749-a8a1-cfccb46ea813",
        "colab": {
          "base_uri": "https://localhost:8080/"
        }
      },
      "source": [
        "softmax_theta, validation_accuracy, validation = optimum_theta(iris_train, iris_train_result, n_iterations=5001, alpha=0.1, validation_ratio=0.1, n_validations=5, loss=True)"
      ],
      "execution_count": 115,
      "outputs": [
        {
          "output_type": "stream",
          "text": [
            "Validation :  0\n",
            "0   5.12748\n",
            "500   0.64824\n",
            "1000   0.61875\n",
            "1500   0.59463\n",
            "2000   0.57503\n",
            "2500   0.55921\n",
            "3000   0.54649\n",
            "3500   0.53628\n",
            "4000   0.52808\n",
            "4500   0.52149\n",
            "5000   0.51618\n",
            "ACCURACY: 0.91667\n",
            "Validation :  1\n",
            "0   7.13124\n",
            "500   0.67091\n",
            "1000   0.64161\n",
            "1500   0.61802\n",
            "2000   0.59881\n",
            "2500   0.58305\n",
            "3000   0.57009\n",
            "3500   0.55942\n",
            "4000   0.55064\n",
            "4500   0.54340\n",
            "5000   0.53745\n",
            "ACCURACY: 0.75000\n",
            "Validation :  2\n",
            "0   9.97351\n",
            "500   0.70995\n",
            "1000   0.66989\n",
            "1500   0.63673\n",
            "2000   0.60968\n",
            "2500   0.58782\n",
            "3000   0.57028\n",
            "3500   0.55626\n",
            "4000   0.54508\n",
            "4500   0.53616\n",
            "5000   0.52903\n",
            "ACCURACY: 0.91667\n",
            "Validation :  3\n",
            "0   2.95704\n",
            "500   0.71269\n",
            "1000   0.67336\n",
            "1500   0.63988\n",
            "2000   0.61181\n",
            "2500   0.58860\n",
            "3000   0.56961\n",
            "3500   0.55421\n",
            "4000   0.54176\n",
            "4500   0.53174\n",
            "5000   0.52368\n",
            "ACCURACY: 0.83333\n",
            "Validation :  4\n",
            "0   9.86634\n",
            "500   0.71183\n",
            "1000   0.66938\n",
            "1500   0.63608\n",
            "2000   0.60949\n",
            "2500   0.58801\n",
            "3000   0.57058\n",
            "3500   0.55642\n",
            "4000   0.54491\n",
            "4500   0.53558\n",
            "5000   0.52802\n",
            "ACCURACY: 0.75000\n"
          ],
          "name": "stdout"
        }
      ]
    },
    {
      "cell_type": "code",
      "metadata": {
        "id": "Mh1ZncjnqUHa",
        "outputId": "98c35901-5821-4d94-93ad-a65329abf031",
        "colab": {
          "base_uri": "https://localhost:8080/"
        }
      },
      "source": [
        "print(softmax_theta)\n",
        "print(validation_accuracy)\n",
        "print(validation)"
      ],
      "execution_count": 116,
      "outputs": [
        {
          "output_type": "stream",
          "text": [
            "[[ 3.67747762  1.39171493 -4.61575526]\n",
            " [-0.14206347  0.04879577  0.0932677 ]\n",
            " [ 0.34912997 -0.28149    -0.06763998]\n",
            " [-0.9715444   0.12224385  0.84930055]\n",
            " [-0.40693708 -0.13384448  0.54078156]]\n",
            "0.9166666666666666\n",
            "0\n"
          ],
          "name": "stdout"
        }
      ]
    },
    {
      "cell_type": "code",
      "metadata": {
        "id": "XXv88VVne2jn",
        "outputId": "8b4ed9d2-f211-428f-9979-6dbfb2ae4fe7",
        "colab": {
          "base_uri": "https://localhost:8080/"
        }
      },
      "source": [
        "regularized_predictions = predict(iris_test, softmax_theta)\n",
        "regularized_predictions[:5]"
      ],
      "execution_count": 117,
      "outputs": [
        {
          "output_type": "execute_result",
          "data": {
            "text/plain": [
              "array([1, 1, 1, 1, 2])"
            ]
          },
          "metadata": {
            "tags": []
          },
          "execution_count": 117
        }
      ]
    },
    {
      "cell_type": "code",
      "metadata": {
        "id": "2Wn85RfFgnOA",
        "outputId": "ce831ebd-6f1e-4da1-deb2-6ea4f1ce7a6a",
        "colab": {
          "base_uri": "https://localhost:8080/"
        }
      },
      "source": [
        "regularized_accuracy = np.mean(regularized_predictions == iris_test_result)\n",
        "regularized_accuracy"
      ],
      "execution_count": 118,
      "outputs": [
        {
          "output_type": "execute_result",
          "data": {
            "text/plain": [
              "0.9666666666666667"
            ]
          },
          "metadata": {
            "tags": []
          },
          "execution_count": 118
        }
      ]
    },
    {
      "cell_type": "markdown",
      "metadata": {
        "id": "PyfJtPRXg4nY"
      },
      "source": [
        "The accuracy went down instead of going up, but we know the reason why.<br><br>\n",
        "If you look at the loss values of each validation you will see that after a some iterations the loss values start to increase. This is because the model starts to overfit the data. And, hence as result our final accuracy goes down.<br><br>\n",
        "*To solve this we will use ***EARLY-STOPPING*** Method*"
      ]
    },
    {
      "cell_type": "markdown",
      "metadata": {
        "id": "1-5pZ1b_jMXt"
      },
      "source": [
        "### Adding Early-Stopping Method to $Regularized$ $Optimum$ $Theta$ $Func$."
      ]
    },
    {
      "cell_type": "code",
      "metadata": {
        "id": "NelsVqR-jcrR"
      },
      "source": [
        "def optimum_theta(X, y, n_iterations, alpha, validation_ratio, n_validations, loss=True, reg_para=0.1, epsilon=1e-7):\n",
        "    best_accuracy = 0\n",
        "    best_theta = np.zeros(shape=(X.shape[1], np.unique(y).size))\n",
        "    best_validation = -1\n",
        "    \n",
        "    # Handles all the loss parameters\n",
        "    loss_flag = int(loss)\n",
        "    \n",
        "    for validation in range(n_validations):\n",
        "        best_loss = np.infty\n",
        "        X_train, y_train, X_valid, y_valid = train_test_split(X, y)\n",
        "        n_classes = np.unique(y_train).size\n",
        "        softmax_theta = np.random.randn(X_train.shape[1], n_classes)\n",
        "        m = y_train.size\n",
        "        y_one_hot = one_hot_encoder(y_train)\n",
        "        y_valid_one_hot = one_hot_encoder(y_valid)\n",
        "        print('Validation : ', validation)\n",
        "\n",
        "        for iteration in range(n_iterations):\n",
        "            softmax_scores = softmax_scores_func(X_train, softmax_theta)\n",
        "            softmax_proba = softmax_probability_func(softmax_scores)\n",
        "\n",
        "            # Since, the total loss is a summation of two terms, we can separate them\n",
        "            entropy_loss = -np.mean(np.sum(y_one_hot * np.log(softmax_proba + epsilon), axis=1))\n",
        "            l2_loss = (loss_flag)*((1/2) * np.sum(np.square(softmax_theta[1:])))\n",
        "            total_loss = entropy_loss + reg_para * l2_loss\n",
        "\n",
        "            # Since, the total gradient is a summation of two terms, we can separate them\n",
        "            entropy_gradient = (1/m)*(X_train.T.dot(softmax_proba - y_one_hot))\n",
        "            l2_gradient = (loss_flag) * (np.r_[np.zeros([1, n_classes]), reg_para * softmax_theta[1:]]) \n",
        "            softmax_theta = softmax_theta - alpha * (entropy_gradient + l2_gradient)\n",
        "\n",
        "            # Early-Stop condition\n",
        "            softmax_scores = softmax_scores_func(X_valid, softmax_theta)\n",
        "            softmax_proba = softmax_probability_func(softmax_scores)\n",
        "            entropy_loss = -(np.mean(np.sum(y_valid_one_hot * np.log(softmax_proba + epsilon), axis=1)))\n",
        "            l2_loss = (loss_flag)*((1/2)*np.sum(np.square(softmax_theta[1:])))\n",
        "            total_loss = entropy_loss + reg_para * l2_loss\n",
        "            if iteration % 500 == 0: \n",
        "                print(f'{iteration} -> {total_loss:.5f}')\n",
        "            if total_loss < best_loss:\n",
        "                best_loss = total_loss\n",
        "            else:\n",
        "                print(f'{iteration - 1} -> {best_loss:.5f} Best Loss!') \n",
        "                print(f'{iteration} -> {total_loss:.5f} Early Stopping!')\n",
        "                break\n",
        "\n",
        "        y_predict = np.argmax(X_valid.dot(softmax_theta), axis=1)\n",
        "        accuracy = np.sum(y_predict == y_valid)/len(y_valid)\n",
        "        print(f'ACCURACY: {accuracy:.5f}\\n')\n",
        "\n",
        "        if(accuracy > best_accuracy):\n",
        "            best_accuracy = accuracy\n",
        "            best_theta = softmax_theta\n",
        "            best_validation = validation\n",
        "\n",
        "    return best_theta, best_accuracy, best_validation"
      ],
      "execution_count": 159,
      "outputs": []
    },
    {
      "cell_type": "code",
      "metadata": {
        "id": "vnI-8GlTnCiL",
        "outputId": "b1fc3682-9dc8-4c5c-cdaa-2901a9367c7d",
        "colab": {
          "base_uri": "https://localhost:8080/"
        }
      },
      "source": [
        "softmax_theta, validation_accuracy, validation = optimum_theta(iris_train, iris_train_result, n_iterations=5001, alpha=0.07, validation_ratio=0.2, n_validations=5, loss=False, reg_para=0.1)"
      ],
      "execution_count": 165,
      "outputs": [
        {
          "output_type": "stream",
          "text": [
            "Validation :  0\n",
            "0 -> 0.65317\n",
            "3 -> 0.54852 Best Loss!\n",
            "4 -> 0.54930 Early Stopping!\n",
            "ACCURACY: 0.62500\n",
            "\n",
            "Validation :  1\n",
            "0 -> 3.15257\n",
            "500 -> 0.16205\n",
            "1000 -> 0.10878\n",
            "1500 -> 0.08600\n",
            "2000 -> 0.07296\n",
            "2500 -> 0.06438\n",
            "3000 -> 0.05825\n",
            "3500 -> 0.05362\n",
            "4000 -> 0.05000\n",
            "4500 -> 0.04707\n",
            "5000 -> 0.04466\n",
            "ACCURACY: 1.00000\n",
            "\n",
            "Validation :  2\n",
            "0 -> 4.98022\n",
            "500 -> 0.23227\n",
            "1000 -> 0.17690\n",
            "1500 -> 0.15694\n",
            "2000 -> 0.14729\n",
            "2500 -> 0.14199\n",
            "3000 -> 0.13892\n",
            "3500 -> 0.13712\n",
            "4000 -> 0.13611\n",
            "4500 -> 0.13563\n",
            "4971 -> 0.13550 Best Loss!\n",
            "4972 -> 0.13550 Early Stopping!\n",
            "ACCURACY: 0.95833\n",
            "\n",
            "Validation :  3\n",
            "0 -> 4.28754\n",
            "500 -> 0.22955\n",
            "1000 -> 0.17781\n",
            "1500 -> 0.15466\n",
            "2000 -> 0.14058\n",
            "2500 -> 0.13072\n",
            "3000 -> 0.12324\n",
            "3500 -> 0.11727\n",
            "4000 -> 0.11233\n",
            "4500 -> 0.10813\n",
            "5000 -> 0.10449\n",
            "ACCURACY: 1.00000\n",
            "\n",
            "Validation :  4\n",
            "0 -> 6.57697\n",
            "2 -> 5.10243 Best Loss!\n",
            "3 -> 5.13515 Early Stopping!\n",
            "ACCURACY: 0.16667\n",
            "\n"
          ],
          "name": "stdout"
        }
      ]
    },
    {
      "cell_type": "code",
      "metadata": {
        "id": "6nBizUQmnN02",
        "outputId": "ec90cd94-e473-4fdb-a4cd-662877c3efae",
        "colab": {
          "base_uri": "https://localhost:8080/"
        }
      },
      "source": [
        "print(softmax_theta)\n",
        "print(validation_accuracy)\n",
        "print(validation)"
      ],
      "execution_count": 166,
      "outputs": [
        {
          "output_type": "stream",
          "text": [
            "[[-0.40128061  1.39101582 -1.72881623]\n",
            " [ 0.61610072 -0.45610033 -3.55752525]\n",
            " [ 2.00965796 -0.31601003 -3.66074593]\n",
            " [-4.42748141 -0.16583181  4.49877929]\n",
            " [-0.9801245  -1.5196795   4.03658548]]\n",
            "1.0\n",
            "1\n"
          ],
          "name": "stdout"
        }
      ]
    },
    {
      "cell_type": "code",
      "metadata": {
        "id": "5CDW6a5vqXyb",
        "outputId": "6d6c8299-05cb-4b17-b178-6a32bdccc1fe",
        "colab": {
          "base_uri": "https://localhost:8080/"
        }
      },
      "source": [
        "early_stopping_predictions = predict(iris_test, softmax_theta)\n",
        "early_stopping_predictions[:5]"
      ],
      "execution_count": 167,
      "outputs": [
        {
          "output_type": "execute_result",
          "data": {
            "text/plain": [
              "array([1, 1, 1, 1, 2])"
            ]
          },
          "metadata": {
            "tags": []
          },
          "execution_count": 167
        }
      ]
    },
    {
      "cell_type": "code",
      "metadata": {
        "id": "TP1BdCC5qh4y",
        "outputId": "f3c20700-6ef1-42d5-a46e-a3285b099739",
        "colab": {
          "base_uri": "https://localhost:8080/"
        }
      },
      "source": [
        "early_stopping_accuracy = np.mean(early_stopping_predictions == iris_test_result)\n",
        "early_stopping_accuracy"
      ],
      "execution_count": 168,
      "outputs": [
        {
          "output_type": "execute_result",
          "data": {
            "text/plain": [
              "0.9666666666666667"
            ]
          },
          "metadata": {
            "tags": []
          },
          "execution_count": 168
        }
      ]
    },
    {
      "cell_type": "code",
      "metadata": {
        "id": "zolTWrhMqqPg"
      },
      "source": [
        ""
      ],
      "execution_count": 89,
      "outputs": []
    }
  ]
}