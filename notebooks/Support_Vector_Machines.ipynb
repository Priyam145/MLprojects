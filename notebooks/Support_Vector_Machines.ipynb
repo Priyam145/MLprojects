{
  "nbformat": 4,
  "nbformat_minor": 0,
  "metadata": {
    "colab": {
      "name": "Support_Vector_Machines.ipynb",
      "provenance": [],
      "collapsed_sections": [],
      "authorship_tag": "ABX9TyNq5i/epdxLSfrT/IlHpX68",
      "include_colab_link": true
    },
    "kernelspec": {
      "name": "python3",
      "display_name": "Python 3"
    }
  },
  "cells": [
    {
      "cell_type": "markdown",
      "metadata": {
        "id": "view-in-github",
        "colab_type": "text"
      },
      "source": [
        "<a href=\"https://colab.research.google.com/github/Priyam145/MLprojects/blob/main/notebooks/Support_Vector_Machines.ipynb\" target=\"_parent\"><img src=\"https://colab.research.google.com/assets/colab-badge.svg\" alt=\"Open In Colab\"/></a>"
      ]
    },
    {
      "cell_type": "code",
      "metadata": {
        "id": "0t1Ju24nHUSJ"
      },
      "source": [
        "import numpy as np\n",
        "from sklearn import datasets\n",
        "from sklearn.pipeline import Pipeline\n",
        "from sklearn.preprocessing import StandardScaler\n",
        "from sklearn.svm import LinearSVC"
      ],
      "execution_count": 1,
      "outputs": []
    },
    {
      "cell_type": "code",
      "metadata": {
        "id": "2ejnKQvUJG8U"
      },
      "source": [
        "iris = datasets.load_iris()\n",
        "X = iris[\"data\"][:, (2, 3)]\n",
        "y = (iris[\"target\"] == 2).astype(np.float64)  "
      ],
      "execution_count": 2,
      "outputs": []
    },
    {
      "cell_type": "code",
      "metadata": {
        "id": "vI8aKhdfJaob"
      },
      "source": [
        "svm_clf = Pipeline([\n",
        "            (\"scalar\", StandardScaler()),\n",
        "            (\"linear_svc\", LinearSVC(C=1, loss=\"hinge\")),\n",
        "])"
      ],
      "execution_count": 3,
      "outputs": []
    },
    {
      "cell_type": "code",
      "metadata": {
        "colab": {
          "base_uri": "https://localhost:8080/"
        },
        "id": "dBDbW5OaJo0Y",
        "outputId": "89725cb8-c867-4106-c391-a8b826a3ca52"
      },
      "source": [
        "svm_clf.fit(X, y)"
      ],
      "execution_count": 4,
      "outputs": [
        {
          "output_type": "execute_result",
          "data": {
            "text/plain": [
              "Pipeline(memory=None,\n",
              "         steps=[('scalar',\n",
              "                 StandardScaler(copy=True, with_mean=True, with_std=True)),\n",
              "                ('linear_svc',\n",
              "                 LinearSVC(C=1, class_weight=None, dual=True,\n",
              "                           fit_intercept=True, intercept_scaling=1,\n",
              "                           loss='hinge', max_iter=1000, multi_class='ovr',\n",
              "                           penalty='l2', random_state=None, tol=0.0001,\n",
              "                           verbose=0))],\n",
              "         verbose=False)"
            ]
          },
          "metadata": {
            "tags": []
          },
          "execution_count": 4
        }
      ]
    },
    {
      "cell_type": "code",
      "metadata": {
        "colab": {
          "base_uri": "https://localhost:8080/"
        },
        "id": "c6nTRm89Jrym",
        "outputId": "05bfda76-2b75-45b7-93ac-5c0074ba0ec6"
      },
      "source": [
        "svm_clf.predict([[5.5, 1.7]])"
      ],
      "execution_count": 5,
      "outputs": [
        {
          "output_type": "execute_result",
          "data": {
            "text/plain": [
              "array([1.])"
            ]
          },
          "metadata": {
            "tags": []
          },
          "execution_count": 5
        }
      ]
    },
    {
      "cell_type": "markdown",
      "metadata": {
        "id": "ccEPDjwPLoLF"
      },
      "source": [
        "# Non-Linear Classification:"
      ]
    },
    {
      "cell_type": "code",
      "metadata": {
        "id": "zBwL3xhmJyff"
      },
      "source": [
        "from sklearn.datasets import make_moons\n",
        "from sklearn.pipeline import Pipeline\n",
        "from sklearn.preprocessing import PolynomialFeatures"
      ],
      "execution_count": 6,
      "outputs": []
    },
    {
      "cell_type": "code",
      "metadata": {
        "id": "jrFYuJAHKsRy"
      },
      "source": [
        "X, y = make_moons(n_samples=100, noise=0.15)\n",
        "polynomial_svm_clf = Pipeline([\n",
        "                        (\"poly_features\", PolynomialFeatures(degree=3)),\n",
        "                        (\"scalar\", StandardScaler()),\n",
        "                        (\"linear_svc\", LinearSVC(C=10, loss=\"hinge\")),\n",
        "])"
      ],
      "execution_count": 7,
      "outputs": []
    },
    {
      "cell_type": "code",
      "metadata": {
        "colab": {
          "base_uri": "https://localhost:8080/"
        },
        "id": "3a0bKElrLCY_",
        "outputId": "bb64bd7e-8b0c-44d5-fad7-1248b039fc79"
      },
      "source": [
        "polynomial_svm_clf.fit(X, y)"
      ],
      "execution_count": 8,
      "outputs": [
        {
          "output_type": "stream",
          "text": [
            "/usr/local/lib/python3.6/dist-packages/sklearn/svm/_base.py:947: ConvergenceWarning: Liblinear failed to converge, increase the number of iterations.\n",
            "  \"the number of iterations.\", ConvergenceWarning)\n"
          ],
          "name": "stderr"
        },
        {
          "output_type": "execute_result",
          "data": {
            "text/plain": [
              "Pipeline(memory=None,\n",
              "         steps=[('poly_features',\n",
              "                 PolynomialFeatures(degree=3, include_bias=True,\n",
              "                                    interaction_only=False, order='C')),\n",
              "                ('scalar',\n",
              "                 StandardScaler(copy=True, with_mean=True, with_std=True)),\n",
              "                ('linear_svc',\n",
              "                 LinearSVC(C=10, class_weight=None, dual=True,\n",
              "                           fit_intercept=True, intercept_scaling=1,\n",
              "                           loss='hinge', max_iter=1000, multi_class='ovr',\n",
              "                           penalty='l2', random_state=None, tol=0.0001,\n",
              "                           verbose=0))],\n",
              "         verbose=False)"
            ]
          },
          "metadata": {
            "tags": []
          },
          "execution_count": 8
        }
      ]
    },
    {
      "cell_type": "markdown",
      "metadata": {
        "id": "2AsPT6QmLtAV"
      },
      "source": [
        "## Polynomial Kernel:"
      ]
    },
    {
      "cell_type": "code",
      "metadata": {
        "id": "bIw_4b7ZLFW2"
      },
      "source": [
        "from sklearn.svm import SVC"
      ],
      "execution_count": 9,
      "outputs": []
    },
    {
      "cell_type": "code",
      "metadata": {
        "id": "TVV4ySGVLy_f"
      },
      "source": [
        "poly_kernel_svc_clf = Pipeline([\n",
        "                        (\"scalar\", StandardScaler()),\n",
        "                        (\"svm_clf\", SVC(kernel=\"poly\", degree=3, coef0=1, C=5)),\n",
        "])"
      ],
      "execution_count": 10,
      "outputs": []
    },
    {
      "cell_type": "code",
      "metadata": {
        "colab": {
          "base_uri": "https://localhost:8080/"
        },
        "id": "6hRmitrcMCiq",
        "outputId": "1e495f83-ab97-4565-cff1-49d7f1b29853"
      },
      "source": [
        "poly_kernel_svc_clf.fit(X, y)"
      ],
      "execution_count": 11,
      "outputs": [
        {
          "output_type": "execute_result",
          "data": {
            "text/plain": [
              "Pipeline(memory=None,\n",
              "         steps=[('scalar',\n",
              "                 StandardScaler(copy=True, with_mean=True, with_std=True)),\n",
              "                ('svm_clf',\n",
              "                 SVC(C=5, break_ties=False, cache_size=200, class_weight=None,\n",
              "                     coef0=1, decision_function_shape='ovr', degree=3,\n",
              "                     gamma='scale', kernel='poly', max_iter=-1,\n",
              "                     probability=False, random_state=None, shrinking=True,\n",
              "                     tol=0.001, verbose=False))],\n",
              "         verbose=False)"
            ]
          },
          "metadata": {
            "tags": []
          },
          "execution_count": 11
        }
      ]
    },
    {
      "cell_type": "markdown",
      "metadata": {
        "id": "Gryu2v-iNJIJ"
      },
      "source": [
        "## Gaussian RBF Kernel"
      ]
    },
    {
      "cell_type": "code",
      "metadata": {
        "id": "j48kIMenMEjk"
      },
      "source": [
        "rbf_kernel_svm_clf = Pipeline([\n",
        "                        (\"scaler\", StandardScaler()),\n",
        "                        (\"svm_clf\", SVC(kernel=\"rbf\", gamma=5, C=0.001)),\n",
        "])"
      ],
      "execution_count": 12,
      "outputs": []
    },
    {
      "cell_type": "code",
      "metadata": {
        "colab": {
          "base_uri": "https://localhost:8080/"
        },
        "id": "0dq2THXsNbOe",
        "outputId": "90d5ed2b-50db-41d3-b93c-330031aad2c0"
      },
      "source": [
        "rbf_kernel_svm_clf.fit(X, y)"
      ],
      "execution_count": 13,
      "outputs": [
        {
          "output_type": "execute_result",
          "data": {
            "text/plain": [
              "Pipeline(memory=None,\n",
              "         steps=[('scaler',\n",
              "                 StandardScaler(copy=True, with_mean=True, with_std=True)),\n",
              "                ('svm_clf',\n",
              "                 SVC(C=0.001, break_ties=False, cache_size=200,\n",
              "                     class_weight=None, coef0=0.0,\n",
              "                     decision_function_shape='ovr', degree=3, gamma=5,\n",
              "                     kernel='rbf', max_iter=-1, probability=False,\n",
              "                     random_state=None, shrinking=True, tol=0.001,\n",
              "                     verbose=False))],\n",
              "         verbose=False)"
            ]
          },
          "metadata": {
            "tags": []
          },
          "execution_count": 13
        }
      ]
    },
    {
      "cell_type": "markdown",
      "metadata": {
        "id": "vrMoqgFPOz_x"
      },
      "source": [
        "# SVM Regression"
      ]
    },
    {
      "cell_type": "code",
      "metadata": {
        "id": "AiuhcTL6Ndmj"
      },
      "source": [
        "from sklearn.svm import LinearSVR"
      ],
      "execution_count": 14,
      "outputs": []
    },
    {
      "cell_type": "code",
      "metadata": {
        "colab": {
          "base_uri": "https://localhost:8080/"
        },
        "id": "pJbHI4rGO7Ww",
        "outputId": "585447ed-5219-4383-fef3-a605737e141e"
      },
      "source": [
        "svm_reg = LinearSVR(epsilon=1.5)\n",
        "svm_reg.fit(X, y)"
      ],
      "execution_count": 15,
      "outputs": [
        {
          "output_type": "execute_result",
          "data": {
            "text/plain": [
              "LinearSVR(C=1.0, dual=True, epsilon=1.5, fit_intercept=True,\n",
              "          intercept_scaling=1.0, loss='epsilon_insensitive', max_iter=1000,\n",
              "          random_state=None, tol=0.0001, verbose=0)"
            ]
          },
          "metadata": {
            "tags": []
          },
          "execution_count": 15
        }
      ]
    },
    {
      "cell_type": "code",
      "metadata": {
        "colab": {
          "base_uri": "https://localhost:8080/"
        },
        "id": "3NY61t_nPE2N",
        "outputId": "7d143c88-f91a-4f8a-908b-95dc3221ce12"
      },
      "source": [
        "from sklearn.svm import SVR\n",
        "svm_poly_reg = SVR(kernel=\"poly\", degree=2, C=100, epsilon=0.1)\n",
        "svm_poly_reg.fit(X, y)"
      ],
      "execution_count": 16,
      "outputs": [
        {
          "output_type": "execute_result",
          "data": {
            "text/plain": [
              "SVR(C=100, cache_size=200, coef0=0.0, degree=2, epsilon=0.1, gamma='scale',\n",
              "    kernel='poly', max_iter=-1, shrinking=True, tol=0.001, verbose=False)"
            ]
          },
          "metadata": {
            "tags": []
          },
          "execution_count": 16
        }
      ]
    },
    {
      "cell_type": "markdown",
      "metadata": {
        "id": "1kWF62frnzCA"
      },
      "source": [
        "# Exercise:"
      ]
    },
    {
      "cell_type": "markdown",
      "metadata": {
        "id": "LFK0WnFnn1pI"
      },
      "source": [
        "## Ans.8"
      ]
    },
    {
      "cell_type": "code",
      "metadata": {
        "id": "3BG5G_Jwn5cF"
      },
      "source": [
        "from sklearn.svm import LinearSVC\n",
        "from sklearn.linear_model import SGDClassifier\n",
        "from sklearn.preprocessing import StandardScaler\n",
        "from sklearn.pipeline import Pipeline\n",
        "from sklearn import datasets\n",
        "from sklearn.model_selection import train_test_split, cross_validate"
      ],
      "execution_count": 50,
      "outputs": []
    },
    {
      "cell_type": "code",
      "metadata": {
        "colab": {
          "base_uri": "https://localhost:8080/"
        },
        "id": "Jez99bQon_BN",
        "outputId": "8e65052a-85ed-4da9-d22b-c934d4526ab9"
      },
      "source": [
        "df = datasets.load_iris()\n",
        "X = df[\"data\"][:, (2, 3)]\n",
        "y = df[\"target\"]\n",
        "df['feature_names']"
      ],
      "execution_count": 79,
      "outputs": [
        {
          "output_type": "execute_result",
          "data": {
            "text/plain": [
              "['sepal length (cm)',\n",
              " 'sepal width (cm)',\n",
              " 'petal length (cm)',\n",
              " 'petal width (cm)']"
            ]
          },
          "metadata": {
            "tags": []
          },
          "execution_count": 79
        }
      ]
    },
    {
      "cell_type": "code",
      "metadata": {
        "id": "pE8TiDstvR9v"
      },
      "source": [
        "setosa_or_versicolor = (y == 0) | (y == 1)\n",
        "X = X[setosa_or_versicolor]\n",
        "y = y[setosa_or_versicolor]"
      ],
      "execution_count": 53,
      "outputs": []
    },
    {
      "cell_type": "code",
      "metadata": {
        "colab": {
          "base_uri": "https://localhost:8080/"
        },
        "id": "BzCpoQP2pkWb",
        "outputId": "9377fc90-5cc1-4d41-9c82-891bfc659d80"
      },
      "source": [
        "X[:5]"
      ],
      "execution_count": 54,
      "outputs": [
        {
          "output_type": "execute_result",
          "data": {
            "text/plain": [
              "array([[1.4, 0.2],\n",
              "       [1.4, 0.2],\n",
              "       [1.3, 0.2],\n",
              "       [1.5, 0.2],\n",
              "       [1.4, 0.2]])"
            ]
          },
          "metadata": {
            "tags": []
          },
          "execution_count": 54
        }
      ]
    },
    {
      "cell_type": "code",
      "metadata": {
        "colab": {
          "base_uri": "https://localhost:8080/"
        },
        "id": "1Tgl5vP-p_gv",
        "outputId": "bdd6eda7-0fe8-4862-f739-8deb1268310d"
      },
      "source": [
        "y[:5]"
      ],
      "execution_count": 55,
      "outputs": [
        {
          "output_type": "execute_result",
          "data": {
            "text/plain": [
              "array([0, 0, 0, 0, 0])"
            ]
          },
          "metadata": {
            "tags": []
          },
          "execution_count": 55
        }
      ]
    },
    {
      "cell_type": "code",
      "metadata": {
        "id": "0IgE6-skqBmc"
      },
      "source": [
        "X_train, X_test, y_train, y_test = train_test_split(X, y, test_size=0.2, random_state=101)"
      ],
      "execution_count": 56,
      "outputs": []
    },
    {
      "cell_type": "code",
      "metadata": {
        "colab": {
          "base_uri": "https://localhost:8080/"
        },
        "id": "n5jbJER8qZjj",
        "outputId": "21011bf8-52fb-451a-ff91-001f186dd3af"
      },
      "source": [
        "print(X_train.shape)\n",
        "print(X_test.shape)"
      ],
      "execution_count": 57,
      "outputs": [
        {
          "output_type": "stream",
          "text": [
            "(80, 2)\n",
            "(20, 2)\n"
          ],
          "name": "stdout"
        }
      ]
    },
    {
      "cell_type": "code",
      "metadata": {
        "id": "cTVxT8zCqmxc"
      },
      "source": [
        "linear_svc = LinearSVC(C=1, loss='hinge')"
      ],
      "execution_count": 58,
      "outputs": []
    },
    {
      "cell_type": "code",
      "metadata": {
        "colab": {
          "base_uri": "https://localhost:8080/"
        },
        "id": "WHJpTBZRrV2E",
        "outputId": "963155b4-1fa8-4dcf-c431-7a94b80cd75b"
      },
      "source": [
        "linear_svc.fit(X_train, y_train)"
      ],
      "execution_count": 59,
      "outputs": [
        {
          "output_type": "execute_result",
          "data": {
            "text/plain": [
              "LinearSVC(C=1, class_weight=None, dual=True, fit_intercept=True,\n",
              "          intercept_scaling=1, loss='hinge', max_iter=1000, multi_class='ovr',\n",
              "          penalty='l2', random_state=None, tol=0.0001, verbose=0)"
            ]
          },
          "metadata": {
            "tags": []
          },
          "execution_count": 59
        }
      ]
    },
    {
      "cell_type": "code",
      "metadata": {
        "id": "k0qE9eo-sg2p"
      },
      "source": [
        "m = X_train.shape[0]\n",
        "sgd_clf = SGDClassifier(loss='hinge', penalty='l2', alpha=(1/(m*1)))"
      ],
      "execution_count": 60,
      "outputs": []
    },
    {
      "cell_type": "code",
      "metadata": {
        "colab": {
          "base_uri": "https://localhost:8080/"
        },
        "id": "VZ5wZG4rt0K-",
        "outputId": "5135974d-3f3b-4af1-b6cc-a57f47e732af"
      },
      "source": [
        "sgd_clf.fit(X_train, y_train)"
      ],
      "execution_count": 61,
      "outputs": [
        {
          "output_type": "execute_result",
          "data": {
            "text/plain": [
              "SGDClassifier(alpha=0.0125, average=False, class_weight=None,\n",
              "              early_stopping=False, epsilon=0.1, eta0=0.0, fit_intercept=True,\n",
              "              l1_ratio=0.15, learning_rate='optimal', loss='hinge',\n",
              "              max_iter=1000, n_iter_no_change=5, n_jobs=None, penalty='l2',\n",
              "              power_t=0.5, random_state=None, shuffle=True, tol=0.001,\n",
              "              validation_fraction=0.1, verbose=0, warm_start=False)"
            ]
          },
          "metadata": {
            "tags": []
          },
          "execution_count": 61
        }
      ]
    },
    {
      "cell_type": "code",
      "metadata": {
        "id": "ebPEXrxKt3PH"
      },
      "source": [
        "import numpy as np\n",
        "import matplotlib.pyplot as plt"
      ],
      "execution_count": 67,
      "outputs": []
    },
    {
      "cell_type": "code",
      "metadata": {
        "colab": {
          "base_uri": "https://localhost:8080/",
          "height": 529
        },
        "id": "2VJqkEk4uAu1",
        "outputId": "28a221a2-61cb-4f71-bbf9-24cb61991f2a"
      },
      "source": [
        "fig, axs = plt.subplots(figsize=(20, 10), ncols=2)\n",
        "fig.set_facecolor('white')\n",
        "\n",
        "# plotting Linear SVC plot\n",
        "axs[0].plot(X_train[:, 0][y_train==1], X_train[:, 1][y_train==1], \"bs\", label=\"Iris versicolor\")\n",
        "axs[0].plot(X_train[:, 0][y_train==0], X_train[:, 1][y_train==0], \"yo\", label=\"Iris setosa\")\n",
        "w = linear_svc.coef_[0]\n",
        "b = linear_svc.intercept_[0]\n",
        "x0 = np.linspace(np.int(np.min((np.min(X_train[:, 0]), np.min(X_train[:, 1])))), \n",
        "                 np.int(np.max((np.max(X_train[:, 0]), np.max(X_train[:, 1])))),\n",
        "                 80)\n",
        "margin_width = 1/w[1]\n",
        "decision_boundary = -w[0]/w[1] * x0 - b/w[1]\n",
        "margin_1 = decision_boundary - margin_width\n",
        "margin_2 = decision_boundary + margin_width\n",
        "axs[0].plot(x0, decision_boundary, \"k-\", linewidth=2, label='Decision Boundary')\n",
        "axs[0].plot(x0, margin_1, \"b--\", linewidth=2, label='Margin 1')\n",
        "axs[0].plot(x0, margin_2, \"r--\", linewidth=2, label='Margin 2')\n",
        "axs[0].set_xlabel('Petal Length')\n",
        "axs[0].set_ylabel('Petal Width')\n",
        "axs[0].set_xlim(xmin=0)\n",
        "axs[0].set_ylim(ymin=0, ymax=2.5)\n",
        "axs[0].set_title('LinearSVC')\n",
        "axs[0].legend();\n",
        "\n",
        "\n",
        "# plotting SGD Classifier plot\n",
        "axs[1].plot(X_train[:, 0][y_train==1], X_train[:, 1][y_train==1], \"bs\", label=\"Iris versicolor\")\n",
        "axs[1].plot(X_train[:, 0][y_train==0], X_train[:, 1][y_train==0], \"yo\", label=\"Iris setosa\")\n",
        "w = sgd_clf.coef_[0]\n",
        "b = sgd_clf.intercept_[0]\n",
        "x0 = np.linspace(np.int(np.min((np.min(X_train[:, 0]), np.min(X_train[:, 1])))), \n",
        "                 np.int(np.max((np.max(X_train[:, 0]), np.max(X_train[:, 1])))),\n",
        "                 80)\n",
        "margin_width = 1/w[1]\n",
        "decision_boundary = -w[0]/w[1] * x0 - b/w[1]\n",
        "margin_1 = decision_boundary - margin_width\n",
        "margin_2 = decision_boundary + margin_width\n",
        "axs[1].plot(x0, decision_boundary, \"k-\", linewidth=2, label='Decision Boundary')\n",
        "axs[1].plot(x0, margin_1, \"b--\", linewidth=2, label='Margin 1')\n",
        "axs[1].plot(x0, margin_2, \"r--\", linewidth=2, label='Margin 2')\n",
        "axs[1].set_xlabel('Petal Length')\n",
        "axs[1].set_ylabel('Petal Width')\n",
        "axs[1].set_xlim(xmin=0)\n",
        "axs[1].set_ylim(ymin=0, ymax=2.5)\n",
        "axs[1].set_title('SGDClassifier')\n",
        "axs[1].legend();"
      ],
      "execution_count": 98,
      "outputs": [
        {
          "output_type": "display_data",
          "data": {
            "image/png": "[encoded data removed]",
            "text/plain": [
              "<Figure size 1440x720 with 2 Axes>"
            ]
          },
          "metadata": {
            "tags": []
          }
        }
      ]
    },
    {
      "cell_type": "markdown",
      "metadata": {
        "id": "CcqMEdnLv6Kk"
      },
      "source": [
        "## Ans.9"
      ]
    },
    {
      "cell_type": "code",
      "metadata": {
        "id": "wtkhjMA__jIS"
      },
      "source": [
        "from sklearn.multiclass import OneVsRestClassifier\n",
        "from sklearn.svm import SVC\n",
        "from sklearn.datasets import fetch_openml\n",
        "from sklearn.preprocessing import StandardScaler\n",
        "import numpy as np"
      ],
      "execution_count": 1,
      "outputs": []
    },
    {
      "cell_type": "code",
      "metadata": {
        "id": "0Er9JuCd_5Wp"
      },
      "source": [
        "mnist = fetch_openml('mnist_784', version=1, cache=True)"
      ],
      "execution_count": 2,
      "outputs": []
    },
    {
      "cell_type": "code",
      "metadata": {
        "colab": {
          "base_uri": "https://localhost:8080/"
        },
        "id": "QVBb4jQ8ABqP",
        "outputId": "d40fd880-a414-4a77-aa71-8329508d532d"
      },
      "source": [
        "mnist.keys()"
      ],
      "execution_count": 3,
      "outputs": [
        {
          "output_type": "execute_result",
          "data": {
            "text/plain": [
              "dict_keys(['data', 'target', 'frame', 'feature_names', 'target_names', 'DESCR', 'details', 'categories', 'url'])"
            ]
          },
          "metadata": {
            "tags": []
          },
          "execution_count": 3
        }
      ]
    },
    {
      "cell_type": "code",
      "metadata": {
        "colab": {
          "base_uri": "https://localhost:8080/"
        },
        "id": "J3coUYoZARcF",
        "outputId": "bc71a33e-6ac8-445f-8041-c20507f637fa"
      },
      "source": [
        "X = mnist['data']\n",
        "y = mnist['target']\n",
        "print(X.shape)\n",
        "print(y.shape)"
      ],
      "execution_count": 4,
      "outputs": [
        {
          "output_type": "stream",
          "text": [
            "(70000, 784)\n",
            "(70000,)\n"
          ],
          "name": "stdout"
        }
      ]
    },
    {
      "cell_type": "code",
      "metadata": {
        "id": "5p3kNoGXAW72"
      },
      "source": [
        "X_train = X[:60000]\n",
        "y_train = y[:60000]\n",
        "X_test = X[60000:]\n",
        "y_test = y[60000:]"
      ],
      "execution_count": 5,
      "outputs": []
    },
    {
      "cell_type": "code",
      "metadata": {
        "colab": {
          "base_uri": "https://localhost:8080/"
        },
        "id": "p6RaPxrECCT9",
        "outputId": "b66bf425-507a-4828-fa33-1ce829f86c16"
      },
      "source": [
        "print(X_train.shape)\n",
        "print(X_test.shape)"
      ],
      "execution_count": 6,
      "outputs": [
        {
          "output_type": "stream",
          "text": [
            "(60000, 784)\n",
            "(10000, 784)\n"
          ],
          "name": "stdout"
        }
      ]
    },
    {
      "cell_type": "code",
      "metadata": {
        "id": "gvUcYFUPCFwc"
      },
      "source": [
        "OvR_svc = OneVsRestClassifier(SVC(kernel='linear'))"
      ],
      "execution_count": 7,
      "outputs": []
    },
    {
      "cell_type": "code",
      "metadata": {
        "id": "5bn6HemjEytA"
      },
      "source": [
        "scaler = StandardScaler()\n",
        "X_train_scaled = scaler.fit_transform(X_train.astype(np.float32))\n",
        "X_test_scaled = scaler.transform(X_test.astype(np.float32))"
      ],
      "execution_count": 8,
      "outputs": []
    },
    {
      "cell_type": "code",
      "metadata": {
        "id": "EaB9Da66Cico"
      },
      "source": [
        "OvR_svc.fit(X_train_scaled, y_train)"
      ],
      "execution_count": null,
      "outputs": []
    },
    {
      "cell_type": "code",
      "metadata": {
        "id": "IXdn8oofDKAF"
      },
      "source": [
        "from sklearn.metrics import accuracy_score"
      ],
      "execution_count": 120,
      "outputs": []
    },
    {
      "cell_type": "code",
      "metadata": {
        "id": "mzIDErOpD4R1"
      },
      "source": [
        "predictions = OvR_svc.predict(X_test)"
      ],
      "execution_count": 121,
      "outputs": []
    },
    {
      "cell_type": "code",
      "metadata": {
        "colab": {
          "base_uri": "https://localhost:8080/"
        },
        "id": "EMOIs60_DzYh",
        "outputId": "03191f84-9d51-4731-c030-1b3489d358d2"
      },
      "source": [
        "accuracy_score(y_test, predictions)"
      ],
      "execution_count": 122,
      "outputs": [
        {
          "output_type": "execute_result",
          "data": {
            "text/plain": [
              "0.9416666666666667"
            ]
          },
          "metadata": {
            "tags": []
          },
          "execution_count": 122
        }
      ]
    },
    {
      "cell_type": "code",
      "metadata": {
        "id": "qBNXQjNWD_to"
      },
      "source": [
        ""
      ],
      "execution_count": null,
      "outputs": []
    }
  ]
}