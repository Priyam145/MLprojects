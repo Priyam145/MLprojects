{
  "nbformat": 4,
  "nbformat_minor": 0,
  "metadata": {
    "colab": {
      "name": "DL_1.ipynb",
      "provenance": [],
      "authorship_tag": "ABX9TyPZhszju1qbNNLNrcFS1ziR",
      "include_colab_link": true
    },
    "kernelspec": {
      "name": "python3",
      "display_name": "Python 3"
    }
  },
  "cells": [
    {
      "cell_type": "markdown",
      "metadata": {
        "id": "view-in-github",
        "colab_type": "text"
      },
      "source": [
        "<a href=\"https://colab.research.google.com/github/prikmm/MLprojects/blob/main/notebooks/DL_1.ipynb\" target=\"_parent\"><img src=\"https://colab.research.google.com/assets/colab-badge.svg\" alt=\"Open In Colab\"/></a>"
      ]
    },
    {
      "cell_type": "code",
      "metadata": {
        "id": "LWIQrsVb9eRb"
      },
      "source": [
        "import numpy as np\n",
        "from sklearn.datasets import load_iris\n",
        "from sklearn.linear_model import Perceptron"
      ],
      "execution_count": 1,
      "outputs": []
    },
    {
      "cell_type": "code",
      "metadata": {
        "id": "tLugc8Em-q8P"
      },
      "source": [
        "iris = load_iris()\n",
        "X = iris.data[:, (2, 3)]\n",
        "y = (iris.target == 0).astype(np.int)"
      ],
      "execution_count": 2,
      "outputs": []
    },
    {
      "cell_type": "code",
      "metadata": {
        "colab": {
          "base_uri": "https://localhost:8080/"
        },
        "id": "NiW9XSja-4Un",
        "outputId": "e9300d23-08f1-4a1c-8ed9-4afef3d6023c"
      },
      "source": [
        "per_clf = Perceptron()\n",
        "per_clf.fit(X, y)"
      ],
      "execution_count": 3,
      "outputs": [
        {
          "output_type": "execute_result",
          "data": {
            "text/plain": [
              "Perceptron(alpha=0.0001, class_weight=None, early_stopping=False, eta0=1.0,\n",
              "           fit_intercept=True, max_iter=1000, n_iter_no_change=5, n_jobs=None,\n",
              "           penalty=None, random_state=0, shuffle=True, tol=0.001,\n",
              "           validation_fraction=0.1, verbose=0, warm_start=False)"
            ]
          },
          "metadata": {
            "tags": []
          },
          "execution_count": 3
        }
      ]
    },
    {
      "cell_type": "code",
      "metadata": {
        "colab": {
          "base_uri": "https://localhost:8080/"
        },
        "id": "3s1Ynz92_Ay4",
        "outputId": "1389f651-8efe-433f-f94f-a56135471b78"
      },
      "source": [
        "y_pred = per_clf.predict([[2, 0.5]])\n",
        "y_pred"
      ],
      "execution_count": 4,
      "outputs": [
        {
          "output_type": "execute_result",
          "data": {
            "text/plain": [
              "array([0])"
            ]
          },
          "metadata": {
            "tags": []
          },
          "execution_count": 4
        }
      ]
    },
    {
      "cell_type": "code",
      "metadata": {
        "id": "2p88JV6U_JqN"
      },
      "source": [
        "import tensorflow as tf\n",
        "from tensorflow import keras"
      ],
      "execution_count": 5,
      "outputs": []
    },
    {
      "cell_type": "code",
      "metadata": {
        "colab": {
          "base_uri": "https://localhost:8080/",
          "height": 36
        },
        "id": "R6yNW4AXGrTy",
        "outputId": "ac5e7546-1c76-4fb3-9d53-7ff4f324c7b9"
      },
      "source": [
        "tf.__version__"
      ],
      "execution_count": 6,
      "outputs": [
        {
          "output_type": "execute_result",
          "data": {
            "application/vnd.google.colaboratory.intrinsic+json": {
              "type": "string"
            },
            "text/plain": [
              "'2.4.1'"
            ]
          },
          "metadata": {
            "tags": []
          },
          "execution_count": 6
        }
      ]
    },
    {
      "cell_type": "code",
      "metadata": {
        "colab": {
          "base_uri": "https://localhost:8080/",
          "height": 36
        },
        "id": "ZDXMOfP0GuGq",
        "outputId": "3d0b85f6-8428-4531-9ba7-b6abdfdfb24f"
      },
      "source": [
        "keras.__version__"
      ],
      "execution_count": 7,
      "outputs": [
        {
          "output_type": "execute_result",
          "data": {
            "application/vnd.google.colaboratory.intrinsic+json": {
              "type": "string"
            },
            "text/plain": [
              "'2.4.0'"
            ]
          },
          "metadata": {
            "tags": []
          },
          "execution_count": 7
        }
      ]
    },
    {
      "cell_type": "code",
      "metadata": {
        "id": "vChJ3d18Gve2"
      },
      "source": [
        "fashion_mnist = keras.datasets.fashion_mnist"
      ],
      "execution_count": 8,
      "outputs": []
    },
    {
      "cell_type": "code",
      "metadata": {
        "colab": {
          "base_uri": "https://localhost:8080/"
        },
        "id": "F3mRihQRHBM1",
        "outputId": "6598993d-6508-4896-c92d-e5fa12e52f14"
      },
      "source": [
        "(X_train_full, y_train_full), (X_test, y_test) = fashion_mnist.load_data()"
      ],
      "execution_count": 9,
      "outputs": [
        {
          "output_type": "stream",
          "text": [
            "Downloading data from https://storage.googleapis.com/tensorflow/tf-keras-datasets/train-labels-idx1-ubyte.gz\n",
            "32768/29515 [=================================] - 0s 0us/step\n",
            "Downloading data from https://storage.googleapis.com/tensorflow/tf-keras-datasets/train-images-idx3-ubyte.gz\n",
            "26427392/26421880 [==============================] - 0s 0us/step\n",
            "Downloading data from https://storage.googleapis.com/tensorflow/tf-keras-datasets/t10k-labels-idx1-ubyte.gz\n",
            "8192/5148 [===============================================] - 0s 0us/step\n",
            "Downloading data from https://storage.googleapis.com/tensorflow/tf-keras-datasets/t10k-images-idx3-ubyte.gz\n",
            "4423680/4422102 [==============================] - 0s 0us/step\n"
          ],
          "name": "stdout"
        }
      ]
    },
    {
      "cell_type": "code",
      "metadata": {
        "colab": {
          "base_uri": "https://localhost:8080/"
        },
        "id": "mwCupDgYHQux",
        "outputId": "b64d5c62-901d-446a-9d5b-78ca1c70333b"
      },
      "source": [
        "X_train_full.shape"
      ],
      "execution_count": 10,
      "outputs": [
        {
          "output_type": "execute_result",
          "data": {
            "text/plain": [
              "(60000, 28, 28)"
            ]
          },
          "metadata": {
            "tags": []
          },
          "execution_count": 10
        }
      ]
    },
    {
      "cell_type": "code",
      "metadata": {
        "colab": {
          "base_uri": "https://localhost:8080/"
        },
        "id": "pKZRq98mHTjE",
        "outputId": "7c762608-f614-452b-af72-8e606e0cd089"
      },
      "source": [
        "X_train_full.dtype"
      ],
      "execution_count": 11,
      "outputs": [
        {
          "output_type": "execute_result",
          "data": {
            "text/plain": [
              "dtype('uint8')"
            ]
          },
          "metadata": {
            "tags": []
          },
          "execution_count": 11
        }
      ]
    },
    {
      "cell_type": "code",
      "metadata": {
        "id": "v1LUxmQyHWg8"
      },
      "source": [
        "X_valid, X_train = X_train_full[:5000]/255.0, X_train_full[5000:]/255.0\n",
        "y_valid, y_train = y_train_full[:5000], y_train_full[5000:]"
      ],
      "execution_count": 12,
      "outputs": []
    },
    {
      "cell_type": "code",
      "metadata": {
        "colab": {
          "base_uri": "https://localhost:8080/"
        },
        "id": "M7KUzEBOHqqJ",
        "outputId": "8ac273b1-f6e2-4267-bf83-e4ba3aae3dc8"
      },
      "source": [
        "y_uni = np.unique(y_train)\n",
        "y_uni"
      ],
      "execution_count": 13,
      "outputs": [
        {
          "output_type": "execute_result",
          "data": {
            "text/plain": [
              "array([0, 1, 2, 3, 4, 5, 6, 7, 8, 9], dtype=uint8)"
            ]
          },
          "metadata": {
            "tags": []
          },
          "execution_count": 13
        }
      ]
    },
    {
      "cell_type": "code",
      "metadata": {
        "id": "phtskXg4H2UT"
      },
      "source": [
        "import matplotlib.pyplot as plt"
      ],
      "execution_count": 14,
      "outputs": []
    },
    {
      "cell_type": "code",
      "metadata": {
        "colab": {
          "base_uri": "https://localhost:8080/",
          "height": 291
        },
        "id": "GaCgvrsLIKQ8",
        "outputId": "5ba2c33c-648b-4206-f47d-96d4aa33eeeb"
      },
      "source": [
        "row_num = 2\n",
        "col_num = 5\n",
        "fig, axs = plt.subplots(figsize=(10, 5), nrows=row_num, ncols=col_num)\n",
        "fig.set_facecolor(\"white\")\n",
        "for i in y_uni:\n",
        "    images_index = np.where(y_train == i)\n",
        "    image = X_train[images_index[0][0]]\n",
        "    col = i % 5\n",
        "    row = i // 5\n",
        "    axs[row, col].imshow(image, cmap=\"binary\")\n",
        "    axs[row, col].set_title(i)\n",
        "    axs[row, col].axis('off')"
      ],
      "execution_count": 15,
      "outputs": [
        {
          "output_type": "display_data",
          "data": {
            "image/png": "[encoded data removed]",
            "text/plain": [
              "<Figure size 720x360 with 10 Axes>"
            ]
          },
          "metadata": {
            "tags": []
          }
        }
      ]
    },
    {
      "cell_type": "code",
      "metadata": {
        "id": "kPIvp9L0I2LZ"
      },
      "source": [
        "class_names = [\"T-shirt/top\", \"Trouser\", \"Pullover\", \"Dress\", \"Coat\", \"Sandal\",\n",
        "              \"Shirt\", \"Sneaker\", \"Bag\", \"Ankle boot\"]"
      ],
      "execution_count": 16,
      "outputs": []
    },
    {
      "cell_type": "code",
      "metadata": {
        "id": "ylzf8dioNzna"
      },
      "source": [
        "\"\"\"\n",
        "model = keras.models.Sequential()\n",
        "model.add(keras.layers.Flatten(input_shape=[28, 28]))\n",
        "model.add(keras.layers.Dense(300, activation=\"relu\"))\n",
        "model.add(keras.layers.Dense(100, activation=\"relu\"))\n",
        "model.add(keras.layers.Dense(10, activation=\"softmax\"))\n",
        "\"\"\"\n",
        "\n",
        "# we can generally use:\n",
        "model = keras.models.Sequential([\n",
        "    keras.layers.Flatten(input_shape=[28, 28]),\n",
        "    keras.layers.Dense(300, activation=\"relu\"),\n",
        "    keras.layers.Dense(100, activation=\"relu\"),\n",
        "    keras.layers.Dense(10, activation=\"softmax\"),\n",
        "])"
      ],
      "execution_count": 17,
      "outputs": []
    },
    {
      "cell_type": "code",
      "metadata": {
        "colab": {
          "base_uri": "https://localhost:8080/"
        },
        "id": "yLxBoWZfOXxH",
        "outputId": "086e94f2-f605-47b9-c5b0-5f94ec5a9bbf"
      },
      "source": [
        "model.summary()"
      ],
      "execution_count": 18,
      "outputs": [
        {
          "output_type": "stream",
          "text": [
            "Model: \"sequential\"\n",
            "_________________________________________________________________\n",
            "Layer (type)                 Output Shape              Param #   \n",
            "=================================================================\n",
            "flatten (Flatten)            (None, 784)               0         \n",
            "_________________________________________________________________\n",
            "dense (Dense)                (None, 300)               235500    \n",
            "_________________________________________________________________\n",
            "dense_1 (Dense)              (None, 100)               30100     \n",
            "_________________________________________________________________\n",
            "dense_2 (Dense)              (None, 10)                1010      \n",
            "=================================================================\n",
            "Total params: 266,610\n",
            "Trainable params: 266,610\n",
            "Non-trainable params: 0\n",
            "_________________________________________________________________\n"
          ],
          "name": "stdout"
        }
      ]
    },
    {
      "cell_type": "code",
      "metadata": {
        "colab": {
          "base_uri": "https://localhost:8080/"
        },
        "id": "mCur2TKSPv1g",
        "outputId": "80116b31-d8e1-4fc5-fca1-24ca5fa3a313"
      },
      "source": [
        "model.layers"
      ],
      "execution_count": 19,
      "outputs": [
        {
          "output_type": "execute_result",
          "data": {
            "text/plain": [
              "[<tensorflow.python.keras.layers.core.Flatten at 0x7f510e92b978>,\n",
              " <tensorflow.python.keras.layers.core.Dense at 0x7f50e8347a90>,\n",
              " <tensorflow.python.keras.layers.core.Dense at 0x7f50dc252160>,\n",
              " <tensorflow.python.keras.layers.core.Dense at 0x7f50dc252f98>]"
            ]
          },
          "metadata": {
            "tags": []
          },
          "execution_count": 19
        }
      ]
    },
    {
      "cell_type": "code",
      "metadata": {
        "colab": {
          "base_uri": "https://localhost:8080/",
          "height": 36
        },
        "id": "0fNJC6cUQGbc",
        "outputId": "8046f7f5-bb49-44a2-d6d3-b0a51511a463"
      },
      "source": [
        "hidden1 = model.layers[1]\n",
        "hidden1.name"
      ],
      "execution_count": 20,
      "outputs": [
        {
          "output_type": "execute_result",
          "data": {
            "application/vnd.google.colaboratory.intrinsic+json": {
              "type": "string"
            },
            "text/plain": [
              "'dense'"
            ]
          },
          "metadata": {
            "tags": []
          },
          "execution_count": 20
        }
      ]
    },
    {
      "cell_type": "code",
      "metadata": {
        "colab": {
          "base_uri": "https://localhost:8080/"
        },
        "id": "W95IXUZ3QMfX",
        "outputId": "62698491-92c1-4c7a-f96e-e485ae888292"
      },
      "source": [
        "model.get_layer('dense') is hidden1"
      ],
      "execution_count": 23,
      "outputs": [
        {
          "output_type": "execute_result",
          "data": {
            "text/plain": [
              "True"
            ]
          },
          "metadata": {
            "tags": []
          },
          "execution_count": 23
        }
      ]
    },
    {
      "cell_type": "code",
      "metadata": {
        "colab": {
          "base_uri": "https://localhost:8080/"
        },
        "id": "cIeE5KdBQU48",
        "outputId": "7c0a59cc-e733-48cc-8b32-6f9c0ba4876a"
      },
      "source": [
        "weights, biases = hidden1.get_weights()\n",
        "weights"
      ],
      "execution_count": 24,
      "outputs": [
        {
          "output_type": "execute_result",
          "data": {
            "text/plain": [
              "array([[ 0.06944151, -0.06175592, -0.03090459, ..., -0.04865481,\n",
              "         0.06703101, -0.05205276],\n",
              "       [ 0.00906612, -0.07415856,  0.0214153 , ...,  0.01805488,\n",
              "        -0.00101572, -0.04409547],\n",
              "       [ 0.00706562,  0.02225506,  0.0733227 , ..., -0.03876532,\n",
              "        -0.0602366 ,  0.0192215 ],\n",
              "       ...,\n",
              "       [ 0.01376984, -0.06284463, -0.03650165, ..., -0.03876186,\n",
              "         0.03802157, -0.01457663],\n",
              "       [-0.07435139, -0.04087222, -0.03221072, ...,  0.00350874,\n",
              "        -0.05049813,  0.06921202],\n",
              "       [ 0.02030862,  0.00340139, -0.02611431, ...,  0.02181779,\n",
              "         0.00999168, -0.06539443]], dtype=float32)"
            ]
          },
          "metadata": {
            "tags": []
          },
          "execution_count": 24
        }
      ]
    },
    {
      "cell_type": "code",
      "metadata": {
        "colab": {
          "base_uri": "https://localhost:8080/"
        },
        "id": "S2s0cTcmQilF",
        "outputId": "5d743bce-9847-4541-9337-3d866bc7592b"
      },
      "source": [
        "weights.shape"
      ],
      "execution_count": 25,
      "outputs": [
        {
          "output_type": "execute_result",
          "data": {
            "text/plain": [
              "(784, 300)"
            ]
          },
          "metadata": {
            "tags": []
          },
          "execution_count": 25
        }
      ]
    },
    {
      "cell_type": "code",
      "metadata": {
        "colab": {
          "base_uri": "https://localhost:8080/"
        },
        "id": "1iQ9id1jQryY",
        "outputId": "a0366126-5a38-4793-9ad7-f7a877d5ee4e"
      },
      "source": [
        "biases"
      ],
      "execution_count": 26,
      "outputs": [
        {
          "output_type": "execute_result",
          "data": {
            "text/plain": [
              "array([0., 0., 0., 0., 0., 0., 0., 0., 0., 0., 0., 0., 0., 0., 0., 0., 0.,\n",
              "       0., 0., 0., 0., 0., 0., 0., 0., 0., 0., 0., 0., 0., 0., 0., 0., 0.,\n",
              "       0., 0., 0., 0., 0., 0., 0., 0., 0., 0., 0., 0., 0., 0., 0., 0., 0.,\n",
              "       0., 0., 0., 0., 0., 0., 0., 0., 0., 0., 0., 0., 0., 0., 0., 0., 0.,\n",
              "       0., 0., 0., 0., 0., 0., 0., 0., 0., 0., 0., 0., 0., 0., 0., 0., 0.,\n",
              "       0., 0., 0., 0., 0., 0., 0., 0., 0., 0., 0., 0., 0., 0., 0., 0., 0.,\n",
              "       0., 0., 0., 0., 0., 0., 0., 0., 0., 0., 0., 0., 0., 0., 0., 0., 0.,\n",
              "       0., 0., 0., 0., 0., 0., 0., 0., 0., 0., 0., 0., 0., 0., 0., 0., 0.,\n",
              "       0., 0., 0., 0., 0., 0., 0., 0., 0., 0., 0., 0., 0., 0., 0., 0., 0.,\n",
              "       0., 0., 0., 0., 0., 0., 0., 0., 0., 0., 0., 0., 0., 0., 0., 0., 0.,\n",
              "       0., 0., 0., 0., 0., 0., 0., 0., 0., 0., 0., 0., 0., 0., 0., 0., 0.,\n",
              "       0., 0., 0., 0., 0., 0., 0., 0., 0., 0., 0., 0., 0., 0., 0., 0., 0.,\n",
              "       0., 0., 0., 0., 0., 0., 0., 0., 0., 0., 0., 0., 0., 0., 0., 0., 0.,\n",
              "       0., 0., 0., 0., 0., 0., 0., 0., 0., 0., 0., 0., 0., 0., 0., 0., 0.,\n",
              "       0., 0., 0., 0., 0., 0., 0., 0., 0., 0., 0., 0., 0., 0., 0., 0., 0.,\n",
              "       0., 0., 0., 0., 0., 0., 0., 0., 0., 0., 0., 0., 0., 0., 0., 0., 0.,\n",
              "       0., 0., 0., 0., 0., 0., 0., 0., 0., 0., 0., 0., 0., 0., 0., 0., 0.,\n",
              "       0., 0., 0., 0., 0., 0., 0., 0., 0., 0., 0.], dtype=float32)"
            ]
          },
          "metadata": {
            "tags": []
          },
          "execution_count": 26
        }
      ]
    },
    {
      "cell_type": "code",
      "metadata": {
        "colab": {
          "base_uri": "https://localhost:8080/"
        },
        "id": "zcDJaqnnQu3i",
        "outputId": "1bf22fc6-ed9d-4a4c-f954-a66e3d5bb624"
      },
      "source": [
        "biases.shape"
      ],
      "execution_count": 27,
      "outputs": [
        {
          "output_type": "execute_result",
          "data": {
            "text/plain": [
              "(300,)"
            ]
          },
          "metadata": {
            "tags": []
          },
          "execution_count": 27
        }
      ]
    },
    {
      "cell_type": "code",
      "metadata": {
        "id": "RPlwa5atQxOx"
      },
      "source": [
        "model.compile(loss=\"sparse_categorical_crossentropy\",\n",
        "               optimizer=\"sgd\",\n",
        "               metrics=\"accuracy\")    "
      ],
      "execution_count": 28,
      "outputs": []
    },
    {
      "cell_type": "code",
      "metadata": {
        "colab": {
          "base_uri": "https://localhost:8080/"
        },
        "id": "T-yH-_PVRgbE",
        "outputId": "4aac1e18-ff21-4f11-99f8-52c041e0276e"
      },
      "source": [
        "history = model.fit(X_train, y_train, epochs=30,\n",
        "                    validation_data=(X_valid, y_valid))"
      ],
      "execution_count": 29,
      "outputs": [
        {
          "output_type": "stream",
          "text": [
            "Epoch 1/30\n",
            "1719/1719 [==============================] - 6s 3ms/step - loss: 1.0035 - accuracy: 0.6747 - val_loss: 0.5459 - val_accuracy: 0.8142\n",
            "Epoch 2/30\n",
            "1719/1719 [==============================] - 5s 3ms/step - loss: 0.5026 - accuracy: 0.8242 - val_loss: 0.4379 - val_accuracy: 0.8522\n",
            "Epoch 3/30\n",
            "1719/1719 [==============================] - 5s 3ms/step - loss: 0.4551 - accuracy: 0.8401 - val_loss: 0.4278 - val_accuracy: 0.8558\n",
            "Epoch 4/30\n",
            "1719/1719 [==============================] - 5s 3ms/step - loss: 0.4219 - accuracy: 0.8518 - val_loss: 0.3921 - val_accuracy: 0.8674\n",
            "Epoch 5/30\n",
            "1719/1719 [==============================] - 5s 3ms/step - loss: 0.4049 - accuracy: 0.8560 - val_loss: 0.3958 - val_accuracy: 0.8632\n",
            "Epoch 6/30\n",
            "1719/1719 [==============================] - 5s 3ms/step - loss: 0.3885 - accuracy: 0.8665 - val_loss: 0.3787 - val_accuracy: 0.8702\n",
            "Epoch 7/30\n",
            "1719/1719 [==============================] - 5s 3ms/step - loss: 0.3620 - accuracy: 0.8736 - val_loss: 0.3595 - val_accuracy: 0.8734\n",
            "Epoch 8/30\n",
            "1719/1719 [==============================] - 5s 3ms/step - loss: 0.3546 - accuracy: 0.8744 - val_loss: 0.3615 - val_accuracy: 0.8714\n",
            "Epoch 9/30\n",
            "1719/1719 [==============================] - 5s 3ms/step - loss: 0.3527 - accuracy: 0.8743 - val_loss: 0.3632 - val_accuracy: 0.8722\n",
            "Epoch 10/30\n",
            "1719/1719 [==============================] - 5s 3ms/step - loss: 0.3361 - accuracy: 0.8802 - val_loss: 0.3428 - val_accuracy: 0.8832\n",
            "Epoch 11/30\n",
            "1719/1719 [==============================] - 5s 3ms/step - loss: 0.3279 - accuracy: 0.8821 - val_loss: 0.3357 - val_accuracy: 0.8788\n",
            "Epoch 12/30\n",
            "1719/1719 [==============================] - 5s 3ms/step - loss: 0.3267 - accuracy: 0.8853 - val_loss: 0.3330 - val_accuracy: 0.8826\n",
            "Epoch 13/30\n",
            "1719/1719 [==============================] - 5s 3ms/step - loss: 0.3148 - accuracy: 0.8886 - val_loss: 0.3252 - val_accuracy: 0.8862\n",
            "Epoch 14/30\n",
            "1719/1719 [==============================] - 5s 3ms/step - loss: 0.3016 - accuracy: 0.8930 - val_loss: 0.3263 - val_accuracy: 0.8836\n",
            "Epoch 15/30\n",
            "1719/1719 [==============================] - 5s 3ms/step - loss: 0.2961 - accuracy: 0.8939 - val_loss: 0.3284 - val_accuracy: 0.8816\n",
            "Epoch 16/30\n",
            "1719/1719 [==============================] - 5s 3ms/step - loss: 0.2937 - accuracy: 0.8955 - val_loss: 0.3195 - val_accuracy: 0.8880\n",
            "Epoch 17/30\n",
            "1719/1719 [==============================] - 5s 3ms/step - loss: 0.2857 - accuracy: 0.8965 - val_loss: 0.3269 - val_accuracy: 0.8832\n",
            "Epoch 18/30\n",
            "1719/1719 [==============================] - 5s 3ms/step - loss: 0.2854 - accuracy: 0.8976 - val_loss: 0.3197 - val_accuracy: 0.8860\n",
            "Epoch 19/30\n",
            "1719/1719 [==============================] - 5s 3ms/step - loss: 0.2794 - accuracy: 0.8998 - val_loss: 0.3162 - val_accuracy: 0.8904\n",
            "Epoch 20/30\n",
            "1719/1719 [==============================] - 5s 3ms/step - loss: 0.2725 - accuracy: 0.9017 - val_loss: 0.3186 - val_accuracy: 0.8864\n",
            "Epoch 21/30\n",
            "1719/1719 [==============================] - 5s 3ms/step - loss: 0.2644 - accuracy: 0.9045 - val_loss: 0.3030 - val_accuracy: 0.8912\n",
            "Epoch 22/30\n",
            "1719/1719 [==============================] - 5s 3ms/step - loss: 0.2615 - accuracy: 0.9057 - val_loss: 0.3041 - val_accuracy: 0.8924\n",
            "Epoch 23/30\n",
            "1719/1719 [==============================] - 5s 3ms/step - loss: 0.2567 - accuracy: 0.9075 - val_loss: 0.3096 - val_accuracy: 0.8882\n",
            "Epoch 24/30\n",
            "1719/1719 [==============================] - 6s 3ms/step - loss: 0.2532 - accuracy: 0.9089 - val_loss: 0.2997 - val_accuracy: 0.8948\n",
            "Epoch 25/30\n",
            "1719/1719 [==============================] - 6s 3ms/step - loss: 0.2494 - accuracy: 0.9096 - val_loss: 0.2981 - val_accuracy: 0.8926\n",
            "Epoch 26/30\n",
            "1719/1719 [==============================] - 5s 3ms/step - loss: 0.2446 - accuracy: 0.9115 - val_loss: 0.2995 - val_accuracy: 0.8916\n",
            "Epoch 27/30\n",
            "1719/1719 [==============================] - 5s 3ms/step - loss: 0.2396 - accuracy: 0.9133 - val_loss: 0.3022 - val_accuracy: 0.8938\n",
            "Epoch 28/30\n",
            "1719/1719 [==============================] - 5s 3ms/step - loss: 0.2350 - accuracy: 0.9158 - val_loss: 0.2971 - val_accuracy: 0.8922\n",
            "Epoch 29/30\n",
            "1719/1719 [==============================] - 5s 3ms/step - loss: 0.2275 - accuracy: 0.9176 - val_loss: 0.3110 - val_accuracy: 0.8886\n",
            "Epoch 30/30\n",
            "1719/1719 [==============================] - 5s 3ms/step - loss: 0.2313 - accuracy: 0.9170 - val_loss: 0.2992 - val_accuracy: 0.8932\n"
          ],
          "name": "stdout"
        }
      ]
    },
    {
      "cell_type": "code",
      "metadata": {
        "id": "qGKxfJQnS9rc"
      },
      "source": [
        "import pandas as pd"
      ],
      "execution_count": 30,
      "outputs": []
    },
    {
      "cell_type": "code",
      "metadata": {
        "colab": {
          "base_uri": "https://localhost:8080/",
          "height": 324
        },
        "id": "ddV142KGYZUP",
        "outputId": "5fd2af02-9c93-49e3-fd6b-f30cf2e7b864"
      },
      "source": [
        "fig = pd.DataFrame(history.history).plot(figsize=(8, 5))\n",
        "fig.grid(True)\n",
        "plt.gca().set_ylim(0, 1)\n",
        "fig.set_facecolor(\"white\")\n",
        "plt.show()"
      ],
      "execution_count": 31,
      "outputs": [
        {
          "output_type": "display_data",
          "data": {
            "image/png": "[encoded data removed]",
            "text/plain": [
              "<Figure size 576x360 with 1 Axes>"
            ]
          },
          "metadata": {
            "tags": [],
            "needs_background": "light"
          }
        }
      ]
    },
    {
      "cell_type": "code",
      "metadata": {
        "colab": {
          "base_uri": "https://localhost:8080/"
        },
        "id": "t8tyIaE2YmLe",
        "outputId": "29a2b13a-5b24-4127-a239-9e2ab534fd48"
      },
      "source": [
        "model.evaluate(X_test, y_test)"
      ],
      "execution_count": 32,
      "outputs": [
        {
          "output_type": "stream",
          "text": [
            "313/313 [==============================] - 1s 2ms/step - loss: 56.7772 - accuracy: 0.8624\n"
          ],
          "name": "stdout"
        },
        {
          "output_type": "execute_result",
          "data": {
            "text/plain": [
              "[56.77720642089844, 0.8623999953269958]"
            ]
          },
          "metadata": {
            "tags": []
          },
          "execution_count": 32
        }
      ]
    },
    {
      "cell_type": "code",
      "metadata": {
        "colab": {
          "base_uri": "https://localhost:8080/"
        },
        "id": "H10SEo-xazWn",
        "outputId": "83438710-cfd0-4d06-cc90-d76c5e4bc926"
      },
      "source": [
        "X_new = X_test[:3]\n",
        "y_proba = model.predict(X_new)\n",
        "y_proba.round(2)"
      ],
      "execution_count": 33,
      "outputs": [
        {
          "output_type": "execute_result",
          "data": {
            "text/plain": [
              "array([[0., 0., 0., 0., 0., 0., 0., 0., 0., 1.],\n",
              "       [0., 0., 1., 0., 0., 0., 0., 0., 0., 0.],\n",
              "       [0., 1., 0., 0., 0., 0., 0., 0., 0., 0.]], dtype=float32)"
            ]
          },
          "metadata": {
            "tags": []
          },
          "execution_count": 33
        }
      ]
    },
    {
      "cell_type": "code",
      "metadata": {
        "colab": {
          "base_uri": "https://localhost:8080/"
        },
        "id": "3Jy3sbIgbq3p",
        "outputId": "ea0795c0-dcae-43ca-a486-d6654025ee06"
      },
      "source": [
        "y_pred = np.argmax(model.predict(X_new), axis=1)\n",
        "y_pred"
      ],
      "execution_count": 34,
      "outputs": [
        {
          "output_type": "execute_result",
          "data": {
            "text/plain": [
              "array([9, 2, 1])"
            ]
          },
          "metadata": {
            "tags": []
          },
          "execution_count": 34
        }
      ]
    },
    {
      "cell_type": "code",
      "metadata": {
        "colab": {
          "base_uri": "https://localhost:8080/"
        },
        "id": "jqgLHuDJb-Ut",
        "outputId": "033caa8c-b6f2-4ef6-b097-d6c4280407d0"
      },
      "source": [
        "np.array(class_names)[y_pred]"
      ],
      "execution_count": 35,
      "outputs": [
        {
          "output_type": "execute_result",
          "data": {
            "text/plain": [
              "array(['Ankle boot', 'Pullover', 'Trouser'], dtype='<U11')"
            ]
          },
          "metadata": {
            "tags": []
          },
          "execution_count": 35
        }
      ]
    },
    {
      "cell_type": "code",
      "metadata": {
        "colab": {
          "base_uri": "https://localhost:8080/"
        },
        "id": "cBoOt1ipcSFp",
        "outputId": "7725796d-2b15-4b46-da3a-0002ff200054"
      },
      "source": [
        "y_new = y_test[:3]\n",
        "y_new"
      ],
      "execution_count": 36,
      "outputs": [
        {
          "output_type": "execute_result",
          "data": {
            "text/plain": [
              "array([9, 2, 1], dtype=uint8)"
            ]
          },
          "metadata": {
            "tags": []
          },
          "execution_count": 36
        }
      ]
    },
    {
      "cell_type": "code",
      "metadata": {
        "id": "pydQnE7Ecex7"
      },
      "source": [
        "from sklearn.datasets import fetch_california_housing\n",
        "from sklearn.model_selection import train_test_split\n",
        "from sklearn.preprocessing import StandardScaler"
      ],
      "execution_count": 37,
      "outputs": []
    },
    {
      "cell_type": "code",
      "metadata": {
        "colab": {
          "base_uri": "https://localhost:8080/"
        },
        "id": "ik4tDjN2c0X_",
        "outputId": "b531e428-7877-47e4-8f9c-e55a5c9792e0"
      },
      "source": [
        "housing = fetch_california_housing()\n",
        "\n",
        "X_train_full, X_test, y_train_full, y_test = train_test_split(housing.data, housing.target)\n",
        "X_train, X_valid, y_train, y_valid = train_test_split(X_train_full, y_train_full)\n",
        "\n",
        "scaler = StandardScaler()\n",
        "X_train = scaler.fit_transform(X_train)\n",
        "X_valid = scaler.transform(X_valid)\n",
        "X_test = scaler.transform(X_test)"
      ],
      "execution_count": 38,
      "outputs": [
        {
          "output_type": "stream",
          "text": [
            "Downloading Cal. housing from https://ndownloader.figshare.com/files/5976036 to /root/scikit_learn_data\n"
          ],
          "name": "stderr"
        }
      ]
    },
    {
      "cell_type": "code",
      "metadata": {
        "colab": {
          "base_uri": "https://localhost:8080/"
        },
        "id": "5Q5jxCOCdgjR",
        "outputId": "4c0d16a2-c8f1-44fe-e118-e7a854a749ec"
      },
      "source": [
        "model = keras.models.Sequential([\n",
        "    keras.layers.Dense(30, activation=\"relu\", input_shape=X_train.shape[1:]),\n",
        "    keras.layers.Dense(1),\n",
        "])\n",
        "\n",
        "model.compile(loss=\"mean_squared_error\", optimizer=\"sgd\")\n",
        "history = model.fit(X_train, y_train, epochs=20, \n",
        "                    validation_data=(X_valid, y_valid))\n",
        "mse_model = model.evaluate(X_test, y_test)\n",
        "X_new = X_test[:3]\n",
        "y_pred = model.predict(X_new)"
      ],
      "execution_count": 39,
      "outputs": [
        {
          "output_type": "stream",
          "text": [
            "Epoch 1/20\n",
            "363/363 [==============================] - 1s 1ms/step - loss: 1.1893 - val_loss: 0.5375\n",
            "Epoch 2/20\n",
            "363/363 [==============================] - 0s 1ms/step - loss: 0.5003 - val_loss: 0.5337\n",
            "Epoch 3/20\n",
            "363/363 [==============================] - 0s 1ms/step - loss: 0.6517 - val_loss: 0.4716\n",
            "Epoch 4/20\n",
            "363/363 [==============================] - 0s 1ms/step - loss: 0.4335 - val_loss: 0.4124\n",
            "Epoch 5/20\n",
            "363/363 [==============================] - 0s 1ms/step - loss: 0.3994 - val_loss: 0.3916\n",
            "Epoch 6/20\n",
            "363/363 [==============================] - 0s 1ms/step - loss: 0.3787 - val_loss: 0.3888\n",
            "Epoch 7/20\n",
            "363/363 [==============================] - 0s 1ms/step - loss: 0.3802 - val_loss: 0.3838\n",
            "Epoch 8/20\n",
            "363/363 [==============================] - 0s 1ms/step - loss: 0.4430 - val_loss: 0.3809\n",
            "Epoch 9/20\n",
            "363/363 [==============================] - 0s 1ms/step - loss: 0.3857 - val_loss: 0.3764\n",
            "Epoch 10/20\n",
            "363/363 [==============================] - 0s 1ms/step - loss: 0.3598 - val_loss: 0.3751\n",
            "Epoch 11/20\n",
            "363/363 [==============================] - 0s 1ms/step - loss: 0.3413 - val_loss: 0.3692\n",
            "Epoch 12/20\n",
            "363/363 [==============================] - 0s 1ms/step - loss: 0.3574 - val_loss: 0.3649\n",
            "Epoch 13/20\n",
            "363/363 [==============================] - 0s 1ms/step - loss: 0.3636 - val_loss: 0.3658\n",
            "Epoch 14/20\n",
            "363/363 [==============================] - 0s 1ms/step - loss: 0.3468 - val_loss: 0.3610\n",
            "Epoch 15/20\n",
            "363/363 [==============================] - 0s 1ms/step - loss: 0.3572 - val_loss: 0.3545\n",
            "Epoch 16/20\n",
            "363/363 [==============================] - 0s 1ms/step - loss: 0.3432 - val_loss: 0.3536\n",
            "Epoch 17/20\n",
            "363/363 [==============================] - 0s 1ms/step - loss: 0.3459 - val_loss: 0.3506\n",
            "Epoch 18/20\n",
            "363/363 [==============================] - 0s 1ms/step - loss: 0.3493 - val_loss: 0.3551\n",
            "Epoch 19/20\n",
            "363/363 [==============================] - 0s 1ms/step - loss: 0.3574 - val_loss: 0.3540\n",
            "Epoch 20/20\n",
            "363/363 [==============================] - 0s 1ms/step - loss: 0.3392 - val_loss: 0.3435\n",
            "162/162 [==============================] - 0s 845us/step - loss: 0.3735\n"
          ],
          "name": "stdout"
        }
      ]
    },
    {
      "cell_type": "markdown",
      "metadata": {
        "id": "hJaImd7yi356"
      },
      "source": [
        "## Complex Models:"
      ]
    },
    {
      "cell_type": "code",
      "metadata": {
        "id": "IkFE5hFBebxo"
      },
      "source": [
        "input_ = keras.layers.Input(shape=X_train.shape[1:])\n",
        "hidden1 = keras.layers.Dense(30, activation=\"relu\")(input_)\n",
        "hidden2 = keras.layers.Dense(30, activation=\"relu\")(hidden1)\n",
        "concat = keras.layers.Concatenate()([input_, hidden2])\n",
        "output = keras.layers.Dense(1)(concat)\n",
        "model = keras.Model(inputs=[input_], outputs=[output])"
      ],
      "execution_count": 40,
      "outputs": []
    },
    {
      "cell_type": "code",
      "metadata": {
        "colab": {
          "base_uri": "https://localhost:8080/"
        },
        "id": "kwamFLLNi9ei",
        "outputId": "6023fdf9-dce4-4d6f-c053-298ff0f426b6"
      },
      "source": [
        "input_A = keras.layers.Input(shape=[5], name=\"wide_input\")\n",
        "input_B = keras.layers.Input(shape=[6], name=\"deep_input\")\n",
        "hidden1 = keras.layers.Dense(30, activation=\"relu\")(input_B)\n",
        "hidden2 = keras.layers.Dense(30, activation=\"relu\")(hidden1)\n",
        "concat = keras.layers.concatenate([input_A, input_B])\n",
        "output = keras.layers.Dense(1, name=\"output\")(concat)\n",
        "model = keras.Model(inputs=[input_A, input_B], outputs=[output])\n",
        "\n",
        "model.compile(loss=\"mse\", optimizer=keras.optimizers.SGD(lr=1e-3))\n",
        "\n",
        "X_train_A, X_train_B = X_train[:, :5], X_train[:, 2:]\n",
        "X_valid_A, X_valid_B = X_valid[:, :5], X_valid[:, 2:]\n",
        "X_test_A, X_test_B = X_test[:, :5], X_test[:, 2:]\n",
        "X_new_A, X_new_B = X_test_A[:3], X_test_B[:3]\n",
        "\n",
        "history = model.fit((X_train_A, X_train_B), y_train, epochs=20,\n",
        "                    validation_data=((X_valid_A, X_valid_B), y_valid))\n",
        "mse_test = model.evaluate((X_test_A, X_test_B), y_test)\n",
        "y_pred = model.predict((X_new_A, X_new_B))\n",
        "y_pred"
      ],
      "execution_count": 41,
      "outputs": [
        {
          "output_type": "stream",
          "text": [
            "Epoch 1/20\n",
            "363/363 [==============================] - 1s 1ms/step - loss: 4.5402 - val_loss: 1.9105\n",
            "Epoch 2/20\n",
            "363/363 [==============================] - 0s 1ms/step - loss: 1.5438 - val_loss: 1.0327\n",
            "Epoch 3/20\n",
            "363/363 [==============================] - 0s 1ms/step - loss: 0.9506 - val_loss: 0.8040\n",
            "Epoch 4/20\n",
            "363/363 [==============================] - 0s 1ms/step - loss: 0.7675 - val_loss: 0.7269\n",
            "Epoch 5/20\n",
            "363/363 [==============================] - 0s 1ms/step - loss: 0.6903 - val_loss: 0.6923\n",
            "Epoch 6/20\n",
            "363/363 [==============================] - 0s 1ms/step - loss: 0.6775 - val_loss: 0.6675\n",
            "Epoch 7/20\n",
            "363/363 [==============================] - 0s 1ms/step - loss: 0.6356 - val_loss: 0.6436\n",
            "Epoch 8/20\n",
            "363/363 [==============================] - 0s 1ms/step - loss: 0.6196 - val_loss: 0.6299\n",
            "Epoch 9/20\n",
            "363/363 [==============================] - 0s 1ms/step - loss: 0.6046 - val_loss: 0.6123\n",
            "Epoch 10/20\n",
            "363/363 [==============================] - 1s 1ms/step - loss: 0.6067 - val_loss: 0.5994\n",
            "Epoch 11/20\n",
            "363/363 [==============================] - 0s 1ms/step - loss: 0.6142 - val_loss: 0.5874\n",
            "Epoch 12/20\n",
            "363/363 [==============================] - 1s 1ms/step - loss: 0.5825 - val_loss: 0.5818\n",
            "Epoch 13/20\n",
            "363/363 [==============================] - 0s 1ms/step - loss: 0.5584 - val_loss: 0.5739\n",
            "Epoch 14/20\n",
            "363/363 [==============================] - 1s 1ms/step - loss: 0.5714 - val_loss: 0.5659\n",
            "Epoch 15/20\n",
            "363/363 [==============================] - 0s 1ms/step - loss: 0.5400 - val_loss: 0.5608\n",
            "Epoch 16/20\n",
            "363/363 [==============================] - 1s 1ms/step - loss: 0.5429 - val_loss: 0.5549\n",
            "Epoch 17/20\n",
            "363/363 [==============================] - 1s 1ms/step - loss: 0.5533 - val_loss: 0.5507\n",
            "Epoch 18/20\n",
            "363/363 [==============================] - 1s 1ms/step - loss: 0.5508 - val_loss: 0.5454\n",
            "Epoch 19/20\n",
            "363/363 [==============================] - 0s 1ms/step - loss: 0.5498 - val_loss: 0.5435\n",
            "Epoch 20/20\n",
            "363/363 [==============================] - 1s 1ms/step - loss: 0.5388 - val_loss: 0.5396\n",
            "162/162 [==============================] - 0s 935us/step - loss: 0.9765\n"
          ],
          "name": "stdout"
        },
        {
          "output_type": "execute_result",
          "data": {
            "text/plain": [
              "array([[1.9213536],\n",
              "       [1.6636106],\n",
              "       [2.2090874]], dtype=float32)"
            ]
          },
          "metadata": {
            "tags": []
          },
          "execution_count": 41
        }
      ]
    },
    {
      "cell_type": "code",
      "metadata": {
        "colab": {
          "base_uri": "https://localhost:8080/"
        },
        "id": "emmq-AOmjv0G",
        "outputId": "5a747d2d-832d-4e31-931a-4b5fd626802e"
      },
      "source": [
        "input_A = keras.layers.Input(shape=[5], name=\"wide_input\")\n",
        "input_B = keras.layers.Input(shape=[6], name=\"deep_input\")\n",
        "hidden1 = keras.layers.Dense(30, activation=\"relu\")(input_B)\n",
        "hidden2 = keras.layers.Dense(30, activation=\"relu\")(hidden1)\n",
        "concat = keras.layers.concatenate([input_A, input_B])\n",
        "output = keras.layers.Dense(1, name=\"main_output\")(concat)\n",
        "aux_output = keras.layers.Dense(1, name=\"auxillary_output\")(hidden2)\n",
        "model = keras.Model(inputs=[input_A, input_B], outputs=[output, aux_output])\n",
        "\n",
        "\n",
        "model.compile(loss=[\"mse\", \"mse\"], loss_weights=[0.9, 0.1], optimizer=\"sgd\")\n",
        "\n",
        "history = model.fit([X_train_A, X_train_B], [y_train, y_train], epochs=20,\n",
        "                    validation_data=([X_valid_A, X_valid_B], [y_valid, y_valid]))\n",
        "\n",
        "total_loss, main_loss, aux_loss = model.evaluate([X_test_A, X_test_B], [y_test, y_test])\n",
        "total_loss, main_loss, aux_loss"
      ],
      "execution_count": 42,
      "outputs": [
        {
          "output_type": "stream",
          "text": [
            "Epoch 1/20\n",
            "363/363 [==============================] - 1s 3ms/step - loss: 2.4991 - main_output_loss: 2.4238 - auxillary_output_loss: 3.1767 - val_loss: 0.7186 - val_main_output_loss: 0.6465 - val_auxillary_output_loss: 1.3673\n",
            "Epoch 2/20\n",
            "363/363 [==============================] - 1s 2ms/step - loss: 1.4831 - main_output_loss: 1.4904 - auxillary_output_loss: 1.4176 - val_loss: 0.9239 - val_main_output_loss: 0.8902 - val_auxillary_output_loss: 1.2268\n",
            "Epoch 3/20\n",
            "363/363 [==============================] - 1s 2ms/step - loss: 0.7069 - main_output_loss: 0.6467 - auxillary_output_loss: 1.2489 - val_loss: 0.6333 - val_main_output_loss: 0.5781 - val_auxillary_output_loss: 1.1301\n",
            "Epoch 4/20\n",
            "363/363 [==============================] - 1s 2ms/step - loss: 0.7827 - main_output_loss: 0.7473 - auxillary_output_loss: 1.1012 - val_loss: 1.2449 - val_main_output_loss: 1.2701 - val_auxillary_output_loss: 1.0186\n",
            "Epoch 5/20\n",
            "363/363 [==============================] - 1s 2ms/step - loss: 1.0613 - main_output_loss: 1.0688 - auxillary_output_loss: 0.9936 - val_loss: 1.0191 - val_main_output_loss: 1.0305 - val_auxillary_output_loss: 0.9166\n",
            "Epoch 6/20\n",
            "363/363 [==============================] - 1s 2ms/step - loss: 5.3510 - main_output_loss: 5.8450 - auxillary_output_loss: 0.9053 - val_loss: 1.5394 - val_main_output_loss: 1.6188 - val_auxillary_output_loss: 0.8248\n",
            "Epoch 7/20\n",
            "363/363 [==============================] - 1s 2ms/step - loss: 3.2927 - main_output_loss: 3.5682 - auxillary_output_loss: 0.8133 - val_loss: 1.8824 - val_main_output_loss: 2.0081 - val_auxillary_output_loss: 0.7517\n",
            "Epoch 8/20\n",
            "363/363 [==============================] - 1s 2ms/step - loss: 5.0658 - main_output_loss: 5.5480 - auxillary_output_loss: 0.7260 - val_loss: 3.9316 - val_main_output_loss: 4.2909 - val_auxillary_output_loss: 0.6980\n",
            "Epoch 9/20\n",
            "363/363 [==============================] - 1s 2ms/step - loss: 11.5410 - main_output_loss: 12.7476 - auxillary_output_loss: 0.6810 - val_loss: 5.9832 - val_main_output_loss: 6.5746 - val_auxillary_output_loss: 0.6603\n",
            "Epoch 10/20\n",
            "363/363 [==============================] - 1s 2ms/step - loss: 7.7491 - main_output_loss: 8.5369 - auxillary_output_loss: 0.6593 - val_loss: 13.4270 - val_main_output_loss: 14.8488 - val_auxillary_output_loss: 0.6313\n",
            "Epoch 11/20\n",
            "363/363 [==============================] - 1s 2ms/step - loss: 12.6327 - main_output_loss: 13.9664 - auxillary_output_loss: 0.6294 - val_loss: 19.4961 - val_main_output_loss: 21.5942 - val_auxillary_output_loss: 0.6134\n",
            "Epoch 12/20\n",
            "363/363 [==============================] - 1s 2ms/step - loss: 5.3728 - main_output_loss: 5.9002 - auxillary_output_loss: 0.6260 - val_loss: 49.7016 - val_main_output_loss: 55.1576 - val_auxillary_output_loss: 0.5974\n",
            "Epoch 13/20\n",
            "363/363 [==============================] - 1s 2ms/step - loss: 18.1045 - main_output_loss: 20.0475 - auxillary_output_loss: 0.6178 - val_loss: 74.4822 - val_main_output_loss: 82.6926 - val_auxillary_output_loss: 0.5883\n",
            "Epoch 14/20\n",
            "363/363 [==============================] - 1s 2ms/step - loss: 171.4613 - main_output_loss: 190.4490 - auxillary_output_loss: 0.5732 - val_loss: 139.6907 - val_main_output_loss: 155.1479 - val_auxillary_output_loss: 0.5756\n",
            "Epoch 15/20\n",
            "363/363 [==============================] - 1s 2ms/step - loss: 163.7459 - main_output_loss: 181.8733 - auxillary_output_loss: 0.5989 - val_loss: 241.3989 - val_main_output_loss: 268.1576 - val_auxillary_output_loss: 0.5699\n",
            "Epoch 16/20\n",
            "363/363 [==============================] - 1s 2ms/step - loss: 93.7618 - main_output_loss: 104.1153 - auxillary_output_loss: 0.5807 - val_loss: 535.4219 - val_main_output_loss: 594.8513 - val_auxillary_output_loss: 0.5606\n",
            "Epoch 17/20\n",
            "363/363 [==============================] - 1s 2ms/step - loss: 151.7704 - main_output_loss: 168.5725 - auxillary_output_loss: 0.5507 - val_loss: 818.7336 - val_main_output_loss: 909.6419 - val_auxillary_output_loss: 0.5579\n",
            "Epoch 18/20\n",
            "363/363 [==============================] - 1s 2ms/step - loss: 196.4490 - main_output_loss: 218.2135 - auxillary_output_loss: 0.5689 - val_loss: 1634.9481 - val_main_output_loss: 1816.5472 - val_auxillary_output_loss: 0.5481\n",
            "Epoch 19/20\n",
            "363/363 [==============================] - 1s 2ms/step - loss: 820.4845 - main_output_loss: 911.5876 - auxillary_output_loss: 0.5582 - val_loss: 2837.8525 - val_main_output_loss: 3153.1091 - val_auxillary_output_loss: 0.5460\n",
            "Epoch 20/20\n",
            "363/363 [==============================] - 1s 2ms/step - loss: 1285.9698 - main_output_loss: 1428.7948 - auxillary_output_loss: 0.5465 - val_loss: 5151.5674 - val_main_output_loss: 5723.9048 - val_auxillary_output_loss: 0.5364\n",
            "162/162 [==============================] - 0s 1ms/step - loss: 814849.2500 - main_output_loss: 905388.1250 - auxillary_output_loss: 0.7061\n"
          ],
          "name": "stdout"
        },
        {
          "output_type": "execute_result",
          "data": {
            "text/plain": [
              "(814849.25, 905388.125, 0.7061370015144348)"
            ]
          },
          "metadata": {
            "tags": []
          },
          "execution_count": 42
        }
      ]
    },
    {
      "cell_type": "code",
      "metadata": {
        "colab": {
          "base_uri": "https://localhost:8080/"
        },
        "id": "23zc9TRunob6",
        "outputId": "d9db902b-e289-4075-9b12-1ce28ef8d2bf"
      },
      "source": [
        "y_pred_main, y_pred_aux = model.predict([X_new_A, X_new_B])\n",
        "y_pred_main, y_pred_aux"
      ],
      "execution_count": 43,
      "outputs": [
        {
          "output_type": "execute_result",
          "data": {
            "text/plain": [
              "(array([[-25.07661  ],\n",
              "        [  6.1562443],\n",
              "        [-37.81606  ]], dtype=float32), array([[2.379313 ],\n",
              "        [1.7641158],\n",
              "        [2.467177 ]], dtype=float32))"
            ]
          },
          "metadata": {
            "tags": []
          },
          "execution_count": 43
        }
      ]
    },
    {
      "cell_type": "code",
      "metadata": {
        "id": "n6bAGu4JopOB"
      },
      "source": [
        "class WideAndDeepModel(keras.Model):\n",
        "    def __init__(self, units=10, activation=\"relu\", **kwargs):\n",
        "        super().__init__(**kwargs)\n",
        "        self.hidden1 = keras.layers.Dense(units, activation=activation)\n",
        "        self.hidden2 = keras.layers.Dense(units, activation=activation)\n",
        "        self.main_output = keras.layers.Dense(1)\n",
        "        self.aux_output = keras.layers.Dense(1)\n",
        "\n",
        "    def call(self, inputs):\n",
        "        input_A, input_B = inputs\n",
        "        hidden1 = self.hidden1(input_B)\n",
        "        hidden2 = self.hidden2(hidden1)\n",
        "        concat = keras.layers.concatenate([input_A, hidden2])\n",
        "        main_output = self.main_output(concat)\n",
        "        aux_output = self.aux_output(hidden2)\n",
        "        return main_output, aux_output"
      ],
      "execution_count": 44,
      "outputs": []
    },
    {
      "cell_type": "code",
      "metadata": {
        "id": "O87pNSMA1TS4"
      },
      "source": [
        "model = WideAndDeepModel()\n",
        "model.compile(loss=[\"mse\", \"mse\"], loss_weights=[0.9, 0.1], optimizer=\"sgd\")"
      ],
      "execution_count": 47,
      "outputs": []
    },
    {
      "cell_type": "code",
      "metadata": {
        "colab": {
          "base_uri": "https://localhost:8080/"
        },
        "id": "A6rMzgXD2HV-",
        "outputId": "1d870a57-62fb-41a6-a08a-1939eb5738b8"
      },
      "source": [
        "model.summary()"
      ],
      "execution_count": 51,
      "outputs": [
        {
          "output_type": "stream",
          "text": [
            "Model: \"wide_and_deep_model_1\"\n",
            "_________________________________________________________________\n",
            "Layer (type)                 Output Shape              Param #   \n",
            "=================================================================\n",
            "dense_16 (Dense)             multiple                  70        \n",
            "_________________________________________________________________\n",
            "dense_17 (Dense)             multiple                  110       \n",
            "_________________________________________________________________\n",
            "dense_18 (Dense)             multiple                  16        \n",
            "_________________________________________________________________\n",
            "dense_19 (Dense)             multiple                  11        \n",
            "=================================================================\n",
            "Total params: 207\n",
            "Trainable params: 207\n",
            "Non-trainable params: 0\n",
            "_________________________________________________________________\n"
          ],
          "name": "stdout"
        }
      ]
    },
    {
      "cell_type": "code",
      "metadata": {
        "colab": {
          "base_uri": "https://localhost:8080/"
        },
        "id": "rKn1K3Eb1Vhg",
        "outputId": "e0db2499-e6fb-47c6-ceb6-fd5838eecd6c"
      },
      "source": [
        "history = model.fit((X_train_A, X_train_B), y_train, epochs=20)"
      ],
      "execution_count": 49,
      "outputs": [
        {
          "output_type": "stream",
          "text": [
            "Epoch 1/20\n",
            "363/363 [==============================] - 0s 1ms/step - loss: 0.6584 - output_1_loss: 0.6256 - output_2_loss: 0.9542\n",
            "Epoch 2/20\n",
            "363/363 [==============================] - 0s 1ms/step - loss: 0.5321 - output_1_loss: 0.4982 - output_2_loss: 0.8374\n",
            "Epoch 3/20\n",
            "363/363 [==============================] - 0s 1ms/step - loss: 0.4630 - output_1_loss: 0.4373 - output_2_loss: 0.6938\n",
            "Epoch 4/20\n",
            "363/363 [==============================] - 0s 1ms/step - loss: 0.4434 - output_1_loss: 0.4195 - output_2_loss: 0.6592\n",
            "Epoch 5/20\n",
            "363/363 [==============================] - 0s 1ms/step - loss: 0.4718 - output_1_loss: 0.4460 - output_2_loss: 0.7046\n",
            "Epoch 6/20\n",
            "363/363 [==============================] - 0s 1ms/step - loss: 0.4448 - output_1_loss: 0.4235 - output_2_loss: 0.6365\n",
            "Epoch 7/20\n",
            "363/363 [==============================] - 0s 1ms/step - loss: 0.4312 - output_1_loss: 0.4105 - output_2_loss: 0.6172\n",
            "Epoch 8/20\n",
            "363/363 [==============================] - 0s 1ms/step - loss: 0.4224 - output_1_loss: 0.4015 - output_2_loss: 0.6103\n",
            "Epoch 9/20\n",
            "363/363 [==============================] - 0s 1ms/step - loss: 0.4218 - output_1_loss: 0.4017 - output_2_loss: 0.6033\n",
            "Epoch 10/20\n",
            "363/363 [==============================] - 0s 1ms/step - loss: 0.4188 - output_1_loss: 0.3992 - output_2_loss: 0.5947\n",
            "Epoch 11/20\n",
            "363/363 [==============================] - 0s 1ms/step - loss: 0.4188 - output_1_loss: 0.3991 - output_2_loss: 0.5960\n",
            "Epoch 12/20\n",
            "363/363 [==============================] - 0s 1ms/step - loss: 0.4132 - output_1_loss: 0.3939 - output_2_loss: 0.5870\n",
            "Epoch 13/20\n",
            "363/363 [==============================] - 0s 1ms/step - loss: 0.4093 - output_1_loss: 0.3893 - output_2_loss: 0.5894\n",
            "Epoch 14/20\n",
            "363/363 [==============================] - 0s 1ms/step - loss: 0.4091 - output_1_loss: 0.3893 - output_2_loss: 0.5875\n",
            "Epoch 15/20\n",
            "363/363 [==============================] - 0s 1ms/step - loss: 0.4071 - output_1_loss: 0.3887 - output_2_loss: 0.5732\n",
            "Epoch 16/20\n",
            "363/363 [==============================] - 0s 1ms/step - loss: 0.4125 - output_1_loss: 0.3933 - output_2_loss: 0.5847\n",
            "Epoch 17/20\n",
            "363/363 [==============================] - 0s 1ms/step - loss: 0.3990 - output_1_loss: 0.3801 - output_2_loss: 0.5690\n",
            "Epoch 18/20\n",
            "363/363 [==============================] - 0s 1ms/step - loss: 0.3984 - output_1_loss: 0.3797 - output_2_loss: 0.5670\n",
            "Epoch 19/20\n",
            "363/363 [==============================] - 0s 1ms/step - loss: 0.3953 - output_1_loss: 0.3759 - output_2_loss: 0.5700\n",
            "Epoch 20/20\n",
            "363/363 [==============================] - 0s 1ms/step - loss: 0.3926 - output_1_loss: 0.3736 - output_2_loss: 0.5637\n"
          ],
          "name": "stdout"
        }
      ]
    },
    {
      "cell_type": "code",
      "metadata": {
        "colab": {
          "base_uri": "https://localhost:8080/",
          "height": 324
        },
        "id": "pmt4lon21jmS",
        "outputId": "835b95f1-6135-4329-a593-d924daee7b23"
      },
      "source": [
        "fig = pd.DataFrame(history.history).plot(figsize=(8, 5))\n",
        "fig.grid(True)\n",
        "plt.gca().set_ylim(0, 1)\n",
        "fig.set_facecolor(\"white\")\n",
        "plt.show()"
      ],
      "execution_count": 50,
      "outputs": [
        {
          "output_type": "display_data",
          "data": {
            "image/png": "[encoded data removed]",
            "text/plain": [
              "<Figure size 576x360 with 1 Axes>"
            ]
          },
          "metadata": {
            "tags": [],
            "needs_background": "light"
          }
        }
      ]
    },
    {
      "cell_type": "code",
      "metadata": {
        "colab": {
          "base_uri": "https://localhost:8080/"
        },
        "id": "1z442-4F2wBG",
        "outputId": "c3b36a42-24ec-47aa-dafb-c3c827bf6531"
      },
      "source": [
        "input_A = keras.layers.Input(shape=[5], name=\"Input_A\")\n",
        "input_B = keras.layers.Input(shape=[6], name=\"Input_B\")\n",
        "hidden1 = keras.layers.Dense(units=30, activation=\"relu\")(input_B)\n",
        "hidden2 = keras.layers.Dense(units=30, activation=\"relu\")(hidden1)\n",
        "concat = keras.layers.Concatenate()([input_A, hidden2])\n",
        "main_output = keras.layers.Dense(1, name=\"main_output\")(concat)\n",
        "aux_output = keras.layers.Dense(1, name=\"aux_output\")(hidden2)\n",
        "model = keras.Model(inputs=[input_A, input_B], outputs=[main_output, aux_output])\n",
        "model.compile(loss=[\"mse\", \"mse\"], loss_weights=[0.9, 0.1], optimizer=\"sgd\")\n",
        "\n",
        "model.fit((X_train_A, X_train_B), y_train, epochs=20, validation_batch_size=0.2)\n",
        "\n",
        "model.save(\"my_keras_model.h5\")   # Keras saves the model HDF5 format"
      ],
      "execution_count": 55,
      "outputs": [
        {
          "output_type": "stream",
          "text": [
            "Epoch 1/20\n",
            "363/363 [==============================] - 1s 1ms/step - loss: 1.7849 - main_output_loss: 1.6953 - aux_output_loss: 2.5915\n",
            "Epoch 2/20\n",
            "363/363 [==============================] - 0s 1ms/step - loss: 0.5882 - main_output_loss: 0.5351 - aux_output_loss: 1.0662\n",
            "Epoch 3/20\n",
            "363/363 [==============================] - 0s 1ms/step - loss: 0.4863 - main_output_loss: 0.4447 - aux_output_loss: 0.8610\n",
            "Epoch 4/20\n",
            "363/363 [==============================] - 0s 1ms/step - loss: 0.4451 - main_output_loss: 0.4131 - aux_output_loss: 0.7332\n",
            "Epoch 5/20\n",
            "363/363 [==============================] - 0s 1ms/step - loss: 0.4277 - main_output_loss: 0.3991 - aux_output_loss: 0.6848\n",
            "Epoch 6/20\n",
            "363/363 [==============================] - 0s 1ms/step - loss: 0.4193 - main_output_loss: 0.3969 - aux_output_loss: 0.6213\n",
            "Epoch 7/20\n",
            "363/363 [==============================] - 0s 1ms/step - loss: 0.4325 - main_output_loss: 0.4133 - aux_output_loss: 0.6050\n",
            "Epoch 8/20\n",
            "363/363 [==============================] - 0s 1ms/step - loss: 0.4223 - main_output_loss: 0.4031 - aux_output_loss: 0.5942\n",
            "Epoch 9/20\n",
            "363/363 [==============================] - 0s 1ms/step - loss: 0.4488 - main_output_loss: 0.4342 - aux_output_loss: 0.5806\n",
            "Epoch 10/20\n",
            "363/363 [==============================] - 0s 1ms/step - loss: 0.4020 - main_output_loss: 0.3829 - aux_output_loss: 0.5739\n",
            "Epoch 11/20\n",
            "363/363 [==============================] - 0s 1ms/step - loss: 0.3970 - main_output_loss: 0.3810 - aux_output_loss: 0.5408\n",
            "Epoch 12/20\n",
            "363/363 [==============================] - 0s 1ms/step - loss: 0.3810 - main_output_loss: 0.3620 - aux_output_loss: 0.5516\n",
            "Epoch 13/20\n",
            "363/363 [==============================] - 0s 1ms/step - loss: 0.3854 - main_output_loss: 0.3720 - aux_output_loss: 0.5064\n",
            "Epoch 14/20\n",
            "363/363 [==============================] - 0s 1ms/step - loss: 0.3897 - main_output_loss: 0.3754 - aux_output_loss: 0.5182\n",
            "Epoch 15/20\n",
            "363/363 [==============================] - 0s 1ms/step - loss: 0.3704 - main_output_loss: 0.3576 - aux_output_loss: 0.4856\n",
            "Epoch 16/20\n",
            "363/363 [==============================] - 0s 1ms/step - loss: 0.3669 - main_output_loss: 0.3542 - aux_output_loss: 0.4805\n",
            "Epoch 17/20\n",
            "363/363 [==============================] - 0s 1ms/step - loss: 0.3651 - main_output_loss: 0.3521 - aux_output_loss: 0.4819\n",
            "Epoch 18/20\n",
            "363/363 [==============================] - 0s 1ms/step - loss: 0.3510 - main_output_loss: 0.3387 - aux_output_loss: 0.4619\n",
            "Epoch 19/20\n",
            "363/363 [==============================] - 0s 1ms/step - loss: 0.3523 - main_output_loss: 0.3399 - aux_output_loss: 0.4638\n",
            "Epoch 20/20\n",
            "363/363 [==============================] - 0s 1ms/step - loss: 0.3823 - main_output_loss: 0.3721 - aux_output_loss: 0.4743\n"
          ],
          "name": "stdout"
        }
      ]
    },
    {
      "cell_type": "code",
      "metadata": {
        "id": "txxX0_Mv3S5N"
      },
      "source": [
        "model = keras.models.load_model(\"my_keras_model.h5\")"
      ],
      "execution_count": 56,
      "outputs": []
    },
    {
      "cell_type": "code",
      "metadata": {
        "id": "uDPwjZcX-Bzv"
      },
      "source": [
        "checkpoint_cb = keras.callbacks.ModelCheckpoint(\"my_keras_model.h5\")\n",
        "history = model.fit(X_train)"
      ],
      "execution_count": null,
      "outputs": []
    }
  ]
}