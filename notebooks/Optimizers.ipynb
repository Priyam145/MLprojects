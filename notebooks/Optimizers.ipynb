{
  "nbformat": 4,
  "nbformat_minor": 0,
  "metadata": {
    "colab": {
      "name": "Optimizers.ipynb",
      "provenance": [],
      "collapsed_sections": [],
      "authorship_tag": "ABX9TyMYfOyGNqH3tSdyeN/P/dtH",
      "include_colab_link": true
    },
    "kernelspec": {
      "name": "python3",
      "display_name": "Python 3"
    }
  },
  "cells": [
    {
      "cell_type": "markdown",
      "metadata": {
        "id": "view-in-github",
        "colab_type": "text"
      },
      "source": [
        "<a href=\"https://colab.research.google.com/github/prikmm/MLprojects/blob/main/notebooks/Optimizers.ipynb\" target=\"_parent\"><img src=\"https://colab.research.google.com/assets/colab-badge.svg\" alt=\"Open In Colab\"/></a>"
      ]
    },
    {
      "cell_type": "code",
      "metadata": {
        "id": "k4NuDqlzb80f"
      },
      "source": [
        "import tensorflow as tf\n",
        "from tensorflow import keras\n",
        "import matplotlib.pyplot as plt\n",
        "import numpy as np"
      ],
      "execution_count": 4,
      "outputs": []
    },
    {
      "cell_type": "code",
      "metadata": {
        "colab": {
          "base_uri": "https://localhost:8080/",
          "height": 291
        },
        "id": "KHfHo9JccNZR",
        "outputId": "81da89a8-aef3-47af-85e1-1494ec133061"
      },
      "source": [
        "fashion_mnist = keras.datasets.fashion_mnist\n",
        "(X_train_full, y_train_full), (X_test, y_test) = fashion_mnist.load_data()\n",
        "X_valid, X_train = X_train_full[:5000]/255.0, X_train_full[5000:]/255.0\n",
        "y_valid, y_train = y_train_full[:5000], y_train_full[5000:]\n",
        "\n",
        "y_uni = np.unique(y_train)\n",
        "row_num = 2\n",
        "col_num = 5\n",
        "fig, axs = plt.subplots(figsize=(10, 5), nrows=row_num, ncols=col_num)\n",
        "fig.set_facecolor(\"white\")\n",
        "for i in y_uni:\n",
        "    images_index = np.where(y_train == i)\n",
        "    image = X_train[images_index[0][0]]\n",
        "    col = i % 5\n",
        "    row = i // 5\n",
        "    axs[row, col].imshow(image, cmap=\"binary\")\n",
        "    axs[row, col].set_title(i)\n",
        "    axs[row, col].axis('off')"
      ],
      "execution_count": 23,
      "outputs": [
        {
          "output_type": "display_data",
          "data": {
            "image/png": "[encoded data removed]",
            "text/plain": [
              "<Figure size 720x360 with 10 Axes>"
            ]
          },
          "metadata": {
            "tags": []
          }
        }
      ]
    },
    {
      "cell_type": "code",
      "metadata": {
        "id": "_nFa4aoPcvC2"
      },
      "source": [
        "class_names = [\"T-shirt/top\", \"Trouser\", \"Pullover\", \"Dress\", \"Coat\", \"Sandal\",\n",
        "              \"Shirt\", \"Sneaker\", \"Bag\", \"Ankle boot\"]"
      ],
      "execution_count": 24,
      "outputs": []
    },
    {
      "cell_type": "code",
      "metadata": {
        "id": "m8rIgtj9d5Tv"
      },
      "source": [
        "X_train = X_train/255.0\n",
        "X_valid = X_valid/255.0\n",
        "X_test = X_test/255.0"
      ],
      "execution_count": 25,
      "outputs": []
    },
    {
      "cell_type": "markdown",
      "metadata": {
        "id": "REYi9UkzdDYf"
      },
      "source": [
        "## Batch Normalization:"
      ]
    },
    {
      "cell_type": "code",
      "metadata": {
        "id": "KiyZM6d3dShP"
      },
      "source": [
        "model = keras.models.Sequential([\n",
        "    keras.layers.Flatten(input_shape=[28, 28]),\n",
        "    keras.layers.BatchNormalization(),\n",
        "    keras.layers.Dense(300, activation=\"elu\", kernel_initializer=\"he_normal\"),\n",
        "    keras.layers.BatchNormalization(),\n",
        "    keras.layers.Dense(100, activation=\"elu\", kernel_initializer=\"he_normal\"),\n",
        "    keras.layers.BatchNormalization(),\n",
        "    keras.layers.Dense(10, activation=\"softmax\"),\n",
        "])\n",
        "\n",
        "model.compile(loss=\"sparse_categorical_crossentropy\",\n",
        "               optimizer=\"sgd\",\n",
        "               metrics=[\"accuracy\"]) "
      ],
      "execution_count": 29,
      "outputs": []
    },
    {
      "cell_type": "code",
      "metadata": {
        "colab": {
          "base_uri": "https://localhost:8080/"
        },
        "id": "hY_-jigHea-x",
        "outputId": "62b3092a-e43f-4823-9173-b286c64f5afb"
      },
      "source": [
        "model.summary()"
      ],
      "execution_count": 30,
      "outputs": [
        {
          "output_type": "stream",
          "text": [
            "Model: \"sequential_6\"\n",
            "_________________________________________________________________\n",
            "Layer (type)                 Output Shape              Param #   \n",
            "=================================================================\n",
            "flatten_6 (Flatten)          (None, 784)               0         \n",
            "_________________________________________________________________\n",
            "batch_normalization_18 (Batc (None, 784)               3136      \n",
            "_________________________________________________________________\n",
            "dense_18 (Dense)             (None, 300)               235500    \n",
            "_________________________________________________________________\n",
            "batch_normalization_19 (Batc (None, 300)               1200      \n",
            "_________________________________________________________________\n",
            "dense_19 (Dense)             (None, 100)               30100     \n",
            "_________________________________________________________________\n",
            "batch_normalization_20 (Batc (None, 100)               400       \n",
            "_________________________________________________________________\n",
            "dense_20 (Dense)             (None, 10)                1010      \n",
            "=================================================================\n",
            "Total params: 271,346\n",
            "Trainable params: 268,978\n",
            "Non-trainable params: 2,368\n",
            "_________________________________________________________________\n"
          ],
          "name": "stdout"
        }
      ]
    },
    {
      "cell_type": "code",
      "metadata": {
        "colab": {
          "base_uri": "https://localhost:8080/"
        },
        "id": "YKN3cr0qjnyW",
        "outputId": "407631cc-3010-4a88-9acf-60d1ce46772b"
      },
      "source": [
        "[(var.name, var.trainable) for var in model.layers[1].variables]"
      ],
      "execution_count": 34,
      "outputs": [
        {
          "output_type": "execute_result",
          "data": {
            "text/plain": [
              "[('batch_normalization_18/gamma:0', True),\n",
              " ('batch_normalization_18/beta:0', True),\n",
              " ('batch_normalization_18/moving_mean:0', False),\n",
              " ('batch_normalization_18/moving_variance:0', False)]"
            ]
          },
          "metadata": {
            "tags": []
          },
          "execution_count": 34
        }
      ]
    },
    {
      "cell_type": "code",
      "metadata": {
        "colab": {
          "base_uri": "https://localhost:8080/"
        },
        "id": "zFfhQHNFe97J",
        "outputId": "ccbcc49c-443b-4557-8ba6-df70229c90c3"
      },
      "source": [
        "history = model.fit(X_train, y_train, epochs=100,\n",
        "                    validation_data=(X_valid, y_valid),\n",
        "                    callbacks=keras.callbacks.EarlyStopping(patience=10))"
      ],
      "execution_count": 33,
      "outputs": [
        {
          "output_type": "stream",
          "text": [
            "Epoch 1/100\n",
            "1719/1719 [==============================] - 7s 4ms/step - loss: 0.3016 - accuracy: 0.8927 - val_loss: 0.3310 - val_accuracy: 0.8838\n",
            "Epoch 2/100\n",
            "1719/1719 [==============================] - 6s 4ms/step - loss: 0.2972 - accuracy: 0.8936 - val_loss: 0.3182 - val_accuracy: 0.8876\n",
            "Epoch 3/100\n",
            "1719/1719 [==============================] - 6s 4ms/step - loss: 0.2879 - accuracy: 0.8970 - val_loss: 0.3205 - val_accuracy: 0.8876\n",
            "Epoch 4/100\n",
            "1719/1719 [==============================] - 6s 4ms/step - loss: 0.2828 - accuracy: 0.8997 - val_loss: 0.3150 - val_accuracy: 0.8878\n",
            "Epoch 5/100\n",
            "1719/1719 [==============================] - 6s 4ms/step - loss: 0.2796 - accuracy: 0.9006 - val_loss: 0.3190 - val_accuracy: 0.8886\n",
            "Epoch 6/100\n",
            "1719/1719 [==============================] - 7s 4ms/step - loss: 0.2725 - accuracy: 0.9021 - val_loss: 0.3151 - val_accuracy: 0.8868\n",
            "Epoch 7/100\n",
            "1719/1719 [==============================] - 6s 4ms/step - loss: 0.2684 - accuracy: 0.9037 - val_loss: 0.3138 - val_accuracy: 0.8898\n",
            "Epoch 8/100\n",
            "1719/1719 [==============================] - 7s 4ms/step - loss: 0.2610 - accuracy: 0.9059 - val_loss: 0.3107 - val_accuracy: 0.8910\n",
            "Epoch 9/100\n",
            "1719/1719 [==============================] - 6s 4ms/step - loss: 0.2572 - accuracy: 0.9075 - val_loss: 0.3051 - val_accuracy: 0.8892\n",
            "Epoch 10/100\n",
            "1719/1719 [==============================] - 7s 4ms/step - loss: 0.2545 - accuracy: 0.9093 - val_loss: 0.3081 - val_accuracy: 0.8870\n",
            "Epoch 11/100\n",
            "1719/1719 [==============================] - 6s 4ms/step - loss: 0.2501 - accuracy: 0.9099 - val_loss: 0.3064 - val_accuracy: 0.8898\n",
            "Epoch 12/100\n",
            "1719/1719 [==============================] - 7s 4ms/step - loss: 0.2452 - accuracy: 0.9127 - val_loss: 0.3090 - val_accuracy: 0.8902\n",
            "Epoch 13/100\n",
            "1719/1719 [==============================] - 6s 4ms/step - loss: 0.2409 - accuracy: 0.9126 - val_loss: 0.3091 - val_accuracy: 0.8870\n",
            "Epoch 14/100\n",
            "1719/1719 [==============================] - 7s 4ms/step - loss: 0.2362 - accuracy: 0.9144 - val_loss: 0.3200 - val_accuracy: 0.8890\n",
            "Epoch 15/100\n",
            "1719/1719 [==============================] - 7s 4ms/step - loss: 0.2356 - accuracy: 0.9155 - val_loss: 0.3084 - val_accuracy: 0.8928\n",
            "Epoch 16/100\n",
            "1719/1719 [==============================] - 6s 4ms/step - loss: 0.2300 - accuracy: 0.9182 - val_loss: 0.3162 - val_accuracy: 0.8870\n",
            "Epoch 17/100\n",
            "1719/1719 [==============================] - 7s 4ms/step - loss: 0.2264 - accuracy: 0.9185 - val_loss: 0.3069 - val_accuracy: 0.8928\n",
            "Epoch 18/100\n",
            "1719/1719 [==============================] - 6s 4ms/step - loss: 0.2232 - accuracy: 0.9205 - val_loss: 0.3220 - val_accuracy: 0.8870\n",
            "Epoch 19/100\n",
            "1719/1719 [==============================] - 7s 4ms/step - loss: 0.2179 - accuracy: 0.9211 - val_loss: 0.3142 - val_accuracy: 0.8904\n"
          ],
          "name": "stdout"
        }
      ]
    },
    {
      "cell_type": "markdown",
      "metadata": {
        "id": "kUVUO2JHfQVO"
      },
      "source": [
        "#### BatchNormalization before implementing activation function:"
      ]
    },
    {
      "cell_type": "code",
      "metadata": {
        "id": "d7qAOLDDjhEb"
      },
      "source": [
        "model = keras.models.Sequential([\n",
        "    keras.layers.Flatten(input_shape=[28, 28]),\n",
        "    keras.layers.BatchNormalization(),\n",
        "    keras.layers.Dense(300, kernel_initializer=\"he_normal\", use_bias=False),\n",
        "    keras.layers.BatchNormalization(),\n",
        "    keras.layers.Activation(\"elu\"),\n",
        "    keras.layers.Dense(100, kernel_initializer=\"he_normal\", use_bias=False),\n",
        "    keras.layers.BatchNormalization(),\n",
        "    keras.layers.Activation(\"elu\"),\n",
        "    keras.layers.Dense(10, activation=\"softmax\"),\n",
        "])\n",
        "\n",
        "model.compile(loss=\"sparse_categorical_crossentropy\",\n",
        "              optimizer=\"sgd\",\n",
        "              metrics=[\"accuracy\"])"
      ],
      "execution_count": 35,
      "outputs": []
    },
    {
      "cell_type": "code",
      "metadata": {
        "colab": {
          "base_uri": "https://localhost:8080/"
        },
        "id": "GOiWUvtykrTG",
        "outputId": "5c100640-7cb8-4ee6-b297-5cbaa61099e2"
      },
      "source": [
        "history = model.fit(X_train, y_train, epochs=100,\n",
        "                    validation_data=(X_valid, y_valid),\n",
        "                    callbacks=keras.callbacks.EarlyStopping(patience=10))"
      ],
      "execution_count": 37,
      "outputs": [
        {
          "output_type": "stream",
          "text": [
            "Epoch 1/100\n",
            "1719/1719 [==============================] - 7s 4ms/step - loss: 0.7267 - accuracy: 0.7512 - val_loss: 0.4205 - val_accuracy: 0.8578\n",
            "Epoch 2/100\n",
            "1719/1719 [==============================] - 6s 4ms/step - loss: 0.4541 - accuracy: 0.8421 - val_loss: 0.3871 - val_accuracy: 0.8632\n",
            "Epoch 3/100\n",
            "1719/1719 [==============================] - 6s 4ms/step - loss: 0.4019 - accuracy: 0.8574 - val_loss: 0.3697 - val_accuracy: 0.8694\n",
            "Epoch 4/100\n",
            "1719/1719 [==============================] - 6s 4ms/step - loss: 0.3804 - accuracy: 0.8668 - val_loss: 0.3607 - val_accuracy: 0.8706\n",
            "Epoch 5/100\n",
            "1719/1719 [==============================] - 6s 4ms/step - loss: 0.3643 - accuracy: 0.8714 - val_loss: 0.3460 - val_accuracy: 0.8754\n",
            "Epoch 6/100\n",
            "1719/1719 [==============================] - 6s 4ms/step - loss: 0.3455 - accuracy: 0.8771 - val_loss: 0.3451 - val_accuracy: 0.8754\n",
            "Epoch 7/100\n",
            "1719/1719 [==============================] - 6s 4ms/step - loss: 0.3322 - accuracy: 0.8822 - val_loss: 0.3362 - val_accuracy: 0.8766\n",
            "Epoch 8/100\n",
            "1719/1719 [==============================] - 6s 4ms/step - loss: 0.3191 - accuracy: 0.8852 - val_loss: 0.3282 - val_accuracy: 0.8766\n",
            "Epoch 9/100\n",
            "1719/1719 [==============================] - 6s 4ms/step - loss: 0.3092 - accuracy: 0.8896 - val_loss: 0.3338 - val_accuracy: 0.8802\n",
            "Epoch 10/100\n",
            "1719/1719 [==============================] - 6s 4ms/step - loss: 0.2975 - accuracy: 0.8927 - val_loss: 0.3151 - val_accuracy: 0.8828\n",
            "Epoch 11/100\n",
            "1719/1719 [==============================] - 7s 4ms/step - loss: 0.2906 - accuracy: 0.8957 - val_loss: 0.3155 - val_accuracy: 0.8852\n",
            "Epoch 12/100\n",
            "1719/1719 [==============================] - 6s 4ms/step - loss: 0.2815 - accuracy: 0.9002 - val_loss: 0.3314 - val_accuracy: 0.8788\n",
            "Epoch 13/100\n",
            "1719/1719 [==============================] - 6s 4ms/step - loss: 0.2749 - accuracy: 0.9005 - val_loss: 0.3130 - val_accuracy: 0.8852\n",
            "Epoch 14/100\n",
            "1719/1719 [==============================] - 6s 4ms/step - loss: 0.2639 - accuracy: 0.9062 - val_loss: 0.3173 - val_accuracy: 0.8846\n",
            "Epoch 15/100\n",
            "1719/1719 [==============================] - 6s 4ms/step - loss: 0.2652 - accuracy: 0.9040 - val_loss: 0.3158 - val_accuracy: 0.8850\n",
            "Epoch 16/100\n",
            "1719/1719 [==============================] - 6s 4ms/step - loss: 0.2527 - accuracy: 0.9095 - val_loss: 0.3073 - val_accuracy: 0.8884\n",
            "Epoch 17/100\n",
            "1719/1719 [==============================] - 6s 4ms/step - loss: 0.2474 - accuracy: 0.9088 - val_loss: 0.3107 - val_accuracy: 0.8860\n",
            "Epoch 18/100\n",
            "1719/1719 [==============================] - 6s 4ms/step - loss: 0.2430 - accuracy: 0.9119 - val_loss: 0.3090 - val_accuracy: 0.8862\n",
            "Epoch 19/100\n",
            "1719/1719 [==============================] - 6s 4ms/step - loss: 0.2357 - accuracy: 0.9133 - val_loss: 0.3356 - val_accuracy: 0.8768\n",
            "Epoch 20/100\n",
            "1719/1719 [==============================] - 6s 4ms/step - loss: 0.2311 - accuracy: 0.9165 - val_loss: 0.3068 - val_accuracy: 0.8870\n",
            "Epoch 21/100\n",
            "1719/1719 [==============================] - 6s 4ms/step - loss: 0.2313 - accuracy: 0.9182 - val_loss: 0.3039 - val_accuracy: 0.8890\n",
            "Epoch 22/100\n",
            "1719/1719 [==============================] - 6s 4ms/step - loss: 0.2219 - accuracy: 0.9199 - val_loss: 0.3131 - val_accuracy: 0.8860\n",
            "Epoch 23/100\n",
            "1719/1719 [==============================] - 6s 4ms/step - loss: 0.2171 - accuracy: 0.9219 - val_loss: 0.2979 - val_accuracy: 0.8928\n",
            "Epoch 24/100\n",
            "1719/1719 [==============================] - 6s 4ms/step - loss: 0.2147 - accuracy: 0.9204 - val_loss: 0.3077 - val_accuracy: 0.8880\n",
            "Epoch 25/100\n",
            "1719/1719 [==============================] - 6s 4ms/step - loss: 0.2084 - accuracy: 0.9259 - val_loss: 0.3127 - val_accuracy: 0.8850\n",
            "Epoch 26/100\n",
            "1719/1719 [==============================] - 6s 4ms/step - loss: 0.2016 - accuracy: 0.9286 - val_loss: 0.3341 - val_accuracy: 0.8798\n",
            "Epoch 27/100\n",
            "1719/1719 [==============================] - 6s 4ms/step - loss: 0.1999 - accuracy: 0.9278 - val_loss: 0.3136 - val_accuracy: 0.8882\n",
            "Epoch 28/100\n",
            "1719/1719 [==============================] - 6s 4ms/step - loss: 0.1996 - accuracy: 0.9282 - val_loss: 0.2969 - val_accuracy: 0.8922\n",
            "Epoch 29/100\n",
            "1719/1719 [==============================] - 6s 4ms/step - loss: 0.1927 - accuracy: 0.9311 - val_loss: 0.3044 - val_accuracy: 0.8892\n",
            "Epoch 30/100\n",
            "1719/1719 [==============================] - 6s 4ms/step - loss: 0.1817 - accuracy: 0.9344 - val_loss: 0.3064 - val_accuracy: 0.8908\n",
            "Epoch 31/100\n",
            "1719/1719 [==============================] - 6s 4ms/step - loss: 0.1778 - accuracy: 0.9358 - val_loss: 0.3066 - val_accuracy: 0.8898\n",
            "Epoch 32/100\n",
            "1719/1719 [==============================] - 6s 4ms/step - loss: 0.1817 - accuracy: 0.9350 - val_loss: 0.3064 - val_accuracy: 0.8938\n",
            "Epoch 33/100\n",
            "1719/1719 [==============================] - 6s 4ms/step - loss: 0.1760 - accuracy: 0.9361 - val_loss: 0.3235 - val_accuracy: 0.8884\n",
            "Epoch 34/100\n",
            "1719/1719 [==============================] - 6s 4ms/step - loss: 0.1746 - accuracy: 0.9379 - val_loss: 0.3123 - val_accuracy: 0.8888\n",
            "Epoch 35/100\n",
            "1719/1719 [==============================] - 6s 4ms/step - loss: 0.1696 - accuracy: 0.9388 - val_loss: 0.3091 - val_accuracy: 0.8896\n",
            "Epoch 36/100\n",
            "1719/1719 [==============================] - 6s 4ms/step - loss: 0.1679 - accuracy: 0.9410 - val_loss: 0.3107 - val_accuracy: 0.8926\n",
            "Epoch 37/100\n",
            "1719/1719 [==============================] - 6s 4ms/step - loss: 0.1574 - accuracy: 0.9436 - val_loss: 0.3145 - val_accuracy: 0.8892\n",
            "Epoch 38/100\n",
            "1719/1719 [==============================] - 6s 4ms/step - loss: 0.1585 - accuracy: 0.9433 - val_loss: 0.3178 - val_accuracy: 0.8934\n"
          ],
          "name": "stdout"
        }
      ]
    },
    {
      "cell_type": "markdown",
      "metadata": {
        "id": "SWpHO0Slk4RW"
      },
      "source": [
        "## Transfer Learning:"
      ]
    },
    {
      "cell_type": "code",
      "metadata": {
        "id": "5l6XqPTuxDrM"
      },
      "source": [
        "def split_dataset(X, y):\n",
        "    y_5_or_6 = (y == 5) | (y == 6) # sandals or shirts\n",
        "    y_A = y[~y_5_or_6]\n",
        "    y_A[y_A > 6] -= 2 # class indices 7, 8, 9 should be moved to 5, 6, 7\n",
        "    y_B = (y[y_5_or_6] == 6).astype(np.float32) # binary classification task: is it a shirt (class 6)?\n",
        "    return ((X[~y_5_or_6], y_A),\n",
        "            (X[y_5_or_6], y_B))\n",
        "\n",
        "(X_train_A, y_train_A), (X_train_B, y_train_B) = split_dataset(X_train, y_train)\n",
        "(X_valid_A, y_valid_A), (X_valid_B, y_valid_B) = split_dataset(X_valid, y_valid)\n",
        "(X_test_A, y_test_A), (X_test_B, y_test_B) = split_dataset(X_test, y_test)\n",
        "X_train_B = X_train_B[:200]\n",
        "y_train_B = y_train_B[:200]"
      ],
      "execution_count": 38,
      "outputs": []
    },
    {
      "cell_type": "code",
      "metadata": {
        "colab": {
          "base_uri": "https://localhost:8080/"
        },
        "id": "FEpXL3c3y-DN",
        "outputId": "2cba255f-c611-47d5-e073-69f68f992fb1"
      },
      "source": [
        "X_train_A.shape, X_train_B.shape"
      ],
      "execution_count": 44,
      "outputs": [
        {
          "output_type": "execute_result",
          "data": {
            "text/plain": [
              "((43986, 28, 28), (200, 28, 28))"
            ]
          },
          "metadata": {
            "tags": []
          },
          "execution_count": 44
        }
      ]
    },
    {
      "cell_type": "code",
      "metadata": {
        "colab": {
          "base_uri": "https://localhost:8080/"
        },
        "id": "eQt4fuG2zD2Y",
        "outputId": "6f3f9256-e79d-4934-d932-92a593b178fd"
      },
      "source": [
        "np.unique(y_train_A), np.unique(y_train_B) "
      ],
      "execution_count": 43,
      "outputs": [
        {
          "output_type": "execute_result",
          "data": {
            "text/plain": [
              "(array([0, 1, 2, 3, 4, 5, 6, 7], dtype=uint8), array([0., 1.], dtype=float32))"
            ]
          },
          "metadata": {
            "tags": []
          },
          "execution_count": 43
        }
      ]
    },
    {
      "cell_type": "code",
      "metadata": {
        "id": "m2MjmHu_zGdP"
      },
      "source": [
        "tf.random.set_seed(35)\n",
        "np.random.seed(35)"
      ],
      "execution_count": 70,
      "outputs": []
    },
    {
      "cell_type": "code",
      "metadata": {
        "id": "4-WdxINszWHY"
      },
      "source": [
        "model_A = keras.models.Sequential()\n",
        "model_A.add(keras.layers.Flatten(input_shape=[28, 28]))\n",
        "for n_hidden in [300, 100, 50, 50, 50]:\n",
        "    model_A.add(keras.layers.Dense(n_hidden, activation=\"selu\"))\n",
        "model_A.add(keras.layers.Dense(8, activation=\"softmax\"))\n",
        "\n",
        "model_A.compile(loss=\"sparse_categorical_crossentropy\",\n",
        "              optimizer=keras.optimizers.SGD(lr=1e-3),\n",
        "              metrics=[\"accuracy\"])"
      ],
      "execution_count": 73,
      "outputs": []
    },
    {
      "cell_type": "code",
      "metadata": {
        "colab": {
          "base_uri": "https://localhost:8080/"
        },
        "id": "pkom6NWc0B8m",
        "outputId": "21ada66e-9818-484d-e4a0-74f8bc740c00"
      },
      "source": [
        "history = model_A.fit(X_train_A, y_train_A, epochs=100,\n",
        "                    validation_data=(X_valid_A, y_valid_A),\n",
        "                    callbacks=keras.callbacks.EarlyStopping(patience=10))"
      ],
      "execution_count": 74,
      "outputs": [
        {
          "output_type": "stream",
          "text": [
            "Epoch 1/100\n",
            "1375/1375 [==============================] - 4s 3ms/step - loss: 2.0584 - accuracy: 0.2072 - val_loss: 2.0285 - val_accuracy: 0.3774\n",
            "Epoch 2/100\n",
            "1375/1375 [==============================] - 3s 2ms/step - loss: 2.0202 - accuracy: 0.3392 - val_loss: 1.9792 - val_accuracy: 0.4651\n",
            "Epoch 3/100\n",
            "1375/1375 [==============================] - 3s 2ms/step - loss: 1.9648 - accuracy: 0.4170 - val_loss: 1.8939 - val_accuracy: 0.4539\n",
            "Epoch 4/100\n",
            "1375/1375 [==============================] - 3s 2ms/step - loss: 1.8741 - accuracy: 0.4638 - val_loss: 1.7642 - val_accuracy: 0.4669\n",
            "Epoch 5/100\n",
            "1375/1375 [==============================] - 3s 2ms/step - loss: 1.7265 - accuracy: 0.4845 - val_loss: 1.5853 - val_accuracy: 0.5132\n",
            "Epoch 6/100\n",
            "1375/1375 [==============================] - 3s 3ms/step - loss: 1.5446 - accuracy: 0.5273 - val_loss: 1.3827 - val_accuracy: 0.5478\n",
            "Epoch 7/100\n",
            "1375/1375 [==============================] - 3s 2ms/step - loss: 1.3617 - accuracy: 0.5761 - val_loss: 1.2453 - val_accuracy: 0.5742\n",
            "Epoch 8/100\n",
            "1375/1375 [==============================] - 3s 2ms/step - loss: 1.1954 - accuracy: 0.6122 - val_loss: 1.1238 - val_accuracy: 0.6029\n",
            "Epoch 9/100\n",
            "1375/1375 [==============================] - 3s 3ms/step - loss: 1.0841 - accuracy: 0.6377 - val_loss: 0.9527 - val_accuracy: 0.7167\n",
            "Epoch 10/100\n",
            "1375/1375 [==============================] - 3s 2ms/step - loss: 1.0539 - accuracy: 0.6321 - val_loss: 0.9304 - val_accuracy: 0.6400\n",
            "Epoch 11/100\n",
            "1375/1375 [==============================] - 4s 3ms/step - loss: 0.9405 - accuracy: 0.6755 - val_loss: 1.4482 - val_accuracy: 0.3620\n",
            "Epoch 12/100\n",
            "1375/1375 [==============================] - 3s 2ms/step - loss: 0.9016 - accuracy: 0.6783 - val_loss: 1.0258 - val_accuracy: 0.5909\n",
            "Epoch 13/100\n",
            "1375/1375 [==============================] - 3s 2ms/step - loss: 0.8546 - accuracy: 0.6972 - val_loss: 0.7383 - val_accuracy: 0.7735\n",
            "Epoch 14/100\n",
            "1375/1375 [==============================] - 3s 2ms/step - loss: 0.8434 - accuracy: 0.7068 - val_loss: 2.9616 - val_accuracy: 0.2332\n",
            "Epoch 15/100\n",
            "1375/1375 [==============================] - 3s 2ms/step - loss: 0.8334 - accuracy: 0.7090 - val_loss: 0.6464 - val_accuracy: 0.7925\n",
            "Epoch 16/100\n",
            "1375/1375 [==============================] - 3s 2ms/step - loss: 0.7372 - accuracy: 0.7361 - val_loss: 0.6368 - val_accuracy: 0.7945\n",
            "Epoch 17/100\n",
            "1375/1375 [==============================] - 3s 2ms/step - loss: 0.7167 - accuracy: 0.7447 - val_loss: 0.7134 - val_accuracy: 0.7456\n",
            "Epoch 18/100\n",
            "1375/1375 [==============================] - 3s 2ms/step - loss: 0.6685 - accuracy: 0.7600 - val_loss: 0.6426 - val_accuracy: 0.7775\n",
            "Epoch 19/100\n",
            "1375/1375 [==============================] - 3s 2ms/step - loss: 0.6502 - accuracy: 0.7655 - val_loss: 0.6346 - val_accuracy: 0.7661\n",
            "Epoch 20/100\n",
            "1375/1375 [==============================] - 3s 2ms/step - loss: 0.6407 - accuracy: 0.7670 - val_loss: 0.5326 - val_accuracy: 0.8279\n",
            "Epoch 21/100\n",
            "1375/1375 [==============================] - 3s 3ms/step - loss: 0.6187 - accuracy: 0.7745 - val_loss: 0.5202 - val_accuracy: 0.8333\n",
            "Epoch 22/100\n",
            "1375/1375 [==============================] - 3s 2ms/step - loss: 0.5986 - accuracy: 0.7792 - val_loss: 0.5523 - val_accuracy: 0.7977\n",
            "Epoch 23/100\n",
            "1375/1375 [==============================] - 4s 3ms/step - loss: 0.5862 - accuracy: 0.7829 - val_loss: 0.6676 - val_accuracy: 0.7304\n",
            "Epoch 24/100\n",
            "1375/1375 [==============================] - 3s 3ms/step - loss: 0.5869 - accuracy: 0.7873 - val_loss: 0.8384 - val_accuracy: 0.7030\n",
            "Epoch 25/100\n",
            "1375/1375 [==============================] - 3s 2ms/step - loss: 0.5594 - accuracy: 0.7946 - val_loss: 0.5466 - val_accuracy: 0.7838\n",
            "Epoch 26/100\n",
            "1375/1375 [==============================] - 3s 2ms/step - loss: 0.5401 - accuracy: 0.7991 - val_loss: 0.6180 - val_accuracy: 0.7521\n",
            "Epoch 27/100\n",
            "1375/1375 [==============================] - 3s 2ms/step - loss: 0.5569 - accuracy: 0.7913 - val_loss: 0.4943 - val_accuracy: 0.8249\n",
            "Epoch 28/100\n",
            "1375/1375 [==============================] - 3s 2ms/step - loss: 0.5572 - accuracy: 0.7917 - val_loss: 0.5916 - val_accuracy: 0.7618\n",
            "Epoch 29/100\n",
            "1375/1375 [==============================] - 3s 3ms/step - loss: 0.5473 - accuracy: 0.7973 - val_loss: 0.5173 - val_accuracy: 0.8057\n",
            "Epoch 30/100\n",
            "1375/1375 [==============================] - 3s 3ms/step - loss: 0.5208 - accuracy: 0.8080 - val_loss: 0.5585 - val_accuracy: 0.7952\n",
            "Epoch 31/100\n",
            "1375/1375 [==============================] - 3s 2ms/step - loss: 0.5087 - accuracy: 0.8104 - val_loss: 0.6073 - val_accuracy: 0.7718\n",
            "Epoch 32/100\n",
            "1375/1375 [==============================] - 3s 2ms/step - loss: 0.5119 - accuracy: 0.8105 - val_loss: 0.4315 - val_accuracy: 0.8485\n",
            "Epoch 33/100\n",
            "1375/1375 [==============================] - 3s 3ms/step - loss: 0.5099 - accuracy: 0.8114 - val_loss: 0.5018 - val_accuracy: 0.8129\n",
            "Epoch 34/100\n",
            "1375/1375 [==============================] - 4s 3ms/step - loss: 0.5081 - accuracy: 0.8079 - val_loss: 0.6130 - val_accuracy: 0.7835\n",
            "Epoch 35/100\n",
            "1375/1375 [==============================] - 3s 3ms/step - loss: 0.4967 - accuracy: 0.8156 - val_loss: 0.4712 - val_accuracy: 0.8356\n",
            "Epoch 36/100\n",
            "1375/1375 [==============================] - 3s 2ms/step - loss: 0.4946 - accuracy: 0.8162 - val_loss: 0.4199 - val_accuracy: 0.8565\n",
            "Epoch 37/100\n",
            "1375/1375 [==============================] - 3s 3ms/step - loss: 0.4829 - accuracy: 0.8209 - val_loss: 0.4523 - val_accuracy: 0.8293\n",
            "Epoch 38/100\n",
            "1375/1375 [==============================] - 4s 3ms/step - loss: 0.4711 - accuracy: 0.8236 - val_loss: 0.4259 - val_accuracy: 0.8426\n",
            "Epoch 39/100\n",
            "1375/1375 [==============================] - 3s 2ms/step - loss: 0.4942 - accuracy: 0.8194 - val_loss: 0.6288 - val_accuracy: 0.7389\n",
            "Epoch 40/100\n",
            "1375/1375 [==============================] - 3s 2ms/step - loss: 0.4839 - accuracy: 0.8185 - val_loss: 0.5114 - val_accuracy: 0.8052\n",
            "Epoch 41/100\n",
            "1375/1375 [==============================] - 3s 2ms/step - loss: 0.4749 - accuracy: 0.8217 - val_loss: 0.4286 - val_accuracy: 0.8435\n",
            "Epoch 42/100\n",
            "1375/1375 [==============================] - 3s 3ms/step - loss: 0.4656 - accuracy: 0.8249 - val_loss: 0.4071 - val_accuracy: 0.8600\n",
            "Epoch 43/100\n",
            "1375/1375 [==============================] - 3s 3ms/step - loss: 0.4925 - accuracy: 0.8223 - val_loss: 0.5860 - val_accuracy: 0.7743\n",
            "Epoch 44/100\n",
            "1375/1375 [==============================] - 3s 2ms/step - loss: 0.4590 - accuracy: 0.8314 - val_loss: 0.4485 - val_accuracy: 0.8156\n",
            "Epoch 45/100\n",
            "1375/1375 [==============================] - 3s 2ms/step - loss: 0.4411 - accuracy: 0.8399 - val_loss: 0.4324 - val_accuracy: 0.8274\n",
            "Epoch 46/100\n",
            "1375/1375 [==============================] - 3s 3ms/step - loss: 0.4560 - accuracy: 0.8325 - val_loss: 0.4310 - val_accuracy: 0.8440\n",
            "Epoch 47/100\n",
            "1375/1375 [==============================] - 3s 3ms/step - loss: 0.4520 - accuracy: 0.8309 - val_loss: 0.3926 - val_accuracy: 0.8528\n",
            "Epoch 48/100\n",
            "1375/1375 [==============================] - 3s 3ms/step - loss: 0.4657 - accuracy: 0.8291 - val_loss: 0.6920 - val_accuracy: 0.7287\n",
            "Epoch 49/100\n",
            "1375/1375 [==============================] - 3s 3ms/step - loss: 0.4454 - accuracy: 0.8356 - val_loss: 0.3972 - val_accuracy: 0.8520\n",
            "Epoch 50/100\n",
            "1375/1375 [==============================] - 3s 2ms/step - loss: 0.4367 - accuracy: 0.8371 - val_loss: 0.4310 - val_accuracy: 0.8463\n",
            "Epoch 51/100\n",
            "1375/1375 [==============================] - 3s 2ms/step - loss: 0.4406 - accuracy: 0.8358 - val_loss: 0.4801 - val_accuracy: 0.8274\n",
            "Epoch 52/100\n",
            "1375/1375 [==============================] - 3s 3ms/step - loss: 0.4371 - accuracy: 0.8374 - val_loss: 0.3816 - val_accuracy: 0.8620\n",
            "Epoch 53/100\n",
            "1375/1375 [==============================] - 4s 3ms/step - loss: 0.4348 - accuracy: 0.8387 - val_loss: 0.4207 - val_accuracy: 0.8408\n",
            "Epoch 54/100\n",
            "1375/1375 [==============================] - 4s 3ms/step - loss: 0.4360 - accuracy: 0.8372 - val_loss: 0.5263 - val_accuracy: 0.8231\n",
            "Epoch 55/100\n",
            "1375/1375 [==============================] - 3s 3ms/step - loss: 0.4345 - accuracy: 0.8400 - val_loss: 1.1505 - val_accuracy: 0.5815\n",
            "Epoch 56/100\n",
            "1375/1375 [==============================] - 3s 2ms/step - loss: 0.4278 - accuracy: 0.8421 - val_loss: 0.3721 - val_accuracy: 0.8640\n",
            "Epoch 57/100\n",
            "1375/1375 [==============================] - 3s 3ms/step - loss: 0.4260 - accuracy: 0.8440 - val_loss: 0.3948 - val_accuracy: 0.8577\n",
            "Epoch 58/100\n",
            "1375/1375 [==============================] - 3s 2ms/step - loss: 0.4223 - accuracy: 0.8434 - val_loss: 0.3861 - val_accuracy: 0.8602\n",
            "Epoch 59/100\n",
            "1375/1375 [==============================] - 3s 3ms/step - loss: 0.4227 - accuracy: 0.8435 - val_loss: 0.4356 - val_accuracy: 0.8388\n",
            "Epoch 60/100\n",
            "1375/1375 [==============================] - 3s 2ms/step - loss: 0.4259 - accuracy: 0.8428 - val_loss: 0.5309 - val_accuracy: 0.8102\n",
            "Epoch 61/100\n",
            "1375/1375 [==============================] - 3s 2ms/step - loss: 0.4290 - accuracy: 0.8426 - val_loss: 0.5636 - val_accuracy: 0.7569\n",
            "Epoch 62/100\n",
            "1375/1375 [==============================] - 3s 2ms/step - loss: 0.4253 - accuracy: 0.8426 - val_loss: 0.3791 - val_accuracy: 0.8627\n",
            "Epoch 63/100\n",
            "1375/1375 [==============================] - 4s 3ms/step - loss: 0.4095 - accuracy: 0.8476 - val_loss: 0.4968 - val_accuracy: 0.8179\n",
            "Epoch 64/100\n",
            "1375/1375 [==============================] - 3s 3ms/step - loss: 0.4210 - accuracy: 0.8437 - val_loss: 0.4261 - val_accuracy: 0.8525\n",
            "Epoch 65/100\n",
            "1375/1375 [==============================] - 3s 2ms/step - loss: 0.4116 - accuracy: 0.8477 - val_loss: 0.4236 - val_accuracy: 0.8336\n",
            "Epoch 66/100\n",
            "1375/1375 [==============================] - 3s 2ms/step - loss: 0.4035 - accuracy: 0.8490 - val_loss: 0.3813 - val_accuracy: 0.8652\n"
          ],
          "name": "stdout"
        }
      ]
    },
    {
      "cell_type": "code",
      "metadata": {
        "id": "Nx4b8-br0SxF"
      },
      "source": [
        "model_A.save(\"my_model_A.h5\")"
      ],
      "execution_count": 75,
      "outputs": []
    },
    {
      "cell_type": "code",
      "metadata": {
        "id": "sKT4RfkZ0cq0"
      },
      "source": [
        "model_B = keras.models.Sequential()\n",
        "model_B.add(keras.layers.Flatten(input_shape=[28, 28]))\n",
        "for n_hidden in [300, 100, 50, 50, 50]:\n",
        "    model_B.add(keras.layers.Dense(n_hidden, activation=\"selu\"))\n",
        "model_B.add(keras.layers.Dense(1, activation=\"sigmoid\"))\n",
        "\n",
        "model_B.compile(loss=\"binary_crossentropy\",\n",
        "                optimizer=keras.optimizers.SGD(lr=1e-3),\n",
        "                metrics=[\"accuracy\"])"
      ],
      "execution_count": 76,
      "outputs": []
    },
    {
      "cell_type": "code",
      "metadata": {
        "colab": {
          "base_uri": "https://localhost:8080/"
        },
        "id": "tevOP2Ve1pk4",
        "outputId": "bc2e1389-bbe8-4c13-ed32-a215487dbdca"
      },
      "source": [
        "history = model_B.fit(X_train_B, y_train_B, epochs=20,\n",
        "                      validation_data=(X_valid_B, y_valid_B),\n",
        "                      callbacks=keras.callbacks.EarlyStopping(patience=10))"
      ],
      "execution_count": 77,
      "outputs": [
        {
          "output_type": "stream",
          "text": [
            "Epoch 1/20\n",
            "7/7 [==============================] - 1s 38ms/step - loss: 0.6871 - accuracy: 0.7067 - val_loss: 0.6840 - val_accuracy: 0.5020\n",
            "Epoch 2/20\n",
            "7/7 [==============================] - 0s 14ms/step - loss: 0.6830 - accuracy: 0.6285 - val_loss: 0.6799 - val_accuracy: 0.9280\n",
            "Epoch 3/20\n",
            "7/7 [==============================] - 0s 15ms/step - loss: 0.6800 - accuracy: 0.8643 - val_loss: 0.6771 - val_accuracy: 0.9229\n",
            "Epoch 4/20\n",
            "7/7 [==============================] - 0s 14ms/step - loss: 0.6768 - accuracy: 0.8759 - val_loss: 0.6749 - val_accuracy: 0.9290\n",
            "Epoch 5/20\n",
            "7/7 [==============================] - 0s 14ms/step - loss: 0.6742 - accuracy: 0.8753 - val_loss: 0.6723 - val_accuracy: 0.9168\n",
            "Epoch 6/20\n",
            "7/7 [==============================] - 0s 14ms/step - loss: 0.6736 - accuracy: 0.8302 - val_loss: 0.6694 - val_accuracy: 0.9249\n",
            "Epoch 7/20\n",
            "7/7 [==============================] - 0s 15ms/step - loss: 0.6690 - accuracy: 0.8657 - val_loss: 0.6677 - val_accuracy: 0.8174\n",
            "Epoch 8/20\n",
            "7/7 [==============================] - 0s 16ms/step - loss: 0.6685 - accuracy: 0.8699 - val_loss: 0.6661 - val_accuracy: 0.8185\n",
            "Epoch 9/20\n",
            "7/7 [==============================] - 0s 14ms/step - loss: 0.6644 - accuracy: 0.7656 - val_loss: 0.6667 - val_accuracy: 0.8661\n",
            "Epoch 10/20\n",
            "7/7 [==============================] - 0s 14ms/step - loss: 0.6633 - accuracy: 0.8827 - val_loss: 0.6640 - val_accuracy: 0.9280\n",
            "Epoch 11/20\n",
            "7/7 [==============================] - 0s 14ms/step - loss: 0.6617 - accuracy: 0.9403 - val_loss: 0.6621 - val_accuracy: 0.9128\n",
            "Epoch 12/20\n",
            "7/7 [==============================] - 0s 14ms/step - loss: 0.6616 - accuracy: 0.9101 - val_loss: 0.6611 - val_accuracy: 0.9148\n",
            "Epoch 13/20\n",
            "7/7 [==============================] - 0s 14ms/step - loss: 0.6613 - accuracy: 0.9103 - val_loss: 0.6601 - val_accuracy: 0.8753\n",
            "Epoch 14/20\n",
            "7/7 [==============================] - 0s 14ms/step - loss: 0.6619 - accuracy: 0.9084 - val_loss: 0.6592 - val_accuracy: 0.8945\n",
            "Epoch 15/20\n",
            "7/7 [==============================] - 0s 14ms/step - loss: 0.6594 - accuracy: 0.9055 - val_loss: 0.6584 - val_accuracy: 0.8732\n",
            "Epoch 16/20\n",
            "7/7 [==============================] - 0s 14ms/step - loss: 0.6562 - accuracy: 0.9057 - val_loss: 0.6577 - val_accuracy: 0.8996\n",
            "Epoch 17/20\n",
            "7/7 [==============================] - 0s 13ms/step - loss: 0.6564 - accuracy: 0.8759 - val_loss: 0.6648 - val_accuracy: 0.5020\n",
            "Epoch 18/20\n",
            "7/7 [==============================] - 0s 14ms/step - loss: 0.6612 - accuracy: 0.7865 - val_loss: 0.6576 - val_accuracy: 0.7982\n",
            "Epoch 19/20\n",
            "7/7 [==============================] - 0s 15ms/step - loss: 0.6568 - accuracy: 0.8285 - val_loss: 0.6560 - val_accuracy: 0.9168\n",
            "Epoch 20/20\n",
            "7/7 [==============================] - 0s 14ms/step - loss: 0.6543 - accuracy: 0.9277 - val_loss: 0.6578 - val_accuracy: 0.8783\n"
          ],
          "name": "stdout"
        }
      ]
    },
    {
      "cell_type": "code",
      "metadata": {
        "colab": {
          "base_uri": "https://localhost:8080/"
        },
        "id": "uXNGdmPH18-G",
        "outputId": "bf3af43b-b6fb-4d0e-b7d3-b46319995d0d"
      },
      "source": [
        "model_B.summary()"
      ],
      "execution_count": 78,
      "outputs": [
        {
          "output_type": "stream",
          "text": [
            "Model: \"sequential_19\"\n",
            "_________________________________________________________________\n",
            "Layer (type)                 Output Shape              Param #   \n",
            "=================================================================\n",
            "flatten_18 (Flatten)         (None, 784)               0         \n",
            "_________________________________________________________________\n",
            "dense_85 (Dense)             (None, 300)               235500    \n",
            "_________________________________________________________________\n",
            "dense_86 (Dense)             (None, 100)               30100     \n",
            "_________________________________________________________________\n",
            "dense_87 (Dense)             (None, 50)                5050      \n",
            "_________________________________________________________________\n",
            "dense_88 (Dense)             (None, 50)                2550      \n",
            "_________________________________________________________________\n",
            "dense_89 (Dense)             (None, 50)                2550      \n",
            "_________________________________________________________________\n",
            "dense_90 (Dense)             (None, 1)                 51        \n",
            "=================================================================\n",
            "Total params: 275,801\n",
            "Trainable params: 275,801\n",
            "Non-trainable params: 0\n",
            "_________________________________________________________________\n"
          ],
          "name": "stdout"
        }
      ]
    },
    {
      "cell_type": "code",
      "metadata": {
        "id": "BMvludD03E-i"
      },
      "source": [
        "model_A = keras.models.load_model(\"my_model_A.h5\")\n",
        "model_B_on_A = keras.models.Sequential(model_A.layers[:-1])\n",
        "model_B_on_A.add(keras.layers.Dense(1, activation=\"sigmoid\"))"
      ],
      "execution_count": 79,
      "outputs": []
    },
    {
      "cell_type": "code",
      "metadata": {
        "id": "3je-4oTU3jjM"
      },
      "source": [
        "model_A_clone = keras.models.clone_model(model_A)\n",
        "model_A_clone.set_weights(model_A.get_weights())"
      ],
      "execution_count": 80,
      "outputs": []
    },
    {
      "cell_type": "code",
      "metadata": {
        "id": "zuAmGVEh4ARs"
      },
      "source": [
        "for layer in model_B_on_A.layers[:-1]:\n",
        "    layer.trainable = False"
      ],
      "execution_count": 81,
      "outputs": []
    },
    {
      "cell_type": "code",
      "metadata": {
        "colab": {
          "base_uri": "https://localhost:8080/"
        },
        "id": "zkr54s3M4HNf",
        "outputId": "b80ec378-251b-440a-8a38-d55e903f961f"
      },
      "source": [
        "model_B_on_A.compile(loss=\"binary_crossentropy\", \n",
        "                     optimizer=keras.optimizers.SGD(lr=1e-3),\n",
        "                     metrics=[\"accuracy\"])\n",
        "\n",
        "history = model_B_on_A.fit(X_train_B, y_train_B, epochs=100,\n",
        "                           validation_data=(X_valid_B, y_valid_B),\n",
        "                           callbacks=keras.callbacks.EarlyStopping(patience=10))"
      ],
      "execution_count": 82,
      "outputs": [
        {
          "output_type": "stream",
          "text": [
            "Epoch 1/100\n",
            "7/7 [==============================] - 1s 36ms/step - loss: 0.7955 - accuracy: 0.2286 - val_loss: 0.7469 - val_accuracy: 0.3022\n",
            "Epoch 2/100\n",
            "7/7 [==============================] - 0s 14ms/step - loss: 0.7562 - accuracy: 0.2944 - val_loss: 0.7166 - val_accuracy: 0.3560\n",
            "Epoch 3/100\n",
            "7/7 [==============================] - 0s 13ms/step - loss: 0.7087 - accuracy: 0.3960 - val_loss: 0.6880 - val_accuracy: 0.4351\n",
            "Epoch 4/100\n",
            "7/7 [==============================] - 0s 13ms/step - loss: 0.6837 - accuracy: 0.4510 - val_loss: 0.6611 - val_accuracy: 0.5162\n",
            "Epoch 5/100\n",
            "7/7 [==============================] - 0s 13ms/step - loss: 0.6642 - accuracy: 0.4992 - val_loss: 0.6361 - val_accuracy: 0.6034\n",
            "Epoch 6/100\n",
            "7/7 [==============================] - 0s 13ms/step - loss: 0.6275 - accuracy: 0.6171 - val_loss: 0.6120 - val_accuracy: 0.6755\n",
            "Epoch 7/100\n",
            "7/7 [==============================] - 0s 13ms/step - loss: 0.6137 - accuracy: 0.6805 - val_loss: 0.5896 - val_accuracy: 0.7424\n",
            "Epoch 8/100\n",
            "7/7 [==============================] - 0s 14ms/step - loss: 0.5732 - accuracy: 0.7792 - val_loss: 0.5688 - val_accuracy: 0.7951\n",
            "Epoch 9/100\n",
            "7/7 [==============================] - 0s 14ms/step - loss: 0.5775 - accuracy: 0.8103 - val_loss: 0.5490 - val_accuracy: 0.8316\n",
            "Epoch 10/100\n",
            "7/7 [==============================] - 0s 13ms/step - loss: 0.5316 - accuracy: 0.8702 - val_loss: 0.5306 - val_accuracy: 0.8661\n",
            "Epoch 11/100\n",
            "7/7 [==============================] - 0s 13ms/step - loss: 0.5259 - accuracy: 0.8648 - val_loss: 0.5135 - val_accuracy: 0.8854\n",
            "Epoch 12/100\n",
            "7/7 [==============================] - 0s 13ms/step - loss: 0.4970 - accuracy: 0.8848 - val_loss: 0.4974 - val_accuracy: 0.9026\n",
            "Epoch 13/100\n",
            "7/7 [==============================] - 0s 15ms/step - loss: 0.4844 - accuracy: 0.9213 - val_loss: 0.4820 - val_accuracy: 0.9158\n",
            "Epoch 14/100\n",
            "7/7 [==============================] - 0s 13ms/step - loss: 0.4717 - accuracy: 0.9093 - val_loss: 0.4674 - val_accuracy: 0.9239\n",
            "Epoch 15/100\n",
            "7/7 [==============================] - 0s 13ms/step - loss: 0.4652 - accuracy: 0.9194 - val_loss: 0.4538 - val_accuracy: 0.9351\n",
            "Epoch 16/100\n",
            "7/7 [==============================] - 0s 13ms/step - loss: 0.4416 - accuracy: 0.9478 - val_loss: 0.4410 - val_accuracy: 0.9391\n",
            "Epoch 17/100\n",
            "7/7 [==============================] - 0s 14ms/step - loss: 0.4357 - accuracy: 0.9453 - val_loss: 0.4288 - val_accuracy: 0.9462\n",
            "Epoch 18/100\n",
            "7/7 [==============================] - 0s 13ms/step - loss: 0.4163 - accuracy: 0.9684 - val_loss: 0.4170 - val_accuracy: 0.9513\n",
            "Epoch 19/100\n",
            "7/7 [==============================] - 0s 41ms/step - loss: 0.4045 - accuracy: 0.9624 - val_loss: 0.4059 - val_accuracy: 0.9594\n",
            "Epoch 20/100\n",
            "7/7 [==============================] - 0s 14ms/step - loss: 0.3962 - accuracy: 0.9552 - val_loss: 0.3955 - val_accuracy: 0.9625\n",
            "Epoch 21/100\n",
            "7/7 [==============================] - 0s 13ms/step - loss: 0.3823 - accuracy: 0.9515 - val_loss: 0.3855 - val_accuracy: 0.9665\n",
            "Epoch 22/100\n",
            "7/7 [==============================] - 0s 13ms/step - loss: 0.3684 - accuracy: 0.9743 - val_loss: 0.3762 - val_accuracy: 0.9675\n",
            "Epoch 23/100\n",
            "7/7 [==============================] - 0s 14ms/step - loss: 0.3569 - accuracy: 0.9874 - val_loss: 0.3674 - val_accuracy: 0.9686\n",
            "Epoch 24/100\n",
            "7/7 [==============================] - 0s 14ms/step - loss: 0.3669 - accuracy: 0.9782 - val_loss: 0.3589 - val_accuracy: 0.9706\n",
            "Epoch 25/100\n",
            "7/7 [==============================] - 0s 13ms/step - loss: 0.3347 - accuracy: 0.9835 - val_loss: 0.3508 - val_accuracy: 0.9706\n",
            "Epoch 26/100\n",
            "7/7 [==============================] - 0s 14ms/step - loss: 0.3352 - accuracy: 0.9809 - val_loss: 0.3430 - val_accuracy: 0.9726\n",
            "Epoch 27/100\n",
            "7/7 [==============================] - 0s 13ms/step - loss: 0.3293 - accuracy: 0.9759 - val_loss: 0.3355 - val_accuracy: 0.9726\n",
            "Epoch 28/100\n",
            "7/7 [==============================] - 0s 14ms/step - loss: 0.3320 - accuracy: 0.9735 - val_loss: 0.3283 - val_accuracy: 0.9736\n",
            "Epoch 29/100\n",
            "7/7 [==============================] - 0s 14ms/step - loss: 0.3051 - accuracy: 0.9949 - val_loss: 0.3214 - val_accuracy: 0.9746\n",
            "Epoch 30/100\n",
            "7/7 [==============================] - 0s 13ms/step - loss: 0.2980 - accuracy: 0.9865 - val_loss: 0.3147 - val_accuracy: 0.9746\n",
            "Epoch 31/100\n",
            "7/7 [==============================] - 0s 14ms/step - loss: 0.3025 - accuracy: 0.9881 - val_loss: 0.3083 - val_accuracy: 0.9746\n",
            "Epoch 32/100\n",
            "7/7 [==============================] - 0s 13ms/step - loss: 0.2838 - accuracy: 0.9931 - val_loss: 0.3024 - val_accuracy: 0.9757\n",
            "Epoch 33/100\n",
            "7/7 [==============================] - 0s 13ms/step - loss: 0.2823 - accuracy: 0.9973 - val_loss: 0.2965 - val_accuracy: 0.9757\n",
            "Epoch 34/100\n",
            "7/7 [==============================] - 0s 15ms/step - loss: 0.2773 - accuracy: 0.9950 - val_loss: 0.2909 - val_accuracy: 0.9767\n",
            "Epoch 35/100\n",
            "7/7 [==============================] - 0s 15ms/step - loss: 0.2639 - accuracy: 0.9950 - val_loss: 0.2856 - val_accuracy: 0.9767\n",
            "Epoch 36/100\n",
            "7/7 [==============================] - 0s 14ms/step - loss: 0.2720 - accuracy: 0.9963 - val_loss: 0.2805 - val_accuracy: 0.9797\n",
            "Epoch 37/100\n",
            "7/7 [==============================] - 0s 14ms/step - loss: 0.2706 - accuracy: 0.9981 - val_loss: 0.2755 - val_accuracy: 0.9797\n",
            "Epoch 38/100\n",
            "7/7 [==============================] - 0s 16ms/step - loss: 0.2610 - accuracy: 0.9973 - val_loss: 0.2708 - val_accuracy: 0.9797\n",
            "Epoch 39/100\n",
            "7/7 [==============================] - 0s 14ms/step - loss: 0.2597 - accuracy: 0.9931 - val_loss: 0.2663 - val_accuracy: 0.9797\n",
            "Epoch 40/100\n",
            "7/7 [==============================] - 0s 14ms/step - loss: 0.2497 - accuracy: 0.9950 - val_loss: 0.2619 - val_accuracy: 0.9817\n",
            "Epoch 41/100\n",
            "7/7 [==============================] - 0s 13ms/step - loss: 0.2253 - accuracy: 0.9963 - val_loss: 0.2576 - val_accuracy: 0.9838\n",
            "Epoch 42/100\n",
            "7/7 [==============================] - 0s 14ms/step - loss: 0.2407 - accuracy: 0.9981 - val_loss: 0.2534 - val_accuracy: 0.9838\n",
            "Epoch 43/100\n",
            "7/7 [==============================] - 0s 14ms/step - loss: 0.2276 - accuracy: 0.9981 - val_loss: 0.2495 - val_accuracy: 0.9838\n",
            "Epoch 44/100\n",
            "7/7 [==============================] - 0s 13ms/step - loss: 0.2211 - accuracy: 0.9988 - val_loss: 0.2457 - val_accuracy: 0.9838\n",
            "Epoch 45/100\n",
            "7/7 [==============================] - 0s 14ms/step - loss: 0.2275 - accuracy: 0.9950 - val_loss: 0.2420 - val_accuracy: 0.9838\n",
            "Epoch 46/100\n",
            "7/7 [==============================] - 0s 13ms/step - loss: 0.2200 - accuracy: 0.9981 - val_loss: 0.2384 - val_accuracy: 0.9838\n",
            "Epoch 47/100\n",
            "7/7 [==============================] - 0s 14ms/step - loss: 0.2164 - accuracy: 0.9973 - val_loss: 0.2350 - val_accuracy: 0.9838\n",
            "Epoch 48/100\n",
            "7/7 [==============================] - 0s 15ms/step - loss: 0.2177 - accuracy: 0.9931 - val_loss: 0.2317 - val_accuracy: 0.9838\n",
            "Epoch 49/100\n",
            "7/7 [==============================] - 0s 13ms/step - loss: 0.2147 - accuracy: 0.9981 - val_loss: 0.2286 - val_accuracy: 0.9838\n",
            "Epoch 50/100\n",
            "7/7 [==============================] - 0s 13ms/step - loss: 0.2056 - accuracy: 0.9981 - val_loss: 0.2254 - val_accuracy: 0.9838\n",
            "Epoch 51/100\n",
            "7/7 [==============================] - 0s 14ms/step - loss: 0.2112 - accuracy: 0.9892 - val_loss: 0.2224 - val_accuracy: 0.9838\n",
            "Epoch 52/100\n",
            "7/7 [==============================] - 0s 14ms/step - loss: 0.2056 - accuracy: 0.9892 - val_loss: 0.2195 - val_accuracy: 0.9838\n",
            "Epoch 53/100\n",
            "7/7 [==============================] - 0s 14ms/step - loss: 0.2038 - accuracy: 0.9931 - val_loss: 0.2167 - val_accuracy: 0.9838\n",
            "Epoch 54/100\n",
            "7/7 [==============================] - 0s 14ms/step - loss: 0.2041 - accuracy: 0.9892 - val_loss: 0.2139 - val_accuracy: 0.9838\n",
            "Epoch 55/100\n",
            "7/7 [==============================] - 0s 13ms/step - loss: 0.2018 - accuracy: 0.9981 - val_loss: 0.2112 - val_accuracy: 0.9838\n",
            "Epoch 56/100\n",
            "7/7 [==============================] - 0s 13ms/step - loss: 0.2003 - accuracy: 0.9973 - val_loss: 0.2087 - val_accuracy: 0.9848\n",
            "Epoch 57/100\n",
            "7/7 [==============================] - 0s 14ms/step - loss: 0.1996 - accuracy: 0.9892 - val_loss: 0.2061 - val_accuracy: 0.9848\n",
            "Epoch 58/100\n",
            "7/7 [==============================] - 0s 13ms/step - loss: 0.1887 - accuracy: 0.9981 - val_loss: 0.2036 - val_accuracy: 0.9858\n",
            "Epoch 59/100\n",
            "7/7 [==============================] - 0s 13ms/step - loss: 0.1841 - accuracy: 0.9892 - val_loss: 0.2012 - val_accuracy: 0.9858\n",
            "Epoch 60/100\n",
            "7/7 [==============================] - 0s 13ms/step - loss: 0.1871 - accuracy: 0.9892 - val_loss: 0.1990 - val_accuracy: 0.9858\n",
            "Epoch 61/100\n",
            "7/7 [==============================] - 0s 15ms/step - loss: 0.1800 - accuracy: 0.9973 - val_loss: 0.1967 - val_accuracy: 0.9868\n",
            "Epoch 62/100\n",
            "7/7 [==============================] - 0s 13ms/step - loss: 0.1803 - accuracy: 0.9981 - val_loss: 0.1945 - val_accuracy: 0.9868\n",
            "Epoch 63/100\n",
            "7/7 [==============================] - 0s 14ms/step - loss: 0.1839 - accuracy: 0.9981 - val_loss: 0.1924 - val_accuracy: 0.9868\n",
            "Epoch 64/100\n",
            "7/7 [==============================] - 0s 13ms/step - loss: 0.1772 - accuracy: 0.9973 - val_loss: 0.1903 - val_accuracy: 0.9868\n",
            "Epoch 65/100\n",
            "7/7 [==============================] - 0s 14ms/step - loss: 0.1760 - accuracy: 0.9931 - val_loss: 0.1882 - val_accuracy: 0.9868\n",
            "Epoch 66/100\n",
            "7/7 [==============================] - 0s 13ms/step - loss: 0.1765 - accuracy: 0.9950 - val_loss: 0.1861 - val_accuracy: 0.9868\n",
            "Epoch 67/100\n",
            "7/7 [==============================] - 0s 13ms/step - loss: 0.1596 - accuracy: 0.9981 - val_loss: 0.1842 - val_accuracy: 0.9868\n",
            "Epoch 68/100\n",
            "7/7 [==============================] - 0s 15ms/step - loss: 0.1632 - accuracy: 0.9950 - val_loss: 0.1823 - val_accuracy: 0.9868\n",
            "Epoch 69/100\n",
            "7/7 [==============================] - 0s 14ms/step - loss: 0.1654 - accuracy: 0.9973 - val_loss: 0.1805 - val_accuracy: 0.9868\n",
            "Epoch 70/100\n",
            "7/7 [==============================] - 0s 13ms/step - loss: 0.1672 - accuracy: 0.9892 - val_loss: 0.1787 - val_accuracy: 0.9868\n",
            "Epoch 71/100\n",
            "7/7 [==============================] - 0s 13ms/step - loss: 0.1633 - accuracy: 0.9950 - val_loss: 0.1769 - val_accuracy: 0.9868\n",
            "Epoch 72/100\n",
            "7/7 [==============================] - 0s 13ms/step - loss: 0.1519 - accuracy: 0.9950 - val_loss: 0.1752 - val_accuracy: 0.9868\n",
            "Epoch 73/100\n",
            "7/7 [==============================] - 0s 35ms/step - loss: 0.1607 - accuracy: 0.9892 - val_loss: 0.1736 - val_accuracy: 0.9868\n",
            "Epoch 74/100\n",
            "7/7 [==============================] - 0s 14ms/step - loss: 0.1586 - accuracy: 0.9981 - val_loss: 0.1719 - val_accuracy: 0.9868\n",
            "Epoch 75/100\n",
            "7/7 [==============================] - 0s 13ms/step - loss: 0.1523 - accuracy: 0.9950 - val_loss: 0.1703 - val_accuracy: 0.9868\n",
            "Epoch 76/100\n",
            "7/7 [==============================] - 0s 13ms/step - loss: 0.1533 - accuracy: 0.9931 - val_loss: 0.1688 - val_accuracy: 0.9868\n",
            "Epoch 77/100\n",
            "7/7 [==============================] - 0s 13ms/step - loss: 0.1545 - accuracy: 0.9892 - val_loss: 0.1673 - val_accuracy: 0.9868\n",
            "Epoch 78/100\n",
            "7/7 [==============================] - 0s 15ms/step - loss: 0.1510 - accuracy: 0.9950 - val_loss: 0.1658 - val_accuracy: 0.9868\n",
            "Epoch 79/100\n",
            "7/7 [==============================] - 0s 14ms/step - loss: 0.1485 - accuracy: 0.9931 - val_loss: 0.1644 - val_accuracy: 0.9868\n",
            "Epoch 80/100\n",
            "7/7 [==============================] - 0s 13ms/step - loss: 0.1482 - accuracy: 0.9988 - val_loss: 0.1630 - val_accuracy: 0.9868\n",
            "Epoch 81/100\n",
            "7/7 [==============================] - 0s 13ms/step - loss: 0.1492 - accuracy: 0.9892 - val_loss: 0.1616 - val_accuracy: 0.9868\n",
            "Epoch 82/100\n",
            "7/7 [==============================] - 0s 14ms/step - loss: 0.1387 - accuracy: 0.9950 - val_loss: 0.1603 - val_accuracy: 0.9868\n",
            "Epoch 83/100\n",
            "7/7 [==============================] - 0s 14ms/step - loss: 0.1415 - accuracy: 0.9950 - val_loss: 0.1589 - val_accuracy: 0.9868\n",
            "Epoch 84/100\n",
            "7/7 [==============================] - 0s 13ms/step - loss: 0.1314 - accuracy: 0.9973 - val_loss: 0.1576 - val_accuracy: 0.9878\n",
            "Epoch 85/100\n",
            "7/7 [==============================] - 0s 15ms/step - loss: 0.1423 - accuracy: 0.9973 - val_loss: 0.1564 - val_accuracy: 0.9878\n",
            "Epoch 86/100\n",
            "7/7 [==============================] - 0s 17ms/step - loss: 0.1367 - accuracy: 0.9963 - val_loss: 0.1551 - val_accuracy: 0.9878\n",
            "Epoch 87/100\n",
            "7/7 [==============================] - 0s 16ms/step - loss: 0.1385 - accuracy: 0.9973 - val_loss: 0.1539 - val_accuracy: 0.9878\n",
            "Epoch 88/100\n",
            "7/7 [==============================] - 0s 14ms/step - loss: 0.1354 - accuracy: 0.9892 - val_loss: 0.1527 - val_accuracy: 0.9878\n",
            "Epoch 89/100\n",
            "7/7 [==============================] - 0s 16ms/step - loss: 0.1377 - accuracy: 0.9892 - val_loss: 0.1515 - val_accuracy: 0.9878\n",
            "Epoch 90/100\n",
            "7/7 [==============================] - 0s 14ms/step - loss: 0.1242 - accuracy: 0.9973 - val_loss: 0.1504 - val_accuracy: 0.9878\n",
            "Epoch 91/100\n",
            "7/7 [==============================] - 0s 14ms/step - loss: 0.1286 - accuracy: 0.9963 - val_loss: 0.1492 - val_accuracy: 0.9878\n",
            "Epoch 92/100\n",
            "7/7 [==============================] - 0s 14ms/step - loss: 0.1363 - accuracy: 0.9950 - val_loss: 0.1481 - val_accuracy: 0.9878\n",
            "Epoch 93/100\n",
            "7/7 [==============================] - 0s 14ms/step - loss: 0.1251 - accuracy: 0.9988 - val_loss: 0.1470 - val_accuracy: 0.9878\n",
            "Epoch 94/100\n",
            "7/7 [==============================] - 0s 13ms/step - loss: 0.1274 - accuracy: 0.9963 - val_loss: 0.1460 - val_accuracy: 0.9878\n",
            "Epoch 95/100\n",
            "7/7 [==============================] - 0s 13ms/step - loss: 0.1218 - accuracy: 0.9981 - val_loss: 0.1449 - val_accuracy: 0.9878\n",
            "Epoch 96/100\n",
            "7/7 [==============================] - 0s 15ms/step - loss: 0.1227 - accuracy: 0.9988 - val_loss: 0.1439 - val_accuracy: 0.9878\n",
            "Epoch 97/100\n",
            "7/7 [==============================] - 0s 14ms/step - loss: 0.1296 - accuracy: 0.9892 - val_loss: 0.1428 - val_accuracy: 0.9888\n",
            "Epoch 98/100\n",
            "7/7 [==============================] - 0s 14ms/step - loss: 0.1322 - accuracy: 0.9931 - val_loss: 0.1419 - val_accuracy: 0.9888\n",
            "Epoch 99/100\n",
            "7/7 [==============================] - 0s 13ms/step - loss: 0.1253 - accuracy: 0.9931 - val_loss: 0.1409 - val_accuracy: 0.9888\n",
            "Epoch 100/100\n",
            "7/7 [==============================] - 0s 14ms/step - loss: 0.1185 - accuracy: 0.9981 - val_loss: 0.1399 - val_accuracy: 0.9888\n"
          ],
          "name": "stdout"
        }
      ]
    },
    {
      "cell_type": "code",
      "metadata": {
        "colab": {
          "base_uri": "https://localhost:8080/"
        },
        "id": "tnQd4WgC43VN",
        "outputId": "1390ece6-d520-4e41-81cb-4b0983212463"
      },
      "source": [
        "for layer in model_B_on_A.layers[:-1]:\n",
        "    layer.trainable = True\n",
        "\n",
        "model_B_on_A.compile(loss=\"binary_crossentropy\",\n",
        "                     optimizer=keras.optimizers.SGD(lr=1e-3),\n",
        "                     metrics=[\"accuracy\"])\n",
        "\n",
        "history = model_B_on_A.fit(X_train_B, y_train_B, epochs=16,\n",
        "                           validation_data=(X_valid_B, y_valid_B))"
      ],
      "execution_count": 85,
      "outputs": [
        {
          "output_type": "stream",
          "text": [
            "Epoch 1/16\n",
            "7/7 [==============================] - 1s 41ms/step - loss: 0.1186 - accuracy: 0.9973 - val_loss: 0.1275 - val_accuracy: 0.9888\n",
            "Epoch 2/16\n",
            "7/7 [==============================] - 0s 15ms/step - loss: 0.1109 - accuracy: 0.9973 - val_loss: 0.1252 - val_accuracy: 0.9899\n",
            "Epoch 3/16\n",
            "7/7 [==============================] - 0s 15ms/step - loss: 0.1123 - accuracy: 0.9988 - val_loss: 0.1427 - val_accuracy: 0.9807\n",
            "Epoch 4/16\n",
            "7/7 [==============================] - 0s 14ms/step - loss: 0.1105 - accuracy: 0.9931 - val_loss: 0.1246 - val_accuracy: 0.9888\n",
            "Epoch 5/16\n",
            "7/7 [==============================] - 0s 14ms/step - loss: 0.1056 - accuracy: 0.9924 - val_loss: 0.1158 - val_accuracy: 0.9929\n",
            "Epoch 6/16\n",
            "7/7 [==============================] - 0s 16ms/step - loss: 0.0985 - accuracy: 0.9963 - val_loss: 0.1126 - val_accuracy: 0.9909\n",
            "Epoch 7/16\n",
            "7/7 [==============================] - 0s 15ms/step - loss: 0.0978 - accuracy: 0.9963 - val_loss: 0.1145 - val_accuracy: 0.9899\n",
            "Epoch 8/16\n",
            "7/7 [==============================] - 0s 15ms/step - loss: 0.0908 - accuracy: 0.9950 - val_loss: 0.1159 - val_accuracy: 0.9838\n",
            "Epoch 9/16\n",
            "7/7 [==============================] - 0s 15ms/step - loss: 0.0949 - accuracy: 0.9950 - val_loss: 0.1074 - val_accuracy: 0.9909\n",
            "Epoch 10/16\n",
            "7/7 [==============================] - 0s 15ms/step - loss: 0.0885 - accuracy: 0.9950 - val_loss: 0.1202 - val_accuracy: 0.9838\n",
            "Epoch 11/16\n",
            "7/7 [==============================] - 0s 14ms/step - loss: 0.0982 - accuracy: 0.9963 - val_loss: 0.1055 - val_accuracy: 0.9929\n",
            "Epoch 12/16\n",
            "7/7 [==============================] - 0s 14ms/step - loss: 0.0845 - accuracy: 0.9981 - val_loss: 0.1046 - val_accuracy: 0.9919\n",
            "Epoch 13/16\n",
            "7/7 [==============================] - 0s 14ms/step - loss: 0.0857 - accuracy: 0.9963 - val_loss: 0.1049 - val_accuracy: 0.9899\n",
            "Epoch 14/16\n",
            "7/7 [==============================] - 0s 14ms/step - loss: 0.0895 - accuracy: 0.9931 - val_loss: 0.1004 - val_accuracy: 0.9919\n",
            "Epoch 15/16\n",
            "7/7 [==============================] - 0s 14ms/step - loss: 0.0851 - accuracy: 0.9963 - val_loss: 0.0994 - val_accuracy: 0.9909\n",
            "Epoch 16/16\n",
            "7/7 [==============================] - 0s 16ms/step - loss: 0.0753 - accuracy: 0.9973 - val_loss: 0.1043 - val_accuracy: 0.9838\n"
          ],
          "name": "stdout"
        }
      ]
    },
    {
      "cell_type": "code",
      "metadata": {
        "colab": {
          "base_uri": "https://localhost:8080/"
        },
        "id": "llN_ToIt5xNP",
        "outputId": "2765cb3e-7e31-4efe-d0a9-342775849b51"
      },
      "source": [
        "model_B.evaluate(X_test_B, y_test_B)"
      ],
      "execution_count": 86,
      "outputs": [
        {
          "output_type": "stream",
          "text": [
            "63/63 [==============================] - 0s 1ms/step - loss: 0.5188 - accuracy: 0.7145\n"
          ],
          "name": "stdout"
        },
        {
          "output_type": "execute_result",
          "data": {
            "text/plain": [
              "[0.5187500715255737, 0.7145000100135803]"
            ]
          },
          "metadata": {
            "tags": []
          },
          "execution_count": 86
        }
      ]
    },
    {
      "cell_type": "code",
      "metadata": {
        "colab": {
          "base_uri": "https://localhost:8080/"
        },
        "id": "tXwKDrwr58Fm",
        "outputId": "aadc5307-9035-4830-8523-c8e4aae546bc"
      },
      "source": [
        "model_B_on_A.evaluate(X_test_B, y_test_B)"
      ],
      "execution_count": 87,
      "outputs": [
        {
          "output_type": "stream",
          "text": [
            "63/63 [==============================] - 0s 1ms/step - loss: 0.0403 - accuracy: 0.9905\n"
          ],
          "name": "stdout"
        },
        {
          "output_type": "execute_result",
          "data": {
            "text/plain": [
              "[0.04031749069690704, 0.9904999732971191]"
            ]
          },
          "metadata": {
            "tags": []
          },
          "execution_count": 87
        }
      ]
    },
    {
      "cell_type": "code",
      "metadata": {
        "id": "ZC_lW5eP6Atg"
      },
      "source": [
        ""
      ],
      "execution_count": null,
      "outputs": []
    }
  ]
}