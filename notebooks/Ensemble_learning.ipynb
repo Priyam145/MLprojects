{
 "metadata": {
  "language_info": {
   "codemirror_mode": {
    "name": "ipython",
    "version": 3
   },
   "file_extension": ".py",
   "mimetype": "text/x-python",
   "name": "python",
   "nbconvert_exporter": "python",
   "pygments_lexer": "ipython3",
   "version": "3.8.5-final"
  },
  "orig_nbformat": 2,
  "kernelspec": {
   "name": "python38564bitmlenvlitecondab690340c63d74691af93b96239b8cdbd",
   "display_name": "Python 3.8.5 64-bit ('MLenv_lite': conda)",
   "language": "python"
  }
 },
 "nbformat": 4,
 "nbformat_minor": 2,
 "cells": [
  {
   "cell_type": "code",
   "execution_count": 1,
   "metadata": {},
   "outputs": [],
   "source": [
    "from sklearn.ensemble import RandomForestClassifier\n",
    "from sklearn.ensemble import VotingClassifier\n",
    "from sklearn.linear_model import LogisticRegression\n",
    "from sklearn.svm import SVC\n",
    "from sklearn.datasets import make_moons\n",
    "from sklearn.model_selection import train_test_split"
   ]
  },
  {
   "cell_type": "code",
   "execution_count": 14,
   "metadata": {},
   "outputs": [],
   "source": [
    "moons = make_moons(n_samples=1000, noise=0.4)"
   ]
  },
  {
   "cell_type": "code",
   "execution_count": 15,
   "metadata": {},
   "outputs": [],
   "source": [
    "X = moons[0]\n",
    "y = moons[1]"
   ]
  },
  {
   "cell_type": "code",
   "execution_count": 16,
   "metadata": {},
   "outputs": [],
   "source": [
    "X_train, X_test, y_train, y_test = train_test_split(X, y, test_size=0.2)"
   ]
  },
  {
   "cell_type": "code",
   "execution_count": 17,
   "metadata": {},
   "outputs": [],
   "source": [
    "log_clf = LogisticRegression()\n",
    "rnd_clf = RandomForestClassifier()\n",
    "svm_clf = SVC()"
   ]
  },
  {
   "source": [
    "### Hard Voting"
   ],
   "cell_type": "markdown",
   "metadata": {}
  },
  {
   "cell_type": "code",
   "execution_count": 18,
   "metadata": {},
   "outputs": [],
   "source": [
    "voting_hard_clf = VotingClassifier(\n",
    "    estimators=[('lr', log_clf), ('rf', rnd_clf), ('svc', svm_clf)],\n",
    "    voting=\"hard\"\n",
    ")"
   ]
  },
  {
   "cell_type": "code",
   "execution_count": 19,
   "metadata": {},
   "outputs": [
    {
     "output_type": "execute_result",
     "data": {
      "text/plain": [
       "VotingClassifier(estimators=[('lr', LogisticRegression()),\n",
       "                             ('rf', RandomForestClassifier()), ('svc', SVC())])"
      ]
     },
     "metadata": {},
     "execution_count": 19
    }
   ],
   "source": [
    "voting_hard_clf.fit(X_train, y_train)"
   ]
  },
  {
   "cell_type": "code",
   "execution_count": 20,
   "metadata": {},
   "outputs": [],
   "source": [
    "from sklearn.metrics import accuracy_score"
   ]
  },
  {
   "cell_type": "code",
   "execution_count": 21,
   "metadata": {},
   "outputs": [
    {
     "output_type": "stream",
     "name": "stdout",
     "text": [
      "LogisticRegression 0.85\n",
      "RandomForestClassifier 0.835\n",
      "SVC 0.9\n",
      "VotingClassifier 0.885\n"
     ]
    }
   ],
   "source": [
    "for clf in (log_clf, rnd_clf, svm_clf, voting_hard_clf):\n",
    "    clf.fit(X_train, y_train)\n",
    "    y_pred = clf.predict(X_test)\n",
    "    print(clf.__class__.__name__, accuracy_score(y_test, y_pred))"
   ]
  },
  {
   "source": [
    "### Soft Voting "
   ],
   "cell_type": "markdown",
   "metadata": {}
  },
  {
   "cell_type": "code",
   "execution_count": 22,
   "metadata": {},
   "outputs": [],
   "source": [
    "svm_prob_clf = SVC(probability=True)"
   ]
  },
  {
   "cell_type": "code",
   "execution_count": 23,
   "metadata": {},
   "outputs": [],
   "source": [
    "voting_soft_clf = VotingClassifier(\n",
    "    estimators=[('lr', log_clf), ('rf', rnd_clf), ('svc', svm_prob_clf)],\n",
    "    voting=\"soft\",\n",
    ")"
   ]
  },
  {
   "cell_type": "code",
   "execution_count": 24,
   "metadata": {},
   "outputs": [
    {
     "output_type": "execute_result",
     "data": {
      "text/plain": [
       "VotingClassifier(estimators=[('lr', LogisticRegression()),\n",
       "                             ('rf', RandomForestClassifier()),\n",
       "                             ('svc', SVC(probability=True))],\n",
       "                 voting='soft')"
      ]
     },
     "metadata": {},
     "execution_count": 24
    }
   ],
   "source": [
    "voting_soft_clf.fit(X_train, y_train)"
   ]
  },
  {
   "cell_type": "code",
   "execution_count": 25,
   "metadata": {},
   "outputs": [
    {
     "output_type": "stream",
     "name": "stdout",
     "text": [
      "LogisticRegression 0.85\n",
      "RandomForestClassifier 0.83\n",
      "SVC 0.9\n",
      "VotingClassifier 0.88\n",
      "VotingClassifier 0.875\n"
     ]
    }
   ],
   "source": [
    "for clf in (log_clf, rnd_clf, svm_clf, voting_hard_clf, voting_soft_clf):\n",
    "    clf.fit(X_train, y_train)\n",
    "    y_pred = clf.predict(X_test)\n",
    "    print(clf.__class__.__name__, accuracy_score(y_test, y_pred))"
   ]
  },
  {
   "cell_type": "code",
   "execution_count": 26,
   "metadata": {},
   "outputs": [],
   "source": [
    "from sklearn.ensemble import BaggingClassifier\n",
    "from sklearn.tree import DecisionTreeClassifier"
   ]
  },
  {
   "cell_type": "code",
   "execution_count": 27,
   "metadata": {},
   "outputs": [],
   "source": [
    "bag_clf = BaggingClassifier(\n",
    "    DecisionTreeClassifier(), n_estimators=500,\n",
    "    max_samples=100, bootstrap=True, n_jobs=1\n",
    ")"
   ]
  },
  {
   "cell_type": "code",
   "execution_count": 28,
   "metadata": {},
   "outputs": [
    {
     "output_type": "execute_result",
     "data": {
      "text/plain": [
       "BaggingClassifier(base_estimator=DecisionTreeClassifier(), max_samples=100,\n",
       "                  n_estimators=500, n_jobs=1)"
      ]
     },
     "metadata": {},
     "execution_count": 28
    }
   ],
   "source": [
    "bag_clf.fit(X_train, y_train)"
   ]
  },
  {
   "cell_type": "code",
   "execution_count": 29,
   "metadata": {},
   "outputs": [],
   "source": [
    "y_pred = bag_clf.predict(X_test)"
   ]
  },
  {
   "cell_type": "code",
   "execution_count": 30,
   "metadata": {},
   "outputs": [],
   "source": [
    "bag_clf = BaggingClassifier(\n",
    "    DecisionTreeClassifier(), n_estimators=500,\n",
    "    bootstrap=True, n_jobs=-1, oob_score=True\n",
    ")"
   ]
  },
  {
   "cell_type": "code",
   "execution_count": 31,
   "metadata": {},
   "outputs": [
    {
     "output_type": "execute_result",
     "data": {
      "text/plain": [
       "0.84125"
      ]
     },
     "metadata": {},
     "execution_count": 31
    }
   ],
   "source": [
    "bag_clf.fit(X_train, y_train)\n",
    "bag_clf.oob_score_"
   ]
  },
  {
   "cell_type": "code",
   "execution_count": 32,
   "metadata": {},
   "outputs": [],
   "source": [
    "from sklearn.metrics import accuracy_score"
   ]
  },
  {
   "cell_type": "code",
   "execution_count": 33,
   "metadata": {},
   "outputs": [],
   "source": [
    "y_pred = bag_clf.predict(X_test)"
   ]
  },
  {
   "cell_type": "code",
   "execution_count": 34,
   "metadata": {},
   "outputs": [
    {
     "output_type": "execute_result",
     "data": {
      "text/plain": [
       "0.83"
      ]
     },
     "metadata": {},
     "execution_count": 34
    }
   ],
   "source": [
    "accuracy_score(y_test, y_pred)"
   ]
  },
  {
   "cell_type": "code",
   "execution_count": 35,
   "metadata": {},
   "outputs": [
    {
     "output_type": "execute_result",
     "data": {
      "text/plain": [
       "array([[0.61797753, 0.38202247],\n",
       "       [1.        , 0.        ],\n",
       "       [1.        , 0.        ],\n",
       "       ...,\n",
       "       [1.        , 0.        ],\n",
       "       [1.        , 0.        ],\n",
       "       [0.03592814, 0.96407186]])"
      ]
     },
     "metadata": {},
     "execution_count": 35
    }
   ],
   "source": [
    "bag_clf.oob_decision_function_"
   ]
  },
  {
   "source": [
    "# Random Forest"
   ],
   "cell_type": "markdown",
   "metadata": {}
  },
  {
   "cell_type": "code",
   "execution_count": 36,
   "metadata": {},
   "outputs": [],
   "source": [
    "from sklearn.ensemble import RandomForestClassifier"
   ]
  },
  {
   "cell_type": "code",
   "execution_count": 38,
   "metadata": {},
   "outputs": [
    {
     "output_type": "execute_result",
     "data": {
      "text/plain": [
       "RandomForestClassifier(max_leaf_nodes=16, n_estimators=500, n_jobs=-1)"
      ]
     },
     "metadata": {},
     "execution_count": 38
    }
   ],
   "source": [
    "rnd_clf = RandomForestClassifier(n_estimators=500, max_leaf_nodes=16, n_jobs=-1)\n",
    "rnd_clf.fit(X_train, y_train)"
   ]
  },
  {
   "cell_type": "code",
   "execution_count": 39,
   "metadata": {},
   "outputs": [],
   "source": [
    "y_pred_rf = rnd_clf.predict(X_test)"
   ]
  },
  {
   "cell_type": "code",
   "execution_count": 40,
   "metadata": {},
   "outputs": [
    {
     "output_type": "execute_result",
     "data": {
      "text/plain": [
       "0.89"
      ]
     },
     "metadata": {},
     "execution_count": 40
    }
   ],
   "source": [
    "accuracy_score(y_test, y_pred_rf)"
   ]
  },
  {
   "cell_type": "code",
   "execution_count": 43,
   "metadata": {},
   "outputs": [],
   "source": [
    "bag_clf = BaggingClassifier(\n",
    "    DecisionTreeClassifier(splitter='random', max_leaf_nodes=16),\n",
    "    n_estimators=500, max_samples=1.0, bootstrap=True, n_jobs=-1\n",
    ")"
   ]
  },
  {
   "cell_type": "code",
   "execution_count": 44,
   "metadata": {},
   "outputs": [
    {
     "output_type": "execute_result",
     "data": {
      "text/plain": [
       "BaggingClassifier(base_estimator=DecisionTreeClassifier(max_leaf_nodes=16,\n",
       "                                                        splitter='random'),\n",
       "                  n_estimators=500, n_jobs=-1)"
      ]
     },
     "metadata": {},
     "execution_count": 44
    }
   ],
   "source": [
    "bag_clf.fit(X_train, y_train)"
   ]
  },
  {
   "cell_type": "code",
   "execution_count": 45,
   "metadata": {},
   "outputs": [
    {
     "output_type": "execute_result",
     "data": {
      "text/plain": [
       "0.9"
      ]
     },
     "metadata": {},
     "execution_count": 45
    }
   ],
   "source": [
    "bg_pred = bag_clf.predict(X_test)\n",
    "accuracy_score(y_test, bg_pred)"
   ]
  },
  {
   "source": [
    "## Feature Importances    "
   ],
   "cell_type": "markdown",
   "metadata": {}
  },
  {
   "cell_type": "code",
   "execution_count": 46,
   "metadata": {},
   "outputs": [],
   "source": [
    "from sklearn.datasets import load_iris"
   ]
  },
  {
   "cell_type": "code",
   "execution_count": 47,
   "metadata": {},
   "outputs": [
    {
     "output_type": "stream",
     "name": "stdout",
     "text": [
      "sepal length (cm) 0.10452952160803752\nsepal width (cm) 0.02448962088119502\npetal length (cm) 0.44201516248972295\npetal width (cm) 0.4289656950210446\n"
     ]
    }
   ],
   "source": [
    "iris = load_iris()\n",
    "rnd_clf = RandomForestClassifier(n_estimators=500, n_jobs=-1)\n",
    "rnd_clf.fit(iris[\"data\"], iris[\"target\"])\n",
    "for name, score in zip(iris[\"feature_names\"], rnd_clf.feature_importances_):\n",
    "    print(name, score)"
   ]
  },
  {
   "source": [
    "# Boosting"
   ],
   "cell_type": "markdown",
   "metadata": {}
  },
  {
   "source": [
    "## AdaBoost"
   ],
   "cell_type": "markdown",
   "metadata": {}
  },
  {
   "source": [
    "from sklearn.ensemble import AdaBoostClassifier"
   ],
   "cell_type": "code",
   "metadata": {},
   "execution_count": 51,
   "outputs": []
  },
  {
   "cell_type": "code",
   "execution_count": 49,
   "metadata": {},
   "outputs": [
    {
     "output_type": "execute_result",
     "data": {
      "text/plain": [
       "AdaBoostClassifier(base_estimator=DecisionTreeClassifier(max_depth=1),\n",
       "                   learning_rate=0.5, n_estimators=200)"
      ]
     },
     "metadata": {},
     "execution_count": 49
    }
   ],
   "source": [
    "ada_clf = AdaBoostClassifier(\n",
    "    DecisionTreeClassifier(max_depth=1), n_estimators=200,\n",
    "    algorithm=\"SAMME.R\", learning_rate=0.5\n",
    ")\n",
    "ada_clf.fit(X_train, y_train)"
   ]
  },
  {
   "cell_type": "code",
   "execution_count": 50,
   "metadata": {},
   "outputs": [
    {
     "output_type": "execute_result",
     "data": {
      "text/plain": [
       "0.885"
      ]
     },
     "metadata": {},
     "execution_count": 50
    }
   ],
   "source": [
    "ada_pred = ada_clf.predict(X_test)\n",
    "accuracy_score(y_test, ada_pred)"
   ]
  },
  {
   "source": [
    "## Gradient Boosting"
   ],
   "cell_type": "markdown",
   "metadata": {}
  },
  {
   "cell_type": "code",
   "execution_count": 59,
   "metadata": {},
   "outputs": [],
   "source": [
    "import numpy as np\n",
    "from sklearn.tree import DecisionTreeRegressor"
   ]
  },
  {
   "cell_type": "code",
   "execution_count": 61,
   "metadata": {},
   "outputs": [],
   "source": [
    "np.random.seed(42)\n",
    "X = np.random.rand(100, 1) - 0.5\n",
    "y = 3*X[:, 0]**2 + 0.05 * np.random.randn(100)"
   ]
  },
  {
   "cell_type": "code",
   "execution_count": 62,
   "metadata": {},
   "outputs": [
    {
     "output_type": "execute_result",
     "data": {
      "text/plain": [
       "DecisionTreeRegressor(max_depth=2)"
      ]
     },
     "metadata": {},
     "execution_count": 62
    }
   ],
   "source": [
    "tree_reg1 = DecisionTreeRegressor(max_depth=2)\n",
    "tree_reg1.fit(X, y)"
   ]
  },
  {
   "cell_type": "code",
   "execution_count": 63,
   "metadata": {},
   "outputs": [
    {
     "output_type": "execute_result",
     "data": {
      "text/plain": [
       "DecisionTreeRegressor(max_depth=2)"
      ]
     },
     "metadata": {},
     "execution_count": 63
    }
   ],
   "source": [
    "y2 = y - tree_reg1.predict(X)\n",
    "tree_reg2 = DecisionTreeRegressor(max_depth=2)\n",
    "tree_reg2.fit(X, y2)"
   ]
  },
  {
   "cell_type": "code",
   "execution_count": 64,
   "metadata": {},
   "outputs": [
    {
     "output_type": "execute_result",
     "data": {
      "text/plain": [
       "DecisionTreeRegressor(max_depth=2)"
      ]
     },
     "metadata": {},
     "execution_count": 64
    }
   ],
   "source": [
    "y3 = y2 - tree_reg2.predict(X)\n",
    "tree_reg3 = DecisionTreeRegressor(max_depth=2)\n",
    "tree_reg3.fit(X, y3)"
   ]
  },
  {
   "cell_type": "code",
   "execution_count": 66,
   "metadata": {},
   "outputs": [
    {
     "output_type": "execute_result",
     "data": {
      "text/plain": [
       "array([0.75026781])"
      ]
     },
     "metadata": {},
     "execution_count": 66
    }
   ],
   "source": [
    "y_pred = sum(tree.predict(np.array([[0.8]])) for tree in (tree_reg1, tree_reg2, tree_reg3))\n",
    "y_pred"
   ]
  },
  {
   "cell_type": "code",
   "execution_count": 67,
   "metadata": {},
   "outputs": [],
   "source": [
    "from sklearn.ensemble import GradientBoostingRegressor"
   ]
  },
  {
   "cell_type": "code",
   "execution_count": 68,
   "metadata": {},
   "outputs": [
    {
     "output_type": "execute_result",
     "data": {
      "text/plain": [
       "GradientBoostingRegressor(learning_rate=1.0, max_depth=2, n_estimators=3)"
      ]
     },
     "metadata": {},
     "execution_count": 68
    }
   ],
   "source": [
    "gbrt = GradientBoostingRegressor(max_depth=2, n_estimators=3, learning_rate=1.0)\n",
    "gbrt.fit(X, y)"
   ]
  },
  {
   "source": [
    "### Early Stopping"
   ],
   "cell_type": "markdown",
   "metadata": {}
  },
  {
   "cell_type": "code",
   "execution_count": 70,
   "metadata": {},
   "outputs": [],
   "source": [
    "import numpy as np\n",
    "from sklearn.model_selection import train_test_split\n",
    "from sklearn.metrics import mean_squared_error"
   ]
  },
  {
   "cell_type": "code",
   "execution_count": 71,
   "metadata": {},
   "outputs": [],
   "source": [
    "X_train, X_val, y_train, y_val = train_test_split(X, y)"
   ]
  },
  {
   "cell_type": "code",
   "execution_count": 72,
   "metadata": {},
   "outputs": [
    {
     "output_type": "execute_result",
     "data": {
      "text/plain": [
       "GradientBoostingRegressor(max_depth=2, n_estimators=120)"
      ]
     },
     "metadata": {},
     "execution_count": 72
    }
   ],
   "source": [
    "gbrt = GradientBoostingRegressor(max_depth=2, n_estimators=120)\n",
    "gbrt.fit(X_train, y_train)"
   ]
  },
  {
   "cell_type": "code",
   "execution_count": 76,
   "metadata": {},
   "outputs": [
    {
     "output_type": "execute_result",
     "data": {
      "text/plain": [
       "85"
      ]
     },
     "metadata": {},
     "execution_count": 76
    }
   ],
   "source": [
    "errors = [mean_squared_error(y_val, y_pred) for y_pred in gbrt.staged_predict(X_val)]\n",
    "bst_n_estimators = np.argmin(errors) + 1\n",
    "bst_n_estimators"
   ]
  },
  {
   "cell_type": "code",
   "execution_count": 77,
   "metadata": {},
   "outputs": [
    {
     "output_type": "execute_result",
     "data": {
      "text/plain": [
       "GradientBoostingRegressor(max_depth=2, n_estimators=85)"
      ]
     },
     "metadata": {},
     "execution_count": 77
    }
   ],
   "source": [
    "gbrt_best = GradientBoostingRegressor(max_depth=2, n_estimators=bst_n_estimators)\n",
    "gbrt_best.fit(X_train, y_train)"
   ]
  },
  {
   "source": [
    "#### Warm Start"
   ],
   "cell_type": "markdown",
   "metadata": {}
  },
  {
   "source": [
    "Warm Start performs incremental learning, i.e it will keep the previous Decision Trees that have been fit"
   ],
   "cell_type": "markdown",
   "metadata": {}
  },
  {
   "cell_type": "code",
   "execution_count": 91,
   "metadata": {},
   "outputs": [],
   "source": [
    "gbrt = GradientBoostingRegressor(max_depth=2, warm_start=True)"
   ]
  },
  {
   "cell_type": "code",
   "execution_count": 92,
   "metadata": {},
   "outputs": [
    {
     "output_type": "stream",
     "name": "stdout",
     "text": [
      "Validation Error: 0.04853645651402395\nPrevious Minimum Validation Error: 0.04853645651402395\nMinimum Validation Error: 0.04853645651402395 \n\nValidation Error: 0.040640268941000264\nPrevious Minimum Validation Error: 0.040640268941000264\nMinimum Validation Error: 0.040640268941000264 \n\nValidation Error: 0.034251627375732265\nPrevious Minimum Validation Error: 0.034251627375732265\nMinimum Validation Error: 0.034251627375732265 \n\nValidation Error: 0.030860253423403018\nPrevious Minimum Validation Error: 0.030860253423403018\nMinimum Validation Error: 0.030860253423403018 \n\nValidation Error: 0.026963941731481037\nPrevious Minimum Validation Error: 0.026963941731481037\nMinimum Validation Error: 0.026963941731481037 \n\nValidation Error: 0.023139718761101085\nPrevious Minimum Validation Error: 0.023139718761101085\nMinimum Validation Error: 0.023139718761101085 \n\nValidation Error: 0.02118892032500619\nPrevious Minimum Validation Error: 0.02118892032500619\nMinimum Validation Error: 0.02118892032500619 \n\nValidation Error: 0.018172837139291655\nPrevious Minimum Validation Error: 0.018172837139291655\nMinimum Validation Error: 0.018172837139291655 \n\nValidation Error: 0.01658469511059632\nPrevious Minimum Validation Error: 0.01658469511059632\nMinimum Validation Error: 0.01658469511059632 \n\nValidation Error: 0.014568427284013214\nPrevious Minimum Validation Error: 0.014568427284013214\nMinimum Validation Error: 0.014568427284013214 \n\nValidation Error: 0.012919592933029175\nPrevious Minimum Validation Error: 0.012919592933029175\nMinimum Validation Error: 0.012919592933029175 \n\nValidation Error: 0.012030899023042343\nPrevious Minimum Validation Error: 0.012030899023042343\nMinimum Validation Error: 0.012030899023042343 \n\nValidation Error: 0.011188765359382204\nPrevious Minimum Validation Error: 0.011188765359382204\nMinimum Validation Error: 0.011188765359382204 \n\nValidation Error: 0.010390290551727637\nPrevious Minimum Validation Error: 0.010390290551727637\nMinimum Validation Error: 0.010390290551727637 \n\nValidation Error: 0.009306394142702906\nPrevious Minimum Validation Error: 0.009306394142702906\nMinimum Validation Error: 0.009306394142702906 \n\nValidation Error: 0.00830459415632203\nPrevious Minimum Validation Error: 0.00830459415632203\nMinimum Validation Error: 0.00830459415632203 \n\nValidation Error: 0.007626346083680286\nPrevious Minimum Validation Error: 0.007626346083680286\nMinimum Validation Error: 0.007626346083680286 \n\nValidation Error: 0.007373861189333121\nPrevious Minimum Validation Error: 0.007373861189333121\nMinimum Validation Error: 0.007373861189333121 \n\nValidation Error: 0.007136295600513196\nPrevious Minimum Validation Error: 0.007136295600513196\nMinimum Validation Error: 0.007136295600513196 \n\nValidation Error: 0.006741763823569835\nPrevious Minimum Validation Error: 0.006741763823569835\nMinimum Validation Error: 0.006741763823569835 \n\nValidation Error: 0.006102481400713888\nPrevious Minimum Validation Error: 0.006102481400713888\nMinimum Validation Error: 0.006102481400713888 \n\nValidation Error: 0.005690836404214948\nPrevious Minimum Validation Error: 0.005690836404214948\nMinimum Validation Error: 0.005690836404214948 \n\nValidation Error: 0.005291986768518243\nPrevious Minimum Validation Error: 0.005291986768518243\nMinimum Validation Error: 0.005291986768518243 \n\nValidation Error: 0.005172467397888522\nPrevious Minimum Validation Error: 0.005172467397888522\nMinimum Validation Error: 0.005172467397888522 \n\nValidation Error: 0.004935572194959045\nPrevious Minimum Validation Error: 0.004935572194959045\nMinimum Validation Error: 0.004935572194959045 \n\nValidation Error: 0.004746297700031881\nPrevious Minimum Validation Error: 0.004746297700031881\nMinimum Validation Error: 0.004746297700031881 \n\nValidation Error: 0.0044323394223554375\nPrevious Minimum Validation Error: 0.0044323394223554375\nMinimum Validation Error: 0.0044323394223554375 \n\nValidation Error: 0.004244265295864291\nPrevious Minimum Validation Error: 0.004244265295864291\nMinimum Validation Error: 0.004244265295864291 \n\nValidation Error: 0.0040111971146731635\nPrevious Minimum Validation Error: 0.0040111971146731635\nMinimum Validation Error: 0.0040111971146731635 \n\nValidation Error: 0.003954394710620797\nPrevious Minimum Validation Error: 0.003954394710620797\nMinimum Validation Error: 0.003954394710620797 \n\nValidation Error: 0.003879733231164774\nPrevious Minimum Validation Error: 0.003879733231164774\nMinimum Validation Error: 0.003879733231164774 \n\nValidation Error: 0.0037918509916983934\nPrevious Minimum Validation Error: 0.0037918509916983934\nMinimum Validation Error: 0.0037918509916983934 \n\nValidation Error: 0.0037034180984788813\nPrevious Minimum Validation Error: 0.0037034180984788813\nMinimum Validation Error: 0.0037034180984788813 \n\nValidation Error: 0.0035410961960233396\nPrevious Minimum Validation Error: 0.0035410961960233396\nMinimum Validation Error: 0.0035410961960233396 \n\nValidation Error: 0.003497527610255329\nPrevious Minimum Validation Error: 0.003497527610255329\nMinimum Validation Error: 0.003497527610255329 \n\nValidation Error: 0.0033465574270547544\nPrevious Minimum Validation Error: 0.0033465574270547544\nMinimum Validation Error: 0.0033465574270547544 \n\nValidation Error: 0.0032133362689326134\nPrevious Minimum Validation Error: 0.0032133362689326134\nMinimum Validation Error: 0.0032133362689326134 \n\nValidation Error: 0.0031668820700545526\nPrevious Minimum Validation Error: 0.0031668820700545526\nMinimum Validation Error: 0.0031668820700545526 \n\nValidation Error: 0.0031474880551944522\nPrevious Minimum Validation Error: 0.0031474880551944522\nMinimum Validation Error: 0.0031474880551944522 \n\nValidation Error: 0.00313290434626548\nPrevious Minimum Validation Error: 0.00313290434626548\nMinimum Validation Error: 0.00313290434626548 \n\nValidation Error: 0.003060384155496198\nPrevious Minimum Validation Error: 0.003060384155496198\nMinimum Validation Error: 0.003060384155496198 \n\nValidation Error: 0.0030517634820494016\nPrevious Minimum Validation Error: 0.0030517634820494016\nMinimum Validation Error: 0.0030517634820494016 \n\nValidation Error: 0.003041398686667091\nPrevious Minimum Validation Error: 0.003041398686667091\nMinimum Validation Error: 0.003041398686667091 \n\nValidation Error: 0.0029695000264205783\nPrevious Minimum Validation Error: 0.0029695000264205783\nMinimum Validation Error: 0.0029695000264205783 \n\nValidation Error: 0.0029454897235765094\nPrevious Minimum Validation Error: 0.0029454897235765094\nMinimum Validation Error: 0.0029454897235765094 \n\nValidation Error: 0.0029243959847866314\nPrevious Minimum Validation Error: 0.0029243959847866314\nMinimum Validation Error: 0.0029243959847866314 \n\nValidation Error: 0.002899562625481585\nPrevious Minimum Validation Error: 0.002899562625481585\nMinimum Validation Error: 0.002899562625481585 \n\nValidation Error: 0.0028793532295200972\nPrevious Minimum Validation Error: 0.0028793532295200972\nMinimum Validation Error: 0.0028793532295200972 \n\nValidation Error: 0.0028306254869693436\nPrevious Minimum Validation Error: 0.0028306254869693436\nMinimum Validation Error: 0.0028306254869693436 \n\nValidation Error: 0.0028375495739460005\nValidation Error: 0.0028010096903141263\nPrevious Minimum Validation Error: 0.0028010096903141263\nMinimum Validation Error: 0.0028010096903141263 \n\nValidation Error: 0.0027964503749681696\nPrevious Minimum Validation Error: 0.0027964503749681696\nMinimum Validation Error: 0.0027964503749681696 \n\nValidation Error: 0.00279168230763824\nPrevious Minimum Validation Error: 0.00279168230763824\nMinimum Validation Error: 0.00279168230763824 \n\nValidation Error: 0.0027768248128625874\nPrevious Minimum Validation Error: 0.0027768248128625874\nMinimum Validation Error: 0.0027768248128625874 \n\nValidation Error: 0.0028161869789869766\nValidation Error: 0.002791135865934465\nValidation Error: 0.0027966587933267017\nValidation Error: 0.0027937454480891155\nValidation Error: 0.0027689568526369983\nPrevious Minimum Validation Error: 0.0027689568526369983\nMinimum Validation Error: 0.0027689568526369983 \n\nValidation Error: 0.002756040890779319\nPrevious Minimum Validation Error: 0.002756040890779319\nMinimum Validation Error: 0.002756040890779319 \n\nValidation Error: 0.0027626353600367437\nValidation Error: 0.0027731416226252402\nValidation Error: 0.0027787051975619844\nValidation Error: 0.002750279033345716\nPrevious Minimum Validation Error: 0.002750279033345716\nMinimum Validation Error: 0.002750279033345716 \n\nValidation Error: 0.002776730794241967\nValidation Error: 0.0027824729359416356\nValidation Error: 0.002770872196710712\nValidation Error: 0.0027692494627763525\nValidation Error: 0.0027511651083637644\n"
     ]
    }
   ],
   "source": [
    "min_val_error = float(\"inf\")\n",
    "error_going_up = 0\n",
    "for n_estimators in range(1, 120):\n",
    "    gbrt.n_estimators = n_estimators\n",
    "    gbrt.fit(X_train, y_train)\n",
    "    y_pred = gbrt.predict(X_val)\n",
    "    val_error = mean_squared_error(y_val, y_pred)\n",
    "    print(\"Validation Error:\", val_error)\n",
    "    if val_error < min_val_error:\n",
    "        min_val_error = val_error\n",
    "        print(\"Previous Minimum Validation Error:\", min_val_error)\n",
    "        print(\"Minimum Validation Error:\", min_val_error, \"\\n\")\n",
    "        error_going_up = 0\n",
    "    else:\n",
    "        error_going_up += 1\n",
    "        if error_going_up == 5:\n",
    "            break"
   ]
  },
  {
   "source": [
    "## XgBoost"
   ],
   "cell_type": "markdown",
   "metadata": {}
  },
  {
   "cell_type": "code",
   "execution_count": 97,
   "metadata": {},
   "outputs": [],
   "source": [
    "import xgboost\n",
    "from sklearn.metrics import mean_squared_error"
   ]
  },
  {
   "cell_type": "code",
   "execution_count": 98,
   "metadata": {},
   "outputs": [
    {
     "output_type": "execute_result",
     "data": {
      "text/plain": [
       "0.06070300146020461"
      ]
     },
     "metadata": {},
     "execution_count": 98
    }
   ],
   "source": [
    "xgb_reg = xgboost.XGBRegressor()\n",
    "xgb_reg.fit(X_train, y_train)\n",
    "y_pred = xgb_reg.predict(X_val)\n",
    "np.sqrt(mean_squared_error(y_val, y_pred))"
   ]
  },
  {
   "cell_type": "code",
   "execution_count": 100,
   "metadata": {},
   "outputs": [
    {
     "output_type": "stream",
     "name": "stdout",
     "text": [
      "[0]\tvalidation_0-rmse:0.22055\n",
      "Will train until validation_0-rmse hasn't improved in 2 rounds.\n",
      "[1]\tvalidation_0-rmse:0.16547\n",
      "[2]\tvalidation_0-rmse:0.12243\n",
      "[3]\tvalidation_0-rmse:0.10044\n",
      "[4]\tvalidation_0-rmse:0.08467\n",
      "[5]\tvalidation_0-rmse:0.07344\n",
      "[6]\tvalidation_0-rmse:0.06728\n",
      "[7]\tvalidation_0-rmse:0.06383\n",
      "[8]\tvalidation_0-rmse:0.06125\n",
      "[9]\tvalidation_0-rmse:0.05959\n",
      "[10]\tvalidation_0-rmse:0.05902\n",
      "[11]\tvalidation_0-rmse:0.05852\n",
      "[12]\tvalidation_0-rmse:0.05844\n",
      "[13]\tvalidation_0-rmse:0.05801\n",
      "[14]\tvalidation_0-rmse:0.05747\n",
      "[15]\tvalidation_0-rmse:0.05772\n",
      "[16]\tvalidation_0-rmse:0.05778\n",
      "Stopping. Best iteration:\n",
      "[14]\tvalidation_0-rmse:0.05747\n",
      "\n"
     ]
    }
   ],
   "source": [
    "xgb_reg.fit(X_train, y_train,\n",
    "            eval_set=[(X_val, y_val)], early_stopping_rounds=2)\n",
    "y_pred = xgb_reg.predict(X_val)"
   ]
  },
  {
   "source": [
    "# Excercise"
   ],
   "cell_type": "markdown",
   "metadata": {}
  },
  {
   "source": [
    "## Ans.8"
   ],
   "cell_type": "markdown",
   "metadata": {}
  },
  {
   "cell_type": "code",
   "execution_count": 103,
   "metadata": {},
   "outputs": [],
   "source": [
    "from sklearn.datasets import fetch_openml\n",
    "from sklearn.ensemble import RandomForestClassifier, ExtraTreesClassifier\n",
    "from sklearn.svm import SVC"
   ]
  },
  {
   "cell_type": "code",
   "execution_count": 104,
   "metadata": {},
   "outputs": [],
   "source": [
    "mnist = fetch_openml('mnist_784', version=1, cache=True)"
   ]
  },
  {
   "cell_type": "code",
   "execution_count": 105,
   "metadata": {},
   "outputs": [
    {
     "output_type": "execute_result",
     "data": {
      "text/plain": [
       "dict_keys(['data', 'target', 'frame', 'categories', 'feature_names', 'target_names', 'DESCR', 'details', 'url'])"
      ]
     },
     "metadata": {},
     "execution_count": 105
    }
   ],
   "source": [
    "mnist.keys()"
   ]
  },
  {
   "cell_type": "code",
   "execution_count": 107,
   "metadata": {},
   "outputs": [],
   "source": [
    "X_train, X_val, y_train, y_val = train_test_split(mnist['data'][:60000], mnist['target'][:60000], test_size=0.2)\n",
    "X_test, y_test = mnist['data'][60000:], mnist['target'][60000:]"
   ]
  },
  {
   "cell_type": "code",
   "execution_count": 113,
   "metadata": {},
   "outputs": [
    {
     "output_type": "stream",
     "name": "stdout",
     "text": [
      "--Train--\nData: (48000, 784)\nTarget: (48000,) \n\n--Validation--\nData: (12000, 784)\nTarget: (12000,) \n\n--Test--\nData: (10000, 784)\nTarget: (10000,) \n\n"
     ]
    }
   ],
   "source": [
    "for data_type, data in zip((\"Train\", \"Validation\", \"Test\"), ((X_train, y_train), (X_val, y_val), (X_test, y_test))):\n",
    "    print(f\"--{data_type}--\")\n",
    "    print(\"Data:\", data[0].shape)\n",
    "    print(\"Target:\", data[1].shape, \"\\n\")"
   ]
  },
  {
   "cell_type": "code",
   "execution_count": 116,
   "metadata": {},
   "outputs": [],
   "source": [
    "from sklearn.preprocessing import StandardScaler\n",
    "from sklearn.multiclass import OneVsRestClassifier\n",
    "from sklearn.ensemble import VotingClassifier"
   ]
  },
  {
   "cell_type": "code",
   "execution_count": 122,
   "metadata": {},
   "outputs": [],
   "source": [
    "randf_clf = RandomForestClassifier(n_estimators=100)\n",
    "extrat_clf = ExtraTreesClassifier(n_estimators=100)\n",
    "svm_clf = OneVsRestClassifier(SVC(probability=True)) "
   ]
  },
  {
   "cell_type": "code",
   "execution_count": 125,
   "metadata": {},
   "outputs": [],
   "source": [
    "voting_ensemble = VotingClassifier(\n",
    "                            estimators=[('rf', randf_clf), ('et', extrat_clf), ('svc', svm_clf)],\n",
    "                            voting=\"soft\",\n",
    ")"
   ]
  },
  {
   "cell_type": "code",
   "execution_count": 126,
   "metadata": {},
   "outputs": [
    {
     "output_type": "execute_result",
     "data": {
      "text/plain": [
       "VotingClassifier(estimators=[('rf', RandomForestClassifier()),\n",
       "                             ('et', ExtraTreesClassifier()),\n",
       "                             ('svc',\n",
       "                              OneVsRestClassifier(estimator=SVC(probability=True)))],\n",
       "                 voting='soft')"
      ]
     },
     "metadata": {},
     "execution_count": 126
    }
   ],
   "source": [
    "voting_ensemble.fit(X_train, y_train)"
   ]
  },
  {
   "cell_type": "code",
   "execution_count": null,
   "metadata": {},
   "outputs": [],
   "source": []
  }
 ]
}