{
  "nbformat": 4,
  "nbformat_minor": 0,
  "metadata": {
    "colab": {
      "name": "ShakespeareanText_Generator.ipynb",
      "provenance": [],
      "collapsed_sections": [],
      "toc_visible": true,
      "authorship_tag": "ABX9TyPlXGnTKOlKMAb1yzo3IRJR",
      "include_colab_link": true
    },
    "kernelspec": {
      "name": "python3",
      "display_name": "Python 3"
    },
    "accelerator": "GPU"
  },
  "cells": [
    {
      "cell_type": "markdown",
      "metadata": {
        "id": "view-in-github",
        "colab_type": "text"
      },
      "source": [
        "<a href=\"https://colab.research.google.com/github/prikmm/MLprojects/blob/main/notebooks/ShakespeareanText_Generator.ipynb\" target=\"_parent\"><img src=\"https://colab.research.google.com/assets/colab-badge.svg\" alt=\"Open In Colab\"/></a>"
      ]
    },
    {
      "cell_type": "code",
      "metadata": {
        "id": "U-Q4awBfreku"
      },
      "source": [
        "import tensorflow as tf\n",
        "from tensorflow import keras\n",
        "import numpy as np"
      ],
      "execution_count": 20,
      "outputs": []
    },
    {
      "cell_type": "code",
      "metadata": {
        "id": "xmJm31stsC4u"
      },
      "source": [
        "shakespeare_url = \"https://homl.info/shakespeare\"\n",
        "filepath = keras.utils.get_file(\"shakespeare.txt\", shakespeare_url)\n",
        "with open(filepath) as f:\n",
        "    shakespeare_text = f.read()"
      ],
      "execution_count": 21,
      "outputs": []
    },
    {
      "cell_type": "markdown",
      "metadata": {
        "id": "wseyjkDluPmu"
      },
      "source": [
        "## Encoding using Tokenizer:"
      ]
    },
    {
      "cell_type": "code",
      "metadata": {
        "colab": {
          "base_uri": "https://localhost:8080/"
        },
        "id": "wuvMnbnJ1k_y",
        "outputId": "0b63f44a-568a-4a43-eaa3-fdacccf05062"
      },
      "source": [
        "print(shakespeare_text[:148])"
      ],
      "execution_count": 22,
      "outputs": [
        {
          "output_type": "stream",
          "text": [
            "First Citizen:\n",
            "Before we proceed any further, hear me speak.\n",
            "\n",
            "All:\n",
            "Speak, speak.\n",
            "\n",
            "First Citizen:\n",
            "You are all resolved rather to die than to famish?\n",
            "\n"
          ],
          "name": "stdout"
        }
      ]
    },
    {
      "cell_type": "code",
      "metadata": {
        "id": "9d7mHdpZsaGh"
      },
      "source": [
        "tokenizer = keras.preprocessing.text.Tokenizer(char_level=True)\n",
        "tokenizer.fit_on_texts(shakespeare_text)"
      ],
      "execution_count": 23,
      "outputs": []
    },
    {
      "cell_type": "code",
      "metadata": {
        "colab": {
          "base_uri": "https://localhost:8080/"
        },
        "id": "bwxMumG9s8UN",
        "outputId": "fadc5153-1b22-4d31-d186-34464a5cbf69"
      },
      "source": [
        "tokenizer.texts_to_sequences([\"HIIII\", \"hiiii\", \"Hey there\"])"
      ],
      "execution_count": 24,
      "outputs": [
        {
          "output_type": "execute_result",
          "data": {
            "text/plain": [
              "[[7, 6, 6, 6, 6], [7, 6, 6, 6, 6], [7, 2, 16, 1, 3, 7, 2, 9, 2]]"
            ]
          },
          "metadata": {
            "tags": []
          },
          "execution_count": 24
        }
      ]
    },
    {
      "cell_type": "code",
      "metadata": {
        "colab": {
          "base_uri": "https://localhost:8080/"
        },
        "id": "z19QvVZwtMjl",
        "outputId": "7f676929-d03b-44d8-a900-91aa8eed52b3"
      },
      "source": [
        "tokenizer.sequences_to_texts([[20, 6, 9, 3, 4]])"
      ],
      "execution_count": 25,
      "outputs": [
        {
          "output_type": "execute_result",
          "data": {
            "text/plain": [
              "['f i r t o']"
            ]
          },
          "metadata": {
            "tags": []
          },
          "execution_count": 25
        }
      ]
    },
    {
      "cell_type": "code",
      "metadata": {
        "colab": {
          "base_uri": "https://localhost:8080/"
        },
        "id": "7nA1jHXytXQh",
        "outputId": "6d9fca28-ad41-4a14-d31c-4eef1cb02ffe"
      },
      "source": [
        "max_id = len(tokenizer.word_index)  # no.of distinct characters\n",
        "dataset_size = tokenizer.document_count\n",
        "print(max_id, dataset_size)"
      ],
      "execution_count": 26,
      "outputs": [
        {
          "output_type": "stream",
          "text": [
            "39 1115394\n"
          ],
          "name": "stdout"
        }
      ]
    },
    {
      "cell_type": "code",
      "metadata": {
        "colab": {
          "base_uri": "https://localhost:8080/"
        },
        "id": "5kJy832Qts6K",
        "outputId": "39b4efab-3d96-42dc-e352-b40dc2f39edc"
      },
      "source": [
        "[encoded] = np.array(tokenizer.texts_to_sequences([shakespeare_text])) - 1\n",
        "print(encoded)"
      ],
      "execution_count": 27,
      "outputs": [
        {
          "output_type": "stream",
          "text": [
            "[19  5  8 ... 20 26 10]\n"
          ],
          "name": "stdout"
        }
      ]
    },
    {
      "cell_type": "markdown",
      "metadata": {
        "id": "Fwg_GxSxt8IT"
      },
      "source": [
        "## Splitting a Sequential Dataset:"
      ]
    },
    {
      "cell_type": "code",
      "metadata": {
        "colab": {
          "base_uri": "https://localhost:8080/"
        },
        "id": "V9RX6hiAuXjN",
        "outputId": "56e0e835-9061-434f-c3ee-d7f642b3c561"
      },
      "source": [
        "train_size = dataset_size * 90 //100\n",
        "dataset = tf.data.Dataset.from_tensor_slices(encoded[:train_size])\n",
        "for item in dataset.take(10):\n",
        "    print(item)"
      ],
      "execution_count": 28,
      "outputs": [
        {
          "output_type": "stream",
          "text": [
            "tf.Tensor(19, shape=(), dtype=int64)\n",
            "tf.Tensor(5, shape=(), dtype=int64)\n",
            "tf.Tensor(8, shape=(), dtype=int64)\n",
            "tf.Tensor(7, shape=(), dtype=int64)\n",
            "tf.Tensor(2, shape=(), dtype=int64)\n",
            "tf.Tensor(0, shape=(), dtype=int64)\n",
            "tf.Tensor(18, shape=(), dtype=int64)\n",
            "tf.Tensor(5, shape=(), dtype=int64)\n",
            "tf.Tensor(2, shape=(), dtype=int64)\n",
            "tf.Tensor(5, shape=(), dtype=int64)\n"
          ],
          "name": "stdout"
        }
      ]
    },
    {
      "cell_type": "code",
      "metadata": {
        "colab": {
          "base_uri": "https://localhost:8080/"
        },
        "id": "EqlTkwTvv8vi",
        "outputId": "60f26507-5dd7-458d-ea5a-56a437a64a14"
      },
      "source": [
        "n_steps = 100\n",
        "window_length = n_steps + 1\n",
        "dataset = dataset.window(window_length, shift=1, drop_remainder=True)\n",
        "for item in dataset.take(1):\n",
        "    print(item)"
      ],
      "execution_count": 29,
      "outputs": [
        {
          "output_type": "stream",
          "text": [
            "<_VariantDataset shapes: (), types: tf.int64>\n"
          ],
          "name": "stdout"
        }
      ]
    },
    {
      "cell_type": "code",
      "metadata": {
        "colab": {
          "base_uri": "https://localhost:8080/"
        },
        "id": "NMvrM9XsyoAz",
        "outputId": "925e299d-971d-4ae7-9618-5b0f39bd5435"
      },
      "source": [
        "dataset = dataset.flat_map(lambda window: window.batch(window_length))\n",
        "for item in dataset.take(1):\n",
        "    print(item)"
      ],
      "execution_count": 30,
      "outputs": [
        {
          "output_type": "stream",
          "text": [
            "tf.Tensor(\n",
            "[19  5  8  7  2  0 18  5  2  5 35  1  9 23 10 21  1 19  3  8  1  0 16  1\n",
            "  0 22  8  3 18  1  1 12  0  4  9 15  0 19 13  8  2  6  1  8 17  0  6  1\n",
            "  4  8  0 14  1  0  7 22  1  4 24 26 10 10  4 11 11 23 10  7 22  1  4 24\n",
            " 17  0  7 22  1  4 24 26 10 10 19  5  8  7  2  0 18  5  2  5 35  1  9 23\n",
            " 10 15  3 13  0], shape=(101,), dtype=int64)\n"
          ],
          "name": "stdout"
        }
      ]
    },
    {
      "cell_type": "code",
      "metadata": {
        "id": "yh0S_9pVzX5-"
      },
      "source": [
        "batch_size = 32\n",
        "dataset = dataset.shuffle(10000).batch(batch_size)"
      ],
      "execution_count": 31,
      "outputs": []
    },
    {
      "cell_type": "code",
      "metadata": {
        "colab": {
          "base_uri": "https://localhost:8080/"
        },
        "id": "54JFoIzY3zl2",
        "outputId": "fe4b6791-80ea-451f-a91a-92a09de88b83"
      },
      "source": [
        "for item in dataset.take(1):\n",
        "    print(item)"
      ],
      "execution_count": 32,
      "outputs": [
        {
          "output_type": "stream",
          "text": [
            "tf.Tensor(\n",
            "[[10 16  3 ...  0  2  6]\n",
            " [ 4  9  2 ...  5  2  6]\n",
            " [ 8  0 13 ...  3 10  7]\n",
            " ...\n",
            " [12  0 18 ...  7 11 15]\n",
            " [ 0 18  5 ...  0 12  3]\n",
            " [ 1  8  7 ...  1  7  0]], shape=(32, 101), dtype=int64)\n"
          ],
          "name": "stdout"
        }
      ]
    },
    {
      "cell_type": "code",
      "metadata": {
        "id": "sTMkqR3T3x6w"
      },
      "source": [
        "dataset = dataset.map(lambda windows: (windows[:, :-1], windows[:, 1:]))"
      ],
      "execution_count": 33,
      "outputs": []
    },
    {
      "cell_type": "code",
      "metadata": {
        "colab": {
          "base_uri": "https://localhost:8080/"
        },
        "id": "phH9GfPnz6I-",
        "outputId": "f7cf830f-c8b1-408d-83b8-e16fe013c6e1"
      },
      "source": [
        "for item in dataset.take(1):\n",
        "    print(item)"
      ],
      "execution_count": 34,
      "outputs": [
        {
          "output_type": "stream",
          "text": [
            "(<tf.Tensor: shape=(32, 100), dtype=int64, numpy=\n",
            "array([[ 1,  8,  0, ..., 25,  1,  8],\n",
            "       [ 0,  3, 19, ...,  0, 15,  3],\n",
            "       [12,  0, 22, ...,  0, 13, 22],\n",
            "       ...,\n",
            "       [ 4,  0,  2, ...,  1, 21,  1],\n",
            "       [13,  0,  6, ...,  7,  2,  3],\n",
            "       [13,  2,  5, ...,  1,  4, 11]])>, <tf.Tensor: shape=(32, 100), dtype=int64, numpy=\n",
            "array([[ 8,  0,  2, ...,  1,  8, 21],\n",
            "       [ 3, 19,  0, ..., 15,  3, 13],\n",
            "       [ 0, 22,  8, ..., 13, 22, 17],\n",
            "       ...,\n",
            "       [ 0,  2,  4, ..., 21,  1, 11],\n",
            "       [ 0,  6,  4, ...,  2,  3,  9],\n",
            "       [ 2,  5,  9, ...,  4, 11,  0]])>)\n"
          ],
          "name": "stdout"
        }
      ]
    },
    {
      "cell_type": "code",
      "metadata": {
        "id": "W5Ex6sjg3896"
      },
      "source": [
        "dataset = dataset.map(lambda X_batch, Y_batch: (tf.one_hot(X_batch, depth=max_id), Y_batch))"
      ],
      "execution_count": 35,
      "outputs": []
    },
    {
      "cell_type": "code",
      "metadata": {
        "colab": {
          "base_uri": "https://localhost:8080/"
        },
        "id": "YGKITH_44em_",
        "outputId": "04a26689-381e-4ce1-f923-ce87868d775a"
      },
      "source": [
        "for X, y in dataset.take(1):\n",
        "    print(X.shape, y.shape)"
      ],
      "execution_count": 36,
      "outputs": [
        {
          "output_type": "stream",
          "text": [
            "(32, 100, 39) (32, 100)\n"
          ],
          "name": "stdout"
        }
      ]
    },
    {
      "cell_type": "code",
      "metadata": {
        "id": "8hmbb9O04i8E"
      },
      "source": [
        "dataset = dataset.prefetch(1)"
      ],
      "execution_count": 37,
      "outputs": []
    },
    {
      "cell_type": "markdown",
      "metadata": {
        "id": "J88YgPzQ4noT"
      },
      "source": [
        "## Building Model:"
      ]
    },
    {
      "cell_type": "code",
      "metadata": {
        "colab": {
          "base_uri": "https://localhost:8080/"
        },
        "id": "fZMKSxKc5LYw",
        "outputId": "cb59bad1-2123-4a39-e93b-ba67949c58ea"
      },
      "source": [
        "shakespearean_model = keras.models.Sequential([\n",
        "    keras.layers.GRU(128, return_sequences=True, input_shape=[None, max_id],\n",
        "                     dropout=0.2),#, recurrent_dropout=0.2),\n",
        "    keras.layers.GRU(128, return_sequences=True,\n",
        "                     dropout=0.2),#, recurrent_dropout=0.2),\n",
        "    keras.layers.TimeDistributed(keras.layers.Dense(max_id, activation=\"softmax\")),\n",
        "])\n",
        "    \n",
        "shakespearean_model.compile(loss=\"sparse_categorical_crossentropy\",\n",
        "                            optimizer=keras.optimizers.RMSprop(4e-4),\n",
        "                            metrics=[\"accuracy\"])\n",
        "history = shakespearean_model.fit(dataset, epochs=10)"
      ],
      "execution_count": null,
      "outputs": [
        {
          "output_type": "stream",
          "text": [
            "Epoch 1/10\n",
            "31368/31368 [==============================] - 358s 11ms/step - loss: 1.8901 - accuracy: 0.4375\n",
            "Epoch 2/10\n",
            "31368/31368 [==============================] - 355s 11ms/step - loss: 1.6282 - accuracy: 0.5018\n",
            "Epoch 3/10\n",
            "31368/31368 [==============================] - 355s 11ms/step - loss: 1.5891 - accuracy: 0.5119\n",
            "Epoch 4/10\n",
            "18094/31368 [================>.............] - ETA: 2:29 - loss: 1.5731 - accuracy: 0.5157"
          ],
          "name": "stdout"
        }
      ]
    },
    {
      "cell_type": "markdown",
      "metadata": {
        "id": "LAqxRFFr6JuN"
      },
      "source": [
        "## Predicting a Character:"
      ]
    },
    {
      "cell_type": "code",
      "metadata": {
        "id": "JjYSQe0GdFZS"
      },
      "source": [
        "def preprocess(texts):\n",
        "    X = np.array(tokenizer.texts_to_sequences(texts)) - 1\n",
        "    return tf.one_hot(X, max_id)"
      ],
      "execution_count": null,
      "outputs": []
    },
    {
      "cell_type": "code",
      "metadata": {
        "id": "wWYaOBVKdPyh"
      },
      "source": [
        "X_new = preprocess([\"How are yo\"])\n",
        "Y_pred = shakespearean_model.predict_classes(X_new)\n",
        "tokenizer.sequences_to_texts(Y_pred + 1)[0][-1]"
      ],
      "execution_count": null,
      "outputs": []
    },
    {
      "cell_type": "markdown",
      "metadata": {
        "id": "Jbu9qLr7dkO7"
      },
      "source": [
        "## Predicting multilpe characters:"
      ]
    },
    {
      "cell_type": "code",
      "metadata": {
        "id": "Q4-eTpIleKA2"
      },
      "source": [
        "def next_char(text, temperature=1):\n",
        "    X_new = preprocess([text])\n",
        "    y_proba = shakespearean_model.predict(X_new)[0, -1:, :]\n",
        "    rescaled_logits = tf.math.log(y_proba) / temperature\n",
        "    char_id = tf.random.categorical(rescaled_logits, num_samples=1) + 1\n",
        "    return tokenizer.sequences_to_texts(char_id.numpy())[0]"
      ],
      "execution_count": null,
      "outputs": []
    },
    {
      "cell_type": "code",
      "metadata": {
        "id": "defN9jVXergh"
      },
      "source": [
        "def complete_text(text, n_chars=50, temperature=1):\n",
        "    for _ in range(n_chars):\n",
        "        text += next_char(text, temperature)\n",
        "    return text"
      ],
      "execution_count": null,
      "outputs": []
    },
    {
      "cell_type": "code",
      "metadata": {
        "id": "XOyfO84ClHvj"
      },
      "source": [
        "print(complete_text(\"t\", temperature=0.2))"
      ],
      "execution_count": null,
      "outputs": []
    },
    {
      "cell_type": "code",
      "metadata": {
        "id": "8NJOEqB1lWCd"
      },
      "source": [
        "print(complete_text(\"a\", temperature=0.5))"
      ],
      "execution_count": null,
      "outputs": []
    },
    {
      "cell_type": "code",
      "metadata": {
        "id": "9FBpYJITldtB"
      },
      "source": [
        "print(complete_text(\"s\", temperature=1))"
      ],
      "execution_count": null,
      "outputs": []
    },
    {
      "cell_type": "code",
      "metadata": {
        "id": "0z9ixZrZlhpR"
      },
      "source": [
        "print(complete_text(\"r\", temperature=2))"
      ],
      "execution_count": null,
      "outputs": []
    },
    {
      "cell_type": "markdown",
      "metadata": {
        "id": "e2OY4UNOlmrt"
      },
      "source": [
        "## Stateful RNN:"
      ]
    },
    {
      "cell_type": "markdown",
      "metadata": {
        "id": "rWdgmVYPRXLa"
      },
      "source": [
        "Fabien Chollet gives this definition of STATEFULNESS:\n",
        "<br>Boolean (default False). If True, the last state for each sample at index i in a batch will be used as initial state for the sample of index i in the following batch.\n",
        "<br>\n",
        "\n",
        "By default, Keras shuffles (permutes) the samples in X and the dependencies between Xi and Xi+1 are lost. Let’s assume there’s no shuffling in our explanation.\n",
        "\n",
        "If the model is stateless, the cell states are reset at each sequence. With the stateful model, all the states are propagated to the next batch. It means that the state of the sample located at index i, Xi will be used in the computation of the sample Xi+bs in the next batch, where bs is the batch size (no shuffling).\n"
      ]
    },
    {
      "cell_type": "code",
      "metadata": {
        "id": "TrqQl60LEBEP"
      },
      "source": [
        "batch_size = 32\n",
        "encoded_parts = np.array_split(encoded[:train_size], batch_size)\n",
        "datasets = []\n",
        "for encoded_part in encoded_parts:\n",
        "    dataset = tf.data.Dataset.from_tensor_slices(encoded_part)\n",
        "    dataset = dataset.window(window_length, shift=n_steps, drop_remainder=True)\n",
        "    dataset = dataset.flat_map(lambda window: window.batch(window_length))\n",
        "    datasets.append(dataset)\n",
        "dataset = tf.data.Dataset.zip(tuple(datasets)).map(lambda *windows: tf.stack(windows))\n",
        "dataset = dataset.repeat().map(lambda windows: (windows[:, :-1], windows[:, 1:]))\n",
        "dataset = dataset.map(\n",
        "    lambda X_batch, Y_batch: (tf.one_hot(X_batch, depth=max_id), Y_batch))\n",
        "dataset = dataset.prefetch(1)"
      ],
      "execution_count": 112,
      "outputs": []
    },
    {
      "cell_type": "code",
      "metadata": {
        "id": "4YgCGoUnSTdg"
      },
      "source": [
        "stateful_model = keras.models.Sequential([\n",
        "    keras.layers.GRU(128, return_sequences=True, stateful=True,\n",
        "                     dropout=0.2, recurrent_dropout=0.2,\n",
        "                     batch_input_shape=[batch_size, None, max_id]),\n",
        "    keras.layers.GRU(128, return_sequences=True, stateful=True,\n",
        "                     dropout=0.2, recurrent_dropout=0.2),\n",
        "    keras.layers.TimeDistributed(keras.layers.Dense(max_id,\n",
        "                                                    activation=\"softmax\"))\n",
        "])"
      ],
      "execution_count": 114,
      "outputs": []
    },
    {
      "cell_type": "code",
      "metadata": {
        "id": "nQoKh-qBTYOV"
      },
      "source": [
        "class ResetStatesCallback(keras.callbacks.Callback):\n",
        "    def on_epoch_begin(self, epoch, logs):\n",
        "        self.model.reset_states()"
      ],
      "execution_count": 115,
      "outputs": []
    },
    {
      "cell_type": "code",
      "metadata": {
        "colab": {
          "base_uri": "https://localhost:8080/"
        },
        "id": "Pb4NlA47Tpf2",
        "outputId": "55cfef05-c6a2-49fc-ca4d-7121fe8719d9"
      },
      "source": [
        "stateful_model.compile(loss=\"sparse_categorical_crossentropy\",\n",
        "              optimizer=\"adam\")\n",
        "steps_per_epoch = train_size // batch_size // n_steps\n",
        "stateful_model.fit(dataset, steps_per_epoch=steps_per_epoch,\n",
        "                   epochs=50, callbacks=[ResetStatesCallback()])"
      ],
      "execution_count": null,
      "outputs": [
        {
          "output_type": "stream",
          "text": [
            "Epoch 1/50\n",
            "313/313 [==============================] - 127s 395ms/step - loss: 2.9098\n",
            "Epoch 2/50\n",
            "313/313 [==============================] - 124s 396ms/step - loss: 2.2393\n",
            "Epoch 3/50\n",
            "313/313 [==============================] - 124s 397ms/step - loss: 2.5063\n",
            "Epoch 4/50\n",
            "313/313 [==============================] - 125s 400ms/step - loss: 2.3796\n",
            "Epoch 5/50\n",
            "313/313 [==============================] - 125s 399ms/step - loss: 2.4046\n",
            "Epoch 6/50\n",
            "313/313 [==============================] - 125s 401ms/step - loss: 2.3324\n",
            "Epoch 7/50\n",
            "313/313 [==============================] - 125s 400ms/step - loss: 2.2825\n",
            "Epoch 8/50\n",
            "313/313 [==============================] - 124s 398ms/step - loss: 2.2314\n",
            "Epoch 9/50\n",
            "313/313 [==============================] - 126s 403ms/step - loss: 2.1321\n",
            "Epoch 10/50\n",
            "313/313 [==============================] - 126s 402ms/step - loss: 2.2023\n",
            "Epoch 11/50\n",
            "313/313 [==============================] - 127s 406ms/step - loss: 1.9537\n",
            "Epoch 12/50\n",
            "313/313 [==============================] - 126s 404ms/step - loss: 1.9829\n",
            "Epoch 13/50\n",
            "313/313 [==============================] - 126s 402ms/step - loss: 1.9362\n",
            "Epoch 14/50\n",
            "313/313 [==============================] - 126s 403ms/step - loss: 1.8960\n",
            "Epoch 15/50\n",
            "313/313 [==============================] - 126s 403ms/step - loss: 1.8028\n",
            "Epoch 16/50\n",
            "313/313 [==============================] - 127s 405ms/step - loss: 1.7856\n",
            "Epoch 17/50\n",
            "313/313 [==============================] - 126s 402ms/step - loss: 1.7874\n",
            "Epoch 18/50\n",
            "313/313 [==============================] - 126s 403ms/step - loss: 1.7141\n",
            "Epoch 19/50\n",
            "313/313 [==============================] - 126s 403ms/step - loss: 1.6989\n",
            "Epoch 20/50\n",
            "313/313 [==============================] - 126s 401ms/step - loss: 1.6876\n",
            "Epoch 21/50\n",
            "313/313 [==============================] - 126s 402ms/step - loss: 1.6766\n",
            "Epoch 22/50\n",
            "313/313 [==============================] - 126s 401ms/step - loss: 1.6669\n",
            "Epoch 23/50\n",
            "313/313 [==============================] - 125s 401ms/step - loss: 1.6588\n",
            "Epoch 24/50\n",
            "313/313 [==============================] - 125s 400ms/step - loss: 1.6511\n",
            "Epoch 25/50\n",
            "313/313 [==============================] - 125s 400ms/step - loss: 1.6450\n",
            "Epoch 26/50\n",
            "313/313 [==============================] - 126s 402ms/step - loss: 1.6369\n",
            "Epoch 27/50\n",
            "313/313 [==============================] - 125s 401ms/step - loss: 1.6314\n",
            "Epoch 28/50\n",
            "313/313 [==============================] - 126s 401ms/step - loss: 1.6257\n",
            "Epoch 29/50\n",
            "313/313 [==============================] - 126s 401ms/step - loss: 1.6217\n",
            "Epoch 30/50\n",
            "313/313 [==============================] - 126s 401ms/step - loss: 1.6167\n",
            "Epoch 31/50\n",
            "313/313 [==============================] - 126s 402ms/step - loss: 1.6131\n",
            "Epoch 32/50\n",
            "313/313 [==============================] - 126s 404ms/step - loss: 1.6076\n",
            "Epoch 33/50\n",
            "313/313 [==============================] - 127s 404ms/step - loss: 1.6039\n",
            "Epoch 34/50\n",
            "313/313 [==============================] - 126s 403ms/step - loss: 1.6006\n",
            "Epoch 35/50\n",
            "313/313 [==============================] - 127s 405ms/step - loss: 1.5977\n",
            "Epoch 36/50\n",
            "313/313 [==============================] - 128s 407ms/step - loss: 1.5943\n",
            "Epoch 37/50\n",
            "313/313 [==============================] - 126s 403ms/step - loss: 1.5895\n",
            "Epoch 38/50\n",
            "313/313 [==============================] - 126s 403ms/step - loss: 1.5878\n",
            "Epoch 39/50\n",
            "313/313 [==============================] - 126s 401ms/step - loss: 1.5863\n",
            "Epoch 40/50\n",
            "313/313 [==============================] - 126s 403ms/step - loss: 1.5838\n",
            "Epoch 41/50\n",
            "313/313 [==============================] - 126s 402ms/step - loss: 1.5821\n",
            "Epoch 42/50\n",
            "313/313 [==============================] - 126s 402ms/step - loss: 1.5789\n",
            "Epoch 43/50\n",
            "313/313 [==============================] - 126s 401ms/step - loss: 1.5749\n",
            "Epoch 44/50\n",
            "313/313 [==============================] - 125s 400ms/step - loss: 1.5720\n",
            "Epoch 45/50\n",
            "313/313 [==============================] - 125s 401ms/step - loss: 1.5719\n",
            "Epoch 46/50\n",
            "150/313 [=============>................] - ETA: 1:05 - loss: 1.5729"
          ],
          "name": "stdout"
        }
      ]
    },
    {
      "cell_type": "code",
      "metadata": {
        "id": "w4Up-rj8qQQZ"
      },
      "source": [
        ""
      ],
      "execution_count": null,
      "outputs": []
    }
  ]
}