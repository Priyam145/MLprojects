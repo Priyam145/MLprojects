{
 "metadata": {
  "language_info": {
   "codemirror_mode": {
    "name": "ipython",
    "version": 3
   },
   "file_extension": ".py",
   "mimetype": "text/x-python",
   "name": "python",
   "nbconvert_exporter": "python",
   "pygments_lexer": "ipython3",
   "version": "3.7.9-final"
  },
  "orig_nbformat": 2,
  "kernelspec": {
   "name": "python37964bittensorgpucondaac886b487af84594b3272ea5575b58dd",
   "display_name": "Python 3.7.9 64-bit ('TensorGPU': conda)",
   "language": "python"
  }
 },
 "nbformat": 4,
 "nbformat_minor": 2,
 "cells": [
  {
   "cell_type": "code",
   "execution_count": 1,
   "metadata": {},
   "outputs": [],
   "source": [
    "import tensorflow as tf\n",
    "from tensorflow import keras\n",
    "import tensorflow_datasets as tfds\n",
    "import numpy as np"
   ]
  },
  {
   "cell_type": "code",
   "execution_count": 2,
   "metadata": {},
   "outputs": [],
   "source": [
    "(X_train, y_train), (X_test, y_test) = keras.datasets.imdb.load_data()"
   ]
  },
  {
   "cell_type": "code",
   "execution_count": 3,
   "metadata": {},
   "outputs": [
    {
     "output_type": "execute_result",
     "data": {
      "text/plain": [
       "[1, 14, 22, 16, 43, 530, 973, 1622, 1385, 65]"
      ]
     },
     "metadata": {},
     "execution_count": 3
    }
   ],
   "source": [
    "X_train[0][:10]"
   ]
  },
  {
   "cell_type": "code",
   "execution_count": 4,
   "metadata": {
    "tags": []
   },
   "outputs": [],
   "source": [
    "word_index = keras.datasets.imdb.get_word_index()\n",
    "id_to_word = {id_ + 3: word for word, id_ in word_index.items()}"
   ]
  },
  {
   "cell_type": "code",
   "execution_count": 5,
   "metadata": {
    "tags": [
     "outputPrepend"
    ]
   },
   "outputs": [
    {
     "output_type": "stream",
     "name": "stdout",
     "text": [
      "'fcker', 88155: 'gravestones', 23369: 'freshmen', 34649: 'formatted', 88156: 'drooping', 76036: 'zelig', 88157: 'yakusyo', 82060: 'lunceford', 88158: 'editorializing', 34650: 'plywood', 88159: 'banalities', 30539: 'nestor', 64829: 'revitalizes', 40755: 'voguing', 21669: 'sedate', 51860: 'dictum', 88160: 'brasher', 782: 'york', 88161: 'unchallengeable', 88162: 'subtelly', 8775: 'opposition', 88163: 'fetchingly', 70079: \"'secrets\", 88164: 'appearance\\x85', 88165: 'teleflick', 19484: 'viennese', 10079: 'orphanage', 40756: 'movers', 27608: \"cameraman's\", 88166: \"cameraman't\", 88167: 'pornoes', 51861: 'embodiments', 88168: 'heorine', 16108: 'fraternity', 88169: \"'procedures'\", 659: 'finds', 88170: 'caratherisic', 27609: 'munshi', 20587: 'clashing', 40757: \"mjh's\", 88171: 'lärm', 76040: 'nikah', 51862: 'incandescent', 51863: 'stowing', 51864: 'acrid', 25216: 'eyewitness', 24004: 'maniacally', 51866: 'suspenders', 57063: 'acupat', 11585: 'nominee', 23370: 'toshiro', 51867: \"'anita\", 25217: 'ciannelli', 8289: 'clyde', 76042: 'posher', 34652: 'johannes', 88172: 'predeccesors', 88173: 'watchword', 653: 'change', 51868: 'talkshow', 51987: 'ska', 88174: \"'colorful'\", 51973: 'suffocate', 6968: 'pathos', 40758: \"dial's\", 88175: \"'notorious'\", 88176: 'slideshow', 88177: 'americaness', 34653: '1861', 34654: '1860', 40759: '1863', 51869: '1862', 35870: '1865', 51871: '1864', 51872: 'misbehaving', 88178: \"'plague'\", 18498: 'heighten', 88179: 'toppling', 88180: 'appallonia', 88181: 'fernandel', 51873: 'tenuta', 27610: 'civility', 88182: 'mikaele', 18951: \"house's\", 88183: \"cahiil's\", 88184: 'abos', 9261: \"parents'\", 88185: 'fernandes', 40760: \"ouedraogo's\", 27612: 'boromir', 11925: 'moustache', 86722: \"boothe's\", 19485: 'fernandez', 17626: \"star's\", 34655: \"hoover's\", 40761: 'riz', 19486: 'categorized', 88186: 'gastronomic', 88187: 'flitted', 1677: 'rip', 34424: 'rin', 16081: 'rio', 51874: 'ril', 34656: 'rim', 40763: \"movin'\", 88188: 'rif', 18499: 'rig', 3767: 'rid', 23371: 'rib', 40764: 'ric', 16505: 'ethnicity', 14353: 'blackwood', 88189: \"what'\", 88190: 'ignacio', 4673: 'lengthy', 88191: 'yidische', 88192: 'eames', 11574: 'lengths', 88194: 'bacula', 88195: \"'certain\", 18500: 'ideologies', 51875: 'propping', 88196: 'chicory', 88197: 'hester', 88198: 'apeal', 27614: 'minis', 88199: 'novelizations', 88200: 'devgn', 88201: 'targetting', 6043: 'brooding', 728: 'moving', 30668: 'incapacitated', 88202: 'uneasily', 88203: 'obit', 14354: 'noodle', 88204: 'castigates', 51876: \"shame's\", 34657: 'solemnity', 88205: 'antoniette', 88206: 'limbaugh', 17145: 'abrasive', 4762: 'analysis', 88207: 'solids', 88208: 'castigated', 34658: 'broods', 13418: 'starved', 88209: 'huggie', 88210: \"'rangi\", 88211: 'silvestres', 88212: 'bankrolls', 88213: 'reincarnates', 88214: 'misguiding', 88215: 'orientalism', 37479: 'trickle', 88216: 'mysteriosity', 21895: 'bancroft', 13878: 'reincarnated', 88217: 'orientalist', 30540: 'inference', 12997: 'cabaret', 88218: \"santos's\", 88219: 'gameel', 88220: \"stubby's\", 88221: 'dabbie', 51877: 'navigator', 51878: 'thrillingly', 88222: 'frightner', 51879: \"'sudden\", 34659: 'violations', 51880: 'essanay', 88223: 'devourer', 19488: 'joyless', 17627: 'beals', 16110: 'unlimited', 88224: \"matsujun's\", 88225: 'kass', 88226: 'helfgotts', 51881: 'kasi', 88227: 'kase', 76050: \"felt'\", 88228: 'woefull', 88229: 'glittery', 30541: 'pithy', 17916: 'cameroon', 88230: 'glitters', 8171: 'incidental', 9656: 'italians', 34660: 'breeder', 51882: 'splatterfest', 88231: 'stefanovic', 88232: 'insector', 88233: '¨10', 88234: 'resourcefully', 20588: 'impassioned', 30542: 'burgundians', 51883: 'eluding', 6793: 'traits', 51884: 'marmalade', 88235: 'hunziker', 88236: 'highschoolers', 88237: \"'side\", 16810: 'ribisi', 88238: 'indictable', 88239: 'anny', 7181: 'pros', 88241: \"merry's\", 7916: 'prop', 51885: 'anno', 3901: 'prom', 88242: \"bogayevicz's\", 20589: 'necrophilia', 30543: 'prof', 88243: 'andronicus', 25218: 'prod', 51886: 'prob', 16811: 'apathetic', 63935: 'tilts', 88245: 'swatman', 51887: \"carmen'\", 50032: 'mosh', 88247: 'yamasaki', 88248: 'wooofff', 88249: 'gollam', 34661: 'weasels', 86475: 'jetson', 88250: 'jetsom', 88251: 'leonel', 1596: 'intense', 57121: \"'anastasia\", 88253: \"glenda's\", 88254: 'mungle', 34662: \"j's\", 30544: 'schaffer', 18501: 'tortuous', 88255: 'littauer', 19489: 'unimpressed', 20582: 'greets', 88257: \"'toothbrush'\", 3084: 'credible', 88258: 'cutoff', 88259: \"montage's\", 23372: 'incoherence', 88260: \"'waster'\", 88261: 'hatcheck', 88: 'because', 88263: 'piteous', 34663: 'incoherency', 21896: 'credibly', 51888: 'colorize', 18439: 'slavoj', 88264: \"brat's\", 88265: 'ioffer', 88266: 'pallio', 44882: 'sndtrk', 51889: \"steven's\", 40766: 'pallid', 88268: 'doing\\x85', 25136: 'signifies', 88269: 'mindbogglingly', 51890: 'unadorned', 88270: \"beagle's\", 88271: 'stupefaction', 20590: 'signified', 88272: \"already's\", 51891: \"'humans\", 51892: \"laughed'\", 88273: \"vita's\", 13880: 'perplexing', 88274: 'conspicious', 34665: 'skewers', 41767: 'trussed', 88275: 'embarasses', 51989: 'birthmark', 88276: 'orgue', 13881: 'crank', 18502: 'siodmak', 88277: 'familia', 88278: 'berkovits', 51893: 'embarassed', 15474: 'crane', 5173: 'billed', 34666: '115', 88279: \"grierson's\", 88280: 'soutendjik', 51894: 'astounds', 88281: 'araújo', 51895: \"'human'\", 18458: 'caller', 88282: 'bonestell', 51610: 'torpedoing', 40768: \"'plan\", 27615: \"arkin's\", 88283: \"avigdor's\", 25219: 'didn´t', 34667: 'holler', 51897: 'obsolescence', 446: 'called', 16111: '110', 51898: 'gerda', 88284: 'samaurai', 88285: 'gerde', 27616: 'soars', 88286: \"philadelphia'\", 7435: 'entrance', 51900: \"board's\", 27617: 'ether', 88287: 'actores', 88288: \"jawab'\", 14897: 'anamorphic', 88289: 'haney', 88290: 'nilsen', 88291: 'associates’', 19490: 'tentative', 88292: 'connoisseurship', 88293: 'wg', 88294: 'supblot', 88295: 'bailsman', 88296: \"turaquistan's\", 13422: 'leaden', 27618: 'primetime', 7694: 'understatement', 82054: 'amrapurkars', 88298: 'sheryll', 51901: '92nd', 88299: 'inflame', 48447: 'pilgrims', 88300: 'everone', 88301: 'dimeco', 88302: 'appalingly', 51902: 'delineation', 40769: \"2004's\", 51903: \"shining'\", 88303: 'director¡¦s', 40770: 'reproaches', 23321: 'thames', 88304: 'diamiter', 88305: 'moveis', 14355: 'mardi', 11586: \"wells'\", 88306: '850pm', 86745: 'sacrilage', 40772: 'redlitch', 21897: 'sadistically', 6931: 'lean', 88307: 'jacqualine', 88308: 'torin', 88309: 'disey', 11926: 'contributions', 51904: 'magnifying', 51905: 'cupboards', 86762: \"bedroom'\", 88310: 'showthread', 88311: 'someincredibly', 40773: 'whig', 21842: 'roshan', 11523: 'celie', 40774: \"'hot'\", 18462: \"susan's\", 40775: 'visualizing', 25220: 'hinduism', 88314: 'trasforms', 18503: 'fences', 34670: 'fencer', 7577: 'snipes', 6437: 'sniper', 30547: 'abode', 88315: \"'caprica'\", 88316: \"'moviefreak'\", 2219: 'lynch', 30548: 'bedrooms', 30549: '713', 88317: 'honost', 51446: 'slickest', 88318: 'shuriikens', 3085: 'wishes', 51907: 'spectaculars', 88319: 'harlot', 7182: 'harlow', 88320: \"o'd\", 3628: 'notes', 15494: 'underscores', 2121: 'leader', 51908: 'minimizing', 18504: 'outdo', 20592: 'underscored', 88321: 'comlex', 3212: 'noted', 57152: \"put's\", 7744: 'frost', 30550: 'procession', 63909: 'bodybuilding', 34671: \"y'know\", 51910: \"serat's\", 51911: 'rrw', 12998: 'manipulating', 34672: 'fermenting', 88322: 'cronicles', 88323: 'stth', 25221: 'palminteri', 88324: 'page2', 88325: \"foywonder's\", 51474: \"1934's\", 40777: 'slur', 1064: 'waiting', 27620: 'relocate', 16812: 'ammunition', 88326: \"o'laughlin\", 88327: 'nightstick', 88328: 'flavoured', 88329: \"bowden's\", 10941: 'handedly', 51913: 'highwater', 51914: \"busted's\", 51915: 'tarred', 88330: \"imposter's\", 40778: 'insouciance', 51916: 'cyclist', 88331: \"lestrade's\", 13882: 'metro', 18505: 'spiced', 55148: 'hulled', 88332: 'microman', 88333: 'parroting', 51917: 'bickers', 51918: \"'dog\", 20593: 'simpleton', 40779: \"'devil'\", 23373: 'breeds', 34673: \"'don\", 88334: 'transportive', 88335: 'appearently', 7695: 'apple', 6933: 'deputy', 51919: 'graça', 51920: 'dwarves', 40781: 'overbaked', 16112: 'offends', 16813: 'herzog', 88336: 'ghim', 88337: 'cataclysms', 11038: 'motor', 88338: 'coreys', 6794: 'apply', 88339: 'chandelere', 51921: 'rumiko', 51922: 'iced', 88340: 'baltimorean', 3868: 'bathroom', 88341: 'enging', 88342: 'reanimating', 88343: 'ices', 40782: 'metzger', 14356: 'weeping', 8290: 'december', 30552: \"sun's\", 15638: 'automobile', 25222: 'briers', 88345: 'epiphanal', 18506: 'porch', 40783: 'credulous', 40784: 'philanderer', 88346: \"'austin\", 16814: 'cooperate', 30553: \"ruby's\", 88347: \"'talky'\", 78711: 'avtar', 19492: 'faultless', 36252: 'echos', 9093: 'penis', 7810: 'annoy', 40786: \"ice'\", 12606: 'slaps', 40787: \"cgi'd\", 88348: 'foggiest', 88349: 'matelot', 40788: 'splinters', 88350: 'demonically', 88351: 'finacier', 88352: 'thepace', 21244: 'biscuit', 30554: 'proog', 3170: 'proof', 21898: 'tat', 88353: 'tau', 25223: 'arlen', 3932: 'tap', 19493: 'tar', 88354: 'yardsale', 23374: 'earnestness', 21899: 'matinee', 88355: 'dummee', 6623: 'tax', 40789: 'tay', 51923: 'taz', 88356: 'germanish', 4418: 'tad', 88357: 'kyer', 4349: 'tag', 88358: 'condescend', 30555: 'shipping', 65041: 'perplexities', 40790: 'tac', 62610: 'blaire', 20594: 'tam', 17602: 'tan', 88359: 'tao', 51925: 'onions', 88360: 'tai', 34675: 'taj', 34676: 'tak', 88361: 'twizzlers', 88362: \"'tinker\", 51926: 'inaugural', 7578: 'fortunate', 30556: 'japs', 51927: 'actualities', 88363: 'testators', 25224: 'japp', 88364: \"bury's\", 88365: 'taylors', 4079: 'panic', 18507: 'inflated', 88366: \"'drama\", 88367: 'perjury', 48763: 'sightseeing', 51928: 'footpath', 25225: 'skullduggery', 51929: \"blaine's\", 88368: 'fiancés', 15959: 'brushes', 51931: 'fortinbras', 11587: 'crawling', 45482: 'richthofen', 88370: 'elie', 23317: 'pah', 13419: 'elia', 88371: 'cumpsty', 51932: 'elio', 25226: 'unjustified', 88372: 'trophies', 25227: 'scoggins', 88373: \"'machinal'\", 88374: 'archiological', 88375: 'encyclicals', 14357: 'gunslinger', 51933: 'meir', 6628: 'reeve', 88376: 'voiceless', 88377: 'byw', 88378: 'terriers', 40791: 'byu', 34677: 'antonius', 15074: 'merchandise', 5458: 'bye', 88379: 'jukebox', 19494: 'violating', 2487: 'crash', 88380: 'yazaki', 14898: 'commended', 8241: 'knights', 88381: \"caliban's\", 34678: 'commender', 88382: \"melbourne's\", 40793: '183', 9257: 'crass', 51934: 'cauffiel', 88383: 'transmitter', 88384: 'easel', 88385: 'whiteclad', 67106: 'sinnister', 51604: 'standoffish', 88386: 'puya', 88387: 'tram', 34563: 'eased', 18508: 'fiddle', 88388: 'brontosaurus', 51935: \"by'\", 30557: 'tray', 51936: 'upheavals', 84564: 'cleverless', 19495: 'pitying', 88389: \"'dollman'\", 16114: 'bentley', 63918: 'pallance', 88390: 'ponderance', 21906: 'registration', 54051: 'bhand', 25229: 'apophis', 51937: 'fusing', 88391: 'bhang', 88392: 'celticism', 88393: 'achile', 88394: 'siana', 88395: \"breathnach's\", 88396: \"'masked\", 9094: 'pam', 51938: 'siani', 40794: 'phoebus', 51939: 'flapjack', 88397: \"'smallpox\", 16222: 'semen', 38666: \"'best\", 51940: \"montand's\", 9631: 'garcia', 88398: \"franko's\", 12607: 'outings', 51941: 'obstructions', 23176: 'dominion', 51942: \"daria's\", 40795: 'grits', 88556: 'slahsers', 66390: 'riddick', 14358: 'dictionary', 23376: 'nuit', 88399: \"ashram's\", 34682: 'abductor', 88400: 'displeasing', 88401: 'obliteration', 51944: 'bedazzled', 19496: 'kober', 88402: 'dormitories', 88403: 'cait', 88404: \"outing'\", 34683: 'segregated', 88406: 'substantiate', 88407: 'reexamined', 25230: 'horace', 26027: 'severing', 70374: 'grapevine', 88409: 'inseglet', 51946: 'caio', 7917: 'cain', 31928: 'californian', 88410: \"critique's\", 87452: \"munk's\", 25232: 'firehouse', 34684: \"wenders'\", 38489: '1888', 40797: 'jarrell', 88411: 'afgan', 29596: 'bislane', 88412: 'homere', 51947: 'treaters', 27623: 'hitherto', 51948: '185', 30664: 'olde', 88413: \"\\x91insignificance'\", 88414: 'harmlessness', 88415: 'vampress', 88416: 'homers', 88417: 'garard', 27624: 'destinations', 16816: 'flourish', 25235: 'myspace', 1191: 'accent', 88418: 'weberian', 88419: 'drood', 14359: 'drool', 88420: 'darma', 5557: 'thread', 88421: 'elbowroom', 40798: 'peoria', 16115: 'kiera', 25236: 'resurrects', 20571: 'greenlight', 473: 'wanted', 88422: 'constituent', 40800: 'evisceration', 40801: \"flik's\", 88423: 'osenniy', 46196: 'kiernan', 76080: 'nationalistic', 51951: 'swooned', 4044: 'tommy', 88424: 'morely', 34685: '\\x84bubble', 51952: 'leticia', 50316: \"'bruce\", 40109: 'harald', 17629: 'sculpture', 51953: 'bodice', 88425: 'beter', 87569: 'franfreako', 27209: 'outsmarted', 88426: 'clevage', 88427: 'wathced', 40802: 'woebegone', 34701: 'footwork', 88428: 'mongolian', 88429: 'pealed', 50186: 'donavon', 88430: 'florin', 27479: 'excusable', 51955: 'florid', 88431: 'allergies', 17630: 'oozing', 5747: 'agency', 51956: 'zhukov', 88433: 'maharashtrian', 14892: 'savagely', 88434: 'stying', 88435: \"den'\", 18509: 'divers', 88436: 'youuuu', 22169: 'crept', 88437: \"feud's\", 5926: 'centre', 88438: 'flesheaters', 27625: 'noggin', 88439: 'doyleluver', 88440: 'flawlessness', 40165: 'slitting', 30559: \"eustache's\", 6110: 'deny', 40804: \"mcelwee's\", 88441: \"quiroz's\", 88442: 'jpieczanski', 88443: 'thialnd', 88444: 'dens', 88445: 'syncretism', 88446: 'gingernuts', 51957: 'goodhearted', 23377: 'dent', 34687: 'cinématographe', 25237: 'xavier', 88447: 'dena', 4485: 'inane', 40805: 'discontinuous', 88448: 'mckellar', 88449: 'houswives', 7862: 'faded', 7801: 'myrna', 31267: 'illuminations', 88450: 'camion', 15715: 'upright', 88451: 'laughers', 88452: 'playbook', 12999: 'powerhouse', 88453: '500db', 87711: \"waterfall'\", 57746: 'foreclosure', 88454: 'hamburglar', 88455: 'asterix', 51959: \"generation'\", 451: 'fans', 87723: 'operational', 9458: 'candidates', 51960: 'lassiter', 88456: 'cordobes', 3086: 'thousands', 88457: 'forfeit', 20129: 'philipps', 88458: 'vacuousness', 51961: 'shlocky', 88459: 'workin', 10722: 'dope', 51962: \"skogland's\", 16804: '999', 88460: '998', 88461: 'woooooo', 87759: 'backdropped', 13835: 'argento', 20596: 'penetrate', 17631: 'wordy', 6791: 'ghetto', 88462: \"candidate'\", 88463: 'mulford', 40829: 'instructive', 88464: 'sappily', 87794: 'eccentrically', 88465: 'jansch', 2188: 'asian', 5122: 'generations', 30561: 'ebb', 88466: \"lifeforce'\", 88467: 'chrstmas', 88468: 'detatched', 30562: 'paulson', 87827: 'churchman', 14360: 'violet', 88470: 'gutters', 88471: 'scoured', 51965: 'etchings', 88472: \"kylie's\", 2439: 'closer', 11039: 'closes', 88473: 'panto', 4253: 'closet', 88474: 'magus', 88475: 'eggleston', 1262: 'genius', 34689: 'ashleigh', 51966: 'rumblings', 40810: 'panty', 4590: 'closed', 51967: 'dividends', 27627: 'simms', 3977: 'brosnan', 51968: 'linebacker', 10555: 'complement', 88476: \"baddies'\", 88477: 'addio', 51969: 'audiovisual', 21901: 'beverages', 17632: 'brigadoon', 40811: 'salesgirl', 88478: 'doesnot', 13885: 'sexploitation', 88479: \"jame's\", 19497: 'memento', 14361: 'barrett', 30563: 'soapbox', 40812: 'famke', 5401: 'profanity', 88480: 'b36s', 88481: 'windom', 88482: \"close'\", 88483: \"concert'\", 34690: 'clansmen', 51971: 'agito', 88484: 'wnbq', 88485: 'kaempfen', 27628: \"thaw's\", 14894: 'shoving', 34691: 'sleaziest', 88487: 'guerin', 9879: 'inflicted', 88488: 'neighborliness', 16116: 'withdrawn', 88489: 'withdrawl', 88490: 'freedmen', 88491: \"'balkanized'\", 21902: 'kenobi', 88492: 'bbe', 88493: 'thumbed', 17601: 'broadcasts', 51972: 'validating', 87962: \"boxers'\", 88494: 'jugars', 34692: 'agreements', 88495: 'impetuously', 88496: 'thumbes', 51974: 'bbs', 34693: 'bbq', 23378: 'butchers', 88497: 'verizon', 40813: 'butchery', 88498: \"genie's\", 46442: 'señor', 88499: 'saner', 51975: \"'prestige'\", 48238: 'revivalist', 40814: \"carface's\", 88500: \"'deepness'\", 88501: \"agreement'\", 88502: 'aiieeee', 69864: 'beckettian', 88503: 'maciste', 88504: 'hounsou', 80937: 'intresting', 88505: 'not\\x85repeat', 88506: 'nilamben', 81348: 'klass', 88507: 'funnist', 39739: 'marshmorton', 88025: 'hobbyhorse', 51976: \"marcel's\", 88508: 'restructure', 88509: 'madrasi', 88510: 'agentine', 40815: 'garda', 40816: \"biggie's\", 76095: 'schlöndorff', 88511: '15\\x96year', 40817: 'gassing', 34696: 'stadiums', 6629: 'vintage', 51978: 'loutishness', 25209: \"montana's\", 88512: 'nwhere', 88064: '\\x84batman', 88069: 'satrapi', 20597: 'panning', 40818: 'keneth', 88513: 'fomentation', 88514: 'hopton', 51980: \"sousa's\", 51981: 'tactful', 88515: 'booz', 88516: 'craigs', 88517: 'brumes', 16817: 'snatchers', 30533: 'appropriated', 88518: 'baruc', 88519: 'albin', 51983: \"'penis'\", 88520: 'antipasto', 88521: 'overwork', 88522: 'appropriates', 88523: 'siouxie', 40819: 'outgrow', 17633: 'breaker', 51984: 'boor', 88524: \"'bubbling'\", 9880: 'rocker', 88525: \"arcand's\", 77259: \"chappelle's\", 88526: 'wren', 51985: 'lowlights', 88527: 'storia', 4887: 'mighty', 88528: 'hmapk', 88529: \"archeologist's\", 34697: 'downfalls', 35321: 'shigeru', 19499: 'disturbance', 12608: 'serbs', 22961: 'ensued', 1749: 'sky', 21903: 'morbidly', 51986: 'googling', 82117: \"'intentional'\", 88530: 'skg', 16109: 'adoption', 88531: 'timecrimes', 88532: 'serbo', 16117: 'ski', 30565: 'knob', 25241: 'saturation', 1195: 'sick', 54837: 'refusals', 21904: 'protesters', 8777: 'kristofferson', 51988: 'siemens', 53307: 'deviances', 124: 'know', 30566: 'knot', 88533: 'variants', 40820: 'renyolds', 17634: 'iberia', 88534: \"annabelle's\", 40821: 'bedfellows', 88535: 'praarthana', 88536: 'losted', 34698: 'starrer', 4203: 'dances', 88537: \"one''willard'\", 88240: 'cutlet', 39797: 'eviction', 88539: 'isolytic', 2684: 'starred', 27629: 'traitors', 88262: 'nigga', 12260: 'shabby', 13886: 'waqt', 23379: \"matrix'\", 2582: 'junk', 34699: 'mosquitoes', 34700: 'libretto', 13421: 'kattan', 88540: 'beguine', 34043: 'soninha', 88541: 'sequency', 88542: 'dubbers', 88297: 'zillionaire', 51991: \"gettin'\", 17635: 'zanuck', 51992: 'leaded', 29329: 'strolls', 40823: 'moguls', 88543: 'catepillar', 40824: 'sette', 20591: 'murdoch', 23380: 'murdock', 88544: 'uneffective', 16815: 'poets', 88545: 'miniskirts', 88546: 'pensaba', 88547: 'thoroughfare', 51994: \"o'donoghugh\", 76920: 'arganauts', 88548: 'swinginest', 13887: 'consuming', 7918: 'wesley', 88549: 'daud', 30567: 'guffaws', 88550: 'empahh', 30568: 'nationalities', 8597: 'throne', 88551: 'intercontenital', 51995: 'throng', 397: 'getting', 51996: 'klineschloss', 21905: 'dependence', 25243: 'dependency', 19500: 'epiphany', 25244: 'fudd', 88552: 'fitzgibbon', 27630: 'bugle', 88553: 'unoticeable', 24882: 'couldnt', 30569: 'gunther', 57759: 'cultureless', 88554: \"'hall\", 88555: \"mariner's\", 46562: 'blabbing', 34681: 'dispossessed', 76819: 'deceptiveness', 51997: 'patronisingly', 88557: 'maize', 21907: 'uncontrollably', 88558: 'expeditious', 10966: 'effeminate', 27631: 'hypnotism', 88559: \"'half\", 88560: 'lederer', 14362: 'uncontrollable', 48241: 'mimbos', 207: \"i've\", 5977: 'proving', 88432: 'desando', 40827: 'baaaaad', 44480: 'gereco', 88561: \"bearings'\", 52000: 'kensit', 88562: 'wight', 75734: 'austreim', 16794: 'contradictory', 52001: 'bratwurst', 14131: \"may's\", 88563: 'contradictors', 88564: 'amitabhs', 19501: 'jaffa', 11927: 'jaffe', 62011: 'howdoilooknyc', 88565: \"olan's\", 52002: 'ornella', 57762: 'bitva', 88566: 'fountainhead', 88567: 'reble', 88568: 'percival', 88569: 'lubricated', 34703: \"matsumoto's\", 88570: 'heralding', 52004: 'hirschbiegel', 88571: \"baywatch'\", 88572: 'odilon', 4045: 'meaningless', 40830: 'gnawing', 88573: \"'solve'\", 88574: \"guard's\", 50093: \"yamada's\", 57764: 'spookfest', 88576: 'airsoft', 11309: 'abhay', 23381: 'spanky', 88577: 'urrrghhh', 88578: 'ev', 88579: 'chicatillo', 88580: 'transacting', 27633: \"'la\", 8928: 'percent', 7999: 'oprah', 88581: 'sics', 11928: 'illinois', 40831: 'dogtown', 20598: 'roars', 9459: 'branch', 52005: 'kerouac', 88582: 'wheelers', 20599: 'sica', 6438: 'lance', 88583: \"pipe's\", 64182: 'discretionary', 40832: 'contends', 88584: 'copywrite', 52006: 'geysers', 88585: 'artbox', 52007: 'cronyn', 52008: 'hardboiled', 88586: \"voorhees'\", 16818: '35mm', 88587: \"'l'\", 18512: 'paget', 20600: 'expands'}\n"
     ]
    }
   ],
   "source": [
    "print(id_to_word)"
   ]
  },
  {
   "cell_type": "code",
   "execution_count": 6,
   "metadata": {},
   "outputs": [],
   "source": [
    "for id_, token in enumerate((\"<pad>\", \"<sos>\", \"<unk>\")):\n",
    "    id_to_word[id_] = token"
   ]
  },
  {
   "cell_type": "code",
   "execution_count": 7,
   "metadata": {},
   "outputs": [
    {
     "output_type": "execute_result",
     "data": {
      "text/plain": [
       "'<sos> this film was just brilliant casting location scenery story'"
      ]
     },
     "metadata": {},
     "execution_count": 7
    }
   ],
   "source": [
    "\" \".join([id_to_word[id_] for id_ in X_train[0][:10]])"
   ]
  },
  {
   "cell_type": "code",
   "execution_count": 8,
   "metadata": {
    "tags": []
   },
   "outputs": [],
   "source": [
    "datasets, info = tfds.load(\"imdb_reviews\", as_supervised=True, with_info=True)\n",
    "train_size = info.splits[\"train\"].num_examples"
   ]
  },
  {
   "cell_type": "code",
   "execution_count": 9,
   "metadata": {},
   "outputs": [],
   "source": [
    "def preprocess(X_batch, y_batch):\n",
    "    X_batch = tf.strings.substr(X_batch, 0, 300)\n",
    "    X_batch = tf.strings.regex_replace(X_batch, b'<br\\\\s*/?>', b\" \")\n",
    "    X_batch = tf.strings.regex_replace(X_batch, b\"[^a-zA-Z']\", b\" \")\n",
    "    X_batch = tf.strings.split(X_batch)\n",
    "    return X_batch.to_tensor(default_value=b\"<pad>\"), y_batch"
   ]
  },
  {
   "cell_type": "code",
   "execution_count": 10,
   "metadata": {},
   "outputs": [],
   "source": [
    "from collections import Counter"
   ]
  },
  {
   "cell_type": "code",
   "execution_count": 11,
   "metadata": {},
   "outputs": [],
   "source": [
    "vocabulary = Counter()\n",
    "for X_batch, y_batch in datasets[\"train\"].batch(32).map(preprocess):\n",
    "    for review in X_batch:\n",
    "        vocabulary.update(list(review.numpy()))"
   ]
  },
  {
   "cell_type": "code",
   "execution_count": 12,
   "metadata": {},
   "outputs": [
    {
     "output_type": "execute_result",
     "data": {
      "text/plain": [
       "[(b'<pad>', 214309), (b'the', 61137), (b'a', 38564)]"
      ]
     },
     "metadata": {},
     "execution_count": 12
    }
   ],
   "source": [
    "vocabulary.most_common()[:3]"
   ]
  },
  {
   "cell_type": "code",
   "execution_count": 13,
   "metadata": {},
   "outputs": [],
   "source": [
    "vocab_size = 10000\n",
    "truncated_vocabulary = [\n",
    "    word for word, count in vocabulary.most_common()[:vocab_size]\n",
    "]"
   ]
  },
  {
   "cell_type": "code",
   "execution_count": 14,
   "metadata": {},
   "outputs": [],
   "source": [
    "words = tf.constant(truncated_vocabulary)\n",
    "word_ids = tf.range(len(truncated_vocabulary), dtype=tf.int64)\n",
    "vocab_init = tf.lookup.KeyValueTensorInitializer(words, word_ids)\n",
    "num_oov_buckets = 1000\n",
    "table =  tf.lookup.StaticVocabularyTable(vocab_init, num_oov_buckets)"
   ]
  },
  {
   "cell_type": "code",
   "execution_count": 15,
   "metadata": {},
   "outputs": [
    {
     "output_type": "execute_result",
     "data": {
      "text/plain": [
       "<tf.Tensor: shape=(1, 4), dtype=int64, numpy=array([[   22,    12,    11, 10053]])>"
      ]
     },
     "metadata": {},
     "execution_count": 15
    }
   ],
   "source": [
    "table.lookup(tf.constant([b\"This movie was faaaaaantastic\".split()]))"
   ]
  },
  {
   "cell_type": "code",
   "execution_count": 16,
   "metadata": {},
   "outputs": [],
   "source": [
    "def encode_words(X_batch, y_batch):\n",
    "    return table.lookup(X_batch), y_batch"
   ]
  },
  {
   "cell_type": "code",
   "execution_count": 17,
   "metadata": {},
   "outputs": [],
   "source": [
    "train_set = datasets[\"train\"].batch(32).map(preprocess)\n",
    "train_set = train_set.map(encode_words).prefetch(1)"
   ]
  },
  {
   "cell_type": "code",
   "execution_count": 21,
   "metadata": {},
   "outputs": [],
   "source": [
    "embed_size = 128\n",
    "model = keras.models.Sequential([\n",
    "    keras.layers.Embedding(vocab_size + num_oov_buckets, embed_size, \n",
    "                           input_shape=[None]),\n",
    "    keras.layers.GRU(128, return_sequences=True),\n",
    "    keras.layers.GRU(128),\n",
    "    keras.layers.Dense(1, activation=\"sigmoid\")\n",
    "])\n",
    "model.compile(loss=\"binary_crossentropy\", \n",
    "              optimizer=keras.optimizers.Nadam(lr=4e-4),\n",
    "              metrics=[\"accuracy\"])"
   ]
  },
  {
   "cell_type": "code",
   "execution_count": 22,
   "metadata": {},
   "outputs": [
    {
     "output_type": "stream",
     "name": "stdout",
     "text": [
      "Epoch 1/5\n",
      "782/782 [==============================] - 13s 17ms/step - loss: 0.6238 - accuracy: 0.6147\n",
      "Epoch 2/5\n",
      "782/782 [==============================] - 13s 16ms/step - loss: 0.4146 - accuracy: 0.8142\n",
      "Epoch 3/5\n",
      "782/782 [==============================] - 13s 16ms/step - loss: 0.3230 - accuracy: 0.8716\n",
      "Epoch 4/5\n",
      "782/782 [==============================] - 13s 16ms/step - loss: 0.2434 - accuracy: 0.9126\n",
      "Epoch 5/5\n",
      "782/782 [==============================] - 13s 16ms/step - loss: 0.1838 - accuracy: 0.9406\n"
     ]
    }
   ],
   "source": [
    "history = model.fit(train_set, epochs=5)"
   ]
  },
  {
   "source": [
    "#### Masking"
   ],
   "cell_type": "markdown",
   "metadata": {}
  },
  {
   "cell_type": "code",
   "execution_count": null,
   "metadata": {},
   "outputs": [],
   "source": []
  },
  {
   "cell_type": "code",
   "execution_count": null,
   "metadata": {},
   "outputs": [],
   "source": [
    "embed_size = 128\n",
    "model = keras.models.Sequential([\n",
    "    keras.layers.Embedding(vocab_size + num_oov_buckets, embed_size, \n",
    "                           input_shape=[None], mask_zero=True),\n",
    "    keras.layers.GRU(128, return_sequences=True),\n",
    "    keras.layers.GRU(128),\n",
    "    keras.layers.Dense(1, activation=\"sigmoid\")\n",
    "])\n",
    "model.compile(loss=\"binary_crossentropy\", \n",
    "              optimizer=keras.optimizers.Nadam(lr=4e-4),\n",
    "              metrics=[\"accuracy\"])"
   ]
  }
 ]
}